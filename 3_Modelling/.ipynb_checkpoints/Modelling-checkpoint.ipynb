{
 "cells": [
  {
   "cell_type": "code",
   "execution_count": 152,
   "id": "c5e7f768",
   "metadata": {},
   "outputs": [],
   "source": [
    "import numpy as np\n",
    "import pandas as pd\n",
    "from sklearn.preprocessing import LabelEncoder\n",
    "from sklearn.preprocessing import OneHotEncoder\n",
    "from sklearn.model_selection import train_test_split\n",
    "from sklearn.preprocessing import StandardScaler\n",
    "from sklearn.preprocessing import Normalizer\n",
    "#from imblearn.over_sampling import *\n",
    "import xgboost as xgb\n",
    "from sklearn.inspection import permutation_importance\n",
    "from sklearn.model_selection import KFold\n",
    "from sklearn.model_selection import cross_val_score\n",
    "from hyperopt import STATUS_OK, Trials, fmin, hp, tpe\n",
    "from sklearn.metrics import accuracy_score"
   ]
  },
  {
   "cell_type": "code",
   "execution_count": 94,
   "id": "0b2890b2",
   "metadata": {},
   "outputs": [],
   "source": [
    "datos = pd.read_csv(\"../2_DataPreparation/DataPrepared_180.csv\")"
   ]
  },
  {
   "cell_type": "code",
   "execution_count": 95,
   "id": "7f439f35",
   "metadata": {},
   "outputs": [
    {
     "data": {
      "text/html": [
       "<div>\n",
       "<style scoped>\n",
       "    .dataframe tbody tr th:only-of-type {\n",
       "        vertical-align: middle;\n",
       "    }\n",
       "\n",
       "    .dataframe tbody tr th {\n",
       "        vertical-align: top;\n",
       "    }\n",
       "\n",
       "    .dataframe thead th {\n",
       "        text-align: right;\n",
       "    }\n",
       "</style>\n",
       "<table border=\"1\" class=\"dataframe\">\n",
       "  <thead>\n",
       "    <tr style=\"text-align: right;\">\n",
       "      <th></th>\n",
       "      <th>id</th>\n",
       "      <th>Window</th>\n",
       "      <th>glucose_value</th>\n",
       "      <th>difference_glucose_normal</th>\n",
       "      <th>is_diabetes_diabetes</th>\n",
       "      <th>is_diabetes_normal</th>\n",
       "      <th>is_diabetes_prediabetes</th>\n",
       "      <th>hgb_value</th>\n",
       "      <th>hgb_class_High</th>\n",
       "      <th>hgb_class_Low</th>\n",
       "      <th>...</th>\n",
       "      <th>Drug_DailyDosage_DurationDose_valsartan-640-14</th>\n",
       "      <th>WindowCombinationDrugs_metoprolol-metoprolol-metoprolol-100-50-100</th>\n",
       "      <th>WindowCombinationDrugs_metoprolol-metoprolol-valsartan-50-100-640</th>\n",
       "      <th>WindowCombinationDrugs_pitavastatin-2</th>\n",
       "      <th>Drug_DailyDosage_DurationDose_pitavastatin-2-3</th>\n",
       "      <th>WindowCombinationDrugs_atorvastatin-atorvastatin-metformin-20-20-1000</th>\n",
       "      <th>WindowCombinationDrugs_atorvastatin-losartan-losartan-losartan-10-100-100-100</th>\n",
       "      <th>WindowCombinationDrugs_atorvastatin-atorvastatin-losartan-losartan-losartan-10-10-100-100-100</th>\n",
       "      <th>WindowCombinationDrugs_atorvastatin-atorvastatin-losartan-losartan-10-10-100-100</th>\n",
       "      <th>Stage_Progress</th>\n",
       "    </tr>\n",
       "  </thead>\n",
       "  <tbody>\n",
       "    <tr>\n",
       "      <th>0</th>\n",
       "      <td>0</td>\n",
       "      <td>1080</td>\n",
       "      <td>5.780000</td>\n",
       "      <td>1.920000</td>\n",
       "      <td>0</td>\n",
       "      <td>1</td>\n",
       "      <td>0</td>\n",
       "      <td>12.658177</td>\n",
       "      <td>0</td>\n",
       "      <td>1</td>\n",
       "      <td>...</td>\n",
       "      <td>0</td>\n",
       "      <td>0</td>\n",
       "      <td>0</td>\n",
       "      <td>0</td>\n",
       "      <td>0</td>\n",
       "      <td>0</td>\n",
       "      <td>0</td>\n",
       "      <td>0</td>\n",
       "      <td>0</td>\n",
       "      <td>1</td>\n",
       "    </tr>\n",
       "    <tr>\n",
       "      <th>1</th>\n",
       "      <td>0</td>\n",
       "      <td>1260</td>\n",
       "      <td>5.780000</td>\n",
       "      <td>1.920000</td>\n",
       "      <td>0</td>\n",
       "      <td>1</td>\n",
       "      <td>0</td>\n",
       "      <td>13.645556</td>\n",
       "      <td>0</td>\n",
       "      <td>1</td>\n",
       "      <td>...</td>\n",
       "      <td>0</td>\n",
       "      <td>0</td>\n",
       "      <td>0</td>\n",
       "      <td>0</td>\n",
       "      <td>0</td>\n",
       "      <td>0</td>\n",
       "      <td>0</td>\n",
       "      <td>0</td>\n",
       "      <td>0</td>\n",
       "      <td>1</td>\n",
       "    </tr>\n",
       "    <tr>\n",
       "      <th>2</th>\n",
       "      <td>0</td>\n",
       "      <td>180</td>\n",
       "      <td>6.632486</td>\n",
       "      <td>1.067514</td>\n",
       "      <td>0</td>\n",
       "      <td>1</td>\n",
       "      <td>0</td>\n",
       "      <td>13.460939</td>\n",
       "      <td>0</td>\n",
       "      <td>1</td>\n",
       "      <td>...</td>\n",
       "      <td>0</td>\n",
       "      <td>0</td>\n",
       "      <td>0</td>\n",
       "      <td>0</td>\n",
       "      <td>0</td>\n",
       "      <td>0</td>\n",
       "      <td>0</td>\n",
       "      <td>0</td>\n",
       "      <td>0</td>\n",
       "      <td>1</td>\n",
       "    </tr>\n",
       "    <tr>\n",
       "      <th>3</th>\n",
       "      <td>0</td>\n",
       "      <td>360</td>\n",
       "      <td>7.121271</td>\n",
       "      <td>0.578729</td>\n",
       "      <td>0</td>\n",
       "      <td>1</td>\n",
       "      <td>0</td>\n",
       "      <td>13.162099</td>\n",
       "      <td>0</td>\n",
       "      <td>1</td>\n",
       "      <td>...</td>\n",
       "      <td>0</td>\n",
       "      <td>0</td>\n",
       "      <td>0</td>\n",
       "      <td>0</td>\n",
       "      <td>0</td>\n",
       "      <td>0</td>\n",
       "      <td>0</td>\n",
       "      <td>0</td>\n",
       "      <td>0</td>\n",
       "      <td>1</td>\n",
       "    </tr>\n",
       "    <tr>\n",
       "      <th>4</th>\n",
       "      <td>0</td>\n",
       "      <td>540</td>\n",
       "      <td>6.904586</td>\n",
       "      <td>0.795414</td>\n",
       "      <td>0</td>\n",
       "      <td>1</td>\n",
       "      <td>0</td>\n",
       "      <td>13.261657</td>\n",
       "      <td>0</td>\n",
       "      <td>1</td>\n",
       "      <td>...</td>\n",
       "      <td>0</td>\n",
       "      <td>0</td>\n",
       "      <td>0</td>\n",
       "      <td>0</td>\n",
       "      <td>0</td>\n",
       "      <td>0</td>\n",
       "      <td>0</td>\n",
       "      <td>0</td>\n",
       "      <td>0</td>\n",
       "      <td>1</td>\n",
       "    </tr>\n",
       "  </tbody>\n",
       "</table>\n",
       "<p>5 rows × 866 columns</p>\n",
       "</div>"
      ],
      "text/plain": [
       "   id  Window  glucose_value  difference_glucose_normal  is_diabetes_diabetes  \\\n",
       "0   0    1080       5.780000                   1.920000                     0   \n",
       "1   0    1260       5.780000                   1.920000                     0   \n",
       "2   0     180       6.632486                   1.067514                     0   \n",
       "3   0     360       7.121271                   0.578729                     0   \n",
       "4   0     540       6.904586                   0.795414                     0   \n",
       "\n",
       "   is_diabetes_normal  is_diabetes_prediabetes  hgb_value  hgb_class_High  \\\n",
       "0                   1                        0  12.658177               0   \n",
       "1                   1                        0  13.645556               0   \n",
       "2                   1                        0  13.460939               0   \n",
       "3                   1                        0  13.162099               0   \n",
       "4                   1                        0  13.261657               0   \n",
       "\n",
       "   hgb_class_Low  ...  Drug_DailyDosage_DurationDose_valsartan-640-14  \\\n",
       "0              1  ...                                               0   \n",
       "1              1  ...                                               0   \n",
       "2              1  ...                                               0   \n",
       "3              1  ...                                               0   \n",
       "4              1  ...                                               0   \n",
       "\n",
       "   WindowCombinationDrugs_metoprolol-metoprolol-metoprolol-100-50-100  \\\n",
       "0                                                  0                    \n",
       "1                                                  0                    \n",
       "2                                                  0                    \n",
       "3                                                  0                    \n",
       "4                                                  0                    \n",
       "\n",
       "   WindowCombinationDrugs_metoprolol-metoprolol-valsartan-50-100-640  \\\n",
       "0                                                  0                   \n",
       "1                                                  0                   \n",
       "2                                                  0                   \n",
       "3                                                  0                   \n",
       "4                                                  0                   \n",
       "\n",
       "   WindowCombinationDrugs_pitavastatin-2  \\\n",
       "0                                      0   \n",
       "1                                      0   \n",
       "2                                      0   \n",
       "3                                      0   \n",
       "4                                      0   \n",
       "\n",
       "   Drug_DailyDosage_DurationDose_pitavastatin-2-3  \\\n",
       "0                                               0   \n",
       "1                                               0   \n",
       "2                                               0   \n",
       "3                                               0   \n",
       "4                                               0   \n",
       "\n",
       "   WindowCombinationDrugs_atorvastatin-atorvastatin-metformin-20-20-1000  \\\n",
       "0                                                  0                       \n",
       "1                                                  0                       \n",
       "2                                                  0                       \n",
       "3                                                  0                       \n",
       "4                                                  0                       \n",
       "\n",
       "   WindowCombinationDrugs_atorvastatin-losartan-losartan-losartan-10-100-100-100  \\\n",
       "0                                                  0                               \n",
       "1                                                  0                               \n",
       "2                                                  0                               \n",
       "3                                                  0                               \n",
       "4                                                  0                               \n",
       "\n",
       "   WindowCombinationDrugs_atorvastatin-atorvastatin-losartan-losartan-losartan-10-10-100-100-100  \\\n",
       "0                                                  0                                               \n",
       "1                                                  0                                               \n",
       "2                                                  0                                               \n",
       "3                                                  0                                               \n",
       "4                                                  0                                               \n",
       "\n",
       "   WindowCombinationDrugs_atorvastatin-atorvastatin-losartan-losartan-10-10-100-100  \\\n",
       "0                                                  0                                  \n",
       "1                                                  0                                  \n",
       "2                                                  0                                  \n",
       "3                                                  0                                  \n",
       "4                                                  0                                  \n",
       "\n",
       "   Stage_Progress  \n",
       "0               1  \n",
       "1               1  \n",
       "2               1  \n",
       "3               1  \n",
       "4               1  \n",
       "\n",
       "[5 rows x 866 columns]"
      ]
     },
     "execution_count": 95,
     "metadata": {},
     "output_type": "execute_result"
    }
   ],
   "source": [
    "datos.head()"
   ]
  },
  {
   "cell_type": "code",
   "execution_count": 96,
   "id": "6f58d51d",
   "metadata": {},
   "outputs": [],
   "source": [
    "datosResponse = datos[\"Stage_Progress\"].to_numpy()"
   ]
  },
  {
   "cell_type": "code",
   "execution_count": 97,
   "id": "17263314",
   "metadata": {},
   "outputs": [],
   "source": [
    "#datos = datos[[\"CentroEntrega\",\"RegionEntrega\",\"CantidadDespuesCritica\",\"VolumenHLOrdenado\",\"SubCanal\"]]\n",
    "datos = datos.loc[:, datos.columns != 'Stage_Progress']\n",
    "datos = datos.loc[:, datos.columns != 'id']\n",
    "datos = datos.loc[:, datos.columns != 'Window']\n",
    "datos = datos.loc[:, datos.columns != 'start_day']\n",
    "datos = datos.loc[:, datos.columns != 'end_day']"
   ]
  },
  {
   "cell_type": "code",
   "execution_count": 98,
   "id": "33731e84",
   "metadata": {},
   "outputs": [
    {
     "name": "stdout",
     "output_type": "stream",
     "text": [
      "glucose_value\n",
      "difference_glucose_normal\n",
      "is_diabetes_diabetes\n",
      "is_diabetes_normal\n",
      "is_diabetes_prediabetes\n",
      "hgb_value\n",
      "hgb_class_High\n",
      "hgb_class_Low\n",
      "hgb_class_Normal\n",
      "sbp_value\n",
      "dbp_value\n",
      "sbp_diff_normal\n",
      "dbp_diff_normal\n",
      "bp_class_Elevated\n",
      "bp_class_Hypertension1\n",
      "bp_class_Hypertension2\n",
      "bp_class_HypertensiveCrisis\n",
      "bp_class_Normal\n",
      "bp_is_controlled_0\n",
      "bp_is_controlled_1\n",
      "ldl_value\n",
      "diff_Ldl_normal\n",
      "LDL_class_BorderlineHigh\n",
      "LDL_class_High\n",
      "LDL_class_NearNormal\n",
      "LDL_class_Normal\n",
      "LDL_class_VeryHigh\n",
      "creatinine_value\n",
      "GFR\n",
      "gfr_evolution\n",
      "gfr_class_G1\n",
      "gfr_class_G2\n",
      "gfr_class_G3a\n",
      "gfr_class_G3b\n",
      "gfr_class_G4\n",
      "gfr_class_G5\n",
      "age\n",
      "race_Asian\n",
      "race_Black\n",
      "race_Hispanic\n",
      "race_Unknown\n",
      "race_White\n",
      "gender_Female\n",
      "gender_Male\n",
      "durationDose\n",
      "WindowNumberDrugs\n",
      "TotalDailyDosage\n",
      "drug_atorvastatin\n",
      "drug_losartan\n",
      "drug_metformin\n",
      "WindowCombinationDrugs_atorvastatin-atorvastatin-losartan-metformin-metformin-10-10-100-1000-1000\n",
      "Drug_DailyDosage_DurationDose_atorvastatin-10-90\n",
      "Drug_DailyDosage_DurationDose_losartan-100-270\n",
      "Drug_DailyDosage_DurationDose_metformin-1000-90\n",
      "Drug_DailyDosage_DurationDose_metformin-1000-150\n",
      "WindowCombinationDrugs_atorvastatin-losartan-metformin-metformin-metformin-10-100-1000-1000-1000\n",
      "WindowCombinationDrugs_losartan-metformin-metformin-metformin-100-1000-1000-1000\n",
      "Drug_DailyDosage_DurationDose_losartan-100-90\n",
      "WindowCombinationDrugs_losartan-metformin-metformin-100-1000-1000\n",
      "drug_None\n",
      "WindowCombinationDrugs_None-0\n",
      "Drug_DailyDosage_DurationDose_None-0-0\n",
      "WindowCombinationDrugs_atorvastatin-atorvastatin-20-20\n",
      "Drug_DailyDosage_DurationDose_atorvastatin-20-30\n",
      "Drug_DailyDosage_DurationDose_atorvastatin-20-90\n",
      "WindowCombinationDrugs_atorvastatin-40\n",
      "Drug_DailyDosage_DurationDose_atorvastatin-40-90\n",
      "WindowCombinationDrugs_atorvastatin-atorvastatin-40-40\n",
      "drug_rosuvastatin\n",
      "WindowCombinationDrugs_rosuvastatin-10\n",
      "Drug_DailyDosage_DurationDose_rosuvastatin-10-90\n",
      "WindowCombinationDrugs_atorvastatin-atorvastatin-10-10\n",
      "drug_pravastatin\n",
      "WindowCombinationDrugs_losartan-losartan-metformin-metformin-pravastatin-pravastatin-pravastatin-100-100-850-850-40-40-40\n",
      "Drug_DailyDosage_DurationDose_metformin-850-90\n",
      "Drug_DailyDosage_DurationDose_pravastatin-40-90\n",
      "WindowCombinationDrugs_losartan-metformin-metformin-pravastatin-pravastatin-pravastatin-pravastatin-100-850-850-40-40-40-40\n",
      "WindowCombinationDrugs_losartan-metformin-metformin-metformin-pravastatin-pravastatin-pravastatin-pravastatin-100-850-850-850-40-40-40-40\n",
      "WindowCombinationDrugs_metformin-metformin-pravastatin-pravastatin-850-850-40-40\n",
      "drug_carvedilol\n",
      "WindowCombinationDrugs_carvedilol-12.5\n",
      "Drug_DailyDosage_DurationDose_carvedilol-12.5-90\n",
      "WindowCombinationDrugs_carvedilol-losartan-losartan-rosuvastatin-rosuvastatin-12.5-100-100-10-10\n",
      "WindowCombinationDrugs_carvedilol-carvedilol-carvedilol-carvedilol-losartan-losartan-losartan-rosuvastatin-rosuvastatin-rosuvastatin-12.5-12.5-12.5-12.5-100-100-100-10-10-10\n",
      "WindowCombinationDrugs_carvedilol-losartan-rosuvastatin-12.5-100-10\n",
      "drug_valsartan\n",
      "WindowCombinationDrugs_atorvastatin-atorvastatin-valsartan-40-40-160\n",
      "Drug_DailyDosage_DurationDose_valsartan-160-90\n",
      "WindowCombinationDrugs_atorvastatin-atorvastatin-valsartan-valsartan-40-40-160-160\n",
      "WindowCombinationDrugs_atorvastatin-valsartan-40-160\n",
      "drug_metoprolol\n",
      "WindowCombinationDrugs_atorvastatin-atorvastatin-metoprolol-metoprolol-valsartan-valsartan-valsartan-40-40-50-50-320-320-320\n",
      "Drug_DailyDosage_DurationDose_metoprolol-50-90\n",
      "Drug_DailyDosage_DurationDose_valsartan-320-30\n",
      "Drug_DailyDosage_DurationDose_valsartan-320-90\n",
      "WindowCombinationDrugs_atorvastatin-atorvastatin-atorvastatin-metoprolol-metoprolol-metoprolol-metoprolol-valsartan-40-40-40-50-50-50-50-320\n",
      "Drug_DailyDosage_DurationDose_metoprolol-50-30\n",
      "WindowCombinationDrugs_atorvastatin-atorvastatin-atorvastatin-metoprolol-metoprolol-valsartan-valsartan-40-40-80-50-50-320-320\n",
      "Drug_DailyDosage_DurationDose_atorvastatin-80-90\n",
      "WindowCombinationDrugs_metoprolol-metoprolol-valsartan-50-50-320\n",
      "WindowCombinationDrugs_metoprolol-50\n",
      "WindowCombinationDrugs_atorvastatin-20\n",
      "WindowCombinationDrugs_metoprolol-metoprolol-100-100\n",
      "Drug_DailyDosage_DurationDose_metoprolol-100-30\n",
      "Drug_DailyDosage_DurationDose_metoprolol-100-90\n",
      "drug_simvastatin\n",
      "WindowCombinationDrugs_losartan-metoprolol-simvastatin-100-25-40\n",
      "Drug_DailyDosage_DurationDose_losartan-100-30\n",
      "Drug_DailyDosage_DurationDose_metoprolol-25-180\n",
      "Drug_DailyDosage_DurationDose_simvastatin-40-270\n",
      "WindowCombinationDrugs_losartan-metformin-metoprolol-simvastatin-simvastatin-100-1000-25-40-40\n",
      "Drug_DailyDosage_DurationDose_metformin-1000-30\n",
      "Drug_DailyDosage_DurationDose_simvastatin-40-90\n",
      "Drug_DailyDosage_DurationDose_metformin-1000-120\n",
      "WindowCombinationDrugs_atorvastatin-losartan-metformin-metoprolol-simvastatin-simvastatin-40-100-1000-25-40-40\n",
      "Drug_DailyDosage_DurationDose_atorvastatin-40-30\n",
      "WindowCombinationDrugs_metformin-metformin-metformin-simvastatin-1000-1000-1000-80\n",
      "Drug_DailyDosage_DurationDose_simvastatin-80-90\n",
      "WindowCombinationDrugs_metformin-1000\n",
      "WindowCombinationDrugs_metformin-simvastatin-1000-80\n",
      "WindowCombinationDrugs_simvastatin-80\n",
      "WindowCombinationDrugs_metformin-2000\n",
      "Drug_DailyDosage_DurationDose_metformin-2000-90\n",
      "WindowCombinationDrugs_carvedilol-25\n",
      "Drug_DailyDosage_DurationDose_carvedilol-25-30\n",
      "WindowCombinationDrugs_carvedilol-losartan-losartan-valsartan-50-100-100-640\n",
      "Drug_DailyDosage_DurationDose_carvedilol-50-30\n",
      "Drug_DailyDosage_DurationDose_valsartan-640-45\n",
      "drug_bisoprolol\n",
      "WindowCombinationDrugs_bisoprolol-simvastatin-simvastatin-5-40-40\n",
      "Drug_DailyDosage_DurationDose_bisoprolol-5-90\n",
      "WindowCombinationDrugs_bisoprolol-bisoprolol-metformin-simvastatin-simvastatin-5-5-1500-40-40\n",
      "Drug_DailyDosage_DurationDose_metformin-1500-90\n",
      "WindowCombinationDrugs_bisoprolol-metformin-metformin-simvastatin-simvastatin-5-1500-1500-40-40\n",
      "WindowCombinationDrugs_bisoprolol-metformin-simvastatin-5-1500-40\n",
      "drug_atenolol\n",
      "WindowCombinationDrugs_atenolol-atenolol-atorvastatin-losartan-valsartan-valsartan-50-25-40-100-320-320\n",
      "Drug_DailyDosage_DurationDose_atenolol-25-90\n",
      "Drug_DailyDosage_DurationDose_atenolol-50-90\n",
      "WindowCombinationDrugs_atenolol-atorvastatin-losartan-50-40-100\n",
      "WindowCombinationDrugs_atenolol-atorvastatin-atorvastatin-losartan-valsartan-50-40-40-100-160\n",
      "Drug_DailyDosage_DurationDose_valsartan-160-75\n",
      "WindowCombinationDrugs_atenolol-atorvastatin-50-40\n",
      "WindowCombinationDrugs_atorvastatin-carvedilol-carvedilol-carvedilol-losartan-simvastatin-20-12.5-12.5-12.5-25-20\n",
      "Drug_DailyDosage_DurationDose_carvedilol-12.5-30\n",
      "Drug_DailyDosage_DurationDose_losartan-25-30\n",
      "Drug_DailyDosage_DurationDose_simvastatin-20-30\n",
      "WindowCombinationDrugs_atorvastatin-atorvastatin-carvedilol-losartan-losartan-metformin-20-20-12.5-25-25-500\n",
      "Drug_DailyDosage_DurationDose_metformin-500-60\n",
      "WindowCombinationDrugs_atorvastatin-atorvastatin-carvedilol-carvedilol-losartan-losartan-metformin-20-20-12.5-12.5-25-25-500\n",
      "WindowCombinationDrugs_atorvastatin-atorvastatin-atorvastatin-carvedilol-losartan-20-20-20-12.5-25\n",
      "WindowCombinationDrugs_metformin-metformin-metformin-metoprolol-metoprolol-pravastatin-2000-2000-2000-200-200-40\n",
      "Drug_DailyDosage_DurationDose_metformin-2000-30\n",
      "Drug_DailyDosage_DurationDose_metoprolol-200-90\n",
      "WindowCombinationDrugs_metformin-metformin-metoprolol-pravastatin-2000-2000-200-40\n",
      "WindowCombinationDrugs_metformin-metformin-metoprolol-metoprolol-pravastatin-pravastatin-pravastatin-2000-2000-200-200-40-40-40\n",
      "WindowCombinationDrugs_metformin-metoprolol-pravastatin-pravastatin-2000-200-40-40\n",
      "WindowCombinationDrugs_atorvastatin-atorvastatin-metformin-metformin-20-20-2000-2000\n",
      "WindowCombinationDrugs_losartan-metformin-simvastatin-simvastatin-25-500-10-10\n",
      "Drug_DailyDosage_DurationDose_metformin-500-90\n",
      "Drug_DailyDosage_DurationDose_simvastatin-10-90\n",
      "WindowCombinationDrugs_losartan-simvastatin-25-10\n",
      "WindowCombinationDrugs_losartan-metformin-simvastatin-25-500-10\n",
      "Drug_DailyDosage_DurationDose_losartan-25-90\n",
      "WindowCombinationDrugs_metformin-500\n",
      "Drug_DailyDosage_DurationDose_metformin-500-30\n",
      "WindowCombinationDrugs_metformin-metformin-metformin-metformin-metformin-500-500-500-500-500\n",
      "WindowCombinationDrugs_metformin-metformin-500-500\n",
      "WindowCombinationDrugs_atorvastatin-losartan-metformin-metoprolol-40-100-1000-100\n",
      "Drug_DailyDosage_DurationDose_atorvastatin-40-270\n",
      "WindowCombinationDrugs_atorvastatin-losartan-metformin-40-100-1000\n",
      "WindowCombinationDrugs_atorvastatin-losartan-40-100\n",
      "drug_lovastatin\n",
      "WindowCombinationDrugs_lovastatin-metformin-valsartan-valsartan-40-500-640-640\n",
      "Drug_DailyDosage_DurationDose_lovastatin-40-270\n",
      "Drug_DailyDosage_DurationDose_metformin-500-270\n",
      "WindowCombinationDrugs_lovastatin-metformin-metformin-valsartan-40-500-500-640\n",
      "WindowCombinationDrugs_metformin-metformin-metformin-valsartan-500-500-500-640\n",
      "WindowCombinationDrugs_metformin-valsartan-500-640\n",
      "WindowCombinationDrugs_atorvastatin-atorvastatin-metformin-10-10-500\n",
      "Drug_DailyDosage_DurationDose_metformin-500-180\n",
      "WindowCombinationDrugs_atorvastatin-atorvastatin-metformin-metformin-metformin-10-10-500-500-500\n",
      "WindowCombinationDrugs_atorvastatin-metformin-metformin-10-500-500\n",
      "drug_olmesartan\n",
      "WindowCombinationDrugs_atenolol-olmesartan-50-40\n",
      "Drug_DailyDosage_DurationDose_atenolol-50-30\n",
      "Drug_DailyDosage_DurationDose_olmesartan-40-30\n",
      "WindowCombinationDrugs_atenolol-50\n",
      "WindowCombinationDrugs_metformin-metoprolol-1000-50\n",
      "Drug_DailyDosage_DurationDose_metoprolol-50-180\n",
      "WindowCombinationDrugs_lovastatin-metformin-metoprolol-metoprolol-metoprolol-40-1000-25-50-25\n",
      "Drug_DailyDosage_DurationDose_lovastatin-40-30\n",
      "Drug_DailyDosage_DurationDose_metoprolol-25-30\n",
      "Drug_DailyDosage_DurationDose_metoprolol-25-300\n",
      "WindowCombinationDrugs_lovastatin-metoprolol-metoprolol-metoprolol-40-50-25-25\n",
      "WindowCombinationDrugs_metformin-metoprolol-metoprolol-metoprolol-1000-25-25-25\n",
      "WindowCombinationDrugs_losartan-100\n",
      "WindowCombinationDrugs_losartan-losartan-100-100\n",
      "WindowCombinationDrugs_carvedilol-pravastatin-6.25-20\n",
      "Drug_DailyDosage_DurationDose_carvedilol-6.25-90\n",
      "Drug_DailyDosage_DurationDose_pravastatin-20-30\n",
      "Drug_DailyDosage_DurationDose_pravastatin-20-90\n",
      "WindowCombinationDrugs_atenolol-atenolol-atenolol-pravastatin-pravastatin-25-25-25-20-20\n",
      "Drug_DailyDosage_DurationDose_atenolol-25-540\n",
      "WindowCombinationDrugs_atenolol-atenolol-atenolol-pravastatin-25-25-25-20\n",
      "WindowCombinationDrugs_atenolol-atenolol-atenolol-25-25-25\n",
      "WindowCombinationDrugs_carvedilol-losartan-25-100\n",
      "Drug_DailyDosage_DurationDose_carvedilol-25-90\n",
      "WindowCombinationDrugs_carvedilol-carvedilol-losartan-losartan-25-25-100-100\n",
      "WindowCombinationDrugs_carvedilol-losartan-25-200\n",
      "Drug_DailyDosage_DurationDose_losartan-200-90\n",
      "WindowCombinationDrugs_carvedilol-simvastatin-valsartan-25-10-640\n",
      "Drug_DailyDosage_DurationDose_simvastatin-10-30\n",
      "Drug_DailyDosage_DurationDose_valsartan-640-135\n",
      "WindowCombinationDrugs_carvedilol-carvedilol-carvedilol-carvedilol-pravastatin-pravastatin-simvastatin-valsartan-25-12.5-25-12.5-10-10-10-640\n",
      "Drug_DailyDosage_DurationDose_pravastatin-10-90\n",
      "WindowCombinationDrugs_pravastatin-pravastatin-10-10\n",
      "drug_irbesartan\n",
      "WindowCombinationDrugs_irbesartan-300\n",
      "Drug_DailyDosage_DurationDose_irbesartan-300-90\n",
      "WindowCombinationDrugs_atorvastatin-lovastatin-metformin-80-40-500\n",
      "Drug_DailyDosage_DurationDose_atorvastatin-80-270\n",
      "Drug_DailyDosage_DurationDose_lovastatin-40-90\n",
      "WindowCombinationDrugs_atenolol-atorvastatin-metformin-25-80-500\n",
      "WindowCombinationDrugs_atenolol-atenolol-atorvastatin-atorvastatin-metformin-metformin-25-25-80-80-500-500\n",
      "WindowCombinationDrugs_atorvastatin-metformin-metformin-metformin-metformin-metformin-metoprolol-40-500-500-500-500-500-50\n",
      "WindowCombinationDrugs_metformin-rosuvastatin-500-40\n",
      "Drug_DailyDosage_DurationDose_rosuvastatin-40-30\n",
      "WindowCombinationDrugs_metformin-metformin-rosuvastatin-rosuvastatin-rosuvastatin-500-500-40-40-40\n",
      "Drug_DailyDosage_DurationDose_rosuvastatin-40-90\n",
      "WindowCombinationDrugs_atorvastatin-pravastatin-pravastatin-40-80-80\n",
      "Drug_DailyDosage_DurationDose_pravastatin-80-90\n",
      "WindowCombinationDrugs_atorvastatin-pravastatin-40-80\n",
      "WindowCombinationDrugs_atorvastatin-atorvastatin-atorvastatin-40-40-40\n",
      "WindowCombinationDrugs_atenolol-simvastatin-100-10\n",
      "Drug_DailyDosage_DurationDose_atenolol-100-90\n",
      "WindowCombinationDrugs_atenolol-atenolol-simvastatin-simvastatin-simvastatin-100-100-10-10-10\n",
      "WindowCombinationDrugs_atenolol-simvastatin-simvastatin-simvastatin-100-10-10-10\n",
      "WindowCombinationDrugs_atenolol-100\n",
      "WindowCombinationDrugs_bisoprolol-10\n",
      "Drug_DailyDosage_DurationDose_bisoprolol-10-90\n",
      "WindowCombinationDrugs_bisoprolol-losartan-metformin-pravastatin-10-100-500-40\n",
      "WindowCombinationDrugs_bisoprolol-bisoprolol-losartan-losartan-metformin-metformin-pravastatin-pravastatin-10-10-100-100-500-500-40-40\n",
      "WindowCombinationDrugs_losartan-losartan-metformin-simvastatin-50-50-500-40\n",
      "Drug_DailyDosage_DurationDose_losartan-50-90\n",
      "WindowCombinationDrugs_losartan-losartan-metformin-metformin-simvastatin-50-50-500-500-40\n",
      "WindowCombinationDrugs_losartan-metformin-simvastatin-50-500-40\n",
      "WindowCombinationDrugs_losartan-metformin-50-2000\n",
      "WindowCombinationDrugs_carvedilol-carvedilol-carvedilol-50-50-6.25\n",
      "Drug_DailyDosage_DurationDose_carvedilol-6.25-30\n",
      "WindowCombinationDrugs_pravastatin-pravastatin-20-20\n",
      "WindowCombinationDrugs_pravastatin-pravastatin-pravastatin-20-20-20\n",
      "Drug_DailyDosage_DurationDose_pravastatin-20-60\n",
      "WindowCombinationDrugs_atenolol-atenolol-atenolol-50-50-50\n",
      "WindowCombinationDrugs_atenolol-atenolol-atenolol-atenolol-atorvastatin-atorvastatin-atorvastatin-metformin-metformin-metformin-metformin-50-50-50-50-20-20-20-2000-2000-1700-2000\n",
      "Drug_DailyDosage_DurationDose_metformin-1700-90\n",
      "WindowCombinationDrugs_atenolol-atenolol-atenolol-atorvastatin-atorvastatin-atorvastatin-metformin-metformin-metformin-metformin-50-50-50-20-20-20-2000-1700-2000-1700\n",
      "WindowCombinationDrugs_atorvastatin-carvedilol-simvastatin-80-12.5-40\n",
      "Drug_DailyDosage_DurationDose_atorvastatin-80-150\n",
      "Drug_DailyDosage_DurationDose_simvastatin-40-30\n",
      "WindowCombinationDrugs_atorvastatin-atorvastatin-atorvastatin-carvedilol-simvastatin-20-40-20-12.5-40\n",
      "Drug_DailyDosage_DurationDose_atorvastatin-20-180\n",
      "WindowCombinationDrugs_atorvastatin-atorvastatin-carvedilol-20-40-12.5\n",
      "WindowCombinationDrugs_atorvastatin-olmesartan-olmesartan-olmesartan-20-40-40-40\n",
      "Drug_DailyDosage_DurationDose_olmesartan-40-90\n",
      "WindowCombinationDrugs_atorvastatin-olmesartan-olmesartan-olmesartan-olmesartan-20-40-40-40-40\n",
      "WindowCombinationDrugs_atorvastatin-olmesartan-olmesartan-20-40-40\n",
      "WindowCombinationDrugs_metformin-simvastatin-1000-40\n",
      "WindowCombinationDrugs_metformin-simvastatin-simvastatin-1000-40-20\n",
      "Drug_DailyDosage_DurationDose_simvastatin-20-90\n",
      "WindowCombinationDrugs_metformin-metformin-rosuvastatin-1000-500-40\n",
      "WindowCombinationDrugs_metformin-metformin-metformin-1000-500-500\n",
      "WindowCombinationDrugs_metformin-rosuvastatin-rosuvastatin-500-40-20\n",
      "Drug_DailyDosage_DurationDose_rosuvastatin-20-90\n",
      "drug_canagliflozin\n",
      "drug_dapagliflozin\n",
      "WindowCombinationDrugs_canagliflozin-canagliflozin-dapagliflozin-metformin-300-300-10-500\n",
      "Drug_DailyDosage_DurationDose_canagliflozin-300-30\n",
      "Drug_DailyDosage_DurationDose_canagliflozin-300-90\n",
      "Drug_DailyDosage_DurationDose_dapagliflozin-10-30\n",
      "WindowCombinationDrugs_atenolol-atenolol-losartan-losartan-simvastatin-simvastatin-100-100-100-100-40-40\n",
      "WindowCombinationDrugs_atenolol-atenolol-atenolol-atenolol-losartan-losartan-simvastatin-simvastatin-simvastatin-simvastatin-100-100-100-100-100-100-40-40-40-40\n",
      "WindowCombinationDrugs_atenolol-atenolol-atenolol-atenolol-atenolol-atenolol-losartan-losartan-losartan-losartan-losartan-losartan-simvastatin-simvastatin-simvastatin-simvastatin-simvastatin-simvastatin-100-100-100-100-100-100-100-100-100-100-100-100-40-40-40-40-40-40\n",
      "Drug_DailyDosage_DurationDose_atenolol-100-30\n",
      "WindowCombinationDrugs_atenolol-atenolol-atenolol-losartan-losartan-losartan-simvastatin-simvastatin-simvastatin-100-100-100-100-100-100-40-40-40\n",
      "WindowCombinationDrugs_metformin-simvastatin-2000-40\n",
      "WindowCombinationDrugs_metformin-metformin-simvastatin-2000-2000-40\n",
      "WindowCombinationDrugs_metformin-metformin-metformin-metformin-metoprolol-metoprolol-rosuvastatin-500-1000-1000-1000-25-25-10\n",
      "Drug_DailyDosage_DurationDose_rosuvastatin-10-84\n",
      "WindowCombinationDrugs_metformin-rosuvastatin-1000-10\n",
      "WindowCombinationDrugs_metoprolol-rosuvastatin-rosuvastatin-25-10-10\n",
      "Drug_DailyDosage_DurationDose_rosuvastatin-10-108\n",
      "Drug_DailyDosage_DurationDose_rosuvastatin-10-120\n",
      "WindowCombinationDrugs_rosuvastatin-rosuvastatin-10-10\n",
      "WindowCombinationDrugs_metoprolol-25\n",
      "WindowCombinationDrugs_simvastatin-5\n",
      "Drug_DailyDosage_DurationDose_simvastatin-5-30\n",
      "WindowCombinationDrugs_simvastatin-20\n",
      "WindowCombinationDrugs_simvastatin-simvastatin-simvastatin-20-20-20\n",
      "WindowCombinationDrugs_irbesartan-irbesartan-metformin-pravastatin-150-150-2000-40\n",
      "Drug_DailyDosage_DurationDose_irbesartan-150-90\n",
      "Drug_DailyDosage_DurationDose_pravastatin-40-270\n",
      "WindowCombinationDrugs_pravastatin-40\n",
      "WindowCombinationDrugs_metformin-pravastatin-valsartan-2000-40-160\n",
      "WindowCombinationDrugs_losartan-losartan-lovastatin-metformin-50-50-40-500\n",
      "Drug_DailyDosage_DurationDose_losartan-50-30\n",
      "WindowCombinationDrugs_losartan-losartan-lovastatin-metformin-metformin-metformin-metformin-simvastatin-50-100-40-500-500-500-500-40\n",
      "WindowCombinationDrugs_losartan-losartan-metformin-simvastatin-100-100-500-40\n",
      "WindowCombinationDrugs_simvastatin-40\n",
      "WindowCombinationDrugs_simvastatin-simvastatin-40-40\n",
      "WindowCombinationDrugs_simvastatin-simvastatin-10-10\n",
      "drug_telmisartan\n",
      "WindowCombinationDrugs_losartan-simvastatin-telmisartan-100-10-80\n",
      "Drug_DailyDosage_DurationDose_telmisartan-80-90\n",
      "WindowCombinationDrugs_metformin-metformin-metformin-500-500-500\n",
      "WindowCombinationDrugs_rosuvastatin-20\n",
      "WindowCombinationDrugs_rosuvastatin-rosuvastatin-20-20\n",
      "WindowCombinationDrugs_metformin-metformin-metformin-metformin-metformin-metformin-500-500-500-500-1000-1000\n",
      "WindowCombinationDrugs_metformin-metformin-metformin-metformin-metformin-metformin-metformin-1000-1000-1000-500-500-1000-500\n",
      "Drug_DailyDosage_DurationDose_metformin-1000-60\n",
      "Drug_DailyDosage_DurationDose_metformin-1000-180\n",
      "WindowCombinationDrugs_metformin-metformin-1000-500\n",
      "WindowCombinationDrugs_atorvastatin-metformin-metformin-metformin-40-500-500-500\n",
      "Drug_DailyDosage_DurationDose_metformin-500-120\n",
      "WindowCombinationDrugs_atorvastatin-atorvastatin-atorvastatin-metformin-metformin-metformin-metformin-metformin-metformin-40-40-40-500-500-500-500-500-500\n",
      "Drug_DailyDosage_DurationDose_atorvastatin-40-150\n",
      "WindowCombinationDrugs_atorvastatin-atorvastatin-atorvastatin-bisoprolol-metformin-metformin-metformin-metformin-metformin-40-40-40-5-500-500-500-500-500\n",
      "WindowCombinationDrugs_atorvastatin-atorvastatin-bisoprolol-metformin-metformin-40-40-5-500-500\n",
      "WindowCombinationDrugs_atorvastatin-metformin-simvastatin-simvastatin-simvastatin-40-1000-20-20-20\n",
      "WindowCombinationDrugs_atorvastatin-atorvastatin-metformin-metformin-metformin-simvastatin-40-40-1000-1000-1000-20\n",
      "WindowCombinationDrugs_atorvastatin-metformin-40-1000\n",
      "WindowCombinationDrugs_metformin-metformin-rosuvastatin-2000-2000-10\n",
      "Drug_DailyDosage_DurationDose_rosuvastatin-10-30\n",
      "WindowCombinationDrugs_metformin-rosuvastatin-2000-10\n",
      "WindowCombinationDrugs_atenolol-atenolol-50-50\n",
      "WindowCombinationDrugs_atenolol-atenolol-atenolol-atorvastatin-atorvastatin-atorvastatin-atorvastatin-50-50-50-20-20-10-20\n",
      "Drug_DailyDosage_DurationDose_atorvastatin-20-1\n",
      "WindowCombinationDrugs_atenolol-atenolol-atenolol-atenolol-atorvastatin-50-50-50-50-10\n",
      "WindowCombinationDrugs_losartan-metoprolol-metoprolol-simvastatin-25-100-100-40\n",
      "Drug_DailyDosage_DurationDose_metoprolol-100-45\n",
      "WindowCombinationDrugs_losartan-metoprolol-simvastatin-100-100-40\n",
      "WindowCombinationDrugs_metoprolol-simvastatin-simvastatin-100-40-40\n",
      "WindowCombinationDrugs_metoprolol-metoprolol-simvastatin-simvastatin-100-100-40-40\n",
      "WindowCombinationDrugs_metoprolol-simvastatin-100-40\n",
      "WindowCombinationDrugs_pravastatin-pravastatin-pravastatin-40-40-40\n",
      "WindowCombinationDrugs_atorvastatin-metformin-metoprolol-40-500-50\n",
      "WindowCombinationDrugs_atorvastatin-atorvastatin-atorvastatin-20-20-20\n",
      "WindowCombinationDrugs_metformin-simvastatin-500-40\n",
      "WindowCombinationDrugs_metformin-metformin-metformin-metformin-metformin-simvastatin-simvastatin-500-500-500-500-500-40-40\n",
      "WindowCombinationDrugs_metformin-metformin-metformin-simvastatin-500-500-500-40\n",
      "WindowCombinationDrugs_losartan-losartan-losartan-metformin-metformin-metformin-metformin-simvastatin-simvastatin-100-100-100-500-500-500-500-40-40\n",
      "WindowCombinationDrugs_losartan-losartan-metformin-metformin-metformin-metformin-metformin-simvastatin-100-100-500-500-500-500-500-40\n",
      "WindowCombinationDrugs_losartan-losartan-losartan-metformin-simvastatin-100-100-100-500-40\n",
      "WindowCombinationDrugs_losartan-losartan-losartan-losartan-metformin-metformin-metformin-simvastatin-simvastatin-simvastatin-100-100-100-100-500-500-500-40-40-40\n",
      "WindowCombinationDrugs_metoprolol-rosuvastatin-50-10\n",
      "WindowCombinationDrugs_metoprolol-metoprolol-rosuvastatin-50-50-10\n",
      "WindowCombinationDrugs_atorvastatin-atorvastatin-metformin-metformin-metoprolol-metoprolol-20-20-500-500-50-50\n",
      "WindowCombinationDrugs_atorvastatin-atorvastatin-atorvastatin-metformin-metformin-metformin-metoprolol-metoprolol-metoprolol-20-20-20-500-500-500-50-50-50\n",
      "WindowCombinationDrugs_atorvastatin-metformin-metformin-metoprolol-20-500-500-50\n",
      "Drug_DailyDosage_DurationDose_metformin-500-10\n",
      "WindowCombinationDrugs_atorvastatin-atorvastatin-metformin-metoprolol-metoprolol-20-20-500-50-50\n",
      "WindowCombinationDrugs_atenolol-simvastatin-50-40\n",
      "Drug_DailyDosage_DurationDose_atenolol-50-270\n",
      "WindowCombinationDrugs_atenolol-atenolol-atenolol-simvastatin-simvastatin-50-50-50-40-40\n",
      "Drug_DailyDosage_DurationDose_atenolol-50-60\n",
      "WindowCombinationDrugs_atorvastatin-atorvastatin-metformin-40-20-2000\n",
      "WindowCombinationDrugs_atorvastatin-metformin-rosuvastatin-20-2000-40\n",
      "WindowCombinationDrugs_metformin-rosuvastatin-2000-40\n",
      "WindowCombinationDrugs_canagliflozin-canagliflozin-canagliflozin-metformin-rosuvastatin-rosuvastatin-rosuvastatin-rosuvastatin-rosuvastatin-100-300-100-2000-40-40-40-40-40\n",
      "Drug_DailyDosage_DurationDose_canagliflozin-100-90\n",
      "Drug_DailyDosage_DurationDose_rosuvastatin-40-60\n",
      "drug_labetalol\n",
      "WindowCombinationDrugs_labetalol-600\n",
      "Drug_DailyDosage_DurationDose_labetalol-600-30\n",
      "WindowCombinationDrugs_labetalol-labetalol-600-600\n",
      "Drug_DailyDosage_DurationDose_labetalol-600-90\n",
      "WindowCombinationDrugs_metformin-metformin-metformin-metformin-metformin-metformin-valsartan-valsartan-1000-1000-1000-1000-1000-1000-320-320\n",
      "Drug_DailyDosage_DurationDose_valsartan-320-135\n",
      "WindowCombinationDrugs_metformin-metformin-metformin-metformin-metformin-valsartan-valsartan-1000-1000-1000-1000-1000-320-320\n",
      "WindowCombinationDrugs_metformin-metformin-metformin-metformin-metformin-metformin-valsartan-1000-1000-1000-1000-1000-1000-320\n",
      "Drug_DailyDosage_DurationDose_valsartan-320-45\n",
      "WindowCombinationDrugs_canagliflozin-metformin-metformin-metformin-valsartan-300-1000-1000-1000-320\n",
      "WindowCombinationDrugs_metformin-simvastatin-simvastatin-2000-20-20\n",
      "WindowCombinationDrugs_atenolol-simvastatin-telmisartan-50-20-80\n",
      "WindowCombinationDrugs_atenolol-metformin-simvastatin-telmisartan-50-2000-20-80\n",
      "WindowCombinationDrugs_simvastatin-simvastatin-simvastatin-10-10-10\n",
      "WindowCombinationDrugs_simvastatin-10\n",
      "WindowCombinationDrugs_atorvastatin-atorvastatin-atorvastatin-atorvastatin-20-20-20-20\n",
      "WindowCombinationDrugs_atorvastatin-losartan-metformin-40-100-500\n",
      "Drug_DailyDosage_DurationDose_metformin-500-540\n",
      "WindowCombinationDrugs_atorvastatin-atorvastatin-metformin-40-40-500\n",
      "WindowCombinationDrugs_atorvastatin-atorvastatin-losartan-metformin-40-40-100-500\n",
      "WindowCombinationDrugs_atorvastatin-losartan-metformin-10-50-850\n",
      "WindowCombinationDrugs_atorvastatin-atorvastatin-losartan-losartan-losartan-metformin-10-10-50-50-50-850\n",
      "WindowCombinationDrugs_atorvastatin-atorvastatin-atorvastatin-losartan-losartan-losartan-losartan-metformin-metformin-metformin-10-10-10-50-50-50-50-850-850-850\n",
      "Drug_DailyDosage_DurationDose_atorvastatin-10-30\n",
      "Drug_DailyDosage_DurationDose_metformin-850-30\n",
      "WindowCombinationDrugs_metformin-850\n",
      "WindowCombinationDrugs_atorvastatin-atorvastatin-metformin-metformin-metformin-metformin-metformin-40-40-750-750-750-750-750\n",
      "Drug_DailyDosage_DurationDose_metformin-750-30\n",
      "Drug_DailyDosage_DurationDose_metformin-750-90\n",
      "WindowCombinationDrugs_atorvastatin-atorvastatin-atorvastatin-metformin-metformin-metformin-40-40-40-750-750-750\n",
      "WindowCombinationDrugs_atorvastatin-atorvastatin-atorvastatin-metformin-metformin-40-40-40-750-750\n",
      "WindowCombinationDrugs_atorvastatin-metformin-40-750\n",
      "WindowCombinationDrugs_metformin-metformin-metformin-metformin-simvastatin-500-500-500-500-80\n",
      "Drug_DailyDosage_DurationDose_simvastatin-80-30\n",
      "WindowCombinationDrugs_metformin-simvastatin-500-80\n",
      "WindowCombinationDrugs_pravastatin-pravastatin-pravastatin-pravastatin-40-40-40-40\n",
      "WindowCombinationDrugs_atorvastatin-simvastatin-40-40\n",
      "WindowCombinationDrugs_atorvastatin-atorvastatin-losartan-olmesartan-simvastatin-10-40-100-40-40\n",
      "Drug_DailyDosage_DurationDose_losartan-100-150\n",
      "WindowCombinationDrugs_atorvastatin-atorvastatin-losartan-losartan-losartan-losartan-metformin-metformin-10-10-100-100-100-100-500-500\n",
      "Drug_DailyDosage_DurationDose_metformin-500-330\n",
      "WindowCombinationDrugs_losartan-metformin-100-500\n",
      "WindowCombinationDrugs_atenolol-atorvastatin-atorvastatin-25-10-10\n",
      "Drug_DailyDosage_DurationDose_atenolol-25-270\n",
      "Drug_DailyDosage_DurationDose_atorvastatin-10-270\n",
      "WindowCombinationDrugs_atenolol-atenolol-atorvastatin-atorvastatin-25-25-10-10\n",
      "WindowCombinationDrugs_atenolol-atenolol-atorvastatin-25-25-20\n",
      "drug_nebivolol\n",
      "WindowCombinationDrugs_losartan-nebivolol-simvastatin-100-5-40\n",
      "Drug_DailyDosage_DurationDose_nebivolol-5-150\n",
      "WindowCombinationDrugs_losartan-losartan-metoprolol-nebivolol-nebivolol-nebivolol-simvastatin-simvastatin-simvastatin-100-100-100-10-10-10-40-40-40\n",
      "Drug_DailyDosage_DurationDose_nebivolol-10-30\n",
      "Drug_DailyDosage_DurationDose_nebivolol-10-180\n",
      "WindowCombinationDrugs_losartan-losartan-metoprolol-nebivolol-simvastatin-simvastatin-100-100-100-10-40-40\n",
      "WindowCombinationDrugs_atenolol-losartan-metformin-50-100-500\n",
      "WindowCombinationDrugs_atenolol-metformin-50-500\n",
      "WindowCombinationDrugs_losartan-losartan-simvastatin-simvastatin-simvastatin-100-100-80-80-80\n",
      "WindowCombinationDrugs_losartan-losartan-simvastatin-simvastatin-100-100-80-80\n",
      "WindowCombinationDrugs_losartan-50\n",
      "WindowCombinationDrugs_losartan-losartan-losartan-50-50-50\n",
      "WindowCombinationDrugs_atorvastatin-metoprolol-40-100\n",
      "WindowCombinationDrugs_atenolol-atorvastatin-atorvastatin-100-40-40\n",
      "WindowCombinationDrugs_lovastatin-lovastatin-40-40\n",
      "WindowCombinationDrugs_lovastatin-40\n",
      "WindowCombinationDrugs_nebivolol-valsartan-20-320\n",
      "Drug_DailyDosage_DurationDose_nebivolol-20-30\n",
      "WindowCombinationDrugs_carvedilol-nebivolol-nebivolol-pravastatin-valsartan-25-20-20-80-320\n",
      "WindowCombinationDrugs_valsartan-320\n",
      "WindowCombinationDrugs_pravastatin-80\n",
      "WindowCombinationDrugs_simvastatin-simvastatin-simvastatin-40-40-40\n",
      "WindowCombinationDrugs_olmesartan-olmesartan-40-40\n",
      "WindowCombinationDrugs_atorvastatin-atorvastatin-olmesartan-40-40-40\n",
      "Drug_DailyDosage_DurationDose_atorvastatin-40-7\n",
      "WindowCombinationDrugs_losartan-metformin-metformin-olmesartan-olmesartan-100-500-500-40-40\n",
      "WindowCombinationDrugs_losartan-metformin-olmesartan-100-500-40\n",
      "WindowCombinationDrugs_metformin-simvastatin-simvastatin-simvastatin-simvastatin-simvastatin-500-10-10-20-10-10\n",
      "WindowCombinationDrugs_metformin-simvastatin-simvastatin-simvastatin-500-20-10-20\n",
      "WindowCombinationDrugs_metformin-metformin-simvastatin-500-500-20\n",
      "WindowCombinationDrugs_metformin-simvastatin-500-20\n",
      "WindowCombinationDrugs_atorvastatin-atorvastatin-telmisartan-telmisartan-20-20-80-80\n",
      "Drug_DailyDosage_DurationDose_telmisartan-80-30\n",
      "WindowCombinationDrugs_atorvastatin-metformin-metformin-metformin-telmisartan-20-1700-1700-1700-80\n",
      "Drug_DailyDosage_DurationDose_metformin-1700-30\n",
      "WindowCombinationDrugs_atorvastatin-metformin-metformin-metformin-metformin-telmisartan-valsartan-valsartan-valsartan-20-1700-1700-1700-1700-80-160-160-160\n",
      "Drug_DailyDosage_DurationDose_valsartan-160-45\n",
      "Drug_DailyDosage_DurationDose_valsartan-160-60\n",
      "WindowCombinationDrugs_atorvastatin-metformin-metformin-metformin-metformin-metformin-metformin-metformin-valsartan-valsartan-valsartan-20-1700-1700-1700-1700-1700-1700-1700-160-160-160\n",
      "Drug_DailyDosage_DurationDose_metformin-1700-6\n",
      "Drug_DailyDosage_DurationDose_valsartan-160-18\n",
      "Drug_DailyDosage_DurationDose_valsartan-160-30\n",
      "Drug_DailyDosage_DurationDose_metoprolol-25-90\n",
      "WindowCombinationDrugs_atorvastatin-metoprolol-80-100\n",
      "WindowCombinationDrugs_atorvastatin-atorvastatin-metoprolol-metoprolol-80-80-100-100\n",
      "Drug_DailyDosage_DurationDose_metoprolol-100-3\n",
      "WindowCombinationDrugs_atorvastatin-carvedilol-carvedilol-metformin-40-50-50-1000\n",
      "Drug_DailyDosage_DurationDose_carvedilol-50-90\n",
      "WindowCombinationDrugs_atorvastatin-carvedilol-metformin-40-50-1000\n",
      "WindowCombinationDrugs_atorvastatin-atorvastatin-atorvastatin-carvedilol-carvedilol-metformin-40-40-40-50-50-1000\n",
      "WindowCombinationDrugs_atorvastatin-atorvastatin-carvedilol-metformin-metformin-40-40-50-1000-1000\n",
      "WindowCombinationDrugs_atorvastatin-metformin-metoprolol-80-1000-50\n",
      "Drug_DailyDosage_DurationDose_metoprolol-50-270\n",
      "WindowCombinationDrugs_atorvastatin-metoprolol-80-50\n",
      "WindowCombinationDrugs_atorvastatin-atorvastatin-metformin-20-40-500\n",
      "WindowCombinationDrugs_atorvastatin-atorvastatin-metformin-rosuvastatin-rosuvastatin-rosuvastatin-40-40-500-40-40-20\n",
      "WindowCombinationDrugs_rosuvastatin-rosuvastatin-20-40\n",
      "Drug_DailyDosage_DurationDose_rosuvastatin-40-135\n",
      "WindowCombinationDrugs_rosuvastatin-40\n",
      "WindowCombinationDrugs_simvastatin-simvastatin-20-20\n",
      "Drug_DailyDosage_DurationDose_simvastatin-20-270\n",
      "WindowCombinationDrugs_losartan-losartan-losartan-100-100-100\n",
      "WindowCombinationDrugs_atorvastatin-atorvastatin-losartan-losartan-losartan-losartan-20-20-100-100-100-100\n",
      "WindowCombinationDrugs_atorvastatin-losartan-losartan-20-100-100\n",
      "WindowCombinationDrugs_metformin-metformin-1000-1000\n",
      "WindowCombinationDrugs_losartan-25\n",
      "WindowCombinationDrugs_losartan-losartan-metformin-25-25-1000\n",
      "WindowCombinationDrugs_lovastatin-lovastatin-metformin-metformin-metoprolol-20-20-1000-1000-200\n",
      "Drug_DailyDosage_DurationDose_lovastatin-20-120\n",
      "Drug_DailyDosage_DurationDose_metoprolol-200-30\n",
      "WindowCombinationDrugs_lovastatin-lovastatin-lovastatin-lovastatin-lovastatin-metformin-metformin-metformin-metoprolol-metoprolol-20-20-20-20-20-1000-1000-1000-200-200\n",
      "Drug_DailyDosage_DurationDose_lovastatin-20-30\n",
      "Drug_DailyDosage_DurationDose_lovastatin-20-270\n",
      "Drug_DailyDosage_DurationDose_metformin-1000-270\n",
      "Drug_DailyDosage_DurationDose_metoprolol-200-270\n",
      "WindowCombinationDrugs_lovastatin-metformin-metoprolol-20-1000-200\n",
      "WindowCombinationDrugs_atorvastatin-80\n",
      "WindowCombinationDrugs_atorvastatin-lovastatin-40-20\n",
      "Drug_DailyDosage_DurationDose_atorvastatin-40-330\n",
      "Drug_DailyDosage_DurationDose_lovastatin-20-90\n",
      "WindowCombinationDrugs_metformin-rosuvastatin-rosuvastatin-valsartan-2000-5-5-160\n",
      "Drug_DailyDosage_DurationDose_rosuvastatin-5-90\n",
      "WindowCombinationDrugs_metformin-rosuvastatin-valsartan-2000-5-160\n",
      "WindowCombinationDrugs_rosuvastatin-valsartan-5-160\n",
      "WindowCombinationDrugs_losartan-losartan-50-50\n",
      "WindowCombinationDrugs_losartan-losartan-losartan-losartan-50-50-100-50\n",
      "WindowCombinationDrugs_atorvastatin-losartan-metformin-metformin-80-100-2000-500\n",
      "WindowCombinationDrugs_atorvastatin-losartan-losartan-losartan-metformin-80-100-100-100-2000\n",
      "WindowCombinationDrugs_atorvastatin-losartan-losartan-metformin-metformin-metformin-80-100-100-2000-2000-2000\n",
      "WindowCombinationDrugs_atorvastatin-canagliflozin-losartan-losartan-losartan-metformin-80-100-100-100-100-2000\n",
      "Drug_DailyDosage_DurationDose_canagliflozin-100-30\n",
      "WindowCombinationDrugs_atenolol-lovastatin-valsartan-25-10-320\n",
      "Drug_DailyDosage_DurationDose_atenolol-25-150\n",
      "Drug_DailyDosage_DurationDose_lovastatin-10-150\n",
      "Drug_DailyDosage_DurationDose_valsartan-320-75\n",
      "WindowCombinationDrugs_atenolol-atenolol-lovastatin-lovastatin-valsartan-25-25-10-10-320\n",
      "Drug_DailyDosage_DurationDose_atenolol-25-30\n",
      "Drug_DailyDosage_DurationDose_lovastatin-10-1\n",
      "Drug_DailyDosage_DurationDose_lovastatin-10-2\n",
      "Drug_DailyDosage_DurationDose_lovastatin-10-30\n",
      "WindowCombinationDrugs_atorvastatin-metformin-metformin-valsartan-valsartan-valsartan-20-2000-2000-160-160-160\n",
      "WindowCombinationDrugs_atorvastatin-metformin-valsartan-20-2000-160\n",
      "WindowCombinationDrugs_atorvastatin-metformin-valsartan-valsartan-valsartan-20-2000-160-160-160\n",
      "WindowCombinationDrugs_atorvastatin-losartan-losartan-metoprolol-40-100-100-100\n",
      "WindowCombinationDrugs_atorvastatin-atorvastatin-losartan-losartan-metoprolol-40-40-100-100-100\n",
      "WindowCombinationDrugs_atorvastatin-atorvastatin-losartan-metoprolol-40-40-100-100\n",
      "Drug_DailyDosage_DurationDose_rosuvastatin-20-270\n",
      "WindowCombinationDrugs_metformin-simvastatin-750-40\n",
      "Drug_DailyDosage_DurationDose_metformin-750-540\n",
      "Drug_DailyDosage_DurationDose_simvastatin-40-180\n",
      "WindowCombinationDrugs_metformin-metformin-simvastatin-750-750-40\n",
      "WindowCombinationDrugs_atorvastatin-pravastatin-rosuvastatin-rosuvastatin-40-40-5-5\n",
      "Drug_DailyDosage_DurationDose_pravastatin-40-30\n",
      "Drug_DailyDosage_DurationDose_rosuvastatin-5-30\n",
      "WindowCombinationDrugs_losartan-pravastatin-simvastatin-25-40-10\n",
      "WindowCombinationDrugs_atenolol-atenolol-rosuvastatin-rosuvastatin-50-50-20-20\n",
      "Drug_DailyDosage_DurationDose_rosuvastatin-20-30\n",
      "WindowCombinationDrugs_atenolol-rosuvastatin-50-20\n",
      "WindowCombinationDrugs_losartan-losartan-metoprolol-metoprolol-rosuvastatin-rosuvastatin-rosuvastatin-50-50-50-50-10-10-10\n",
      "WindowCombinationDrugs_losartan-losartan-metoprolol-metoprolol-metoprolol-metoprolol-rosuvastatin-rosuvastatin-50-50-50-50-50-50-10-10\n",
      "WindowCombinationDrugs_metoprolol-metoprolol-metoprolol-rosuvastatin-50-50-50-10\n",
      "WindowCombinationDrugs_pravastatin-pravastatin-40-40\n",
      "WindowCombinationDrugs_valsartan-valsartan-valsartan-160-160-320\n",
      "WindowCombinationDrugs_atorvastatin-metformin-metformin-40-1000-1000\n",
      "WindowCombinationDrugs_atorvastatin-losartan-metformin-40-50-1000\n",
      "WindowCombinationDrugs_atorvastatin-losartan-losartan-metformin-metformin-metformin-40-100-50-1000-1000-1000\n",
      "WindowCombinationDrugs_atorvastatin-losartan-metformin-metformin-metformin-40-100-1000-1000-1000\n",
      "WindowCombinationDrugs_metformin-simvastatin-2000-20\n",
      "WindowCombinationDrugs_losartan-losartan-simvastatin-simvastatin-50-50-20-20\n",
      "WindowCombinationDrugs_losartan-simvastatin-simvastatin-50-20-20\n",
      "WindowCombinationDrugs_losartan-simvastatin-50-20\n",
      "WindowCombinationDrugs_rosuvastatin-rosuvastatin-40-40\n",
      "WindowCombinationDrugs_metoprolol-rosuvastatin-50-20\n",
      "WindowCombinationDrugs_lovastatin-metformin-metoprolol-metoprolol-40-500-100-100\n",
      "Drug_DailyDosage_DurationDose_metoprolol-100-60\n",
      "WindowCombinationDrugs_metformin-metoprolol-500-100\n",
      "WindowCombinationDrugs_lovastatin-metformin-metformin-metoprolol-40-500-500-100\n",
      "Drug_DailyDosage_DurationDose_metformin-1000-100\n",
      "WindowCombinationDrugs_irbesartan-metformin-metoprolol-metoprolol-300-2000-25-100\n",
      "Drug_DailyDosage_DurationDose_irbesartan-300-45\n",
      "Drug_DailyDosage_DurationDose_metoprolol-25-330\n",
      "WindowCombinationDrugs_metformin-metoprolol-metoprolol-metoprolol-2000-25-100-100\n",
      "WindowCombinationDrugs_atorvastatin-metoprolol-10-100\n",
      "WindowCombinationDrugs_atorvastatin-atorvastatin-atorvastatin-metformin-metformin-rosuvastatin-rosuvastatin-10-10-10-1000-1000-5-5\n",
      "WindowCombinationDrugs_atorvastatin-atorvastatin-atorvastatin-metformin-metformin-rosuvastatin-10-10-10-1000-1000-5\n",
      "WindowCombinationDrugs_atorvastatin-metformin-10-1000\n",
      "WindowCombinationDrugs_atorvastatin-atorvastatin-atorvastatin-metformin-10-10-10-500\n",
      "WindowCombinationDrugs_atorvastatin-10\n",
      "WindowCombinationDrugs_rosuvastatin-valsartan-valsartan-valsartan-20-320-320-80\n",
      "Drug_DailyDosage_DurationDose_valsartan-80-90\n",
      "WindowCombinationDrugs_rosuvastatin-valsartan-valsartan-20-320-320\n",
      "WindowCombinationDrugs_rosuvastatin-rosuvastatin-valsartan-valsartan-20-20-320-320\n",
      "WindowCombinationDrugs_carvedilol-metformin-12.5-500\n",
      "WindowCombinationDrugs_atorvastatin-atorvastatin-atorvastatin-metformin-metoprolol-metoprolol-metoprolol-80-80-80-1000-50-50-50\n",
      "Drug_DailyDosage_DurationDose_metformin-1000-540\n",
      "Drug_DailyDosage_DurationDose_metoprolol-50-360\n",
      "Drug_DailyDosage_DurationDose_metoprolol-50-540\n",
      "WindowCombinationDrugs_atorvastatin-atorvastatin-metformin-metformin-metoprolol-metoprolol-metoprolol-metoprolol-80-80-1000-1000-50-50-50-50\n",
      "Drug_DailyDosage_DurationDose_metformin-1000-360\n",
      "WindowCombinationDrugs_atorvastatin-metformin-metformin-metformin-metoprolol-metoprolol-metoprolol-80-1000-1000-1000-50-50-50\n",
      "WindowCombinationDrugs_metformin-metformin-metformin-1000-1000-1000\n",
      "WindowCombinationDrugs_atorvastatin-atorvastatin-losartan-losartan-losartan-metformin-metformin-20-40-100-100-100-2000-2000\n",
      "WindowCombinationDrugs_atorvastatin-atorvastatin-atorvastatin-40-20-20\n",
      "WindowCombinationDrugs_atorvastatin-atorvastatin-losartan-metformin-80-20-100-2000\n",
      "Drug_DailyDosage_DurationDose_atorvastatin-80-30\n",
      "WindowCombinationDrugs_atorvastatin-losartan-losartan-metoprolol-40-50-50-50\n",
      "Drug_DailyDosage_DurationDose_losartan-50-34\n",
      "Drug_DailyDosage_DurationDose_losartan-50-270\n",
      "WindowCombinationDrugs_atorvastatin-losartan-metoprolol-40-50-50\n",
      "WindowCombinationDrugs_losartan-losartan-metoprolol-50-50-50\n",
      "Drug_DailyDosage_DurationDose_metoprolol-50-45\n",
      "WindowCombinationDrugs_losartan-metformin-metformin-metformin-100-1000-1000-500\n",
      "WindowCombinationDrugs_losartan-losartan-losartan-losartan-losartan-metoprolol-metoprolol-metoprolol-metoprolol-metoprolol-simvastatin-simvastatin-simvastatin-simvastatin-simvastatin-50-50-50-50-50-50-50-50-50-50-20-20-20-20-20\n",
      "Drug_DailyDosage_DurationDose_losartan-50-10\n",
      "Drug_DailyDosage_DurationDose_metoprolol-50-10\n",
      "Drug_DailyDosage_DurationDose_simvastatin-20-10\n",
      "WindowCombinationDrugs_losartan-losartan-losartan-metoprolol-metoprolol-metoprolol-simvastatin-simvastatin-simvastatin-50-50-50-50-50-50-20-20-20\n",
      "WindowCombinationDrugs_losartan-metoprolol-simvastatin-50-50-20\n",
      "WindowCombinationDrugs_metformin-metformin-2000-1000\n",
      "WindowCombinationDrugs_metoprolol-metoprolol-simvastatin-simvastatin-50-50-40-40\n",
      "WindowCombinationDrugs_metoprolol-simvastatin-simvastatin-50-40-40\n",
      "WindowCombinationDrugs_atorvastatin-metformin-10-2000\n",
      "WindowCombinationDrugs_atorvastatin-atorvastatin-atorvastatin-losartan-losartan-20-20-20-100-100\n",
      "WindowCombinationDrugs_atorvastatin-atorvastatin-losartan-20-20-100\n",
      "WindowCombinationDrugs_atorvastatin-atorvastatin-atorvastatin-atorvastatin-valsartan-valsartan-10-10-10-10-160-160\n",
      "WindowCombinationDrugs_atorvastatin-atorvastatin-atorvastatin-atorvastatin-valsartan-10-10-10-10-160\n",
      "Drug_DailyDosage_DurationDose_valsartan-160-150\n",
      "WindowCombinationDrugs_atorvastatin-atorvastatin-valsartan-10-10-160\n",
      "WindowCombinationDrugs_losartan-metformin-100-1000\n",
      "WindowCombinationDrugs_losartan-losartan-losartan-metformin-100-100-100-1000\n",
      "WindowCombinationDrugs_metoprolol-metoprolol-valsartan-valsartan-200-200-320-320\n",
      "WindowCombinationDrugs_metoprolol-metoprolol-metoprolol-metoprolol-valsartan-valsartan-valsartan-valsartan-valsartan-200-200-200-200-320-320-160-160-160\n",
      "WindowCombinationDrugs_metoprolol-metoprolol-valsartan-valsartan-200-200-160-160\n",
      "WindowCombinationDrugs_carvedilol-metformin-50-2000\n",
      "WindowCombinationDrugs_carvedilol-carvedilol-carvedilol-metformin-metformin-50-50-50-2000-2000\n",
      "Drug_DailyDosage_DurationDose_carvedilol-50-45\n",
      "Drug_DailyDosage_DurationDose_metformin-2000-270\n",
      "WindowCombinationDrugs_atorvastatin-metoprolol-40-50\n",
      "WindowCombinationDrugs_atorvastatin-atorvastatin-metoprolol-metoprolol-40-80-25-50\n",
      "WindowCombinationDrugs_metformin-metoprolol-500-25\n",
      "WindowCombinationDrugs_lovastatin-metformin-metoprolol-20-500-25\n",
      "WindowCombinationDrugs_metformin-metformin-metoprolol-500-500-25\n",
      "WindowCombinationDrugs_metformin-metformin-simvastatin-simvastatin-500-500-40-40\n",
      "WindowCombinationDrugs_metoprolol-metoprolol-metoprolol-metoprolol-metoprolol-metoprolol-valsartan-valsartan-valsartan-valsartan-50-50-50-50-50-50-320-320-320-320\n",
      "WindowCombinationDrugs_metoprolol-metoprolol-metoprolol-metoprolol-simvastatin-valsartan-valsartan-valsartan-valsartan-valsartan-valsartan-valsartan-50-50-50-50-20-320-320-320-320-320-320-320\n",
      "WindowCombinationDrugs_metoprolol-metoprolol-simvastatin-simvastatin-valsartan-valsartan-valsartan-50-50-20-20-320-320-320\n",
      "WindowCombinationDrugs_atenolol-atenolol-atenolol-metformin-metformin-metformin-simvastatin-simvastatin-simvastatin-100-100-100-1000-1000-1000-40-40-40\n",
      "Drug_DailyDosage_DurationDose_atenolol-100-120\n",
      "Drug_DailyDosage_DurationDose_metformin-1000-45\n",
      "WindowCombinationDrugs_atenolol-atenolol-atenolol-atenolol-metformin-simvastatin-100-100-100-100-1000-40\n",
      "WindowCombinationDrugs_atenolol-atenolol-metformin-metformin-simvastatin-100-100-1000-1000-40\n",
      "WindowCombinationDrugs_atenolol-metformin-metformin-simvastatin-100-1000-1000-40\n",
      "WindowCombinationDrugs_metformin-simvastatin-2550-20\n",
      "Drug_DailyDosage_DurationDose_metformin-2550-90\n",
      "WindowCombinationDrugs_metformin-metformin-metformin-simvastatin-simvastatin-2550-2550-2550-20-20\n",
      "WindowCombinationDrugs_metformin-metformin-simvastatin-2550-2550-20\n",
      "WindowCombinationDrugs_atorvastatin-atorvastatin-80-80\n",
      "WindowCombinationDrugs_atorvastatin-metoprolol-10-50\n",
      "WindowCombinationDrugs_atorvastatin-atorvastatin-metoprolol-metoprolol-10-10-50-50\n",
      "WindowCombinationDrugs_metformin-metformin-simvastatin-simvastatin-simvastatin-500-500-20-20-20\n",
      "WindowCombinationDrugs_metformin-metformin-simvastatin-simvastatin-500-500-20-20\n",
      "WindowCombinationDrugs_metformin-metoprolol-metoprolol-simvastatin-500-50-50-20\n",
      "WindowCombinationDrugs_metformin-rosuvastatin-rosuvastatin-1000-20-20\n",
      "WindowCombinationDrugs_losartan-metformin-rosuvastatin-25-1000-20\n",
      "WindowCombinationDrugs_rosuvastatin-rosuvastatin-rosuvastatin-rosuvastatin-rosuvastatin-10-10-10-10-10\n",
      "WindowCombinationDrugs_rosuvastatin-rosuvastatin-rosuvastatin-10-10-10\n",
      "WindowCombinationDrugs_atenolol-simvastatin-100-20\n",
      "WindowCombinationDrugs_atenolol-atenolol-atenolol-simvastatin-simvastatin-simvastatin-100-100-100-20-20-20\n",
      "WindowCombinationDrugs_carvedilol-carvedilol-simvastatin-simvastatin-50-50-40-40\n",
      "WindowCombinationDrugs_atorvastatin-metformin-simvastatin-20-750-40\n",
      "Drug_DailyDosage_DurationDose_metformin-750-60\n",
      "WindowCombinationDrugs_atorvastatin-simvastatin-simvastatin-20-40-40\n",
      "WindowCombinationDrugs_atorvastatin-simvastatin-20-40\n",
      "WindowCombinationDrugs_bisoprolol-bisoprolol-losartan-losartan-pravastatin-10-10-100-100-20\n",
      "WindowCombinationDrugs_bisoprolol-losartan-losartan-pravastatin-10-100-100-20\n",
      "WindowCombinationDrugs_losartan-pravastatin-100-20\n",
      "WindowCombinationDrugs_metformin-metformin-2000-2000\n",
      "WindowCombinationDrugs_atorvastatin-metformin-20-2000\n",
      "WindowCombinationDrugs_lovastatin-lovastatin-20-20\n",
      "WindowCombinationDrugs_lovastatin-lovastatin-lovastatin-20-20-20\n",
      "WindowCombinationDrugs_lovastatin-20\n",
      "WindowCombinationDrugs_pravastatin-pravastatin-pravastatin-valsartan-20-20-20-320\n",
      "Drug_DailyDosage_DurationDose_pravastatin-20-7\n",
      "drug_pitavastatin\n",
      "WindowCombinationDrugs_metoprolol-metoprolol-pitavastatin-50-50-2\n",
      "Drug_DailyDosage_DurationDose_pitavastatin-2-330\n",
      "WindowCombinationDrugs_metoprolol-pitavastatin-50-2\n",
      "WindowCombinationDrugs_metoprolol-pitavastatin-pitavastatin-50-2-2\n",
      "Drug_DailyDosage_DurationDose_pitavastatin-2-28\n",
      "WindowCombinationDrugs_atorvastatin-losartan-pravastatin-pravastatin-10-50-10-10\n",
      "WindowCombinationDrugs_pravastatin-10\n",
      "WindowCombinationDrugs_carvedilol-carvedilol-metformin-metformin-metformin-simvastatin-12.5-12.5-1000-1000-1000-40\n",
      "WindowCombinationDrugs_carvedilol-metformin-metformin-simvastatin-12.5-1000-1000-40\n",
      "WindowCombinationDrugs_carvedilol-simvastatin-12.5-40\n",
      "WindowCombinationDrugs_atenolol-olmesartan-olmesartan-olmesartan-olmesartan-pravastatin-100-20-20-20-20-40\n",
      "Drug_DailyDosage_DurationDose_olmesartan-20-30\n",
      "WindowCombinationDrugs_olmesartan-olmesartan-olmesartan-olmesartan-pravastatin-20-20-20-20-40\n",
      "WindowCombinationDrugs_olmesartan-olmesartan-olmesartan-olmesartan-olmesartan-olmesartan-olmesartan-pravastatin-20-20-20-20-20-20-20-40\n",
      "WindowCombinationDrugs_atenolol-atenolol-atenolol-100-100-100\n",
      "WindowCombinationDrugs_atenolol-atenolol-100-100\n",
      "WindowCombinationDrugs_losartan-olmesartan-50-20\n",
      "Drug_DailyDosage_DurationDose_olmesartan-20-90\n",
      "WindowCombinationDrugs_olmesartan-20\n",
      "WindowCombinationDrugs_metoprolol-simvastatin-25-40\n",
      "WindowCombinationDrugs_losartan-metformin-metformin-metformin-metoprolol-metoprolol-simvastatin-simvastatin-25-1000-1000-1000-25-25-40-40\n",
      "WindowCombinationDrugs_losartan-losartan-metformin-metformin-metformin-metformin-metoprolol-simvastatin-25-25-1000-1000-1000-1000-25-40\n",
      "WindowCombinationDrugs_losartan-pravastatin-25-40\n",
      "WindowCombinationDrugs_losartan-losartan-pravastatin-pravastatin-25-25-40-40\n",
      "WindowCombinationDrugs_metformin-metformin-metformin-metformin-simvastatin-valsartan-valsartan-valsartan-1000-1000-1000-1000-20-320-320-320\n",
      "WindowCombinationDrugs_metformin-metformin-metformin-simvastatin-simvastatin-valsartan-valsartan-valsartan-valsartan-1000-1000-1000-20-20-320-320-320-320\n",
      "WindowCombinationDrugs_metformin-simvastatin-valsartan-1000-20-320\n",
      "WindowCombinationDrugs_atorvastatin-metformin-metformin-simvastatin-simvastatin-simvastatin-40-1000-1000-40-40-40\n",
      "WindowCombinationDrugs_atorvastatin-atorvastatin-atorvastatin-metformin-metformin-metformin-metformin-simvastatin-40-40-40-1000-1000-1000-1000-40\n",
      "WindowCombinationDrugs_atorvastatin-atorvastatin-atorvastatin-metformin-metformin-metformin-40-40-40-1000-1000-1000\n",
      "WindowCombinationDrugs_atorvastatin-metformin-pravastatin-pravastatin-pravastatin-20-1000-40-40-40\n",
      "WindowCombinationDrugs_metformin-metformin-metformin-metformin-pravastatin-pravastatin-pravastatin-pravastatin-pravastatin-1000-1000-1000-1000-40-40-40-40-40\n",
      "WindowCombinationDrugs_metformin-metformin-metformin-metformin-metformin-pravastatin-pravastatin-1000-1000-1000-1000-1000-40-40\n",
      "Drug_DailyDosage_DurationDose_pravastatin-40-150\n",
      "WindowCombinationDrugs_atorvastatin-metformin-metformin-pravastatin-40-1000-1000-40\n",
      "WindowCombinationDrugs_simvastatin-simvastatin-valsartan-valsartan-20-20-160-160\n",
      "WindowCombinationDrugs_losartan-simvastatin-valsartan-100-20-160\n",
      "WindowCombinationDrugs_losartan-simvastatin-simvastatin-valsartan-100-20-20-160\n",
      "Drug_DailyDosage_DurationDose_rosuvastatin-20-7\n",
      "WindowCombinationDrugs_atorvastatin-atorvastatin-metoprolol-rosuvastatin-rosuvastatin-rosuvastatin-simvastatin-40-40-50-20-10-20-80\n",
      "Drug_DailyDosage_DurationDose_simvastatin-80-15\n",
      "WindowCombinationDrugs_metoprolol-rosuvastatin-rosuvastatin-rosuvastatin-rosuvastatin-rosuvastatin-50-10-20-10-20-10\n",
      "WindowCombinationDrugs_metoprolol-metoprolol-rosuvastatin-rosuvastatin-rosuvastatin-rosuvastatin-rosuvastatin-50-50-10-20-10-10-10\n",
      "Drug_DailyDosage_DurationDose_pravastatin-80-60\n",
      "WindowCombinationDrugs_pravastatin-pravastatin-80-80\n",
      "WindowCombinationDrugs_pravastatin-pravastatin-40-20\n",
      "WindowCombinationDrugs_atorvastatin-carvedilol-carvedilol-40-12.5-12.5\n",
      "WindowCombinationDrugs_losartan-losartan-metformin-metformin-simvastatin-simvastatin-100-100-1000-1000-20-20\n",
      "WindowCombinationDrugs_losartan-losartan-losartan-metformin-metformin-metformin-simvastatin-simvastatin-simvastatin-100-100-100-1000-1000-1000-20-20-20\n",
      "WindowCombinationDrugs_rosuvastatin-rosuvastatin-5-5\n",
      "WindowCombinationDrugs_rosuvastatin-5\n",
      "WindowCombinationDrugs_atorvastatin-atorvastatin-atorvastatin-metformin-metformin-metformin-10-10-10-500-500-500\n",
      "WindowCombinationDrugs_atorvastatin-atorvastatin-metformin-metformin-10-10-500-500\n",
      "WindowCombinationDrugs_atenolol-metformin-metformin-metformin-metformin-metformin-rosuvastatin-100-1000-1000-1000-1000-1000-20\n",
      "WindowCombinationDrugs_metoprolol-metoprolol-metoprolol-metoprolol-25-50-25-50\n",
      "WindowCombinationDrugs_lovastatin-metoprolol-pravastatin-20-50-20\n",
      "WindowCombinationDrugs_lovastatin-metoprolol-20-50\n",
      "WindowCombinationDrugs_metoprolol-simvastatin-50-40\n",
      "WindowCombinationDrugs_metformin-metformin-metformin-metformin-metoprolol-metoprolol-simvastatin-valsartan-valsartan-valsartan-1500-1500-1500-1500-100-100-20-640-640-640\n",
      "Drug_DailyDosage_DurationDose_metformin-1500-40\n",
      "Drug_DailyDosage_DurationDose_valsartan-640-30\n",
      "Drug_DailyDosage_DurationDose_valsartan-640-90\n",
      "WindowCombinationDrugs_metformin-metformin-metformin-metformin-metformin-metformin-metformin-metformin-metoprolol-valsartan-valsartan-1500-1500-1500-1500-1500-1500-1500-1500-100-640-640\n",
      "Drug_DailyDosage_DurationDose_metformin-1500-30\n",
      "Drug_DailyDosage_DurationDose_metformin-1500-60\n",
      "WindowCombinationDrugs_metformin-metoprolol-simvastatin-valsartan-1500-100-20-640\n",
      "WindowCombinationDrugs_metformin-metformin-metoprolol-metoprolol-valsartan-1500-1500-100-100-640\n",
      "WindowCombinationDrugs_lovastatin-lovastatin-lovastatin-lovastatin-lovastatin-40-40-40-40-40\n",
      "WindowCombinationDrugs_losartan-losartan-simvastatin-100-100-20\n",
      "Drug_DailyDosage_DurationDose_simvastatin-20-150\n",
      "WindowCombinationDrugs_losartan-simvastatin-simvastatin-100-20-20\n",
      "WindowCombinationDrugs_losartan-metoprolol-simvastatin-100-25-20\n",
      "Drug_DailyDosage_DurationDose_metoprolol-25-15\n",
      "WindowCombinationDrugs_losartan-simvastatin-100-20\n",
      "WindowCombinationDrugs_atorvastatin-atorvastatin-atorvastatin-atorvastatin-losartan-losartan-10-10-10-10-50-50\n",
      "WindowCombinationDrugs_bisoprolol-5\n",
      "Drug_DailyDosage_DurationDose_bisoprolol-5-60\n",
      "WindowCombinationDrugs_atorvastatin-metformin-metformin-metformin-40-2000-2000-2000\n",
      "WindowCombinationDrugs_atorvastatin-atorvastatin-metformin-metformin-metformin-metformin-40-40-2000-2000-2000-2000\n",
      "WindowCombinationDrugs_atorvastatin-atorvastatin-metformin-metformin-40-40-2000-2000\n",
      "WindowCombinationDrugs_atorvastatin-losartan-losartan-metformin-metformin-pravastatin-pravastatin-10-100-100-500-1000-40-40\n",
      "WindowCombinationDrugs_atorvastatin-losartan-metformin-metformin-pravastatin-10-100-1000-1000-40\n",
      "WindowCombinationDrugs_atorvastatin-atorvastatin-dapagliflozin-dapagliflozin-losartan-losartan-metformin-10-10-10-10-100-100-1000\n",
      "Drug_DailyDosage_DurationDose_dapagliflozin-10-90\n",
      "WindowCombinationDrugs_atorvastatin-dapagliflozin-dapagliflozin-losartan-losartan-metformin-10-10-10-100-100-1000\n",
      "WindowCombinationDrugs_metformin-pravastatin-pravastatin-500-40-40\n",
      "WindowCombinationDrugs_metformin-metformin-metformin-pravastatin-pravastatin-pravastatin-500-500-500-40-40-40\n",
      "WindowCombinationDrugs_metformin-pravastatin-500-40\n",
      "WindowCombinationDrugs_atorvastatin-valsartan-valsartan-20-320-640\n",
      "WindowCombinationDrugs_atorvastatin-atorvastatin-atorvastatin-atorvastatin-valsartan-valsartan-20-20-20-20-320-640\n",
      "Drug_DailyDosage_DurationDose_atorvastatin-20-270\n",
      "WindowCombinationDrugs_atorvastatin-simvastatin-10-10\n",
      "WindowCombinationDrugs_atorvastatin-metformin-10-500\n",
      "Drug_DailyDosage_DurationDose_atorvastatin-10-180\n",
      "WindowCombinationDrugs_metoprolol-metoprolol-pravastatin-25-25-80\n",
      "Drug_DailyDosage_DurationDose_pravastatin-80-30\n",
      "WindowCombinationDrugs_atorvastatin-metoprolol-metoprolol-metoprolol-pravastatin-pravastatin-80-25-25-25-80-80\n",
      "WindowCombinationDrugs_atorvastatin-atorvastatin-metoprolol-metoprolol-80-80-25-25\n",
      "WindowCombinationDrugs_losartan-losartan-losartan-losartan-simvastatin-simvastatin-simvastatin-50-50-50-50-20-20-20\n",
      "WindowCombinationDrugs_losartan-losartan-losartan-losartan-losartan-simvastatin-simvastatin-simvastatin-50-50-50-50-50-20-20-20\n",
      "WindowCombinationDrugs_losartan-losartan-losartan-simvastatin-simvastatin-simvastatin-50-50-50-20-20-20\n",
      "WindowCombinationDrugs_atorvastatin-atorvastatin-carvedilol-metformin-metformin-metformin-10-10-25-1000-1000-1700\n",
      "WindowCombinationDrugs_atorvastatin-atorvastatin-atorvastatin-carvedilol-metformin-metformin-metformin-10-10-10-25-1700-1700-1700\n",
      "WindowCombinationDrugs_atorvastatin-carvedilol-carvedilol-metformin-metformin-metformin-metformin-10-25-25-1700-1700-1700-1700\n",
      "WindowCombinationDrugs_atorvastatin-metformin-10-1700\n",
      "WindowCombinationDrugs_metformin-metformin-simvastatin-simvastatin-500-500-10-10\n",
      "WindowCombinationDrugs_atorvastatin-atorvastatin-metformin-metformin-10-10-1000-1000\n",
      "WindowCombinationDrugs_valsartan-640\n",
      "WindowCombinationDrugs_atorvastatin-metoprolol-10-25\n",
      "WindowCombinationDrugs_atorvastatin-atorvastatin-metoprolol-metoprolol-valsartan-10-10-25-25-640\n",
      "WindowCombinationDrugs_atenolol-simvastatin-50-20\n",
      "WindowCombinationDrugs_metformin-rosuvastatin-valsartan-500-20-320\n",
      "WindowCombinationDrugs_metformin-metformin-rosuvastatin-valsartan-500-500-20-320\n",
      "WindowCombinationDrugs_rosuvastatin-valsartan-20-320\n",
      "WindowCombinationDrugs_losartan-metformin-metformin-simvastatin-50-1000-2000-40\n",
      "WindowCombinationDrugs_losartan-simvastatin-50-40\n",
      "WindowCombinationDrugs_losartan-metformin-simvastatin-50-2000-40\n",
      "WindowCombinationDrugs_losartan-rosuvastatin-telmisartan-50-20-40\n",
      "Drug_DailyDosage_DurationDose_telmisartan-40-90\n",
      "WindowCombinationDrugs_losartan-rosuvastatin-50-20\n",
      "WindowCombinationDrugs_atorvastatin-metoprolol-rosuvastatin-40-50-10\n",
      "WindowCombinationDrugs_atorvastatin-metformin-metformin-metoprolol-rosuvastatin-40-500-500-50-10\n",
      "WindowCombinationDrugs_irbesartan-irbesartan-simvastatin-150-150-40\n",
      "Drug_DailyDosage_DurationDose_irbesartan-150-30\n",
      "WindowCombinationDrugs_atorvastatin-metoprolol-20-25\n",
      "Drug_DailyDosage_DurationDose_atorvastatin-20-330\n",
      "WindowCombinationDrugs_atorvastatin-atorvastatin-carvedilol-carvedilol-40-20-25-50\n",
      "Drug_DailyDosage_DurationDose_carvedilol-25-330\n",
      "Drug_DailyDosage_DurationDose_carvedilol-50-60\n",
      "WindowCombinationDrugs_atorvastatin-carvedilol-carvedilol-20-25-50\n",
      "WindowCombinationDrugs_atorvastatin-carvedilol-20-50\n",
      "Drug_DailyDosage_DurationDose_carvedilol-50-330\n",
      "WindowCombinationDrugs_losartan-metformin-metoprolol-metoprolol-simvastatin-simvastatin-50-500-50-50-20-20\n",
      "WindowCombinationDrugs_losartan-losartan-metformin-metoprolol-metoprolol-metoprolol-simvastatin-simvastatin-simvastatin-50-50-500-50-50-50-20-20-20\n",
      "WindowCombinationDrugs_atorvastatin-losartan-losartan-metformin-metoprolol-metoprolol-simvastatin-simvastatin-40-50-50-500-50-50-20-20\n",
      "WindowCombinationDrugs_atorvastatin-losartan-metformin-metoprolol-simvastatin-40-50-500-50-20\n",
      "WindowCombinationDrugs_lovastatin-metoprolol-40-25\n",
      "Drug_DailyDosage_DurationDose_metoprolol-25-540\n",
      "WindowCombinationDrugs_lovastatin-metoprolol-metoprolol-40-25-25\n",
      "Drug_DailyDosage_DurationDose_lovastatin-40-180\n",
      "WindowCombinationDrugs_metformin-metoprolol-rosuvastatin-1000-50-40\n",
      "WindowCombinationDrugs_atorvastatin-metformin-metformin-metformin-metformin-metformin-20-1000-1000-2000-2000-2000\n",
      "WindowCombinationDrugs_atorvastatin-metformin-metformin-metformin-20-2000-2000-2000\n",
      "WindowCombinationDrugs_losartan-losartan-metoprolol-metoprolol-simvastatin-simvastatin-100-100-50-50-20-20\n",
      "WindowCombinationDrugs_losartan-losartan-metoprolol-metoprolol-simvastatin-simvastatin-simvastatin-100-100-50-50-20-20-40\n",
      "WindowCombinationDrugs_losartan-losartan-losartan-metoprolol-simvastatin-simvastatin-100-100-100-50-40-40\n",
      "WindowCombinationDrugs_losartan-metoprolol-simvastatin-simvastatin-100-50-40-40\n",
      "WindowCombinationDrugs_atenolol-atenolol-atorvastatin-100-100-80\n",
      "WindowCombinationDrugs_atenolol-atenolol-atenolol-atorvastatin-atorvastatin-100-100-100-80-80\n",
      "WindowCombinationDrugs_atenolol-atenolol-atenolol-atenolol-atorvastatin-atorvastatin-100-100-100-100-80-80\n",
      "WindowCombinationDrugs_atenolol-atenolol-atorvastatin-atorvastatin-atorvastatin-100-100-80-80-80\n",
      "WindowCombinationDrugs_rosuvastatin-rosuvastatin-rosuvastatin-rosuvastatin-10-10-10-10\n",
      "WindowCombinationDrugs_atorvastatin-rosuvastatin-rosuvastatin-rosuvastatin-10-10-10-10\n",
      "WindowCombinationDrugs_atenolol-atenolol-losartan-100-100-100\n",
      "WindowCombinationDrugs_atenolol-losartan-100-100\n",
      "WindowCombinationDrugs_losartan-losartan-100-50\n",
      "WindowCombinationDrugs_atorvastatin-metoprolol-20-100\n",
      "WindowCombinationDrugs_atorvastatin-atorvastatin-atorvastatin-metoprolol-metoprolol-metoprolol-simvastatin-20-20-20-100-100-100-20\n",
      "WindowCombinationDrugs_atorvastatin-atorvastatin-metoprolol-metoprolol-20-20-100-100\n",
      "WindowCombinationDrugs_metformin-valsartan-1000-320\n",
      "WindowCombinationDrugs_valsartan-valsartan-320-320\n",
      "WindowCombinationDrugs_irbesartan-lovastatin-metoprolol-metoprolol-300-40-50-50\n",
      "WindowCombinationDrugs_irbesartan-irbesartan-losartan-losartan-lovastatin-metoprolol-metoprolol-metoprolol-metoprolol-metoprolol-300-300-100-100-40-50-50-50-50-50\n",
      "Drug_DailyDosage_DurationDose_irbesartan-300-30\n",
      "WindowCombinationDrugs_irbesartan-irbesartan-metoprolol-metoprolol-metoprolol-metoprolol-300-300-50-50-50-50\n",
      "WindowCombinationDrugs_atorvastatin-atorvastatin-40-80\n",
      "drug_propranolol\n",
      "WindowCombinationDrugs_propranolol-propranolol-propranolol-40-40-40\n",
      "Drug_DailyDosage_DurationDose_propranolol-40-30\n",
      "WindowCombinationDrugs_propranolol-propranolol-40-40\n",
      "WindowCombinationDrugs_propranolol-40\n",
      "WindowCombinationDrugs_metoprolol-metoprolol-50-50\n",
      "WindowCombinationDrugs_lovastatin-metoprolol-metoprolol-40-50-50\n",
      "WindowCombinationDrugs_losartan-metoprolol-50-25\n",
      "WindowCombinationDrugs_atenolol-losartan-metformin-simvastatin-50-100-1000-40\n",
      "Drug_DailyDosage_DurationDose_simvastatin-40-300\n",
      "WindowCombinationDrugs_losartan-simvastatin-100-40\n",
      "WindowCombinationDrugs_atenolol-losartan-losartan-metformin-metformin-simvastatin-50-100-100-1000-1000-40\n",
      "WindowCombinationDrugs_metformin-pravastatin-500-80\n",
      "WindowCombinationDrugs_atorvastatin-olmesartan-propranolol-10-80-40\n",
      "Drug_DailyDosage_DurationDose_olmesartan-80-30\n",
      "WindowCombinationDrugs_atorvastatin-propranolol-propranolol-10-40-20\n",
      "Drug_DailyDosage_DurationDose_propranolol-20-30\n",
      "WindowCombinationDrugs_atenolol-atorvastatin-atorvastatin-losartan-25-40-40-100\n",
      "WindowCombinationDrugs_atenolol-losartan-25-100\n",
      "WindowCombinationDrugs_atenolol-atorvastatin-losartan-25-40-100\n",
      "WindowCombinationDrugs_atorvastatin-metformin-40-2000\n",
      "WindowCombinationDrugs_irbesartan-metformin-valsartan-valsartan-valsartan-valsartan-valsartan-300-1000-640-640-640-640-640\n",
      "Drug_DailyDosage_DurationDose_valsartan-640-14\n",
      "WindowCombinationDrugs_metoprolol-metoprolol-metoprolol-100-50-100\n",
      "WindowCombinationDrugs_metoprolol-metoprolol-valsartan-50-100-640\n",
      "WindowCombinationDrugs_pitavastatin-2\n",
      "Drug_DailyDosage_DurationDose_pitavastatin-2-3\n",
      "WindowCombinationDrugs_atorvastatin-atorvastatin-metformin-20-20-1000\n",
      "WindowCombinationDrugs_atorvastatin-losartan-losartan-losartan-10-100-100-100\n",
      "WindowCombinationDrugs_atorvastatin-atorvastatin-losartan-losartan-losartan-10-10-100-100-100\n",
      "WindowCombinationDrugs_atorvastatin-atorvastatin-losartan-losartan-10-10-100-100\n"
     ]
    }
   ],
   "source": [
    "for i in datos.columns:\n",
    "    print(i)"
   ]
  },
  {
   "cell_type": "code",
   "execution_count": 99,
   "id": "3fb50590",
   "metadata": {},
   "outputs": [],
   "source": [
    "X_train_full, X_test, y_train_full, y_test = train_test_split(datos, datosResponse)\n",
    "X_train, X_valid, y_train, y_valid = train_test_split(X_train_full, y_train_full)\n",
    "scaler = StandardScaler()\n",
    "\n",
    "\n",
    "X_train = pd.DataFrame(scaler.fit_transform(X_train.values), columns=X_train.columns, index=X_train.index)\n",
    "\n",
    "\n",
    "#X_train[X_train.columns] = scaler.fit_transform(X_train)\n",
    "####AQUI DEBE DE IR SMOTE, EN X_train, ACTUALIZAR TAMBIEN EL NPS TARGET CON DUMMIES DE TODOS\n",
    "##Hacemos oversampling SMOTE\n",
    "#sm = BorderlineSMOTE(random_state = 99, n_jobs= -1, kind='borderline-1')\n",
    "#sm = SMOTE(random_state = 99, n_jobs= -1)\n",
    "#X_train, y_train = sm.fit_resample(X_train, y_train)\n",
    "\n",
    "X_valid = pd.DataFrame(scaler.transform(X_valid.values), columns=X_valid.columns, index=X_valid.index)\n",
    "\n",
    "\n",
    "#X_valid[X_valid.columns] = scaler.transform(X_valid)\n",
    "#X_test[X_test.columns] = scaler.transform(X_test)\n",
    "\n",
    "\n",
    "X_test = pd.DataFrame(scaler.transform(X_test.values), columns=X_test.columns, index=X_test.index)\n",
    "\n"
   ]
  },
  {
   "cell_type": "code",
   "execution_count": 131,
   "id": "37f53eab",
   "metadata": {},
   "outputs": [],
   "source": [
    "xgb_model = xgb.XGBClassifier(objective=\"binary:logistic\", random_state=42, eval_metric=\"auc\", n_estimators=100,\n",
    "                             max_depth=18, booster = \"gbtree\", reg_lambda = 3, gamma = 0, eta = 0.3, tree_method = \"exact\",min_child_weight=1,\n",
    "                                     grow_policy = \"lossguide\", scale_pos_weight = 5)"
   ]
  },
  {
   "cell_type": "code",
   "execution_count": 132,
   "id": "f6867621",
   "metadata": {},
   "outputs": [
    {
     "name": "stdout",
     "output_type": "stream",
     "text": [
      "[0]\tvalidation_0-auc:0.76738\n",
      "[1]\tvalidation_0-auc:0.81781\n",
      "[2]\tvalidation_0-auc:0.83953\n"
     ]
    },
    {
     "name": "stderr",
     "output_type": "stream",
     "text": [
      "/usr/local/lib/python3.8/site-packages/xgboost/sklearn.py:1146: UserWarning: The use of label encoder in XGBClassifier is deprecated and will be removed in a future release. To remove this warning, do the following: 1) Pass option use_label_encoder=False when constructing XGBClassifier object; and 2) Encode your labels (y) as integers starting with 0, i.e. 0, 1, 2, ..., [num_class - 1].\n",
      "  warnings.warn(label_encoder_deprecation_msg, UserWarning)\n"
     ]
    },
    {
     "name": "stdout",
     "output_type": "stream",
     "text": [
      "[3]\tvalidation_0-auc:0.85999\n",
      "[4]\tvalidation_0-auc:0.86616\n",
      "[5]\tvalidation_0-auc:0.87580\n",
      "[6]\tvalidation_0-auc:0.88546\n",
      "[7]\tvalidation_0-auc:0.88996\n",
      "[8]\tvalidation_0-auc:0.89352\n",
      "[9]\tvalidation_0-auc:0.90153\n",
      "[10]\tvalidation_0-auc:0.90623\n",
      "[11]\tvalidation_0-auc:0.91160\n",
      "[12]\tvalidation_0-auc:0.91269\n",
      "[13]\tvalidation_0-auc:0.91783\n",
      "[14]\tvalidation_0-auc:0.92193\n",
      "[15]\tvalidation_0-auc:0.92452\n",
      "[16]\tvalidation_0-auc:0.92876\n",
      "[17]\tvalidation_0-auc:0.92834\n",
      "[18]\tvalidation_0-auc:0.92856\n",
      "[19]\tvalidation_0-auc:0.93058\n",
      "[20]\tvalidation_0-auc:0.93165\n",
      "[21]\tvalidation_0-auc:0.93066\n",
      "[22]\tvalidation_0-auc:0.93102\n",
      "[23]\tvalidation_0-auc:0.93266\n",
      "[24]\tvalidation_0-auc:0.93385\n",
      "[25]\tvalidation_0-auc:0.93486\n",
      "[26]\tvalidation_0-auc:0.93523\n",
      "[27]\tvalidation_0-auc:0.93622\n",
      "[28]\tvalidation_0-auc:0.93686\n",
      "[29]\tvalidation_0-auc:0.93731\n",
      "[30]\tvalidation_0-auc:0.93810\n",
      "[31]\tvalidation_0-auc:0.93850\n",
      "[32]\tvalidation_0-auc:0.93881\n",
      "[33]\tvalidation_0-auc:0.93961\n",
      "[34]\tvalidation_0-auc:0.93980\n",
      "[35]\tvalidation_0-auc:0.94012\n",
      "[36]\tvalidation_0-auc:0.93924\n",
      "[37]\tvalidation_0-auc:0.93859\n",
      "[38]\tvalidation_0-auc:0.93907\n",
      "[39]\tvalidation_0-auc:0.93951\n",
      "[40]\tvalidation_0-auc:0.93953\n",
      "[41]\tvalidation_0-auc:0.94025\n",
      "[42]\tvalidation_0-auc:0.94050\n",
      "[43]\tvalidation_0-auc:0.94035\n",
      "[44]\tvalidation_0-auc:0.94052\n",
      "[45]\tvalidation_0-auc:0.94062\n",
      "[46]\tvalidation_0-auc:0.94091\n",
      "[47]\tvalidation_0-auc:0.94059\n",
      "[48]\tvalidation_0-auc:0.94102\n",
      "[49]\tvalidation_0-auc:0.94089\n",
      "[50]\tvalidation_0-auc:0.94156\n",
      "[51]\tvalidation_0-auc:0.94168\n",
      "[52]\tvalidation_0-auc:0.94191\n",
      "[53]\tvalidation_0-auc:0.94208\n",
      "[54]\tvalidation_0-auc:0.94207\n",
      "[55]\tvalidation_0-auc:0.94228\n",
      "[56]\tvalidation_0-auc:0.94228\n",
      "[57]\tvalidation_0-auc:0.94307\n",
      "[58]\tvalidation_0-auc:0.94307\n",
      "[59]\tvalidation_0-auc:0.94344\n",
      "[60]\tvalidation_0-auc:0.94337\n",
      "[61]\tvalidation_0-auc:0.94371\n",
      "[62]\tvalidation_0-auc:0.94415\n",
      "[63]\tvalidation_0-auc:0.94363\n",
      "[64]\tvalidation_0-auc:0.94336\n",
      "[65]\tvalidation_0-auc:0.94314\n",
      "[66]\tvalidation_0-auc:0.94302\n",
      "[67]\tvalidation_0-auc:0.94329\n",
      "[68]\tvalidation_0-auc:0.94324\n",
      "[69]\tvalidation_0-auc:0.94324\n",
      "[70]\tvalidation_0-auc:0.94376\n",
      "[71]\tvalidation_0-auc:0.94411\n"
     ]
    },
    {
     "data": {
      "text/plain": [
       "XGBClassifier(base_score=0.5, booster='gbtree', colsample_bylevel=1,\n",
       "              colsample_bynode=1, colsample_bytree=1, eta=0.3,\n",
       "              eval_metric='auc', gamma=0, gpu_id=-1, grow_policy='lossguide',\n",
       "              importance_type='gain', interaction_constraints='',\n",
       "              learning_rate=0.300000012, max_delta_step=0, max_depth=18,\n",
       "              min_child_weight=1, missing=nan, monotone_constraints='()',\n",
       "              n_estimators=100, n_jobs=8, num_parallel_tree=1, random_state=42,\n",
       "              reg_alpha=0, reg_lambda=3, scale_pos_weight=5, subsample=1,\n",
       "              tree_method='exact', validate_parameters=1, verbosity=None)"
      ]
     },
     "execution_count": 132,
     "metadata": {},
     "output_type": "execute_result"
    }
   ],
   "source": [
    "#binary:logistic multi:softmax\n",
    "xgb_model.fit(X_train, y_train, early_stopping_rounds=10, eval_set=[(X_test, y_test)], verbose=True)"
   ]
  },
  {
   "cell_type": "code",
   "execution_count": 133,
   "id": "feb0765e",
   "metadata": {},
   "outputs": [
    {
     "name": "stdout",
     "output_type": "stream",
     "text": [
      "              precision    recall  f1-score   support\n",
      "\n",
      "           0       0.91      0.91      0.91       329\n",
      "           1       0.83      0.83      0.83       181\n",
      "\n",
      "    accuracy                           0.88       510\n",
      "   macro avg       0.87      0.87      0.87       510\n",
      "weighted avg       0.88      0.88      0.88       510\n",
      "\n"
     ]
    }
   ],
   "source": [
    "from sklearn.metrics import classification_report\n",
    "\n",
    "y_predOrig = xgb_model.predict(X_test)\n",
    "#y_pred_bool = np.argmax(y_pred, axis=1)\n",
    "#y_pred_bool = pd.get_dummies(y_pred_bool)\n",
    "\n",
    "print(classification_report(y_test, y_predOrig))"
   ]
  },
  {
   "cell_type": "code",
   "execution_count": 135,
   "id": "e8e2f842",
   "metadata": {},
   "outputs": [
    {
     "name": "stdout",
     "output_type": "stream",
     "text": [
      "              precision    recall  f1-score   support\n",
      "\n",
      "           0       0.93      0.94      0.94       261\n",
      "           1       0.87      0.85      0.86       122\n",
      "\n",
      "    accuracy                           0.91       383\n",
      "   macro avg       0.90      0.90      0.90       383\n",
      "weighted avg       0.91      0.91      0.91       383\n",
      "\n"
     ]
    }
   ],
   "source": [
    "from sklearn.metrics import classification_report\n",
    "\n",
    "y_predOrig = xgb_model.predict(X_valid)\n",
    "#y_pred_bool = np.argmax(y_pred, axis=1)\n",
    "#y_pred_bool = pd.get_dummies(y_pred_bool)\n",
    "\n",
    "print(classification_report(y_valid, y_predOrig))"
   ]
  },
  {
   "cell_type": "code",
   "execution_count": 136,
   "id": "c33da050",
   "metadata": {},
   "outputs": [
    {
     "name": "stderr",
     "output_type": "stream",
     "text": [
      "/usr/local/lib/python3.8/site-packages/xgboost/sklearn.py:1146: UserWarning: The use of label encoder in XGBClassifier is deprecated and will be removed in a future release. To remove this warning, do the following: 1) Pass option use_label_encoder=False when constructing XGBClassifier object; and 2) Encode your labels (y) as integers starting with 0, i.e. 0, 1, 2, ..., [num_class - 1].\n",
      "  warnings.warn(label_encoder_deprecation_msg, UserWarning)\n",
      "/usr/local/lib/python3.8/site-packages/xgboost/sklearn.py:1146: UserWarning: The use of label encoder in XGBClassifier is deprecated and will be removed in a future release. To remove this warning, do the following: 1) Pass option use_label_encoder=False when constructing XGBClassifier object; and 2) Encode your labels (y) as integers starting with 0, i.e. 0, 1, 2, ..., [num_class - 1].\n",
      "  warnings.warn(label_encoder_deprecation_msg, UserWarning)\n",
      "/usr/local/lib/python3.8/site-packages/xgboost/sklearn.py:1146: UserWarning: The use of label encoder in XGBClassifier is deprecated and will be removed in a future release. To remove this warning, do the following: 1) Pass option use_label_encoder=False when constructing XGBClassifier object; and 2) Encode your labels (y) as integers starting with 0, i.e. 0, 1, 2, ..., [num_class - 1].\n",
      "  warnings.warn(label_encoder_deprecation_msg, UserWarning)\n",
      "/usr/local/lib/python3.8/site-packages/xgboost/sklearn.py:1146: UserWarning: The use of label encoder in XGBClassifier is deprecated and will be removed in a future release. To remove this warning, do the following: 1) Pass option use_label_encoder=False when constructing XGBClassifier object; and 2) Encode your labels (y) as integers starting with 0, i.e. 0, 1, 2, ..., [num_class - 1].\n",
      "  warnings.warn(label_encoder_deprecation_msg, UserWarning)\n",
      "/usr/local/lib/python3.8/site-packages/xgboost/sklearn.py:1146: UserWarning: The use of label encoder in XGBClassifier is deprecated and will be removed in a future release. To remove this warning, do the following: 1) Pass option use_label_encoder=False when constructing XGBClassifier object; and 2) Encode your labels (y) as integers starting with 0, i.e. 0, 1, 2, ..., [num_class - 1].\n",
      "  warnings.warn(label_encoder_deprecation_msg, UserWarning)\n",
      "/usr/local/lib/python3.8/site-packages/xgboost/sklearn.py:1146: UserWarning: The use of label encoder in XGBClassifier is deprecated and will be removed in a future release. To remove this warning, do the following: 1) Pass option use_label_encoder=False when constructing XGBClassifier object; and 2) Encode your labels (y) as integers starting with 0, i.e. 0, 1, 2, ..., [num_class - 1].\n",
      "  warnings.warn(label_encoder_deprecation_msg, UserWarning)\n",
      "/usr/local/lib/python3.8/site-packages/xgboost/sklearn.py:1146: UserWarning: The use of label encoder in XGBClassifier is deprecated and will be removed in a future release. To remove this warning, do the following: 1) Pass option use_label_encoder=False when constructing XGBClassifier object; and 2) Encode your labels (y) as integers starting with 0, i.e. 0, 1, 2, ..., [num_class - 1].\n",
      "  warnings.warn(label_encoder_deprecation_msg, UserWarning)\n",
      "/usr/local/lib/python3.8/site-packages/xgboost/sklearn.py:1146: UserWarning: The use of label encoder in XGBClassifier is deprecated and will be removed in a future release. To remove this warning, do the following: 1) Pass option use_label_encoder=False when constructing XGBClassifier object; and 2) Encode your labels (y) as integers starting with 0, i.e. 0, 1, 2, ..., [num_class - 1].\n",
      "  warnings.warn(label_encoder_deprecation_msg, UserWarning)\n",
      "/usr/local/lib/python3.8/site-packages/xgboost/sklearn.py:1146: UserWarning: The use of label encoder in XGBClassifier is deprecated and will be removed in a future release. To remove this warning, do the following: 1) Pass option use_label_encoder=False when constructing XGBClassifier object; and 2) Encode your labels (y) as integers starting with 0, i.e. 0, 1, 2, ..., [num_class - 1].\n",
      "  warnings.warn(label_encoder_deprecation_msg, UserWarning)\n",
      "/usr/local/lib/python3.8/site-packages/xgboost/sklearn.py:1146: UserWarning: The use of label encoder in XGBClassifier is deprecated and will be removed in a future release. To remove this warning, do the following: 1) Pass option use_label_encoder=False when constructing XGBClassifier object; and 2) Encode your labels (y) as integers starting with 0, i.e. 0, 1, 2, ..., [num_class - 1].\n",
      "  warnings.warn(label_encoder_deprecation_msg, UserWarning)\n"
     ]
    },
    {
     "name": "stdout",
     "output_type": "stream",
     "text": [
      "The Accuracy is: 78.24% (5.85%)\n"
     ]
    }
   ],
   "source": [
    "##Cross Validation\n",
    "kFold = KFold(n_splits = 10)\n",
    "res = cross_val_score(xgb_model, X_test, y_test, cv=kFold)\n",
    "print(\"The Accuracy is: %.2f%% (%.2f%%)\" % (res.mean()*100, res.std()*100))"
   ]
  },
  {
   "cell_type": "code",
   "execution_count": 137,
   "id": "3a8d605c",
   "metadata": {},
   "outputs": [
    {
     "name": "stderr",
     "output_type": "stream",
     "text": [
      "/usr/local/lib/python3.8/site-packages/xgboost/sklearn.py:1146: UserWarning: The use of label encoder in XGBClassifier is deprecated and will be removed in a future release. To remove this warning, do the following: 1) Pass option use_label_encoder=False when constructing XGBClassifier object; and 2) Encode your labels (y) as integers starting with 0, i.e. 0, 1, 2, ..., [num_class - 1].\n",
      "  warnings.warn(label_encoder_deprecation_msg, UserWarning)\n",
      "/usr/local/lib/python3.8/site-packages/xgboost/sklearn.py:1146: UserWarning: The use of label encoder in XGBClassifier is deprecated and will be removed in a future release. To remove this warning, do the following: 1) Pass option use_label_encoder=False when constructing XGBClassifier object; and 2) Encode your labels (y) as integers starting with 0, i.e. 0, 1, 2, ..., [num_class - 1].\n",
      "  warnings.warn(label_encoder_deprecation_msg, UserWarning)\n",
      "/usr/local/lib/python3.8/site-packages/xgboost/sklearn.py:1146: UserWarning: The use of label encoder in XGBClassifier is deprecated and will be removed in a future release. To remove this warning, do the following: 1) Pass option use_label_encoder=False when constructing XGBClassifier object; and 2) Encode your labels (y) as integers starting with 0, i.e. 0, 1, 2, ..., [num_class - 1].\n",
      "  warnings.warn(label_encoder_deprecation_msg, UserWarning)\n",
      "/usr/local/lib/python3.8/site-packages/xgboost/sklearn.py:1146: UserWarning: The use of label encoder in XGBClassifier is deprecated and will be removed in a future release. To remove this warning, do the following: 1) Pass option use_label_encoder=False when constructing XGBClassifier object; and 2) Encode your labels (y) as integers starting with 0, i.e. 0, 1, 2, ..., [num_class - 1].\n",
      "  warnings.warn(label_encoder_deprecation_msg, UserWarning)\n",
      "/usr/local/lib/python3.8/site-packages/xgboost/sklearn.py:1146: UserWarning: The use of label encoder in XGBClassifier is deprecated and will be removed in a future release. To remove this warning, do the following: 1) Pass option use_label_encoder=False when constructing XGBClassifier object; and 2) Encode your labels (y) as integers starting with 0, i.e. 0, 1, 2, ..., [num_class - 1].\n",
      "  warnings.warn(label_encoder_deprecation_msg, UserWarning)\n",
      "/usr/local/lib/python3.8/site-packages/xgboost/sklearn.py:1146: UserWarning: The use of label encoder in XGBClassifier is deprecated and will be removed in a future release. To remove this warning, do the following: 1) Pass option use_label_encoder=False when constructing XGBClassifier object; and 2) Encode your labels (y) as integers starting with 0, i.e. 0, 1, 2, ..., [num_class - 1].\n",
      "  warnings.warn(label_encoder_deprecation_msg, UserWarning)\n",
      "/usr/local/lib/python3.8/site-packages/xgboost/sklearn.py:1146: UserWarning: The use of label encoder in XGBClassifier is deprecated and will be removed in a future release. To remove this warning, do the following: 1) Pass option use_label_encoder=False when constructing XGBClassifier object; and 2) Encode your labels (y) as integers starting with 0, i.e. 0, 1, 2, ..., [num_class - 1].\n",
      "  warnings.warn(label_encoder_deprecation_msg, UserWarning)\n",
      "/usr/local/lib/python3.8/site-packages/xgboost/sklearn.py:1146: UserWarning: The use of label encoder in XGBClassifier is deprecated and will be removed in a future release. To remove this warning, do the following: 1) Pass option use_label_encoder=False when constructing XGBClassifier object; and 2) Encode your labels (y) as integers starting with 0, i.e. 0, 1, 2, ..., [num_class - 1].\n",
      "  warnings.warn(label_encoder_deprecation_msg, UserWarning)\n",
      "/usr/local/lib/python3.8/site-packages/xgboost/sklearn.py:1146: UserWarning: The use of label encoder in XGBClassifier is deprecated and will be removed in a future release. To remove this warning, do the following: 1) Pass option use_label_encoder=False when constructing XGBClassifier object; and 2) Encode your labels (y) as integers starting with 0, i.e. 0, 1, 2, ..., [num_class - 1].\n",
      "  warnings.warn(label_encoder_deprecation_msg, UserWarning)\n",
      "/usr/local/lib/python3.8/site-packages/xgboost/sklearn.py:1146: UserWarning: The use of label encoder in XGBClassifier is deprecated and will be removed in a future release. To remove this warning, do the following: 1) Pass option use_label_encoder=False when constructing XGBClassifier object; and 2) Encode your labels (y) as integers starting with 0, i.e. 0, 1, 2, ..., [num_class - 1].\n",
      "  warnings.warn(label_encoder_deprecation_msg, UserWarning)\n"
     ]
    },
    {
     "name": "stdout",
     "output_type": "stream",
     "text": [
      "The Accuracy is: 92.09% (0.94%)\n"
     ]
    }
   ],
   "source": [
    "kFold = KFold(n_splits = 10)\n",
    "res = cross_val_score(xgb_model, X_train_full, y_train_full, cv=kFold)\n",
    "print(\"The Accuracy is: %.2f%% (%.2f%%)\" % (res.mean()*100, res.std()*100))"
   ]
  },
  {
   "cell_type": "code",
   "execution_count": 277,
   "id": "112ccaac",
   "metadata": {},
   "outputs": [],
   "source": [
    "#####HyperOpt for searching the best hyperparameters\n",
    "space={'max_depth': hp.quniform(\"max_depth\", 8, 25, 1),'gamma': hp.uniform ('gamma', 0,9),\n",
    "       'reg_alpha' : hp.quniform('reg_alpha', 0,5,1),'reg_lambda' : hp.uniform('reg_lambda', 0,1),\n",
    "       'colsample_bytree' : hp.uniform('colsample_bytree', 0.9,1),'min_child_weight' : hp.quniform('min_child_weight', 0, 25, 1),\n",
    "       'n_estimators': 150,'seed': 0}"
   ]
  },
  {
   "cell_type": "code",
   "execution_count": 278,
   "id": "b59c2eae",
   "metadata": {},
   "outputs": [],
   "source": [
    "def objective(space):\n",
    "    clf=xgb.XGBClassifier(objective=\"binary:logistic\",n_estimators =space['n_estimators'], max_depth = int(space['max_depth']), gamma = space['gamma'],reg_alpha = int(space['reg_alpha']),\n",
    "                         scale_pos_weight = 6, grow_policy = \"depthwise\", seed = space['seed'])\n",
    "    \n",
    "    evaluation = [( X_train, y_train), ( X_test, y_test)]\n",
    "    clf.fit(X_train, y_train,eval_set=evaluation, eval_metric=\"auc\",early_stopping_rounds=10,verbose=False)\n",
    "    #pred = clf.predict(X_test)\n",
    "    #accuracy = accuracy_score(y_test, pred)\n",
    "    kFold = KFold(n_splits = 10)\n",
    "    res = cross_val_score(xgb_model, X_test, y_test, cv=kFold)\n",
    "    print (\"SCORE:\", res.mean()*100)\n",
    "    return {'loss': -res.mean()*100, 'status': STATUS_OK }\n",
    "            \n",
    "    "
   ]
  },
  {
   "cell_type": "code",
   "execution_count": 279,
   "id": "a8b722ec",
   "metadata": {},
   "outputs": [
    {
     "name": "stdout",
     "output_type": "stream",
     "text": [
      "  0%|          | 0/100 [00:00<?, ?trial/s, best loss=?]"
     ]
    },
    {
     "name": "stderr",
     "output_type": "stream",
     "text": [
      "/usr/local/lib/python3.8/site-packages/xgboost/sklearn.py:1146: UserWarning: The use of label encoder in XGBClassifier is deprecated and will be removed in a future release. To remove this warning, do the following: 1) Pass option use_label_encoder=False when constructing XGBClassifier object; and 2) Encode your labels (y) as integers starting with 0, i.e. 0, 1, 2, ..., [num_class - 1].\n",
      "  warnings.warn(label_encoder_deprecation_msg, UserWarning)\n",
      "\n"
     ]
    },
    {
     "name": "stdout",
     "output_type": "stream",
     "text": [
      "SCORE:                                                 \n",
      "0.7862745098039216                                     \n",
      "  1%|          | 1/100 [00:01<01:48,  1.09s/trial, best loss: -0.7862745098039216]"
     ]
    },
    {
     "name": "stderr",
     "output_type": "stream",
     "text": [
      "/usr/local/lib/python3.8/site-packages/xgboost/sklearn.py:1146: UserWarning: The use of label encoder in XGBClassifier is deprecated and will be removed in a future release. To remove this warning, do the following: 1) Pass option use_label_encoder=False when constructing XGBClassifier object; and 2) Encode your labels (y) as integers starting with 0, i.e. 0, 1, 2, ..., [num_class - 1].\n",
      "  warnings.warn(label_encoder_deprecation_msg, UserWarning)\n",
      "\n"
     ]
    },
    {
     "name": "stdout",
     "output_type": "stream",
     "text": [
      "SCORE:                                                                            \n",
      "0.796078431372549                                                                 \n",
      "  2%|▏         | 2/100 [00:02<01:43,  1.05s/trial, best loss: -0.796078431372549] "
     ]
    },
    {
     "name": "stderr",
     "output_type": "stream",
     "text": [
      "/usr/local/lib/python3.8/site-packages/xgboost/sklearn.py:1146: UserWarning: The use of label encoder in XGBClassifier is deprecated and will be removed in a future release. To remove this warning, do the following: 1) Pass option use_label_encoder=False when constructing XGBClassifier object; and 2) Encode your labels (y) as integers starting with 0, i.e. 0, 1, 2, ..., [num_class - 1].\n",
      "  warnings.warn(label_encoder_deprecation_msg, UserWarning)\n",
      "\n"
     ]
    },
    {
     "name": "stdout",
     "output_type": "stream",
     "text": [
      "SCORE:                                                                           \n",
      "0.8117647058823529                                                               \n",
      "  3%|▎         | 3/100 [00:03<01:43,  1.07s/trial, best loss: -0.8117647058823529]"
     ]
    },
    {
     "name": "stderr",
     "output_type": "stream",
     "text": [
      "/usr/local/lib/python3.8/site-packages/xgboost/sklearn.py:1146: UserWarning: The use of label encoder in XGBClassifier is deprecated and will be removed in a future release. To remove this warning, do the following: 1) Pass option use_label_encoder=False when constructing XGBClassifier object; and 2) Encode your labels (y) as integers starting with 0, i.e. 0, 1, 2, ..., [num_class - 1].\n",
      "  warnings.warn(label_encoder_deprecation_msg, UserWarning)\n",
      "\n"
     ]
    },
    {
     "name": "stdout",
     "output_type": "stream",
     "text": [
      "SCORE:                                                                            \n",
      "0.803921568627451                                                                 \n",
      "  4%|▍         | 4/100 [00:04<01:44,  1.09s/trial, best loss: -0.8117647058823529]"
     ]
    },
    {
     "name": "stderr",
     "output_type": "stream",
     "text": [
      "/usr/local/lib/python3.8/site-packages/xgboost/sklearn.py:1146: UserWarning: The use of label encoder in XGBClassifier is deprecated and will be removed in a future release. To remove this warning, do the following: 1) Pass option use_label_encoder=False when constructing XGBClassifier object; and 2) Encode your labels (y) as integers starting with 0, i.e. 0, 1, 2, ..., [num_class - 1].\n",
      "  warnings.warn(label_encoder_deprecation_msg, UserWarning)\n",
      "\n"
     ]
    },
    {
     "name": "stdout",
     "output_type": "stream",
     "text": [
      "SCORE:                                                                            \n",
      "0.8568627450980392                                                                \n",
      "  5%|▌         | 5/100 [00:05<01:44,  1.10s/trial, best loss: -0.8568627450980392]"
     ]
    },
    {
     "name": "stderr",
     "output_type": "stream",
     "text": [
      "/usr/local/lib/python3.8/site-packages/xgboost/sklearn.py:1146: UserWarning: The use of label encoder in XGBClassifier is deprecated and will be removed in a future release. To remove this warning, do the following: 1) Pass option use_label_encoder=False when constructing XGBClassifier object; and 2) Encode your labels (y) as integers starting with 0, i.e. 0, 1, 2, ..., [num_class - 1].\n",
      "  warnings.warn(label_encoder_deprecation_msg, UserWarning)\n",
      "\n"
     ]
    },
    {
     "name": "stdout",
     "output_type": "stream",
     "text": [
      "SCORE:                                                                            \n",
      "0.8313725490196079                                                                \n",
      "  6%|▌         | 6/100 [00:06<01:41,  1.08s/trial, best loss: -0.8568627450980392]"
     ]
    },
    {
     "name": "stderr",
     "output_type": "stream",
     "text": [
      "/usr/local/lib/python3.8/site-packages/xgboost/sklearn.py:1146: UserWarning: The use of label encoder in XGBClassifier is deprecated and will be removed in a future release. To remove this warning, do the following: 1) Pass option use_label_encoder=False when constructing XGBClassifier object; and 2) Encode your labels (y) as integers starting with 0, i.e. 0, 1, 2, ..., [num_class - 1].\n",
      "  warnings.warn(label_encoder_deprecation_msg, UserWarning)\n",
      "\n"
     ]
    },
    {
     "name": "stdout",
     "output_type": "stream",
     "text": [
      "SCORE:                                                                            \n",
      "0.807843137254902                                                                 \n",
      "  7%|▋         | 7/100 [00:07<01:38,  1.06s/trial, best loss: -0.8568627450980392]"
     ]
    },
    {
     "name": "stderr",
     "output_type": "stream",
     "text": [
      "/usr/local/lib/python3.8/site-packages/xgboost/sklearn.py:1146: UserWarning: The use of label encoder in XGBClassifier is deprecated and will be removed in a future release. To remove this warning, do the following: 1) Pass option use_label_encoder=False when constructing XGBClassifier object; and 2) Encode your labels (y) as integers starting with 0, i.e. 0, 1, 2, ..., [num_class - 1].\n",
      "  warnings.warn(label_encoder_deprecation_msg, UserWarning)\n",
      "\n"
     ]
    },
    {
     "name": "stdout",
     "output_type": "stream",
     "text": [
      "SCORE:                                                                            \n",
      "0.8254901960784313                                                                \n",
      "  8%|▊         | 8/100 [00:08<01:45,  1.15s/trial, best loss: -0.8568627450980392]"
     ]
    },
    {
     "name": "stderr",
     "output_type": "stream",
     "text": [
      "/usr/local/lib/python3.8/site-packages/xgboost/sklearn.py:1146: UserWarning: The use of label encoder in XGBClassifier is deprecated and will be removed in a future release. To remove this warning, do the following: 1) Pass option use_label_encoder=False when constructing XGBClassifier object; and 2) Encode your labels (y) as integers starting with 0, i.e. 0, 1, 2, ..., [num_class - 1].\n",
      "  warnings.warn(label_encoder_deprecation_msg, UserWarning)\n",
      "\n"
     ]
    },
    {
     "name": "stdout",
     "output_type": "stream",
     "text": [
      "SCORE:                                                                            \n",
      "0.7666666666666667                                                                \n",
      "  9%|▉         | 9/100 [00:10<01:45,  1.16s/trial, best loss: -0.8568627450980392]"
     ]
    },
    {
     "name": "stderr",
     "output_type": "stream",
     "text": [
      "/usr/local/lib/python3.8/site-packages/xgboost/sklearn.py:1146: UserWarning: The use of label encoder in XGBClassifier is deprecated and will be removed in a future release. To remove this warning, do the following: 1) Pass option use_label_encoder=False when constructing XGBClassifier object; and 2) Encode your labels (y) as integers starting with 0, i.e. 0, 1, 2, ..., [num_class - 1].\n",
      "  warnings.warn(label_encoder_deprecation_msg, UserWarning)\n",
      "\n"
     ]
    },
    {
     "name": "stdout",
     "output_type": "stream",
     "text": [
      "SCORE:                                                                            \n",
      "0.7392156862745098                                                                \n",
      " 10%|█         | 10/100 [00:11<01:44,  1.16s/trial, best loss: -0.8568627450980392]"
     ]
    },
    {
     "name": "stderr",
     "output_type": "stream",
     "text": [
      "/usr/local/lib/python3.8/site-packages/xgboost/sklearn.py:1146: UserWarning: The use of label encoder in XGBClassifier is deprecated and will be removed in a future release. To remove this warning, do the following: 1) Pass option use_label_encoder=False when constructing XGBClassifier object; and 2) Encode your labels (y) as integers starting with 0, i.e. 0, 1, 2, ..., [num_class - 1].\n",
      "  warnings.warn(label_encoder_deprecation_msg, UserWarning)\n",
      "\n"
     ]
    },
    {
     "name": "stdout",
     "output_type": "stream",
     "text": [
      "SCORE:                                                                             \n",
      "0.8196078431372549                                                                 \n",
      " 11%|█         | 11/100 [00:12<01:49,  1.24s/trial, best loss: -0.8568627450980392]"
     ]
    },
    {
     "name": "stderr",
     "output_type": "stream",
     "text": [
      "/usr/local/lib/python3.8/site-packages/xgboost/sklearn.py:1146: UserWarning: The use of label encoder in XGBClassifier is deprecated and will be removed in a future release. To remove this warning, do the following: 1) Pass option use_label_encoder=False when constructing XGBClassifier object; and 2) Encode your labels (y) as integers starting with 0, i.e. 0, 1, 2, ..., [num_class - 1].\n",
      "  warnings.warn(label_encoder_deprecation_msg, UserWarning)\n",
      "\n"
     ]
    },
    {
     "name": "stdout",
     "output_type": "stream",
     "text": [
      "SCORE:                                                                             \n",
      "0.8313725490196079                                                                 \n",
      " 12%|█▏        | 12/100 [00:13<01:50,  1.25s/trial, best loss: -0.8568627450980392]"
     ]
    },
    {
     "name": "stderr",
     "output_type": "stream",
     "text": [
      "/usr/local/lib/python3.8/site-packages/xgboost/sklearn.py:1146: UserWarning: The use of label encoder in XGBClassifier is deprecated and will be removed in a future release. To remove this warning, do the following: 1) Pass option use_label_encoder=False when constructing XGBClassifier object; and 2) Encode your labels (y) as integers starting with 0, i.e. 0, 1, 2, ..., [num_class - 1].\n",
      "  warnings.warn(label_encoder_deprecation_msg, UserWarning)\n",
      "\n"
     ]
    },
    {
     "name": "stdout",
     "output_type": "stream",
     "text": [
      "SCORE:                                                                             \n",
      "0.7647058823529411                                                                 \n",
      " 13%|█▎        | 13/100 [00:14<01:36,  1.11s/trial, best loss: -0.8568627450980392]"
     ]
    },
    {
     "name": "stderr",
     "output_type": "stream",
     "text": [
      "/usr/local/lib/python3.8/site-packages/xgboost/sklearn.py:1146: UserWarning: The use of label encoder in XGBClassifier is deprecated and will be removed in a future release. To remove this warning, do the following: 1) Pass option use_label_encoder=False when constructing XGBClassifier object; and 2) Encode your labels (y) as integers starting with 0, i.e. 0, 1, 2, ..., [num_class - 1].\n",
      "  warnings.warn(label_encoder_deprecation_msg, UserWarning)\n",
      "\n"
     ]
    },
    {
     "name": "stdout",
     "output_type": "stream",
     "text": [
      "SCORE:                                                                             \n",
      "0.8470588235294118                                                                 \n",
      " 14%|█▍        | 14/100 [00:16<01:47,  1.25s/trial, best loss: -0.8568627450980392]"
     ]
    },
    {
     "name": "stderr",
     "output_type": "stream",
     "text": [
      "/usr/local/lib/python3.8/site-packages/xgboost/sklearn.py:1146: UserWarning: The use of label encoder in XGBClassifier is deprecated and will be removed in a future release. To remove this warning, do the following: 1) Pass option use_label_encoder=False when constructing XGBClassifier object; and 2) Encode your labels (y) as integers starting with 0, i.e. 0, 1, 2, ..., [num_class - 1].\n",
      "  warnings.warn(label_encoder_deprecation_msg, UserWarning)\n",
      "\n"
     ]
    },
    {
     "name": "stdout",
     "output_type": "stream",
     "text": [
      "SCORE:                                                                             \n",
      "0.8568627450980392                                                                 \n",
      " 15%|█▌        | 15/100 [00:17<01:44,  1.23s/trial, best loss: -0.8568627450980392]"
     ]
    },
    {
     "name": "stderr",
     "output_type": "stream",
     "text": [
      "/usr/local/lib/python3.8/site-packages/xgboost/sklearn.py:1146: UserWarning: The use of label encoder in XGBClassifier is deprecated and will be removed in a future release. To remove this warning, do the following: 1) Pass option use_label_encoder=False when constructing XGBClassifier object; and 2) Encode your labels (y) as integers starting with 0, i.e. 0, 1, 2, ..., [num_class - 1].\n",
      "  warnings.warn(label_encoder_deprecation_msg, UserWarning)\n",
      "\n"
     ]
    },
    {
     "name": "stdout",
     "output_type": "stream",
     "text": [
      "SCORE:                                                                             \n",
      "0.8019607843137255                                                                 \n",
      " 16%|█▌        | 16/100 [00:18<01:35,  1.14s/trial, best loss: -0.8568627450980392]"
     ]
    },
    {
     "name": "stderr",
     "output_type": "stream",
     "text": [
      "/usr/local/lib/python3.8/site-packages/xgboost/sklearn.py:1146: UserWarning: The use of label encoder in XGBClassifier is deprecated and will be removed in a future release. To remove this warning, do the following: 1) Pass option use_label_encoder=False when constructing XGBClassifier object; and 2) Encode your labels (y) as integers starting with 0, i.e. 0, 1, 2, ..., [num_class - 1].\n",
      "  warnings.warn(label_encoder_deprecation_msg, UserWarning)\n",
      "\n"
     ]
    },
    {
     "name": "stdout",
     "output_type": "stream",
     "text": [
      "SCORE:                                                                             \n",
      "0.8058823529411765                                                                 \n",
      " 17%|█▋        | 17/100 [00:19<01:28,  1.07s/trial, best loss: -0.8568627450980392]"
     ]
    },
    {
     "name": "stderr",
     "output_type": "stream",
     "text": [
      "/usr/local/lib/python3.8/site-packages/xgboost/sklearn.py:1146: UserWarning: The use of label encoder in XGBClassifier is deprecated and will be removed in a future release. To remove this warning, do the following: 1) Pass option use_label_encoder=False when constructing XGBClassifier object; and 2) Encode your labels (y) as integers starting with 0, i.e. 0, 1, 2, ..., [num_class - 1].\n",
      "  warnings.warn(label_encoder_deprecation_msg, UserWarning)\n",
      "\n"
     ]
    },
    {
     "name": "stdout",
     "output_type": "stream",
     "text": [
      "SCORE:                                                                             \n",
      "0.7509803921568627                                                                 \n",
      " 18%|█▊        | 18/100 [00:20<01:21,  1.01trial/s, best loss: -0.8568627450980392]"
     ]
    },
    {
     "name": "stderr",
     "output_type": "stream",
     "text": [
      "/usr/local/lib/python3.8/site-packages/xgboost/sklearn.py:1146: UserWarning: The use of label encoder in XGBClassifier is deprecated and will be removed in a future release. To remove this warning, do the following: 1) Pass option use_label_encoder=False when constructing XGBClassifier object; and 2) Encode your labels (y) as integers starting with 0, i.e. 0, 1, 2, ..., [num_class - 1].\n",
      "  warnings.warn(label_encoder_deprecation_msg, UserWarning)\n",
      "\n"
     ]
    },
    {
     "name": "stdout",
     "output_type": "stream",
     "text": [
      "SCORE:                                                                             \n",
      "0.7745098039215687                                                                 \n",
      " 19%|█▉        | 19/100 [00:21<01:21,  1.01s/trial, best loss: -0.8568627450980392]"
     ]
    },
    {
     "name": "stderr",
     "output_type": "stream",
     "text": [
      "/usr/local/lib/python3.8/site-packages/xgboost/sklearn.py:1146: UserWarning: The use of label encoder in XGBClassifier is deprecated and will be removed in a future release. To remove this warning, do the following: 1) Pass option use_label_encoder=False when constructing XGBClassifier object; and 2) Encode your labels (y) as integers starting with 0, i.e. 0, 1, 2, ..., [num_class - 1].\n",
      "  warnings.warn(label_encoder_deprecation_msg, UserWarning)\n",
      "\n"
     ]
    },
    {
     "name": "stdout",
     "output_type": "stream",
     "text": [
      "SCORE:                                                                             \n",
      "0.7941176470588235                                                                 \n",
      " 20%|██        | 20/100 [00:21<01:16,  1.04trial/s, best loss: -0.8568627450980392]"
     ]
    },
    {
     "name": "stderr",
     "output_type": "stream",
     "text": [
      "/usr/local/lib/python3.8/site-packages/xgboost/sklearn.py:1146: UserWarning: The use of label encoder in XGBClassifier is deprecated and will be removed in a future release. To remove this warning, do the following: 1) Pass option use_label_encoder=False when constructing XGBClassifier object; and 2) Encode your labels (y) as integers starting with 0, i.e. 0, 1, 2, ..., [num_class - 1].\n",
      "  warnings.warn(label_encoder_deprecation_msg, UserWarning)\n",
      "\n"
     ]
    },
    {
     "name": "stdout",
     "output_type": "stream",
     "text": [
      "SCORE:                                                                             \n",
      "0.8058823529411765                                                                 \n",
      " 21%|██        | 21/100 [00:23<01:30,  1.15s/trial, best loss: -0.8568627450980392]"
     ]
    },
    {
     "name": "stderr",
     "output_type": "stream",
     "text": [
      "/usr/local/lib/python3.8/site-packages/xgboost/sklearn.py:1146: UserWarning: The use of label encoder in XGBClassifier is deprecated and will be removed in a future release. To remove this warning, do the following: 1) Pass option use_label_encoder=False when constructing XGBClassifier object; and 2) Encode your labels (y) as integers starting with 0, i.e. 0, 1, 2, ..., [num_class - 1].\n",
      "  warnings.warn(label_encoder_deprecation_msg, UserWarning)\n",
      "\n"
     ]
    },
    {
     "name": "stdout",
     "output_type": "stream",
     "text": [
      "SCORE:                                                                             \n",
      "0.8352941176470589                                                                 \n",
      " 22%|██▏       | 22/100 [00:25<01:43,  1.33s/trial, best loss: -0.8568627450980392]"
     ]
    },
    {
     "name": "stderr",
     "output_type": "stream",
     "text": [
      "/usr/local/lib/python3.8/site-packages/xgboost/sklearn.py:1146: UserWarning: The use of label encoder in XGBClassifier is deprecated and will be removed in a future release. To remove this warning, do the following: 1) Pass option use_label_encoder=False when constructing XGBClassifier object; and 2) Encode your labels (y) as integers starting with 0, i.e. 0, 1, 2, ..., [num_class - 1].\n",
      "  warnings.warn(label_encoder_deprecation_msg, UserWarning)\n",
      "\n"
     ]
    },
    {
     "name": "stdout",
     "output_type": "stream",
     "text": [
      "SCORE:                                                                             \n",
      "0.7941176470588235                                                                 \n",
      " 23%|██▎       | 23/100 [00:26<01:37,  1.26s/trial, best loss: -0.8568627450980392]"
     ]
    },
    {
     "name": "stderr",
     "output_type": "stream",
     "text": [
      "/usr/local/lib/python3.8/site-packages/xgboost/sklearn.py:1146: UserWarning: The use of label encoder in XGBClassifier is deprecated and will be removed in a future release. To remove this warning, do the following: 1) Pass option use_label_encoder=False when constructing XGBClassifier object; and 2) Encode your labels (y) as integers starting with 0, i.e. 0, 1, 2, ..., [num_class - 1].\n",
      "  warnings.warn(label_encoder_deprecation_msg, UserWarning)\n",
      "\n"
     ]
    },
    {
     "name": "stdout",
     "output_type": "stream",
     "text": [
      "SCORE:                                                                             \n",
      "0.8470588235294118                                                                 \n",
      " 24%|██▍       | 24/100 [00:27<01:37,  1.29s/trial, best loss: -0.8568627450980392]"
     ]
    },
    {
     "name": "stderr",
     "output_type": "stream",
     "text": [
      "/usr/local/lib/python3.8/site-packages/xgboost/sklearn.py:1146: UserWarning: The use of label encoder in XGBClassifier is deprecated and will be removed in a future release. To remove this warning, do the following: 1) Pass option use_label_encoder=False when constructing XGBClassifier object; and 2) Encode your labels (y) as integers starting with 0, i.e. 0, 1, 2, ..., [num_class - 1].\n",
      "  warnings.warn(label_encoder_deprecation_msg, UserWarning)\n",
      "\n"
     ]
    },
    {
     "name": "stdout",
     "output_type": "stream",
     "text": [
      "SCORE:                                                                             \n",
      "0.8490196078431372                                                                 \n",
      " 25%|██▌       | 25/100 [00:29<01:39,  1.33s/trial, best loss: -0.8568627450980392]"
     ]
    },
    {
     "name": "stderr",
     "output_type": "stream",
     "text": [
      "/usr/local/lib/python3.8/site-packages/xgboost/sklearn.py:1146: UserWarning: The use of label encoder in XGBClassifier is deprecated and will be removed in a future release. To remove this warning, do the following: 1) Pass option use_label_encoder=False when constructing XGBClassifier object; and 2) Encode your labels (y) as integers starting with 0, i.e. 0, 1, 2, ..., [num_class - 1].\n",
      "  warnings.warn(label_encoder_deprecation_msg, UserWarning)\n",
      "\n"
     ]
    },
    {
     "name": "stdout",
     "output_type": "stream",
     "text": [
      "SCORE:                                                                             \n",
      "0.8196078431372549                                                                 \n",
      " 26%|██▌       | 26/100 [00:30<01:32,  1.25s/trial, best loss: -0.8568627450980392]"
     ]
    },
    {
     "name": "stderr",
     "output_type": "stream",
     "text": [
      "/usr/local/lib/python3.8/site-packages/xgboost/sklearn.py:1146: UserWarning: The use of label encoder in XGBClassifier is deprecated and will be removed in a future release. To remove this warning, do the following: 1) Pass option use_label_encoder=False when constructing XGBClassifier object; and 2) Encode your labels (y) as integers starting with 0, i.e. 0, 1, 2, ..., [num_class - 1].\n",
      "  warnings.warn(label_encoder_deprecation_msg, UserWarning)\n",
      "\n"
     ]
    },
    {
     "name": "stdout",
     "output_type": "stream",
     "text": [
      "SCORE:                                                                             \n",
      "0.7254901960784313                                                                 \n",
      " 27%|██▋       | 27/100 [00:31<01:26,  1.19s/trial, best loss: -0.8568627450980392]"
     ]
    },
    {
     "name": "stderr",
     "output_type": "stream",
     "text": [
      "/usr/local/lib/python3.8/site-packages/xgboost/sklearn.py:1146: UserWarning: The use of label encoder in XGBClassifier is deprecated and will be removed in a future release. To remove this warning, do the following: 1) Pass option use_label_encoder=False when constructing XGBClassifier object; and 2) Encode your labels (y) as integers starting with 0, i.e. 0, 1, 2, ..., [num_class - 1].\n",
      "  warnings.warn(label_encoder_deprecation_msg, UserWarning)\n",
      "\n"
     ]
    },
    {
     "name": "stdout",
     "output_type": "stream",
     "text": [
      "SCORE:                                                                             \n",
      "0.7215686274509804                                                                 \n",
      " 28%|██▊       | 28/100 [00:32<01:20,  1.11s/trial, best loss: -0.8568627450980392]"
     ]
    },
    {
     "name": "stderr",
     "output_type": "stream",
     "text": [
      "/usr/local/lib/python3.8/site-packages/xgboost/sklearn.py:1146: UserWarning: The use of label encoder in XGBClassifier is deprecated and will be removed in a future release. To remove this warning, do the following: 1) Pass option use_label_encoder=False when constructing XGBClassifier object; and 2) Encode your labels (y) as integers starting with 0, i.e. 0, 1, 2, ..., [num_class - 1].\n",
      "  warnings.warn(label_encoder_deprecation_msg, UserWarning)\n",
      "\n"
     ]
    },
    {
     "name": "stdout",
     "output_type": "stream",
     "text": [
      "SCORE:                                                                             \n",
      "0.8431372549019608                                                                 \n",
      " 29%|██▉       | 29/100 [00:33<01:31,  1.28s/trial, best loss: -0.8568627450980392]"
     ]
    },
    {
     "name": "stderr",
     "output_type": "stream",
     "text": [
      "/usr/local/lib/python3.8/site-packages/xgboost/sklearn.py:1146: UserWarning: The use of label encoder in XGBClassifier is deprecated and will be removed in a future release. To remove this warning, do the following: 1) Pass option use_label_encoder=False when constructing XGBClassifier object; and 2) Encode your labels (y) as integers starting with 0, i.e. 0, 1, 2, ..., [num_class - 1].\n",
      "  warnings.warn(label_encoder_deprecation_msg, UserWarning)\n",
      "\n"
     ]
    },
    {
     "name": "stdout",
     "output_type": "stream",
     "text": [
      "SCORE:                                                                             \n",
      "0.8117647058823529                                                                 \n",
      " 30%|███       | 30/100 [00:35<01:37,  1.40s/trial, best loss: -0.8568627450980392]"
     ]
    },
    {
     "name": "stderr",
     "output_type": "stream",
     "text": [
      "/usr/local/lib/python3.8/site-packages/xgboost/sklearn.py:1146: UserWarning: The use of label encoder in XGBClassifier is deprecated and will be removed in a future release. To remove this warning, do the following: 1) Pass option use_label_encoder=False when constructing XGBClassifier object; and 2) Encode your labels (y) as integers starting with 0, i.e. 0, 1, 2, ..., [num_class - 1].\n",
      "  warnings.warn(label_encoder_deprecation_msg, UserWarning)\n",
      "\n"
     ]
    },
    {
     "name": "stdout",
     "output_type": "stream",
     "text": [
      "SCORE:                                                                             \n",
      "0.8588235294117647                                                                 \n",
      " 31%|███       | 31/100 [00:37<01:44,  1.51s/trial, best loss: -0.8588235294117647]"
     ]
    },
    {
     "name": "stderr",
     "output_type": "stream",
     "text": [
      "/usr/local/lib/python3.8/site-packages/xgboost/sklearn.py:1146: UserWarning: The use of label encoder in XGBClassifier is deprecated and will be removed in a future release. To remove this warning, do the following: 1) Pass option use_label_encoder=False when constructing XGBClassifier object; and 2) Encode your labels (y) as integers starting with 0, i.e. 0, 1, 2, ..., [num_class - 1].\n",
      "  warnings.warn(label_encoder_deprecation_msg, UserWarning)\n",
      "\n"
     ]
    },
    {
     "name": "stdout",
     "output_type": "stream",
     "text": [
      "SCORE:                                                                             \n",
      "0.8235294117647058                                                                 \n",
      " 32%|███▏      | 32/100 [00:38<01:42,  1.51s/trial, best loss: -0.8588235294117647]"
     ]
    },
    {
     "name": "stderr",
     "output_type": "stream",
     "text": [
      "/usr/local/lib/python3.8/site-packages/xgboost/sklearn.py:1146: UserWarning: The use of label encoder in XGBClassifier is deprecated and will be removed in a future release. To remove this warning, do the following: 1) Pass option use_label_encoder=False when constructing XGBClassifier object; and 2) Encode your labels (y) as integers starting with 0, i.e. 0, 1, 2, ..., [num_class - 1].\n",
      "  warnings.warn(label_encoder_deprecation_msg, UserWarning)\n",
      "\n"
     ]
    },
    {
     "name": "stdout",
     "output_type": "stream",
     "text": [
      "SCORE:                                                                             \n",
      "0.8549019607843137                                                                 \n",
      " 33%|███▎      | 33/100 [00:40<01:48,  1.62s/trial, best loss: -0.8588235294117647]"
     ]
    },
    {
     "name": "stderr",
     "output_type": "stream",
     "text": [
      "/usr/local/lib/python3.8/site-packages/xgboost/sklearn.py:1146: UserWarning: The use of label encoder in XGBClassifier is deprecated and will be removed in a future release. To remove this warning, do the following: 1) Pass option use_label_encoder=False when constructing XGBClassifier object; and 2) Encode your labels (y) as integers starting with 0, i.e. 0, 1, 2, ..., [num_class - 1].\n",
      "  warnings.warn(label_encoder_deprecation_msg, UserWarning)\n",
      "\n"
     ]
    },
    {
     "name": "stdout",
     "output_type": "stream",
     "text": [
      "SCORE:                                                                             \n",
      "0.7490196078431373                                                                 \n",
      " 34%|███▍      | 34/100 [00:42<01:41,  1.53s/trial, best loss: -0.8588235294117647]"
     ]
    },
    {
     "name": "stderr",
     "output_type": "stream",
     "text": [
      "/usr/local/lib/python3.8/site-packages/xgboost/sklearn.py:1146: UserWarning: The use of label encoder in XGBClassifier is deprecated and will be removed in a future release. To remove this warning, do the following: 1) Pass option use_label_encoder=False when constructing XGBClassifier object; and 2) Encode your labels (y) as integers starting with 0, i.e. 0, 1, 2, ..., [num_class - 1].\n",
      "  warnings.warn(label_encoder_deprecation_msg, UserWarning)\n",
      "\n"
     ]
    },
    {
     "name": "stdout",
     "output_type": "stream",
     "text": [
      "SCORE:                                                                             \n",
      "0.8098039215686275                                                                 \n",
      " 35%|███▌      | 35/100 [00:43<01:29,  1.38s/trial, best loss: -0.8588235294117647]"
     ]
    },
    {
     "name": "stderr",
     "output_type": "stream",
     "text": [
      "/usr/local/lib/python3.8/site-packages/xgboost/sklearn.py:1146: UserWarning: The use of label encoder in XGBClassifier is deprecated and will be removed in a future release. To remove this warning, do the following: 1) Pass option use_label_encoder=False when constructing XGBClassifier object; and 2) Encode your labels (y) as integers starting with 0, i.e. 0, 1, 2, ..., [num_class - 1].\n",
      "  warnings.warn(label_encoder_deprecation_msg, UserWarning)\n",
      "\n"
     ]
    },
    {
     "name": "stdout",
     "output_type": "stream",
     "text": [
      "SCORE:                                                                             \n",
      "0.8019607843137255                                                                 \n",
      " 36%|███▌      | 36/100 [00:44<01:29,  1.40s/trial, best loss: -0.8588235294117647]"
     ]
    },
    {
     "name": "stderr",
     "output_type": "stream",
     "text": [
      "/usr/local/lib/python3.8/site-packages/xgboost/sklearn.py:1146: UserWarning: The use of label encoder in XGBClassifier is deprecated and will be removed in a future release. To remove this warning, do the following: 1) Pass option use_label_encoder=False when constructing XGBClassifier object; and 2) Encode your labels (y) as integers starting with 0, i.e. 0, 1, 2, ..., [num_class - 1].\n",
      "  warnings.warn(label_encoder_deprecation_msg, UserWarning)\n",
      "\n"
     ]
    },
    {
     "name": "stdout",
     "output_type": "stream",
     "text": [
      "SCORE:                                                                             \n",
      "0.8549019607843137                                                                 \n",
      " 37%|███▋      | 37/100 [00:45<01:27,  1.39s/trial, best loss: -0.8588235294117647]"
     ]
    },
    {
     "name": "stderr",
     "output_type": "stream",
     "text": [
      "/usr/local/lib/python3.8/site-packages/xgboost/sklearn.py:1146: UserWarning: The use of label encoder in XGBClassifier is deprecated and will be removed in a future release. To remove this warning, do the following: 1) Pass option use_label_encoder=False when constructing XGBClassifier object; and 2) Encode your labels (y) as integers starting with 0, i.e. 0, 1, 2, ..., [num_class - 1].\n",
      "  warnings.warn(label_encoder_deprecation_msg, UserWarning)\n",
      "\n"
     ]
    },
    {
     "name": "stdout",
     "output_type": "stream",
     "text": [
      "SCORE:                                                                             \n",
      "0.8509803921568627                                                                 \n",
      " 38%|███▊      | 38/100 [00:47<01:30,  1.46s/trial, best loss: -0.8588235294117647]"
     ]
    },
    {
     "name": "stderr",
     "output_type": "stream",
     "text": [
      "/usr/local/lib/python3.8/site-packages/xgboost/sklearn.py:1146: UserWarning: The use of label encoder in XGBClassifier is deprecated and will be removed in a future release. To remove this warning, do the following: 1) Pass option use_label_encoder=False when constructing XGBClassifier object; and 2) Encode your labels (y) as integers starting with 0, i.e. 0, 1, 2, ..., [num_class - 1].\n",
      "  warnings.warn(label_encoder_deprecation_msg, UserWarning)\n",
      "\n"
     ]
    },
    {
     "name": "stdout",
     "output_type": "stream",
     "text": [
      "SCORE:                                                                             \n",
      "0.8450980392156863                                                                 \n",
      " 39%|███▉      | 39/100 [00:48<01:22,  1.36s/trial, best loss: -0.8588235294117647]"
     ]
    },
    {
     "name": "stderr",
     "output_type": "stream",
     "text": [
      "/usr/local/lib/python3.8/site-packages/xgboost/sklearn.py:1146: UserWarning: The use of label encoder in XGBClassifier is deprecated and will be removed in a future release. To remove this warning, do the following: 1) Pass option use_label_encoder=False when constructing XGBClassifier object; and 2) Encode your labels (y) as integers starting with 0, i.e. 0, 1, 2, ..., [num_class - 1].\n",
      "  warnings.warn(label_encoder_deprecation_msg, UserWarning)\n",
      "\n"
     ]
    },
    {
     "name": "stdout",
     "output_type": "stream",
     "text": [
      "SCORE:                                                                             \n",
      "0.8313725490196079                                                                 \n",
      " 40%|████      | 40/100 [00:49<01:18,  1.30s/trial, best loss: -0.8588235294117647]"
     ]
    },
    {
     "name": "stderr",
     "output_type": "stream",
     "text": [
      "/usr/local/lib/python3.8/site-packages/xgboost/sklearn.py:1146: UserWarning: The use of label encoder in XGBClassifier is deprecated and will be removed in a future release. To remove this warning, do the following: 1) Pass option use_label_encoder=False when constructing XGBClassifier object; and 2) Encode your labels (y) as integers starting with 0, i.e. 0, 1, 2, ..., [num_class - 1].\n",
      "  warnings.warn(label_encoder_deprecation_msg, UserWarning)\n",
      "\n"
     ]
    },
    {
     "name": "stdout",
     "output_type": "stream",
     "text": [
      "SCORE:                                                                             \n",
      "0.8215686274509804                                                                 \n",
      " 41%|████      | 41/100 [00:50<01:13,  1.25s/trial, best loss: -0.8588235294117647]"
     ]
    },
    {
     "name": "stderr",
     "output_type": "stream",
     "text": [
      "/usr/local/lib/python3.8/site-packages/xgboost/sklearn.py:1146: UserWarning: The use of label encoder in XGBClassifier is deprecated and will be removed in a future release. To remove this warning, do the following: 1) Pass option use_label_encoder=False when constructing XGBClassifier object; and 2) Encode your labels (y) as integers starting with 0, i.e. 0, 1, 2, ..., [num_class - 1].\n",
      "  warnings.warn(label_encoder_deprecation_msg, UserWarning)\n",
      "\n"
     ]
    },
    {
     "name": "stdout",
     "output_type": "stream",
     "text": [
      "SCORE:                                                                             \n",
      "0.8019607843137255                                                                 \n",
      " 42%|████▏     | 42/100 [00:52<01:13,  1.27s/trial, best loss: -0.8588235294117647]"
     ]
    },
    {
     "name": "stderr",
     "output_type": "stream",
     "text": [
      "/usr/local/lib/python3.8/site-packages/xgboost/sklearn.py:1146: UserWarning: The use of label encoder in XGBClassifier is deprecated and will be removed in a future release. To remove this warning, do the following: 1) Pass option use_label_encoder=False when constructing XGBClassifier object; and 2) Encode your labels (y) as integers starting with 0, i.e. 0, 1, 2, ..., [num_class - 1].\n",
      "  warnings.warn(label_encoder_deprecation_msg, UserWarning)\n",
      "\n"
     ]
    },
    {
     "name": "stdout",
     "output_type": "stream",
     "text": [
      "SCORE:                                                                             \n",
      "0.8431372549019608                                                                 \n",
      " 43%|████▎     | 43/100 [00:53<01:15,  1.32s/trial, best loss: -0.8588235294117647]"
     ]
    },
    {
     "name": "stderr",
     "output_type": "stream",
     "text": [
      "/usr/local/lib/python3.8/site-packages/xgboost/sklearn.py:1146: UserWarning: The use of label encoder in XGBClassifier is deprecated and will be removed in a future release. To remove this warning, do the following: 1) Pass option use_label_encoder=False when constructing XGBClassifier object; and 2) Encode your labels (y) as integers starting with 0, i.e. 0, 1, 2, ..., [num_class - 1].\n",
      "  warnings.warn(label_encoder_deprecation_msg, UserWarning)\n",
      "\n"
     ]
    },
    {
     "name": "stdout",
     "output_type": "stream",
     "text": [
      "SCORE:                                                                             \n",
      "0.7745098039215687                                                                 \n",
      " 44%|████▍     | 44/100 [00:54<01:10,  1.26s/trial, best loss: -0.8588235294117647]"
     ]
    },
    {
     "name": "stderr",
     "output_type": "stream",
     "text": [
      "/usr/local/lib/python3.8/site-packages/xgboost/sklearn.py:1146: UserWarning: The use of label encoder in XGBClassifier is deprecated and will be removed in a future release. To remove this warning, do the following: 1) Pass option use_label_encoder=False when constructing XGBClassifier object; and 2) Encode your labels (y) as integers starting with 0, i.e. 0, 1, 2, ..., [num_class - 1].\n",
      "  warnings.warn(label_encoder_deprecation_msg, UserWarning)\n",
      "\n"
     ]
    },
    {
     "name": "stdout",
     "output_type": "stream",
     "text": [
      "SCORE:                                                                             \n",
      "0.7705882352941177                                                                 \n",
      " 45%|████▌     | 45/100 [00:55<01:06,  1.21s/trial, best loss: -0.8588235294117647]"
     ]
    },
    {
     "name": "stderr",
     "output_type": "stream",
     "text": [
      "/usr/local/lib/python3.8/site-packages/xgboost/sklearn.py:1146: UserWarning: The use of label encoder in XGBClassifier is deprecated and will be removed in a future release. To remove this warning, do the following: 1) Pass option use_label_encoder=False when constructing XGBClassifier object; and 2) Encode your labels (y) as integers starting with 0, i.e. 0, 1, 2, ..., [num_class - 1].\n",
      "  warnings.warn(label_encoder_deprecation_msg, UserWarning)\n",
      "\n"
     ]
    },
    {
     "name": "stdout",
     "output_type": "stream",
     "text": [
      "SCORE:                                                                             \n",
      "0.7549019607843137                                                                 \n",
      " 46%|████▌     | 46/100 [00:57<01:06,  1.23s/trial, best loss: -0.8588235294117647]"
     ]
    },
    {
     "name": "stderr",
     "output_type": "stream",
     "text": [
      "/usr/local/lib/python3.8/site-packages/xgboost/sklearn.py:1146: UserWarning: The use of label encoder in XGBClassifier is deprecated and will be removed in a future release. To remove this warning, do the following: 1) Pass option use_label_encoder=False when constructing XGBClassifier object; and 2) Encode your labels (y) as integers starting with 0, i.e. 0, 1, 2, ..., [num_class - 1].\n",
      "  warnings.warn(label_encoder_deprecation_msg, UserWarning)\n",
      "\n"
     ]
    },
    {
     "name": "stdout",
     "output_type": "stream",
     "text": [
      "SCORE:                                                                             \n",
      "0.8372549019607843                                                                 \n",
      " 47%|████▋     | 47/100 [00:58<01:08,  1.29s/trial, best loss: -0.8588235294117647]"
     ]
    },
    {
     "name": "stderr",
     "output_type": "stream",
     "text": [
      "/usr/local/lib/python3.8/site-packages/xgboost/sklearn.py:1146: UserWarning: The use of label encoder in XGBClassifier is deprecated and will be removed in a future release. To remove this warning, do the following: 1) Pass option use_label_encoder=False when constructing XGBClassifier object; and 2) Encode your labels (y) as integers starting with 0, i.e. 0, 1, 2, ..., [num_class - 1].\n",
      "  warnings.warn(label_encoder_deprecation_msg, UserWarning)\n",
      "\n"
     ]
    },
    {
     "name": "stdout",
     "output_type": "stream",
     "text": [
      "SCORE:                                                                             \n",
      "0.7941176470588235                                                                 \n",
      " 48%|████▊     | 48/100 [00:59<01:01,  1.18s/trial, best loss: -0.8588235294117647]"
     ]
    },
    {
     "name": "stderr",
     "output_type": "stream",
     "text": [
      "/usr/local/lib/python3.8/site-packages/xgboost/sklearn.py:1146: UserWarning: The use of label encoder in XGBClassifier is deprecated and will be removed in a future release. To remove this warning, do the following: 1) Pass option use_label_encoder=False when constructing XGBClassifier object; and 2) Encode your labels (y) as integers starting with 0, i.e. 0, 1, 2, ..., [num_class - 1].\n",
      "  warnings.warn(label_encoder_deprecation_msg, UserWarning)\n",
      "\n"
     ]
    },
    {
     "name": "stdout",
     "output_type": "stream",
     "text": [
      "SCORE:                                                                             \n",
      "0.8549019607843137                                                                 \n",
      " 49%|████▉     | 49/100 [01:00<01:01,  1.21s/trial, best loss: -0.8588235294117647]"
     ]
    },
    {
     "name": "stderr",
     "output_type": "stream",
     "text": [
      "/usr/local/lib/python3.8/site-packages/xgboost/sklearn.py:1146: UserWarning: The use of label encoder in XGBClassifier is deprecated and will be removed in a future release. To remove this warning, do the following: 1) Pass option use_label_encoder=False when constructing XGBClassifier object; and 2) Encode your labels (y) as integers starting with 0, i.e. 0, 1, 2, ..., [num_class - 1].\n",
      "  warnings.warn(label_encoder_deprecation_msg, UserWarning)\n",
      "\n"
     ]
    },
    {
     "name": "stdout",
     "output_type": "stream",
     "text": [
      "SCORE:                                                                             \n",
      "0.7313725490196078                                                                 \n",
      " 50%|█████     | 50/100 [01:01<00:57,  1.16s/trial, best loss: -0.8588235294117647]"
     ]
    },
    {
     "name": "stderr",
     "output_type": "stream",
     "text": [
      "/usr/local/lib/python3.8/site-packages/xgboost/sklearn.py:1146: UserWarning: The use of label encoder in XGBClassifier is deprecated and will be removed in a future release. To remove this warning, do the following: 1) Pass option use_label_encoder=False when constructing XGBClassifier object; and 2) Encode your labels (y) as integers starting with 0, i.e. 0, 1, 2, ..., [num_class - 1].\n",
      "  warnings.warn(label_encoder_deprecation_msg, UserWarning)\n",
      "\n"
     ]
    },
    {
     "name": "stdout",
     "output_type": "stream",
     "text": [
      "SCORE:                                                                             \n",
      "0.8058823529411765                                                                 \n",
      " 51%|█████     | 51/100 [01:03<00:59,  1.20s/trial, best loss: -0.8588235294117647]"
     ]
    },
    {
     "name": "stderr",
     "output_type": "stream",
     "text": [
      "/usr/local/lib/python3.8/site-packages/xgboost/sklearn.py:1146: UserWarning: The use of label encoder in XGBClassifier is deprecated and will be removed in a future release. To remove this warning, do the following: 1) Pass option use_label_encoder=False when constructing XGBClassifier object; and 2) Encode your labels (y) as integers starting with 0, i.e. 0, 1, 2, ..., [num_class - 1].\n",
      "  warnings.warn(label_encoder_deprecation_msg, UserWarning)\n",
      "\n"
     ]
    },
    {
     "name": "stdout",
     "output_type": "stream",
     "text": [
      "SCORE:                                                                             \n",
      "0.8686274509803922                                                                 \n",
      " 52%|█████▏    | 52/100 [01:05<01:07,  1.40s/trial, best loss: -0.8686274509803922]"
     ]
    },
    {
     "name": "stderr",
     "output_type": "stream",
     "text": [
      "/usr/local/lib/python3.8/site-packages/xgboost/sklearn.py:1146: UserWarning: The use of label encoder in XGBClassifier is deprecated and will be removed in a future release. To remove this warning, do the following: 1) Pass option use_label_encoder=False when constructing XGBClassifier object; and 2) Encode your labels (y) as integers starting with 0, i.e. 0, 1, 2, ..., [num_class - 1].\n",
      "  warnings.warn(label_encoder_deprecation_msg, UserWarning)\n",
      "\n"
     ]
    },
    {
     "name": "stdout",
     "output_type": "stream",
     "text": [
      "SCORE:                                                                             \n",
      "0.8470588235294118                                                                 \n",
      " 53%|█████▎    | 53/100 [01:06<01:02,  1.33s/trial, best loss: -0.8686274509803922]"
     ]
    },
    {
     "name": "stderr",
     "output_type": "stream",
     "text": [
      "/usr/local/lib/python3.8/site-packages/xgboost/sklearn.py:1146: UserWarning: The use of label encoder in XGBClassifier is deprecated and will be removed in a future release. To remove this warning, do the following: 1) Pass option use_label_encoder=False when constructing XGBClassifier object; and 2) Encode your labels (y) as integers starting with 0, i.e. 0, 1, 2, ..., [num_class - 1].\n",
      "  warnings.warn(label_encoder_deprecation_msg, UserWarning)\n",
      "\n"
     ]
    },
    {
     "name": "stdout",
     "output_type": "stream",
     "text": [
      "SCORE:                                                                             \n",
      "0.8431372549019608                                                                 \n",
      " 54%|█████▍    | 54/100 [01:07<01:05,  1.42s/trial, best loss: -0.8686274509803922]"
     ]
    },
    {
     "name": "stderr",
     "output_type": "stream",
     "text": [
      "/usr/local/lib/python3.8/site-packages/xgboost/sklearn.py:1146: UserWarning: The use of label encoder in XGBClassifier is deprecated and will be removed in a future release. To remove this warning, do the following: 1) Pass option use_label_encoder=False when constructing XGBClassifier object; and 2) Encode your labels (y) as integers starting with 0, i.e. 0, 1, 2, ..., [num_class - 1].\n",
      "  warnings.warn(label_encoder_deprecation_msg, UserWarning)\n",
      "\n"
     ]
    },
    {
     "name": "stdout",
     "output_type": "stream",
     "text": [
      "SCORE:                                                                             \n",
      "0.8431372549019608                                                                 \n",
      " 55%|█████▌    | 55/100 [01:09<01:05,  1.46s/trial, best loss: -0.8686274509803922]"
     ]
    },
    {
     "name": "stderr",
     "output_type": "stream",
     "text": [
      "/usr/local/lib/python3.8/site-packages/xgboost/sklearn.py:1146: UserWarning: The use of label encoder in XGBClassifier is deprecated and will be removed in a future release. To remove this warning, do the following: 1) Pass option use_label_encoder=False when constructing XGBClassifier object; and 2) Encode your labels (y) as integers starting with 0, i.e. 0, 1, 2, ..., [num_class - 1].\n",
      "  warnings.warn(label_encoder_deprecation_msg, UserWarning)\n",
      "\n"
     ]
    },
    {
     "name": "stdout",
     "output_type": "stream",
     "text": [
      "SCORE:                                                                             \n",
      "0.8196078431372549                                                                 \n",
      " 56%|█████▌    | 56/100 [01:10<00:59,  1.35s/trial, best loss: -0.8686274509803922]"
     ]
    },
    {
     "name": "stderr",
     "output_type": "stream",
     "text": [
      "/usr/local/lib/python3.8/site-packages/xgboost/sklearn.py:1146: UserWarning: The use of label encoder in XGBClassifier is deprecated and will be removed in a future release. To remove this warning, do the following: 1) Pass option use_label_encoder=False when constructing XGBClassifier object; and 2) Encode your labels (y) as integers starting with 0, i.e. 0, 1, 2, ..., [num_class - 1].\n",
      "  warnings.warn(label_encoder_deprecation_msg, UserWarning)\n",
      "\n"
     ]
    },
    {
     "name": "stdout",
     "output_type": "stream",
     "text": [
      "SCORE:                                                                             \n",
      "0.8176470588235294                                                                 \n",
      " 57%|█████▋    | 57/100 [01:11<00:55,  1.30s/trial, best loss: -0.8686274509803922]"
     ]
    },
    {
     "name": "stderr",
     "output_type": "stream",
     "text": [
      "/usr/local/lib/python3.8/site-packages/xgboost/sklearn.py:1146: UserWarning: The use of label encoder in XGBClassifier is deprecated and will be removed in a future release. To remove this warning, do the following: 1) Pass option use_label_encoder=False when constructing XGBClassifier object; and 2) Encode your labels (y) as integers starting with 0, i.e. 0, 1, 2, ..., [num_class - 1].\n",
      "  warnings.warn(label_encoder_deprecation_msg, UserWarning)\n",
      "\n"
     ]
    },
    {
     "name": "stdout",
     "output_type": "stream",
     "text": [
      "SCORE:                                                                             \n",
      "0.8392156862745098                                                                 \n",
      " 58%|█████▊    | 58/100 [01:13<00:57,  1.38s/trial, best loss: -0.8686274509803922]"
     ]
    },
    {
     "name": "stderr",
     "output_type": "stream",
     "text": [
      "/usr/local/lib/python3.8/site-packages/xgboost/sklearn.py:1146: UserWarning: The use of label encoder in XGBClassifier is deprecated and will be removed in a future release. To remove this warning, do the following: 1) Pass option use_label_encoder=False when constructing XGBClassifier object; and 2) Encode your labels (y) as integers starting with 0, i.e. 0, 1, 2, ..., [num_class - 1].\n",
      "  warnings.warn(label_encoder_deprecation_msg, UserWarning)\n",
      "\n"
     ]
    },
    {
     "name": "stdout",
     "output_type": "stream",
     "text": [
      "SCORE:                                                                             \n",
      "0.7803921568627451                                                                 \n",
      " 59%|█████▉    | 59/100 [01:15<01:02,  1.51s/trial, best loss: -0.8686274509803922]"
     ]
    },
    {
     "name": "stderr",
     "output_type": "stream",
     "text": [
      "/usr/local/lib/python3.8/site-packages/xgboost/sklearn.py:1146: UserWarning: The use of label encoder in XGBClassifier is deprecated and will be removed in a future release. To remove this warning, do the following: 1) Pass option use_label_encoder=False when constructing XGBClassifier object; and 2) Encode your labels (y) as integers starting with 0, i.e. 0, 1, 2, ..., [num_class - 1].\n",
      "  warnings.warn(label_encoder_deprecation_msg, UserWarning)\n",
      "\n"
     ]
    },
    {
     "name": "stdout",
     "output_type": "stream",
     "text": [
      "SCORE:                                                                             \n",
      "0.7686274509803922                                                                 \n",
      " 60%|██████    | 60/100 [01:16<01:00,  1.52s/trial, best loss: -0.8686274509803922]"
     ]
    },
    {
     "name": "stderr",
     "output_type": "stream",
     "text": [
      "/usr/local/lib/python3.8/site-packages/xgboost/sklearn.py:1146: UserWarning: The use of label encoder in XGBClassifier is deprecated and will be removed in a future release. To remove this warning, do the following: 1) Pass option use_label_encoder=False when constructing XGBClassifier object; and 2) Encode your labels (y) as integers starting with 0, i.e. 0, 1, 2, ..., [num_class - 1].\n",
      "  warnings.warn(label_encoder_deprecation_msg, UserWarning)\n",
      "\n"
     ]
    },
    {
     "name": "stdout",
     "output_type": "stream",
     "text": [
      "SCORE:                                                                             \n",
      "0.8215686274509804                                                                 \n",
      " 61%|██████    | 61/100 [01:18<01:05,  1.67s/trial, best loss: -0.8686274509803922]"
     ]
    },
    {
     "name": "stderr",
     "output_type": "stream",
     "text": [
      "/usr/local/lib/python3.8/site-packages/xgboost/sklearn.py:1146: UserWarning: The use of label encoder in XGBClassifier is deprecated and will be removed in a future release. To remove this warning, do the following: 1) Pass option use_label_encoder=False when constructing XGBClassifier object; and 2) Encode your labels (y) as integers starting with 0, i.e. 0, 1, 2, ..., [num_class - 1].\n",
      "  warnings.warn(label_encoder_deprecation_msg, UserWarning)\n",
      "\n"
     ]
    },
    {
     "name": "stdout",
     "output_type": "stream",
     "text": [
      "SCORE:                                                                             \n",
      "0.8490196078431372                                                                 \n",
      " 62%|██████▏   | 62/100 [01:19<00:59,  1.57s/trial, best loss: -0.8686274509803922]"
     ]
    },
    {
     "name": "stderr",
     "output_type": "stream",
     "text": [
      "/usr/local/lib/python3.8/site-packages/xgboost/sklearn.py:1146: UserWarning: The use of label encoder in XGBClassifier is deprecated and will be removed in a future release. To remove this warning, do the following: 1) Pass option use_label_encoder=False when constructing XGBClassifier object; and 2) Encode your labels (y) as integers starting with 0, i.e. 0, 1, 2, ..., [num_class - 1].\n",
      "  warnings.warn(label_encoder_deprecation_msg, UserWarning)\n",
      "\n"
     ]
    },
    {
     "name": "stdout",
     "output_type": "stream",
     "text": [
      "SCORE:                                                                             \n",
      "0.8235294117647058                                                                 \n",
      " 63%|██████▎   | 63/100 [01:20<00:51,  1.40s/trial, best loss: -0.8686274509803922]"
     ]
    },
    {
     "name": "stderr",
     "output_type": "stream",
     "text": [
      "/usr/local/lib/python3.8/site-packages/xgboost/sklearn.py:1146: UserWarning: The use of label encoder in XGBClassifier is deprecated and will be removed in a future release. To remove this warning, do the following: 1) Pass option use_label_encoder=False when constructing XGBClassifier object; and 2) Encode your labels (y) as integers starting with 0, i.e. 0, 1, 2, ..., [num_class - 1].\n",
      "  warnings.warn(label_encoder_deprecation_msg, UserWarning)\n",
      "\n"
     ]
    },
    {
     "name": "stdout",
     "output_type": "stream",
     "text": [
      "SCORE:                                                                             \n",
      "0.8098039215686275                                                                 \n",
      " 64%|██████▍   | 64/100 [01:22<00:52,  1.46s/trial, best loss: -0.8686274509803922]"
     ]
    },
    {
     "name": "stderr",
     "output_type": "stream",
     "text": [
      "/usr/local/lib/python3.8/site-packages/xgboost/sklearn.py:1146: UserWarning: The use of label encoder in XGBClassifier is deprecated and will be removed in a future release. To remove this warning, do the following: 1) Pass option use_label_encoder=False when constructing XGBClassifier object; and 2) Encode your labels (y) as integers starting with 0, i.e. 0, 1, 2, ..., [num_class - 1].\n",
      "  warnings.warn(label_encoder_deprecation_msg, UserWarning)\n",
      "\n"
     ]
    },
    {
     "name": "stdout",
     "output_type": "stream",
     "text": [
      "SCORE:                                                                             \n",
      "0.8156862745098039                                                                 \n",
      " 65%|██████▌   | 65/100 [01:23<00:50,  1.43s/trial, best loss: -0.8686274509803922]"
     ]
    },
    {
     "name": "stderr",
     "output_type": "stream",
     "text": [
      "/usr/local/lib/python3.8/site-packages/xgboost/sklearn.py:1146: UserWarning: The use of label encoder in XGBClassifier is deprecated and will be removed in a future release. To remove this warning, do the following: 1) Pass option use_label_encoder=False when constructing XGBClassifier object; and 2) Encode your labels (y) as integers starting with 0, i.e. 0, 1, 2, ..., [num_class - 1].\n",
      "  warnings.warn(label_encoder_deprecation_msg, UserWarning)\n",
      "\n"
     ]
    },
    {
     "name": "stdout",
     "output_type": "stream",
     "text": [
      "SCORE:                                                                             \n",
      "0.8529411764705882                                                                 \n",
      " 66%|██████▌   | 66/100 [01:25<00:53,  1.59s/trial, best loss: -0.8686274509803922]"
     ]
    },
    {
     "name": "stderr",
     "output_type": "stream",
     "text": [
      "/usr/local/lib/python3.8/site-packages/xgboost/sklearn.py:1146: UserWarning: The use of label encoder in XGBClassifier is deprecated and will be removed in a future release. To remove this warning, do the following: 1) Pass option use_label_encoder=False when constructing XGBClassifier object; and 2) Encode your labels (y) as integers starting with 0, i.e. 0, 1, 2, ..., [num_class - 1].\n",
      "  warnings.warn(label_encoder_deprecation_msg, UserWarning)\n",
      "\n"
     ]
    },
    {
     "name": "stdout",
     "output_type": "stream",
     "text": [
      "SCORE:                                                                             \n",
      "0.8470588235294118                                                                 \n",
      " 67%|██████▋   | 67/100 [01:28<00:59,  1.80s/trial, best loss: -0.8686274509803922]"
     ]
    },
    {
     "name": "stderr",
     "output_type": "stream",
     "text": [
      "/usr/local/lib/python3.8/site-packages/xgboost/sklearn.py:1146: UserWarning: The use of label encoder in XGBClassifier is deprecated and will be removed in a future release. To remove this warning, do the following: 1) Pass option use_label_encoder=False when constructing XGBClassifier object; and 2) Encode your labels (y) as integers starting with 0, i.e. 0, 1, 2, ..., [num_class - 1].\n",
      "  warnings.warn(label_encoder_deprecation_msg, UserWarning)\n",
      "\n"
     ]
    },
    {
     "name": "stdout",
     "output_type": "stream",
     "text": [
      "SCORE:                                                                             \n",
      "0.8176470588235294                                                                 \n",
      " 68%|██████▊   | 68/100 [01:30<01:01,  1.93s/trial, best loss: -0.8686274509803922]"
     ]
    },
    {
     "name": "stderr",
     "output_type": "stream",
     "text": [
      "/usr/local/lib/python3.8/site-packages/xgboost/sklearn.py:1146: UserWarning: The use of label encoder in XGBClassifier is deprecated and will be removed in a future release. To remove this warning, do the following: 1) Pass option use_label_encoder=False when constructing XGBClassifier object; and 2) Encode your labels (y) as integers starting with 0, i.e. 0, 1, 2, ..., [num_class - 1].\n",
      "  warnings.warn(label_encoder_deprecation_msg, UserWarning)\n",
      "\n"
     ]
    },
    {
     "name": "stdout",
     "output_type": "stream",
     "text": [
      "SCORE:                                                                             \n",
      "0.8372549019607843                                                                 \n",
      " 69%|██████▉   | 69/100 [01:32<01:00,  1.94s/trial, best loss: -0.8686274509803922]"
     ]
    },
    {
     "name": "stderr",
     "output_type": "stream",
     "text": [
      "/usr/local/lib/python3.8/site-packages/xgboost/sklearn.py:1146: UserWarning: The use of label encoder in XGBClassifier is deprecated and will be removed in a future release. To remove this warning, do the following: 1) Pass option use_label_encoder=False when constructing XGBClassifier object; and 2) Encode your labels (y) as integers starting with 0, i.e. 0, 1, 2, ..., [num_class - 1].\n",
      "  warnings.warn(label_encoder_deprecation_msg, UserWarning)\n",
      "\n"
     ]
    },
    {
     "name": "stdout",
     "output_type": "stream",
     "text": [
      "SCORE:                                                                             \n",
      "0.8490196078431372                                                                 \n",
      " 70%|███████   | 70/100 [01:34<00:57,  1.90s/trial, best loss: -0.8686274509803922]"
     ]
    },
    {
     "name": "stderr",
     "output_type": "stream",
     "text": [
      "/usr/local/lib/python3.8/site-packages/xgboost/sklearn.py:1146: UserWarning: The use of label encoder in XGBClassifier is deprecated and will be removed in a future release. To remove this warning, do the following: 1) Pass option use_label_encoder=False when constructing XGBClassifier object; and 2) Encode your labels (y) as integers starting with 0, i.e. 0, 1, 2, ..., [num_class - 1].\n",
      "  warnings.warn(label_encoder_deprecation_msg, UserWarning)\n",
      "\n"
     ]
    },
    {
     "name": "stdout",
     "output_type": "stream",
     "text": [
      "SCORE:                                                                             \n",
      "0.8627450980392157                                                                 \n",
      " 71%|███████   | 71/100 [01:36<00:54,  1.89s/trial, best loss: -0.8686274509803922]"
     ]
    },
    {
     "name": "stderr",
     "output_type": "stream",
     "text": [
      "/usr/local/lib/python3.8/site-packages/xgboost/sklearn.py:1146: UserWarning: The use of label encoder in XGBClassifier is deprecated and will be removed in a future release. To remove this warning, do the following: 1) Pass option use_label_encoder=False when constructing XGBClassifier object; and 2) Encode your labels (y) as integers starting with 0, i.e. 0, 1, 2, ..., [num_class - 1].\n",
      "  warnings.warn(label_encoder_deprecation_msg, UserWarning)\n",
      "\n"
     ]
    },
    {
     "name": "stdout",
     "output_type": "stream",
     "text": [
      "SCORE:                                                                             \n",
      "0.8333333333333334                                                                 \n",
      " 72%|███████▏  | 72/100 [01:37<00:49,  1.77s/trial, best loss: -0.8686274509803922]"
     ]
    },
    {
     "name": "stderr",
     "output_type": "stream",
     "text": [
      "/usr/local/lib/python3.8/site-packages/xgboost/sklearn.py:1146: UserWarning: The use of label encoder in XGBClassifier is deprecated and will be removed in a future release. To remove this warning, do the following: 1) Pass option use_label_encoder=False when constructing XGBClassifier object; and 2) Encode your labels (y) as integers starting with 0, i.e. 0, 1, 2, ..., [num_class - 1].\n",
      "  warnings.warn(label_encoder_deprecation_msg, UserWarning)\n",
      "\n"
     ]
    },
    {
     "name": "stdout",
     "output_type": "stream",
     "text": [
      "SCORE:                                                                             \n",
      "0.8274509803921568                                                                 \n",
      " 73%|███████▎  | 73/100 [01:38<00:45,  1.68s/trial, best loss: -0.8686274509803922]"
     ]
    },
    {
     "name": "stderr",
     "output_type": "stream",
     "text": [
      "/usr/local/lib/python3.8/site-packages/xgboost/sklearn.py:1146: UserWarning: The use of label encoder in XGBClassifier is deprecated and will be removed in a future release. To remove this warning, do the following: 1) Pass option use_label_encoder=False when constructing XGBClassifier object; and 2) Encode your labels (y) as integers starting with 0, i.e. 0, 1, 2, ..., [num_class - 1].\n",
      "  warnings.warn(label_encoder_deprecation_msg, UserWarning)\n",
      "\n"
     ]
    },
    {
     "name": "stdout",
     "output_type": "stream",
     "text": [
      "SCORE:                                                                             \n",
      "0.8431372549019608                                                                 \n",
      " 74%|███████▍  | 74/100 [01:40<00:43,  1.66s/trial, best loss: -0.8686274509803922]"
     ]
    },
    {
     "name": "stderr",
     "output_type": "stream",
     "text": [
      "/usr/local/lib/python3.8/site-packages/xgboost/sklearn.py:1146: UserWarning: The use of label encoder in XGBClassifier is deprecated and will be removed in a future release. To remove this warning, do the following: 1) Pass option use_label_encoder=False when constructing XGBClassifier object; and 2) Encode your labels (y) as integers starting with 0, i.e. 0, 1, 2, ..., [num_class - 1].\n",
      "  warnings.warn(label_encoder_deprecation_msg, UserWarning)\n",
      "\n"
     ]
    },
    {
     "name": "stdout",
     "output_type": "stream",
     "text": [
      "SCORE:                                                                             \n",
      "0.8607843137254902                                                                 \n",
      " 75%|███████▌  | 75/100 [01:42<00:41,  1.68s/trial, best loss: -0.8686274509803922]"
     ]
    },
    {
     "name": "stderr",
     "output_type": "stream",
     "text": [
      "/usr/local/lib/python3.8/site-packages/xgboost/sklearn.py:1146: UserWarning: The use of label encoder in XGBClassifier is deprecated and will be removed in a future release. To remove this warning, do the following: 1) Pass option use_label_encoder=False when constructing XGBClassifier object; and 2) Encode your labels (y) as integers starting with 0, i.e. 0, 1, 2, ..., [num_class - 1].\n",
      "  warnings.warn(label_encoder_deprecation_msg, UserWarning)\n",
      "\n"
     ]
    },
    {
     "name": "stdout",
     "output_type": "stream",
     "text": [
      "SCORE:                                                                             \n",
      "0.8470588235294118                                                                 \n",
      " 76%|███████▌  | 76/100 [01:44<00:41,  1.73s/trial, best loss: -0.8686274509803922]"
     ]
    },
    {
     "name": "stderr",
     "output_type": "stream",
     "text": [
      "/usr/local/lib/python3.8/site-packages/xgboost/sklearn.py:1146: UserWarning: The use of label encoder in XGBClassifier is deprecated and will be removed in a future release. To remove this warning, do the following: 1) Pass option use_label_encoder=False when constructing XGBClassifier object; and 2) Encode your labels (y) as integers starting with 0, i.e. 0, 1, 2, ..., [num_class - 1].\n",
      "  warnings.warn(label_encoder_deprecation_msg, UserWarning)\n",
      "\n"
     ]
    },
    {
     "name": "stdout",
     "output_type": "stream",
     "text": [
      "SCORE:                                                                             \n",
      "0.8019607843137255                                                                 \n",
      " 77%|███████▋  | 77/100 [01:45<00:36,  1.58s/trial, best loss: -0.8686274509803922]"
     ]
    },
    {
     "name": "stderr",
     "output_type": "stream",
     "text": [
      "/usr/local/lib/python3.8/site-packages/xgboost/sklearn.py:1146: UserWarning: The use of label encoder in XGBClassifier is deprecated and will be removed in a future release. To remove this warning, do the following: 1) Pass option use_label_encoder=False when constructing XGBClassifier object; and 2) Encode your labels (y) as integers starting with 0, i.e. 0, 1, 2, ..., [num_class - 1].\n",
      "  warnings.warn(label_encoder_deprecation_msg, UserWarning)\n",
      "\n"
     ]
    },
    {
     "name": "stdout",
     "output_type": "stream",
     "text": [
      "SCORE:                                                                             \n",
      "0.7509803921568627                                                                 \n",
      " 78%|███████▊  | 78/100 [01:46<00:31,  1.43s/trial, best loss: -0.8686274509803922]"
     ]
    },
    {
     "name": "stderr",
     "output_type": "stream",
     "text": [
      "/usr/local/lib/python3.8/site-packages/xgboost/sklearn.py:1146: UserWarning: The use of label encoder in XGBClassifier is deprecated and will be removed in a future release. To remove this warning, do the following: 1) Pass option use_label_encoder=False when constructing XGBClassifier object; and 2) Encode your labels (y) as integers starting with 0, i.e. 0, 1, 2, ..., [num_class - 1].\n",
      "  warnings.warn(label_encoder_deprecation_msg, UserWarning)\n",
      "\n"
     ]
    },
    {
     "name": "stdout",
     "output_type": "stream",
     "text": [
      "SCORE:                                                                             \n",
      "0.7843137254901961                                                                 \n",
      " 79%|███████▉  | 79/100 [01:47<00:27,  1.30s/trial, best loss: -0.8686274509803922]"
     ]
    },
    {
     "name": "stderr",
     "output_type": "stream",
     "text": [
      "/usr/local/lib/python3.8/site-packages/xgboost/sklearn.py:1146: UserWarning: The use of label encoder in XGBClassifier is deprecated and will be removed in a future release. To remove this warning, do the following: 1) Pass option use_label_encoder=False when constructing XGBClassifier object; and 2) Encode your labels (y) as integers starting with 0, i.e. 0, 1, 2, ..., [num_class - 1].\n",
      "  warnings.warn(label_encoder_deprecation_msg, UserWarning)\n",
      "\n"
     ]
    },
    {
     "name": "stdout",
     "output_type": "stream",
     "text": [
      "SCORE:                                                                             \n",
      "0.8411764705882353                                                                 \n",
      " 80%|████████  | 80/100 [01:48<00:26,  1.31s/trial, best loss: -0.8686274509803922]"
     ]
    },
    {
     "name": "stderr",
     "output_type": "stream",
     "text": [
      "/usr/local/lib/python3.8/site-packages/xgboost/sklearn.py:1146: UserWarning: The use of label encoder in XGBClassifier is deprecated and will be removed in a future release. To remove this warning, do the following: 1) Pass option use_label_encoder=False when constructing XGBClassifier object; and 2) Encode your labels (y) as integers starting with 0, i.e. 0, 1, 2, ..., [num_class - 1].\n",
      "  warnings.warn(label_encoder_deprecation_msg, UserWarning)\n",
      "\n"
     ]
    },
    {
     "name": "stdout",
     "output_type": "stream",
     "text": [
      "SCORE:                                                                             \n",
      "0.8                                                                                \n",
      " 81%|████████  | 81/100 [01:49<00:23,  1.22s/trial, best loss: -0.8686274509803922]"
     ]
    },
    {
     "name": "stderr",
     "output_type": "stream",
     "text": [
      "/usr/local/lib/python3.8/site-packages/xgboost/sklearn.py:1146: UserWarning: The use of label encoder in XGBClassifier is deprecated and will be removed in a future release. To remove this warning, do the following: 1) Pass option use_label_encoder=False when constructing XGBClassifier object; and 2) Encode your labels (y) as integers starting with 0, i.e. 0, 1, 2, ..., [num_class - 1].\n",
      "  warnings.warn(label_encoder_deprecation_msg, UserWarning)\n",
      "\n"
     ]
    },
    {
     "name": "stdout",
     "output_type": "stream",
     "text": [
      "SCORE:                                                                             \n",
      "0.8568627450980392                                                                 \n",
      " 82%|████████▏ | 82/100 [01:51<00:23,  1.29s/trial, best loss: -0.8686274509803922]"
     ]
    },
    {
     "name": "stderr",
     "output_type": "stream",
     "text": [
      "/usr/local/lib/python3.8/site-packages/xgboost/sklearn.py:1146: UserWarning: The use of label encoder in XGBClassifier is deprecated and will be removed in a future release. To remove this warning, do the following: 1) Pass option use_label_encoder=False when constructing XGBClassifier object; and 2) Encode your labels (y) as integers starting with 0, i.e. 0, 1, 2, ..., [num_class - 1].\n",
      "  warnings.warn(label_encoder_deprecation_msg, UserWarning)\n",
      "\n"
     ]
    },
    {
     "name": "stdout",
     "output_type": "stream",
     "text": [
      "SCORE:                                                                             \n",
      "0.8274509803921568                                                                 \n",
      " 83%|████████▎ | 83/100 [01:52<00:23,  1.38s/trial, best loss: -0.8686274509803922]"
     ]
    },
    {
     "name": "stderr",
     "output_type": "stream",
     "text": [
      "/usr/local/lib/python3.8/site-packages/xgboost/sklearn.py:1146: UserWarning: The use of label encoder in XGBClassifier is deprecated and will be removed in a future release. To remove this warning, do the following: 1) Pass option use_label_encoder=False when constructing XGBClassifier object; and 2) Encode your labels (y) as integers starting with 0, i.e. 0, 1, 2, ..., [num_class - 1].\n",
      "  warnings.warn(label_encoder_deprecation_msg, UserWarning)\n",
      "\n"
     ]
    },
    {
     "name": "stdout",
     "output_type": "stream",
     "text": [
      "SCORE:                                                                             \n",
      "0.8215686274509804                                                                 \n",
      " 84%|████████▍ | 84/100 [01:53<00:20,  1.27s/trial, best loss: -0.8686274509803922]"
     ]
    },
    {
     "name": "stderr",
     "output_type": "stream",
     "text": [
      "/usr/local/lib/python3.8/site-packages/xgboost/sklearn.py:1146: UserWarning: The use of label encoder in XGBClassifier is deprecated and will be removed in a future release. To remove this warning, do the following: 1) Pass option use_label_encoder=False when constructing XGBClassifier object; and 2) Encode your labels (y) as integers starting with 0, i.e. 0, 1, 2, ..., [num_class - 1].\n",
      "  warnings.warn(label_encoder_deprecation_msg, UserWarning)\n",
      "\n"
     ]
    },
    {
     "name": "stdout",
     "output_type": "stream",
     "text": [
      "SCORE:                                                                             \n",
      "0.8392156862745098                                                                 \n",
      " 85%|████████▌ | 85/100 [01:55<00:19,  1.30s/trial, best loss: -0.8686274509803922]"
     ]
    },
    {
     "name": "stderr",
     "output_type": "stream",
     "text": [
      "/usr/local/lib/python3.8/site-packages/xgboost/sklearn.py:1146: UserWarning: The use of label encoder in XGBClassifier is deprecated and will be removed in a future release. To remove this warning, do the following: 1) Pass option use_label_encoder=False when constructing XGBClassifier object; and 2) Encode your labels (y) as integers starting with 0, i.e. 0, 1, 2, ..., [num_class - 1].\n",
      "  warnings.warn(label_encoder_deprecation_msg, UserWarning)\n",
      "\n"
     ]
    },
    {
     "name": "stdout",
     "output_type": "stream",
     "text": [
      "SCORE:                                                                             \n",
      "0.7823529411764706                                                                 \n",
      " 86%|████████▌ | 86/100 [01:56<00:17,  1.24s/trial, best loss: -0.8686274509803922]"
     ]
    },
    {
     "name": "stderr",
     "output_type": "stream",
     "text": [
      "/usr/local/lib/python3.8/site-packages/xgboost/sklearn.py:1146: UserWarning: The use of label encoder in XGBClassifier is deprecated and will be removed in a future release. To remove this warning, do the following: 1) Pass option use_label_encoder=False when constructing XGBClassifier object; and 2) Encode your labels (y) as integers starting with 0, i.e. 0, 1, 2, ..., [num_class - 1].\n",
      "  warnings.warn(label_encoder_deprecation_msg, UserWarning)\n",
      "\n"
     ]
    },
    {
     "name": "stdout",
     "output_type": "stream",
     "text": [
      "SCORE:                                                                             \n",
      "0.7686274509803922                                                                 \n",
      " 87%|████████▋ | 87/100 [01:57<00:15,  1.22s/trial, best loss: -0.8686274509803922]"
     ]
    },
    {
     "name": "stderr",
     "output_type": "stream",
     "text": [
      "/usr/local/lib/python3.8/site-packages/xgboost/sklearn.py:1146: UserWarning: The use of label encoder in XGBClassifier is deprecated and will be removed in a future release. To remove this warning, do the following: 1) Pass option use_label_encoder=False when constructing XGBClassifier object; and 2) Encode your labels (y) as integers starting with 0, i.e. 0, 1, 2, ..., [num_class - 1].\n",
      "  warnings.warn(label_encoder_deprecation_msg, UserWarning)\n",
      "\n"
     ]
    },
    {
     "name": "stdout",
     "output_type": "stream",
     "text": [
      "SCORE:                                                                             \n",
      "0.8529411764705882                                                                 \n",
      " 88%|████████▊ | 88/100 [01:59<00:15,  1.31s/trial, best loss: -0.8686274509803922]"
     ]
    },
    {
     "name": "stderr",
     "output_type": "stream",
     "text": [
      "/usr/local/lib/python3.8/site-packages/xgboost/sklearn.py:1146: UserWarning: The use of label encoder in XGBClassifier is deprecated and will be removed in a future release. To remove this warning, do the following: 1) Pass option use_label_encoder=False when constructing XGBClassifier object; and 2) Encode your labels (y) as integers starting with 0, i.e. 0, 1, 2, ..., [num_class - 1].\n",
      "  warnings.warn(label_encoder_deprecation_msg, UserWarning)\n",
      "\n"
     ]
    },
    {
     "name": "stdout",
     "output_type": "stream",
     "text": [
      "SCORE:                                                                             \n",
      "0.7843137254901961                                                                 \n",
      " 89%|████████▉ | 89/100 [02:00<00:14,  1.31s/trial, best loss: -0.8686274509803922]"
     ]
    },
    {
     "name": "stderr",
     "output_type": "stream",
     "text": [
      "/usr/local/lib/python3.8/site-packages/xgboost/sklearn.py:1146: UserWarning: The use of label encoder in XGBClassifier is deprecated and will be removed in a future release. To remove this warning, do the following: 1) Pass option use_label_encoder=False when constructing XGBClassifier object; and 2) Encode your labels (y) as integers starting with 0, i.e. 0, 1, 2, ..., [num_class - 1].\n",
      "  warnings.warn(label_encoder_deprecation_msg, UserWarning)\n",
      "\n"
     ]
    },
    {
     "name": "stdout",
     "output_type": "stream",
     "text": [
      "SCORE:                                                                             \n",
      "0.8254901960784313                                                                 \n",
      " 90%|█████████ | 90/100 [02:02<00:15,  1.53s/trial, best loss: -0.8686274509803922]"
     ]
    },
    {
     "name": "stderr",
     "output_type": "stream",
     "text": [
      "/usr/local/lib/python3.8/site-packages/xgboost/sklearn.py:1146: UserWarning: The use of label encoder in XGBClassifier is deprecated and will be removed in a future release. To remove this warning, do the following: 1) Pass option use_label_encoder=False when constructing XGBClassifier object; and 2) Encode your labels (y) as integers starting with 0, i.e. 0, 1, 2, ..., [num_class - 1].\n",
      "  warnings.warn(label_encoder_deprecation_msg, UserWarning)\n",
      "\n"
     ]
    },
    {
     "name": "stdout",
     "output_type": "stream",
     "text": [
      "SCORE:                                                                             \n",
      "0.8156862745098039                                                                 \n",
      " 91%|█████████ | 91/100 [02:03<00:13,  1.55s/trial, best loss: -0.8686274509803922]"
     ]
    },
    {
     "name": "stderr",
     "output_type": "stream",
     "text": [
      "/usr/local/lib/python3.8/site-packages/xgboost/sklearn.py:1146: UserWarning: The use of label encoder in XGBClassifier is deprecated and will be removed in a future release. To remove this warning, do the following: 1) Pass option use_label_encoder=False when constructing XGBClassifier object; and 2) Encode your labels (y) as integers starting with 0, i.e. 0, 1, 2, ..., [num_class - 1].\n",
      "  warnings.warn(label_encoder_deprecation_msg, UserWarning)\n",
      "\n"
     ]
    },
    {
     "name": "stdout",
     "output_type": "stream",
     "text": [
      "SCORE:                                                                             \n",
      "0.8529411764705882                                                                 \n",
      " 92%|█████████▏| 92/100 [02:05<00:12,  1.61s/trial, best loss: -0.8686274509803922]"
     ]
    },
    {
     "name": "stderr",
     "output_type": "stream",
     "text": [
      "/usr/local/lib/python3.8/site-packages/xgboost/sklearn.py:1146: UserWarning: The use of label encoder in XGBClassifier is deprecated and will be removed in a future release. To remove this warning, do the following: 1) Pass option use_label_encoder=False when constructing XGBClassifier object; and 2) Encode your labels (y) as integers starting with 0, i.e. 0, 1, 2, ..., [num_class - 1].\n",
      "  warnings.warn(label_encoder_deprecation_msg, UserWarning)\n",
      "\n"
     ]
    },
    {
     "name": "stdout",
     "output_type": "stream",
     "text": [
      "SCORE:                                                                             \n",
      "0.8117647058823529                                                                 \n",
      " 93%|█████████▎| 93/100 [02:07<00:10,  1.55s/trial, best loss: -0.8686274509803922]"
     ]
    },
    {
     "name": "stderr",
     "output_type": "stream",
     "text": [
      "/usr/local/lib/python3.8/site-packages/xgboost/sklearn.py:1146: UserWarning: The use of label encoder in XGBClassifier is deprecated and will be removed in a future release. To remove this warning, do the following: 1) Pass option use_label_encoder=False when constructing XGBClassifier object; and 2) Encode your labels (y) as integers starting with 0, i.e. 0, 1, 2, ..., [num_class - 1].\n",
      "  warnings.warn(label_encoder_deprecation_msg, UserWarning)\n",
      "\n"
     ]
    },
    {
     "name": "stdout",
     "output_type": "stream",
     "text": [
      "SCORE:                                                                             \n",
      "0.7666666666666667                                                                 \n",
      " 94%|█████████▍| 94/100 [02:08<00:08,  1.49s/trial, best loss: -0.8686274509803922]"
     ]
    },
    {
     "name": "stderr",
     "output_type": "stream",
     "text": [
      "/usr/local/lib/python3.8/site-packages/xgboost/sklearn.py:1146: UserWarning: The use of label encoder in XGBClassifier is deprecated and will be removed in a future release. To remove this warning, do the following: 1) Pass option use_label_encoder=False when constructing XGBClassifier object; and 2) Encode your labels (y) as integers starting with 0, i.e. 0, 1, 2, ..., [num_class - 1].\n",
      "  warnings.warn(label_encoder_deprecation_msg, UserWarning)\n",
      "\n"
     ]
    },
    {
     "name": "stdout",
     "output_type": "stream",
     "text": [
      "SCORE:                                                                             \n",
      "0.803921568627451                                                                  \n",
      " 95%|█████████▌| 95/100 [02:09<00:07,  1.41s/trial, best loss: -0.8686274509803922]"
     ]
    },
    {
     "name": "stderr",
     "output_type": "stream",
     "text": [
      "/usr/local/lib/python3.8/site-packages/xgboost/sklearn.py:1146: UserWarning: The use of label encoder in XGBClassifier is deprecated and will be removed in a future release. To remove this warning, do the following: 1) Pass option use_label_encoder=False when constructing XGBClassifier object; and 2) Encode your labels (y) as integers starting with 0, i.e. 0, 1, 2, ..., [num_class - 1].\n",
      "  warnings.warn(label_encoder_deprecation_msg, UserWarning)\n",
      "\n"
     ]
    },
    {
     "name": "stdout",
     "output_type": "stream",
     "text": [
      "SCORE:                                                                             \n",
      "0.7764705882352941                                                                 \n",
      " 96%|█████████▌| 96/100 [02:10<00:05,  1.31s/trial, best loss: -0.8686274509803922]"
     ]
    },
    {
     "name": "stderr",
     "output_type": "stream",
     "text": [
      "/usr/local/lib/python3.8/site-packages/xgboost/sklearn.py:1146: UserWarning: The use of label encoder in XGBClassifier is deprecated and will be removed in a future release. To remove this warning, do the following: 1) Pass option use_label_encoder=False when constructing XGBClassifier object; and 2) Encode your labels (y) as integers starting with 0, i.e. 0, 1, 2, ..., [num_class - 1].\n",
      "  warnings.warn(label_encoder_deprecation_msg, UserWarning)\n",
      "\n"
     ]
    },
    {
     "name": "stdout",
     "output_type": "stream",
     "text": [
      "SCORE:                                                                             \n",
      "0.884313725490196                                                                  \n",
      " 97%|█████████▋| 97/100 [02:12<00:04,  1.43s/trial, best loss: -0.884313725490196] "
     ]
    },
    {
     "name": "stderr",
     "output_type": "stream",
     "text": [
      "/usr/local/lib/python3.8/site-packages/xgboost/sklearn.py:1146: UserWarning: The use of label encoder in XGBClassifier is deprecated and will be removed in a future release. To remove this warning, do the following: 1) Pass option use_label_encoder=False when constructing XGBClassifier object; and 2) Encode your labels (y) as integers starting with 0, i.e. 0, 1, 2, ..., [num_class - 1].\n",
      "  warnings.warn(label_encoder_deprecation_msg, UserWarning)\n",
      "\n"
     ]
    },
    {
     "name": "stdout",
     "output_type": "stream",
     "text": [
      "SCORE:                                                                            \n",
      "0.8745098039215686                                                                \n",
      " 98%|█████████▊| 98/100 [02:15<00:03,  1.85s/trial, best loss: -0.884313725490196]"
     ]
    },
    {
     "name": "stderr",
     "output_type": "stream",
     "text": [
      "/usr/local/lib/python3.8/site-packages/xgboost/sklearn.py:1146: UserWarning: The use of label encoder in XGBClassifier is deprecated and will be removed in a future release. To remove this warning, do the following: 1) Pass option use_label_encoder=False when constructing XGBClassifier object; and 2) Encode your labels (y) as integers starting with 0, i.e. 0, 1, 2, ..., [num_class - 1].\n",
      "  warnings.warn(label_encoder_deprecation_msg, UserWarning)\n",
      "\n"
     ]
    },
    {
     "name": "stdout",
     "output_type": "stream",
     "text": [
      "SCORE:                                                                            \n",
      "0.8980392156862745                                                                \n",
      " 99%|█████████▉| 99/100 [02:17<00:02,  2.07s/trial, best loss: -0.8980392156862745]"
     ]
    },
    {
     "name": "stderr",
     "output_type": "stream",
     "text": [
      "/usr/local/lib/python3.8/site-packages/xgboost/sklearn.py:1146: UserWarning: The use of label encoder in XGBClassifier is deprecated and will be removed in a future release. To remove this warning, do the following: 1) Pass option use_label_encoder=False when constructing XGBClassifier object; and 2) Encode your labels (y) as integers starting with 0, i.e. 0, 1, 2, ..., [num_class - 1].\n",
      "  warnings.warn(label_encoder_deprecation_msg, UserWarning)\n",
      "\n"
     ]
    },
    {
     "name": "stdout",
     "output_type": "stream",
     "text": [
      "SCORE:                                                                             \n",
      "0.796078431372549                                                                  \n",
      "100%|██████████| 100/100 [02:18<00:00,  1.39s/trial, best loss: -0.8980392156862745]\n"
     ]
    }
   ],
   "source": [
    "trials = Trials()\n",
    "\n",
    "best_hyperparams = fmin(fn = objective,space = space,algo = tpe.suggest,max_evals = 100,trials = trials)"
   ]
  },
  {
   "cell_type": "code",
   "execution_count": 280,
   "id": "e7362749",
   "metadata": {},
   "outputs": [
    {
     "name": "stdout",
     "output_type": "stream",
     "text": [
      "The best hyperparameters are :  \n",
      "\n",
      "{'colsample_bytree': 0.9005520130985571, 'gamma': 0.05509766520159222, 'max_depth': 12.0, 'min_child_weight': 19.0, 'reg_alpha': 0.0, 'reg_lambda': 0.8883231854434855}\n"
     ]
    }
   ],
   "source": [
    "print(\"The best hyperparameters are : \",\"\\n\")\n",
    "print(best_hyperparams)"
   ]
  },
  {
   "cell_type": "code",
   "execution_count": 281,
   "id": "ede077df",
   "metadata": {},
   "outputs": [
    {
     "name": "stdout",
     "output_type": "stream",
     "text": [
      "[0]\tvalidation_0-auc:0.73081\n",
      "[1]\tvalidation_0-auc:0.76455\n",
      "[2]\tvalidation_0-auc:0.81451\n"
     ]
    },
    {
     "name": "stderr",
     "output_type": "stream",
     "text": [
      "/usr/local/lib/python3.8/site-packages/xgboost/sklearn.py:1146: UserWarning: The use of label encoder in XGBClassifier is deprecated and will be removed in a future release. To remove this warning, do the following: 1) Pass option use_label_encoder=False when constructing XGBClassifier object; and 2) Encode your labels (y) as integers starting with 0, i.e. 0, 1, 2, ..., [num_class - 1].\n",
      "  warnings.warn(label_encoder_deprecation_msg, UserWarning)\n"
     ]
    },
    {
     "name": "stdout",
     "output_type": "stream",
     "text": [
      "[3]\tvalidation_0-auc:0.81305\n",
      "[4]\tvalidation_0-auc:0.82220\n",
      "[5]\tvalidation_0-auc:0.84343\n",
      "[6]\tvalidation_0-auc:0.85572\n",
      "[7]\tvalidation_0-auc:0.85584\n",
      "[8]\tvalidation_0-auc:0.85729\n",
      "[9]\tvalidation_0-auc:0.86141\n",
      "[10]\tvalidation_0-auc:0.86635\n",
      "[11]\tvalidation_0-auc:0.86359\n",
      "[12]\tvalidation_0-auc:0.86564\n",
      "[13]\tvalidation_0-auc:0.87269\n",
      "[14]\tvalidation_0-auc:0.87288\n",
      "[15]\tvalidation_0-auc:0.87419\n",
      "[16]\tvalidation_0-auc:0.87617\n",
      "[17]\tvalidation_0-auc:0.87765\n",
      "[18]\tvalidation_0-auc:0.87785\n",
      "[19]\tvalidation_0-auc:0.88168\n",
      "[20]\tvalidation_0-auc:0.88050\n",
      "[21]\tvalidation_0-auc:0.89024\n",
      "[22]\tvalidation_0-auc:0.89148\n",
      "[23]\tvalidation_0-auc:0.89101\n",
      "[24]\tvalidation_0-auc:0.89294\n",
      "[25]\tvalidation_0-auc:0.89674\n",
      "[26]\tvalidation_0-auc:0.89699\n",
      "[27]\tvalidation_0-auc:0.89867\n",
      "[28]\tvalidation_0-auc:0.90101\n",
      "[29]\tvalidation_0-auc:0.90059\n",
      "[30]\tvalidation_0-auc:0.90054\n",
      "[31]\tvalidation_0-auc:0.89990\n",
      "[32]\tvalidation_0-auc:0.90300\n",
      "[33]\tvalidation_0-auc:0.90386\n",
      "[34]\tvalidation_0-auc:0.90698\n",
      "[35]\tvalidation_0-auc:0.90975\n",
      "[36]\tvalidation_0-auc:0.90848\n",
      "[37]\tvalidation_0-auc:0.90939\n",
      "[38]\tvalidation_0-auc:0.90885\n",
      "[39]\tvalidation_0-auc:0.90907\n",
      "[40]\tvalidation_0-auc:0.90861\n",
      "[41]\tvalidation_0-auc:0.90802\n",
      "[42]\tvalidation_0-auc:0.90866\n",
      "[43]\tvalidation_0-auc:0.90940\n",
      "[44]\tvalidation_0-auc:0.90982\n",
      "[45]\tvalidation_0-auc:0.91204\n",
      "[46]\tvalidation_0-auc:0.91184\n",
      "[47]\tvalidation_0-auc:0.91162\n",
      "[48]\tvalidation_0-auc:0.91271\n",
      "[49]\tvalidation_0-auc:0.91429\n",
      "[50]\tvalidation_0-auc:0.91701\n",
      "[51]\tvalidation_0-auc:0.91666\n",
      "[52]\tvalidation_0-auc:0.91748\n",
      "[53]\tvalidation_0-auc:0.91741\n",
      "[54]\tvalidation_0-auc:0.91736\n",
      "[55]\tvalidation_0-auc:0.91921\n",
      "[56]\tvalidation_0-auc:0.92075\n",
      "[57]\tvalidation_0-auc:0.92107\n",
      "[58]\tvalidation_0-auc:0.92170\n",
      "[59]\tvalidation_0-auc:0.92227\n",
      "[60]\tvalidation_0-auc:0.92235\n",
      "[61]\tvalidation_0-auc:0.92342\n",
      "[62]\tvalidation_0-auc:0.92494\n",
      "[63]\tvalidation_0-auc:0.92756\n",
      "[64]\tvalidation_0-auc:0.92799\n",
      "[65]\tvalidation_0-auc:0.92766\n",
      "[66]\tvalidation_0-auc:0.92892\n",
      "[67]\tvalidation_0-auc:0.92861\n",
      "[68]\tvalidation_0-auc:0.92855\n",
      "[69]\tvalidation_0-auc:0.92895\n",
      "[70]\tvalidation_0-auc:0.92907\n",
      "[71]\tvalidation_0-auc:0.92950\n",
      "[72]\tvalidation_0-auc:0.93036\n",
      "[73]\tvalidation_0-auc:0.93036\n",
      "[74]\tvalidation_0-auc:0.93073\n",
      "[75]\tvalidation_0-auc:0.93034\n",
      "[76]\tvalidation_0-auc:0.93149\n",
      "[77]\tvalidation_0-auc:0.93446\n",
      "[78]\tvalidation_0-auc:0.93434\n",
      "[79]\tvalidation_0-auc:0.93567\n",
      "[80]\tvalidation_0-auc:0.93555\n",
      "[81]\tvalidation_0-auc:0.93573\n",
      "[82]\tvalidation_0-auc:0.93588\n",
      "[83]\tvalidation_0-auc:0.93505\n",
      "[84]\tvalidation_0-auc:0.93521\n",
      "[85]\tvalidation_0-auc:0.93600\n",
      "[86]\tvalidation_0-auc:0.93701\n",
      "[87]\tvalidation_0-auc:0.93686\n",
      "[88]\tvalidation_0-auc:0.93755\n",
      "[89]\tvalidation_0-auc:0.93783\n",
      "[90]\tvalidation_0-auc:0.93790\n",
      "[91]\tvalidation_0-auc:0.93726\n",
      "[92]\tvalidation_0-auc:0.93790\n",
      "[93]\tvalidation_0-auc:0.93864\n",
      "[94]\tvalidation_0-auc:0.93896\n",
      "[95]\tvalidation_0-auc:0.93892\n",
      "[96]\tvalidation_0-auc:0.93867\n",
      "[97]\tvalidation_0-auc:0.93911\n",
      "[98]\tvalidation_0-auc:0.93889\n",
      "[99]\tvalidation_0-auc:0.93876\n"
     ]
    },
    {
     "data": {
      "text/plain": [
       "XGBClassifier(base_score=0.5, booster='gbtree', colsample_bylevel=1,\n",
       "              colsample_bynode=1,\n",
       "              colsample_bytree=<hyperopt.pyll.base.Apply object at 0x1685cf3a0>,\n",
       "              eta=0.3, eval_metric='auc',\n",
       "              gamma=<hyperopt.pyll.base.Apply object at 0x168a6e730>, gpu_id=-1,\n",
       "              grow_policy='depthwise', importance_type='gain',\n",
       "              interaction_constraints='', learning_rate=0.300000012,\n",
       "              max_delta_step...\n",
       "              min_child_weight=<hyperopt.pyll.base.Apply object at 0x1685cf850>,\n",
       "              missing=nan, monotone_constraints='()', n_estimators=100,\n",
       "              n_jobs=8, num_parallel_tree=1, random_state=42,\n",
       "              reg_alpha=<hyperopt.pyll.base.Apply object at 0x1685cf8b0>,\n",
       "              reg_lambda=<hyperopt.pyll.base.Apply object at 0x1685cf340>,\n",
       "              scale_pos_weight=6, subsample=1, tree_method='exact',\n",
       "              validate_parameters=1, verbosity=None)"
      ]
     },
     "execution_count": 281,
     "metadata": {},
     "output_type": "execute_result"
    }
   ],
   "source": [
    "xgb_model = xgb.XGBClassifier(objective=\"binary:logistic\", random_state=42, eval_metric=\"auc\", n_estimators=100,max_depth=space['max_depth'],\n",
    "                              booster = \"gbtree\", reg_lambda = space['reg_lambda'], gamma = space['gamma'], eta = 0.3, \n",
    "                              tree_method = \"exact\",grow_policy = \"depthwise\", reg_alpha = space['reg_alpha'], min_child_weight = space['min_child_weight'],colsample_bytree = space['colsample_bytree'],\n",
    "                             scale_pos_weight = 6)\n",
    "\n",
    "xgb_model.fit(X_train, y_train, early_stopping_rounds=10, eval_set=[(X_test, y_test)], verbose=True)"
   ]
  },
  {
   "cell_type": "code",
   "execution_count": 282,
   "id": "f4c0150f",
   "metadata": {},
   "outputs": [
    {
     "name": "stdout",
     "output_type": "stream",
     "text": [
      "              precision    recall  f1-score   support\n",
      "\n",
      "           0       0.93      0.94      0.94       261\n",
      "           1       0.87      0.85      0.86       122\n",
      "\n",
      "    accuracy                           0.91       383\n",
      "   macro avg       0.90      0.90      0.90       383\n",
      "weighted avg       0.91      0.91      0.91       383\n",
      "\n"
     ]
    }
   ],
   "source": [
    "from sklearn.metrics import classification_report\n",
    "\n",
    "y_predOrig = xgb_model.predict(X_valid)\n",
    "#y_pred_bool = np.argmax(y_pred, axis=1)\n",
    "#y_pred_bool = pd.get_dummies(y_pred_bool)\n",
    "\n",
    "print(classification_report(y_valid, y_predOrig))"
   ]
  },
  {
   "cell_type": "code",
   "execution_count": 283,
   "id": "73640e4f",
   "metadata": {},
   "outputs": [
    {
     "name": "stdout",
     "output_type": "stream",
     "text": [
      "              precision    recall  f1-score   support\n",
      "\n",
      "           0       0.91      0.91      0.91       329\n",
      "           1       0.84      0.83      0.84       181\n",
      "\n",
      "    accuracy                           0.89       510\n",
      "   macro avg       0.88      0.87      0.88       510\n",
      "weighted avg       0.89      0.89      0.89       510\n",
      "\n"
     ]
    }
   ],
   "source": [
    "from sklearn.metrics import classification_report\n",
    "\n",
    "y_predOrig = xgb_model.predict(X_test)\n",
    "#y_pred_bool = np.argmax(y_pred, axis=1)\n",
    "#y_pred_bool = pd.get_dummies(y_pred_bool)\n",
    "\n",
    "print(classification_report(y_test, y_predOrig))"
   ]
  },
  {
   "cell_type": "code",
   "execution_count": null,
   "id": "51e14eae",
   "metadata": {},
   "outputs": [],
   "source": []
  },
  {
   "cell_type": "code",
   "execution_count": null,
   "id": "76632db5",
   "metadata": {},
   "outputs": [],
   "source": [
    "from imblearn.ensemble import BalancedBaggingClassifier"
   ]
  },
  {
   "cell_type": "code",
   "execution_count": 218,
   "id": "dbc55f22",
   "metadata": {},
   "outputs": [
    {
     "data": {
      "text/plain": [
       "BalancedBaggingClassifier(n_estimators=1200, n_jobs=-1, oob_score=True)"
      ]
     },
     "execution_count": 218,
     "metadata": {},
     "output_type": "execute_result"
    }
   ],
   "source": [
    "brf = BalancedBaggingClassifier(n_estimators = 1200, n_jobs=-1, oob_score = True)\n",
    "brf.fit(X_train, y_train)"
   ]
  },
  {
   "cell_type": "code",
   "execution_count": 219,
   "id": "8039bdc9",
   "metadata": {},
   "outputs": [
    {
     "data": {
      "text/plain": [
       "0.999128160418483"
      ]
     },
     "execution_count": 219,
     "metadata": {},
     "output_type": "execute_result"
    }
   ],
   "source": [
    "brf.score(X_train,y_train)"
   ]
  },
  {
   "cell_type": "code",
   "execution_count": 220,
   "id": "f6aeb93f",
   "metadata": {},
   "outputs": [
    {
     "data": {
      "text/plain": [
       "0.8470588235294118"
      ]
     },
     "execution_count": 220,
     "metadata": {},
     "output_type": "execute_result"
    }
   ],
   "source": [
    "brf.score(X_test,y_test)"
   ]
  },
  {
   "cell_type": "code",
   "execution_count": 221,
   "id": "5b18cc6c",
   "metadata": {},
   "outputs": [
    {
     "data": {
      "text/plain": [
       "0.8668407310704961"
      ]
     },
     "execution_count": 221,
     "metadata": {},
     "output_type": "execute_result"
    }
   ],
   "source": [
    "brf.score(X_valid,y_valid)"
   ]
  },
  {
   "cell_type": "code",
   "execution_count": null,
   "id": "907453c3",
   "metadata": {},
   "outputs": [],
   "source": []
  },
  {
   "cell_type": "code",
   "execution_count": null,
   "id": "4b106e9f",
   "metadata": {},
   "outputs": [],
   "source": []
  },
  {
   "cell_type": "code",
   "execution_count": null,
   "id": "6df2402d",
   "metadata": {},
   "outputs": [],
   "source": []
  },
  {
   "cell_type": "code",
   "execution_count": null,
   "id": "8114fb8c",
   "metadata": {},
   "outputs": [],
   "source": []
  },
  {
   "cell_type": "code",
   "execution_count": null,
   "id": "547d5df7",
   "metadata": {},
   "outputs": [],
   "source": [
    "##We will select the most important features"
   ]
  },
  {
   "cell_type": "code",
   "execution_count": 165,
   "id": "22d53ec5",
   "metadata": {},
   "outputs": [],
   "source": [
    "perm_importance = permutation_importance(xgb_model, X_train_full, y_train_full)"
   ]
  },
  {
   "cell_type": "code",
   "execution_count": 166,
   "id": "ef28cb41",
   "metadata": {},
   "outputs": [],
   "source": [
    "sorted_idx = perm_importance.importances_mean.argsort()"
   ]
  },
  {
   "cell_type": "code",
   "execution_count": 196,
   "id": "1f3d889a",
   "metadata": {},
   "outputs": [
    {
     "name": "stdout",
     "output_type": "stream",
     "text": [
      "[ 50  62  34  31   1   2   3   5   6   9  10  11  12  15  32  16  19  20\n",
      "  21  22  23  24  25  26  28  30  17 119  63  65  95  96  97  98  99 100\n",
      " 101 102 103 104  94 106 108 109 110 111 112 113 114 115 116 117 107  64\n",
      "  93  89  66  67  69  70  71  72  73  74  75  76  91  77  79  80  81  82\n",
      "  83  84  85  86  87  88  78 224 219 226 357 358 359 360 361 362 363 364\n",
      " 365 366 356 367 369 370 371 372 373 374 375 376 377 378 368 379 355 353\n",
      " 331 332 333 225 335 336 337 338 339 340 354 341 343 344 345 346 347 348\n",
      " 349 350 351 352 342 380 381 382 410 411 412 413 414 415 416 417 418 419\n",
      " 409 420 422 423 424 425 426 427 428 429 859 431 421 408 407 406 383 384\n",
      " 385 386 387 388 389 390 391 392 393 394 395 396 397 398 399 400 401 402\n",
      " 403 404 405 330 329 334 327 254 255 256 257 258 259 260 261 262 263 264\n",
      " 265 266 267 268 269 270 271 272 273 274 328 276 253 277 252 250 227 228\n",
      " 229 230 231 232 233 234 235 236 237 238 239 240 241 242 243 244 245 246\n",
      " 247 248 249 251 278 275 280 304 305 306 307 308 309 310 311 312 313 314\n",
      " 315 316 317 318 319 320 321 322 323 324 325 326 279 302 303 860 288 289\n",
      " 290 301 285 291 292 293 284 294 283 295 282 296 297 298 281 299 300 287\n",
      " 286  92 159   8  68  57 105   7  29  44  47  33]\n"
     ]
    }
   ],
   "source": [
    "###We obtain the top 100 features\n",
    "indexImportancia = sorted_idx[-300:]\n",
    "print(indexImportancia)"
   ]
  },
  {
   "cell_type": "code",
   "execution_count": 197,
   "id": "b1c0d109",
   "metadata": {},
   "outputs": [
    {
     "name": "stdout",
     "output_type": "stream",
     "text": [
      "Index(['WindowCombinationDrugs_atorvastatin-atorvastatin-losartan-metformin-metformin-10-10-100-1000-1000',\n",
      "       'WindowCombinationDrugs_atorvastatin-atorvastatin-20-20',\n",
      "       'gfr_class_G4', 'gfr_class_G2', 'difference_glucose_normal',\n",
      "       'is_diabetes_diabetes', 'is_diabetes_normal', 'hgb_value',\n",
      "       'hgb_class_High', 'sbp_value',\n",
      "       ...\n",
      "       'Drug_DailyDosage_DurationDose_metformin-500-90', 'hgb_class_Normal',\n",
      "       'drug_rosuvastatin', 'Drug_DailyDosage_DurationDose_losartan-100-90',\n",
      "       'drug_simvastatin', 'hgb_class_Low', 'gfr_evolution', 'durationDose',\n",
      "       'drug_atorvastatin', 'gfr_class_G3b'],\n",
      "      dtype='object', length=300)\n"
     ]
    }
   ],
   "source": [
    "print(datos.columns[indexImportancia])"
   ]
  },
  {
   "cell_type": "code",
   "execution_count": 198,
   "id": "1fd568f1",
   "metadata": {},
   "outputs": [],
   "source": [
    "X_train_full_filtered, X_test_filtered, y_train_full_filtered, y_test_filtered = train_test_split(datos.iloc[:,indexImportancia], datosResponse)\n",
    "X_train_filtered, X_valid_filtered, y_train_filtered, y_valid_filtered = train_test_split(X_train_full_filtered, y_train_full_filtered)\n",
    "scaler = StandardScaler()\n",
    "\n",
    "\n",
    "X_train_filtered = pd.DataFrame(scaler.fit_transform(X_train_filtered.values), columns=X_train_filtered.columns, index=X_train_filtered.index)\n",
    "\n",
    "\n",
    "#X_train[X_train.columns] = scaler.fit_transform(X_train)\n",
    "####AQUI DEBE DE IR SMOTE, EN X_train, ACTUALIZAR TAMBIEN EL NPS TARGET CON DUMMIES DE TODOS\n",
    "##Hacemos oversampling SMOTE\n",
    "#sm = BorderlineSMOTE(random_state = 99, n_jobs= -1, kind='borderline-1')\n",
    "#sm = SMOTE(random_state = 99, n_jobs= -1)\n",
    "#X_train, y_train = sm.fit_resample(X_train, y_train)\n",
    "\n",
    "X_valid_filtered = pd.DataFrame(scaler.transform(X_valid_filtered.values), columns=X_valid_filtered.columns, index=X_valid_filtered.index)\n",
    "\n",
    "\n",
    "#X_valid[X_valid.columns] = scaler.transform(X_valid)\n",
    "#X_test[X_test.columns] = scaler.transform(X_test)\n",
    "\n",
    "\n",
    "X_test_filtered = pd.DataFrame(scaler.transform(X_test_filtered.values), columns=X_test_filtered.columns, index=X_test_filtered.index)"
   ]
  },
  {
   "cell_type": "code",
   "execution_count": 199,
   "id": "1704bd44",
   "metadata": {},
   "outputs": [
    {
     "name": "stdout",
     "output_type": "stream",
     "text": [
      "[0]\tvalidation_0-auc:0.69897\n",
      "[1]\tvalidation_0-auc:0.74542\n",
      "[2]\tvalidation_0-auc:0.75129\n",
      "[3]\tvalidation_0-auc:0.77523\n",
      "[4]\tvalidation_0-auc:0.79891\n",
      "[5]\tvalidation_0-auc:0.81398\n",
      "[6]\tvalidation_0-auc:0.81794\n",
      "[7]\tvalidation_0-auc:0.82712\n",
      "[8]\tvalidation_0-auc:0.83154\n"
     ]
    },
    {
     "name": "stderr",
     "output_type": "stream",
     "text": [
      "/usr/local/lib/python3.8/site-packages/xgboost/sklearn.py:1146: UserWarning: The use of label encoder in XGBClassifier is deprecated and will be removed in a future release. To remove this warning, do the following: 1) Pass option use_label_encoder=False when constructing XGBClassifier object; and 2) Encode your labels (y) as integers starting with 0, i.e. 0, 1, 2, ..., [num_class - 1].\n",
      "  warnings.warn(label_encoder_deprecation_msg, UserWarning)\n"
     ]
    },
    {
     "name": "stdout",
     "output_type": "stream",
     "text": [
      "[9]\tvalidation_0-auc:0.82997\n",
      "[10]\tvalidation_0-auc:0.83118\n",
      "[11]\tvalidation_0-auc:0.82760\n",
      "[12]\tvalidation_0-auc:0.82901\n",
      "[13]\tvalidation_0-auc:0.83198\n",
      "[14]\tvalidation_0-auc:0.83188\n",
      "[15]\tvalidation_0-auc:0.83531\n",
      "[16]\tvalidation_0-auc:0.84247\n",
      "[17]\tvalidation_0-auc:0.84451\n",
      "[18]\tvalidation_0-auc:0.84688\n",
      "[19]\tvalidation_0-auc:0.84756\n",
      "[20]\tvalidation_0-auc:0.84685\n",
      "[21]\tvalidation_0-auc:0.84605\n",
      "[22]\tvalidation_0-auc:0.84698\n",
      "[23]\tvalidation_0-auc:0.84741\n",
      "[24]\tvalidation_0-auc:0.84920\n",
      "[25]\tvalidation_0-auc:0.84864\n",
      "[26]\tvalidation_0-auc:0.85032\n",
      "[27]\tvalidation_0-auc:0.85606\n",
      "[28]\tvalidation_0-auc:0.85548\n",
      "[29]\tvalidation_0-auc:0.85747\n",
      "[30]\tvalidation_0-auc:0.85967\n",
      "[31]\tvalidation_0-auc:0.86383\n",
      "[32]\tvalidation_0-auc:0.86469\n",
      "[33]\tvalidation_0-auc:0.86512\n",
      "[34]\tvalidation_0-auc:0.86716\n",
      "[35]\tvalidation_0-auc:0.86514\n",
      "[36]\tvalidation_0-auc:0.86498\n",
      "[37]\tvalidation_0-auc:0.86461\n",
      "[38]\tvalidation_0-auc:0.86761\n",
      "[39]\tvalidation_0-auc:0.86858\n",
      "[40]\tvalidation_0-auc:0.86843\n",
      "[41]\tvalidation_0-auc:0.87075\n",
      "[42]\tvalidation_0-auc:0.87275\n",
      "[43]\tvalidation_0-auc:0.87240\n",
      "[44]\tvalidation_0-auc:0.87330\n",
      "[45]\tvalidation_0-auc:0.87170\n",
      "[46]\tvalidation_0-auc:0.87267\n",
      "[47]\tvalidation_0-auc:0.87414\n",
      "[48]\tvalidation_0-auc:0.87501\n",
      "[49]\tvalidation_0-auc:0.87416\n",
      "[50]\tvalidation_0-auc:0.87486\n",
      "[51]\tvalidation_0-auc:0.87543\n",
      "[52]\tvalidation_0-auc:0.87489\n",
      "[53]\tvalidation_0-auc:0.87655\n",
      "[54]\tvalidation_0-auc:0.87667\n",
      "[55]\tvalidation_0-auc:0.87576\n",
      "[56]\tvalidation_0-auc:0.87647\n",
      "[57]\tvalidation_0-auc:0.87664\n",
      "[58]\tvalidation_0-auc:0.87647\n",
      "[59]\tvalidation_0-auc:0.87666\n",
      "[60]\tvalidation_0-auc:0.87700\n",
      "[61]\tvalidation_0-auc:0.87795\n",
      "[62]\tvalidation_0-auc:0.87854\n",
      "[63]\tvalidation_0-auc:0.88041\n",
      "[64]\tvalidation_0-auc:0.88161\n",
      "[65]\tvalidation_0-auc:0.88053\n",
      "[66]\tvalidation_0-auc:0.88144\n",
      "[67]\tvalidation_0-auc:0.88139\n",
      "[68]\tvalidation_0-auc:0.88183\n",
      "[69]\tvalidation_0-auc:0.88209\n",
      "[70]\tvalidation_0-auc:0.88276\n",
      "[71]\tvalidation_0-auc:0.88317\n",
      "[72]\tvalidation_0-auc:0.88236\n",
      "[73]\tvalidation_0-auc:0.88365\n",
      "[74]\tvalidation_0-auc:0.88258\n",
      "[75]\tvalidation_0-auc:0.88336\n",
      "[76]\tvalidation_0-auc:0.88370\n",
      "[77]\tvalidation_0-auc:0.88550\n",
      "[78]\tvalidation_0-auc:0.88611\n",
      "[79]\tvalidation_0-auc:0.88626\n",
      "[80]\tvalidation_0-auc:0.88679\n",
      "[81]\tvalidation_0-auc:0.88784\n",
      "[82]\tvalidation_0-auc:0.88768\n",
      "[83]\tvalidation_0-auc:0.88845\n",
      "[84]\tvalidation_0-auc:0.88987\n",
      "[85]\tvalidation_0-auc:0.88986\n",
      "[86]\tvalidation_0-auc:0.89098\n",
      "[87]\tvalidation_0-auc:0.89114\n",
      "[88]\tvalidation_0-auc:0.89108\n",
      "[89]\tvalidation_0-auc:0.89191\n",
      "[90]\tvalidation_0-auc:0.89233\n",
      "[91]\tvalidation_0-auc:0.89194\n",
      "[92]\tvalidation_0-auc:0.89191\n",
      "[93]\tvalidation_0-auc:0.89294\n",
      "[94]\tvalidation_0-auc:0.89305\n",
      "[95]\tvalidation_0-auc:0.89342\n",
      "[96]\tvalidation_0-auc:0.89508\n",
      "[97]\tvalidation_0-auc:0.89471\n",
      "[98]\tvalidation_0-auc:0.89483\n",
      "[99]\tvalidation_0-auc:0.89596\n"
     ]
    },
    {
     "data": {
      "text/plain": [
       "XGBClassifier(base_score=0.5, booster='gbtree', colsample_bylevel=1,\n",
       "              colsample_bynode=1,\n",
       "              colsample_bytree=<hyperopt.pyll.base.Apply object at 0x1682ba340>,\n",
       "              eta=0.3, eval_metric='auc',\n",
       "              gamma=<hyperopt.pyll.base.Apply object at 0x1682b4eb0>, gpu_id=-1,\n",
       "              grow_policy='lossguide', importance_type='gain',\n",
       "              interaction_constraints='', learning_rate=0.300000012,\n",
       "              max_delta_step...\n",
       "              min_child_weight=<hyperopt.pyll.base.Apply object at 0x1682ba490>,\n",
       "              missing=nan, monotone_constraints='()', n_estimators=100,\n",
       "              n_jobs=8, num_parallel_tree=1, random_state=42,\n",
       "              reg_alpha=<hyperopt.pyll.base.Apply object at 0x1682ba100>,\n",
       "              reg_lambda=<hyperopt.pyll.base.Apply object at 0x1682ba220>,\n",
       "              scale_pos_weight=7, subsample=1, tree_method='exact',\n",
       "              validate_parameters=1, verbosity=None)"
      ]
     },
     "execution_count": 199,
     "metadata": {},
     "output_type": "execute_result"
    }
   ],
   "source": [
    "xgb_modelFILTERED = xgb.XGBClassifier(objective=\"binary:logistic\", random_state=42, eval_metric=\"auc\", n_estimators=100,max_depth=space['max_depth'],\n",
    "                              booster = \"gbtree\", reg_lambda = space['reg_lambda'], gamma = space['gamma'], eta = 0.3, \n",
    "                              tree_method = \"exact\",grow_policy = \"lossguide\", reg_alpha = space['reg_alpha'], min_child_weight = space['min_child_weight'],colsample_bytree = space['colsample_bytree'],\n",
    "                             scale_pos_weight = 7)\n",
    "\n",
    "xgb_modelFILTERED.fit(X_train_filtered, y_train_filtered, early_stopping_rounds=10, eval_set=[(X_test_filtered , y_test_filtered )], verbose=True)"
   ]
  },
  {
   "cell_type": "code",
   "execution_count": 200,
   "id": "07da8399",
   "metadata": {},
   "outputs": [
    {
     "name": "stdout",
     "output_type": "stream",
     "text": [
      "              precision    recall  f1-score   support\n",
      "\n",
      "           0       0.89      0.87      0.88       333\n",
      "           1       0.76      0.79      0.78       177\n",
      "\n",
      "    accuracy                           0.84       510\n",
      "   macro avg       0.82      0.83      0.83       510\n",
      "weighted avg       0.84      0.84      0.84       510\n",
      "\n"
     ]
    }
   ],
   "source": [
    "\n",
    "y_predOrig = xgb_modelFILTERED.predict(X_test_filtered)\n",
    "#y_pred_bool = np.argmax(y_pred, axis=1)\n",
    "#y_pred_bool = pd.get_dummies(y_pred_bool)\n",
    "\n",
    "print(classification_report(y_test_filtered, y_predOrig))"
   ]
  },
  {
   "cell_type": "code",
   "execution_count": 201,
   "id": "c621b656",
   "metadata": {},
   "outputs": [
    {
     "name": "stdout",
     "output_type": "stream",
     "text": [
      "              precision    recall  f1-score   support\n",
      "\n",
      "           0       0.95      0.87      0.91       260\n",
      "           1       0.76      0.89      0.82       123\n",
      "\n",
      "    accuracy                           0.88       383\n",
      "   macro avg       0.85      0.88      0.86       383\n",
      "weighted avg       0.89      0.88      0.88       383\n",
      "\n"
     ]
    }
   ],
   "source": [
    "y_predOrig = xgb_modelFILTERED.predict(X_valid_filtered)\n",
    "#y_pred_bool = np.argmax(y_pred, axis=1)\n",
    "#y_pred_bool = pd.get_dummies(y_pred_bool)\n",
    "\n",
    "print(classification_report(y_valid_filtered, y_predOrig))"
   ]
  },
  {
   "cell_type": "code",
   "execution_count": null,
   "id": "4771c422",
   "metadata": {},
   "outputs": [],
   "source": []
  },
  {
   "cell_type": "code",
   "execution_count": null,
   "id": "c4b4248c",
   "metadata": {},
   "outputs": [],
   "source": []
  },
  {
   "cell_type": "code",
   "execution_count": 112,
   "id": "0aaa0886",
   "metadata": {},
   "outputs": [],
   "source": []
  },
  {
   "cell_type": "code",
   "execution_count": null,
   "id": "21b42a53",
   "metadata": {},
   "outputs": [],
   "source": []
  },
  {
   "cell_type": "code",
   "execution_count": null,
   "id": "4b04ff83",
   "metadata": {},
   "outputs": [],
   "source": []
  },
  {
   "cell_type": "code",
   "execution_count": null,
   "id": "74a4e0c5",
   "metadata": {},
   "outputs": [],
   "source": []
  },
  {
   "cell_type": "code",
   "execution_count": null,
   "id": "8630c0de",
   "metadata": {},
   "outputs": [],
   "source": []
  },
  {
   "cell_type": "code",
   "execution_count": null,
   "id": "6773d434",
   "metadata": {},
   "outputs": [],
   "source": []
  },
  {
   "cell_type": "code",
   "execution_count": null,
   "id": "d674d346",
   "metadata": {},
   "outputs": [],
   "source": []
  },
  {
   "cell_type": "code",
   "execution_count": null,
   "id": "b6fa6213",
   "metadata": {},
   "outputs": [],
   "source": []
  },
  {
   "cell_type": "code",
   "execution_count": null,
   "id": "18785879",
   "metadata": {},
   "outputs": [],
   "source": [
    "from imblearn.ensemble import BalancedBaggingClassifier"
   ]
  },
  {
   "cell_type": "code",
   "execution_count": 114,
   "id": "dd061807",
   "metadata": {},
   "outputs": [
    {
     "data": {
      "text/plain": [
       "BalancedBaggingClassifier(n_estimators=500, n_jobs=-1, oob_score=True)"
      ]
     },
     "execution_count": 114,
     "metadata": {},
     "output_type": "execute_result"
    }
   ],
   "source": [
    "brf = BalancedBaggingClassifier(n_estimators = 500, n_jobs=-1, oob_score = True)\n",
    "brf.fit(X_train, y_train)"
   ]
  },
  {
   "cell_type": "code",
   "execution_count": 115,
   "id": "c68b4845",
   "metadata": {},
   "outputs": [
    {
     "data": {
      "text/plain": [
       "0.999128160418483"
      ]
     },
     "execution_count": 115,
     "metadata": {},
     "output_type": "execute_result"
    }
   ],
   "source": [
    "brf.score(X_train,y_train)"
   ]
  },
  {
   "cell_type": "code",
   "execution_count": 116,
   "id": "9f595887",
   "metadata": {},
   "outputs": [
    {
     "data": {
      "text/plain": [
       "0.8509803921568627"
      ]
     },
     "execution_count": 116,
     "metadata": {},
     "output_type": "execute_result"
    }
   ],
   "source": [
    "brf.score(X_test, y_test)"
   ]
  },
  {
   "cell_type": "code",
   "execution_count": 117,
   "id": "9d492d6a",
   "metadata": {},
   "outputs": [
    {
     "data": {
      "text/plain": [
       "0.8642297650130548"
      ]
     },
     "execution_count": 117,
     "metadata": {},
     "output_type": "execute_result"
    }
   ],
   "source": [
    "brf.score(X_valid, y_valid)"
   ]
  }
 ],
 "metadata": {
  "kernelspec": {
   "display_name": "Python 3",
   "language": "python",
   "name": "python3"
  },
  "language_info": {
   "codemirror_mode": {
    "name": "ipython",
    "version": 3
   },
   "file_extension": ".py",
   "mimetype": "text/x-python",
   "name": "python",
   "nbconvert_exporter": "python",
   "pygments_lexer": "ipython3",
   "version": "3.8.8"
  }
 },
 "nbformat": 4,
 "nbformat_minor": 5
}
