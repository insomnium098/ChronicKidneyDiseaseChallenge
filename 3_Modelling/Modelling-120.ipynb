{
 "cells": [
  {
   "cell_type": "code",
   "execution_count": 167,
   "id": "d05dedac",
   "metadata": {},
   "outputs": [],
   "source": [
    "import numpy as np\n",
    "import pandas as pd\n",
    "from sklearn.preprocessing import LabelEncoder\n",
    "from sklearn.preprocessing import OneHotEncoder\n",
    "from sklearn.model_selection import train_test_split\n",
    "from sklearn.preprocessing import StandardScaler\n",
    "from sklearn.preprocessing import Normalizer\n",
    "#from imblearn.over_sampling import *\n",
    "import xgboost as xgb\n",
    "from sklearn.inspection import permutation_importance\n",
    "from sklearn.model_selection import KFold\n",
    "from sklearn.model_selection import cross_val_score\n",
    "from hyperopt import STATUS_OK, Trials, fmin, hp, tpe\n",
    "from sklearn.metrics import accuracy_score\n",
    "from matplotlib import pyplot\n",
    "import shap"
   ]
  },
  {
   "cell_type": "code",
   "execution_count": 3,
   "id": "b2368b22",
   "metadata": {},
   "outputs": [],
   "source": [
    "datos = pd.read_csv(\"../2_DataPreparation/DataPrepared_120.csv\")"
   ]
  },
  {
   "cell_type": "code",
   "execution_count": 4,
   "id": "f69cf78c",
   "metadata": {},
   "outputs": [
    {
     "data": {
      "text/html": [
       "<div>\n",
       "<style scoped>\n",
       "    .dataframe tbody tr th:only-of-type {\n",
       "        vertical-align: middle;\n",
       "    }\n",
       "\n",
       "    .dataframe tbody tr th {\n",
       "        vertical-align: top;\n",
       "    }\n",
       "\n",
       "    .dataframe thead th {\n",
       "        text-align: right;\n",
       "    }\n",
       "</style>\n",
       "<table border=\"1\" class=\"dataframe\">\n",
       "  <thead>\n",
       "    <tr style=\"text-align: right;\">\n",
       "      <th></th>\n",
       "      <th>id</th>\n",
       "      <th>Window</th>\n",
       "      <th>glucose_value</th>\n",
       "      <th>difference_glucose_normal</th>\n",
       "      <th>is_diabetes_diabetes</th>\n",
       "      <th>is_diabetes_normal</th>\n",
       "      <th>is_diabetes_prediabetes</th>\n",
       "      <th>hgb_value</th>\n",
       "      <th>hgb_class_High</th>\n",
       "      <th>hgb_class_Low</th>\n",
       "      <th>...</th>\n",
       "      <th>WindowCombinationDrugs_metoprolol-valsartan-100-640</th>\n",
       "      <th>WindowCombinationDrugs_metoprolol-metoprolol-metoprolol-100-50-100</th>\n",
       "      <th>WindowCombinationDrugs_metoprolol-metoprolol-valsartan-50-100-640</th>\n",
       "      <th>WindowCombinationDrugs_pitavastatin-2</th>\n",
       "      <th>Drug_DailyDosage_DurationDose_pitavastatin-2-3</th>\n",
       "      <th>WindowCombinationDrugs_atorvastatin-atorvastatin-metformin-20-20-1000</th>\n",
       "      <th>WindowCombinationDrugs_atorvastatin-losartan-losartan-losartan-10-100-100-100</th>\n",
       "      <th>WindowCombinationDrugs_atorvastatin-atorvastatin-atorvastatin-losartan-losartan-losartan-losartan-10-10-10-100-100-100-100</th>\n",
       "      <th>WindowCombinationDrugs_atorvastatin-losartan-10-100</th>\n",
       "      <th>Stage_Progress</th>\n",
       "    </tr>\n",
       "  </thead>\n",
       "  <tbody>\n",
       "    <tr>\n",
       "      <th>0</th>\n",
       "      <td>0</td>\n",
       "      <td>1080</td>\n",
       "      <td>5.780000</td>\n",
       "      <td>1.920000</td>\n",
       "      <td>0</td>\n",
       "      <td>1</td>\n",
       "      <td>0</td>\n",
       "      <td>12.672149</td>\n",
       "      <td>0</td>\n",
       "      <td>1</td>\n",
       "      <td>...</td>\n",
       "      <td>0</td>\n",
       "      <td>0</td>\n",
       "      <td>0</td>\n",
       "      <td>0</td>\n",
       "      <td>0</td>\n",
       "      <td>0</td>\n",
       "      <td>0</td>\n",
       "      <td>0</td>\n",
       "      <td>0</td>\n",
       "      <td>1</td>\n",
       "    </tr>\n",
       "    <tr>\n",
       "      <th>1</th>\n",
       "      <td>0</td>\n",
       "      <td>120</td>\n",
       "      <td>6.351074</td>\n",
       "      <td>1.348926</td>\n",
       "      <td>0</td>\n",
       "      <td>1</td>\n",
       "      <td>0</td>\n",
       "      <td>13.496116</td>\n",
       "      <td>0</td>\n",
       "      <td>1</td>\n",
       "      <td>...</td>\n",
       "      <td>0</td>\n",
       "      <td>0</td>\n",
       "      <td>0</td>\n",
       "      <td>0</td>\n",
       "      <td>0</td>\n",
       "      <td>0</td>\n",
       "      <td>0</td>\n",
       "      <td>0</td>\n",
       "      <td>0</td>\n",
       "      <td>1</td>\n",
       "    </tr>\n",
       "    <tr>\n",
       "      <th>2</th>\n",
       "      <td>0</td>\n",
       "      <td>1200</td>\n",
       "      <td>5.780000</td>\n",
       "      <td>1.920000</td>\n",
       "      <td>0</td>\n",
       "      <td>1</td>\n",
       "      <td>0</td>\n",
       "      <td>13.645556</td>\n",
       "      <td>0</td>\n",
       "      <td>1</td>\n",
       "      <td>...</td>\n",
       "      <td>0</td>\n",
       "      <td>0</td>\n",
       "      <td>0</td>\n",
       "      <td>0</td>\n",
       "      <td>0</td>\n",
       "      <td>0</td>\n",
       "      <td>0</td>\n",
       "      <td>0</td>\n",
       "      <td>0</td>\n",
       "      <td>1</td>\n",
       "    </tr>\n",
       "    <tr>\n",
       "      <th>3</th>\n",
       "      <td>0</td>\n",
       "      <td>240</td>\n",
       "      <td>7.200000</td>\n",
       "      <td>0.500000</td>\n",
       "      <td>0</td>\n",
       "      <td>1</td>\n",
       "      <td>0</td>\n",
       "      <td>13.390000</td>\n",
       "      <td>0</td>\n",
       "      <td>1</td>\n",
       "      <td>...</td>\n",
       "      <td>0</td>\n",
       "      <td>0</td>\n",
       "      <td>0</td>\n",
       "      <td>0</td>\n",
       "      <td>0</td>\n",
       "      <td>0</td>\n",
       "      <td>0</td>\n",
       "      <td>0</td>\n",
       "      <td>0</td>\n",
       "      <td>1</td>\n",
       "    </tr>\n",
       "    <tr>\n",
       "      <th>4</th>\n",
       "      <td>0</td>\n",
       "      <td>360</td>\n",
       "      <td>7.082231</td>\n",
       "      <td>0.617769</td>\n",
       "      <td>0</td>\n",
       "      <td>1</td>\n",
       "      <td>0</td>\n",
       "      <td>13.049091</td>\n",
       "      <td>0</td>\n",
       "      <td>1</td>\n",
       "      <td>...</td>\n",
       "      <td>0</td>\n",
       "      <td>0</td>\n",
       "      <td>0</td>\n",
       "      <td>0</td>\n",
       "      <td>0</td>\n",
       "      <td>0</td>\n",
       "      <td>0</td>\n",
       "      <td>0</td>\n",
       "      <td>0</td>\n",
       "      <td>1</td>\n",
       "    </tr>\n",
       "  </tbody>\n",
       "</table>\n",
       "<p>5 rows × 946 columns</p>\n",
       "</div>"
      ],
      "text/plain": [
       "   id  Window  glucose_value  difference_glucose_normal  is_diabetes_diabetes  \\\n",
       "0   0    1080       5.780000                   1.920000                     0   \n",
       "1   0     120       6.351074                   1.348926                     0   \n",
       "2   0    1200       5.780000                   1.920000                     0   \n",
       "3   0     240       7.200000                   0.500000                     0   \n",
       "4   0     360       7.082231                   0.617769                     0   \n",
       "\n",
       "   is_diabetes_normal  is_diabetes_prediabetes  hgb_value  hgb_class_High  \\\n",
       "0                   1                        0  12.672149               0   \n",
       "1                   1                        0  13.496116               0   \n",
       "2                   1                        0  13.645556               0   \n",
       "3                   1                        0  13.390000               0   \n",
       "4                   1                        0  13.049091               0   \n",
       "\n",
       "   hgb_class_Low  ...  WindowCombinationDrugs_metoprolol-valsartan-100-640  \\\n",
       "0              1  ...                                                  0     \n",
       "1              1  ...                                                  0     \n",
       "2              1  ...                                                  0     \n",
       "3              1  ...                                                  0     \n",
       "4              1  ...                                                  0     \n",
       "\n",
       "   WindowCombinationDrugs_metoprolol-metoprolol-metoprolol-100-50-100  \\\n",
       "0                                                  0                    \n",
       "1                                                  0                    \n",
       "2                                                  0                    \n",
       "3                                                  0                    \n",
       "4                                                  0                    \n",
       "\n",
       "   WindowCombinationDrugs_metoprolol-metoprolol-valsartan-50-100-640  \\\n",
       "0                                                  0                   \n",
       "1                                                  0                   \n",
       "2                                                  0                   \n",
       "3                                                  0                   \n",
       "4                                                  0                   \n",
       "\n",
       "   WindowCombinationDrugs_pitavastatin-2  \\\n",
       "0                                      0   \n",
       "1                                      0   \n",
       "2                                      0   \n",
       "3                                      0   \n",
       "4                                      0   \n",
       "\n",
       "   Drug_DailyDosage_DurationDose_pitavastatin-2-3  \\\n",
       "0                                               0   \n",
       "1                                               0   \n",
       "2                                               0   \n",
       "3                                               0   \n",
       "4                                               0   \n",
       "\n",
       "   WindowCombinationDrugs_atorvastatin-atorvastatin-metformin-20-20-1000  \\\n",
       "0                                                  0                       \n",
       "1                                                  0                       \n",
       "2                                                  0                       \n",
       "3                                                  0                       \n",
       "4                                                  0                       \n",
       "\n",
       "   WindowCombinationDrugs_atorvastatin-losartan-losartan-losartan-10-100-100-100  \\\n",
       "0                                                  0                               \n",
       "1                                                  0                               \n",
       "2                                                  0                               \n",
       "3                                                  0                               \n",
       "4                                                  0                               \n",
       "\n",
       "   WindowCombinationDrugs_atorvastatin-atorvastatin-atorvastatin-losartan-losartan-losartan-losartan-10-10-10-100-100-100-100  \\\n",
       "0                                                  0                                                                            \n",
       "1                                                  0                                                                            \n",
       "2                                                  0                                                                            \n",
       "3                                                  0                                                                            \n",
       "4                                                  0                                                                            \n",
       "\n",
       "   WindowCombinationDrugs_atorvastatin-losartan-10-100  Stage_Progress  \n",
       "0                                                  0                 1  \n",
       "1                                                  0                 1  \n",
       "2                                                  0                 1  \n",
       "3                                                  0                 1  \n",
       "4                                                  0                 1  \n",
       "\n",
       "[5 rows x 946 columns]"
      ]
     },
     "execution_count": 4,
     "metadata": {},
     "output_type": "execute_result"
    }
   ],
   "source": [
    "datos.head()"
   ]
  },
  {
   "cell_type": "code",
   "execution_count": 5,
   "id": "692e83db",
   "metadata": {},
   "outputs": [],
   "source": [
    "datosResponse = datos[\"Stage_Progress\"].to_numpy()"
   ]
  },
  {
   "cell_type": "code",
   "execution_count": 6,
   "id": "a51fb2f8",
   "metadata": {},
   "outputs": [],
   "source": [
    "#datos = datos[[\"CentroEntrega\",\"RegionEntrega\",\"CantidadDespuesCritica\",\"VolumenHLOrdenado\",\"SubCanal\"]]\n",
    "datos = datos.loc[:, datos.columns != 'Stage_Progress']\n",
    "datos = datos.loc[:, datos.columns != 'id']\n",
    "datos = datos.loc[:, datos.columns != 'Window']\n",
    "datos = datos.loc[:, datos.columns != 'start_day']\n",
    "datos = datos.loc[:, datos.columns != 'end_day']"
   ]
  },
  {
   "cell_type": "code",
   "execution_count": 7,
   "id": "aaf3d67f",
   "metadata": {},
   "outputs": [
    {
     "name": "stdout",
     "output_type": "stream",
     "text": [
      "glucose_value\n",
      "difference_glucose_normal\n",
      "is_diabetes_diabetes\n",
      "is_diabetes_normal\n",
      "is_diabetes_prediabetes\n",
      "hgb_value\n",
      "hgb_class_High\n",
      "hgb_class_Low\n",
      "hgb_class_Normal\n",
      "sbp_value\n",
      "dbp_value\n",
      "sbp_diff_normal\n",
      "dbp_diff_normal\n",
      "bp_class_Elevated\n",
      "bp_class_Hypertension1\n",
      "bp_class_Hypertension2\n",
      "bp_class_HypertensiveCrisis\n",
      "bp_class_Normal\n",
      "bp_is_controlled_0\n",
      "bp_is_controlled_1\n",
      "ldl_value\n",
      "diff_Ldl_normal\n",
      "LDL_class_BorderlineHigh\n",
      "LDL_class_High\n",
      "LDL_class_NearNormal\n",
      "LDL_class_Normal\n",
      "LDL_class_VeryHigh\n",
      "creatinine_value\n",
      "GFR\n",
      "gfr_evolution\n",
      "gfr_class_G1\n",
      "gfr_class_G2\n",
      "gfr_class_G3a\n",
      "gfr_class_G3b\n",
      "gfr_class_G4\n",
      "gfr_class_G5\n",
      "age\n",
      "race_Asian\n",
      "race_Black\n",
      "race_Hispanic\n",
      "race_Unknown\n",
      "race_White\n",
      "gender_Female\n",
      "gender_Male\n",
      "durationDose\n",
      "WindowNumberDrugs\n",
      "TotalDailyDosage\n",
      "drug_atorvastatin\n",
      "drug_losartan\n",
      "drug_metformin\n",
      "WindowCombinationDrugs_atorvastatin-atorvastatin-losartan-metformin-10-10-100-1000\n",
      "Drug_DailyDosage_DurationDose_atorvastatin-10-90\n",
      "Drug_DailyDosage_DurationDose_losartan-100-270\n",
      "Drug_DailyDosage_DurationDose_metformin-1000-90\n",
      "WindowCombinationDrugs_atorvastatin-losartan-metformin-10-100-1000\n",
      "Drug_DailyDosage_DurationDose_metformin-1000-150\n",
      "WindowCombinationDrugs_losartan-metformin-metformin-metformin-100-1000-1000-1000\n",
      "Drug_DailyDosage_DurationDose_losartan-100-90\n",
      "WindowCombinationDrugs_losartan-losartan-metformin-metformin-100-100-1000-1000\n",
      "WindowCombinationDrugs_losartan-metformin-100-1000\n",
      "drug_None\n",
      "WindowCombinationDrugs_None-0\n",
      "Drug_DailyDosage_DurationDose_None-0-0\n",
      "WindowCombinationDrugs_atorvastatin-atorvastatin-20-20\n",
      "Drug_DailyDosage_DurationDose_atorvastatin-20-30\n",
      "Drug_DailyDosage_DurationDose_atorvastatin-20-90\n",
      "WindowCombinationDrugs_atorvastatin-40\n",
      "Drug_DailyDosage_DurationDose_atorvastatin-40-90\n",
      "WindowCombinationDrugs_atorvastatin-atorvastatin-40-40\n",
      "drug_rosuvastatin\n",
      "WindowCombinationDrugs_rosuvastatin-10\n",
      "Drug_DailyDosage_DurationDose_rosuvastatin-10-90\n",
      "WindowCombinationDrugs_atorvastatin-10\n",
      "WindowCombinationDrugs_atorvastatin-atorvastatin-10-10\n",
      "drug_pravastatin\n",
      "WindowCombinationDrugs_losartan-losartan-metformin-pravastatin-pravastatin-100-100-850-40-40\n",
      "Drug_DailyDosage_DurationDose_metformin-850-90\n",
      "Drug_DailyDosage_DurationDose_pravastatin-40-90\n",
      "WindowCombinationDrugs_metformin-metformin-pravastatin-pravastatin-850-850-40-40\n",
      "WindowCombinationDrugs_losartan-metformin-metformin-pravastatin-pravastatin-pravastatin-100-850-850-40-40-40\n",
      "WindowCombinationDrugs_losartan-metformin-metformin-metformin-pravastatin-pravastatin-pravastatin-pravastatin-100-850-850-850-40-40-40-40\n",
      "WindowCombinationDrugs_losartan-metformin-metformin-metformin-pravastatin-pravastatin-pravastatin-100-850-850-850-40-40-40\n",
      "WindowCombinationDrugs_metformin-pravastatin-850-40\n",
      "drug_carvedilol\n",
      "WindowCombinationDrugs_carvedilol-12.5\n",
      "Drug_DailyDosage_DurationDose_carvedilol-12.5-90\n",
      "WindowCombinationDrugs_carvedilol-losartan-losartan-rosuvastatin-rosuvastatin-12.5-100-100-10-10\n",
      "WindowCombinationDrugs_carvedilol-carvedilol-carvedilol-carvedilol-losartan-losartan-losartan-rosuvastatin-rosuvastatin-rosuvastatin-12.5-12.5-12.5-12.5-100-100-100-10-10-10\n",
      "WindowCombinationDrugs_carvedilol-losartan-rosuvastatin-12.5-100-10\n",
      "drug_valsartan\n",
      "WindowCombinationDrugs_atorvastatin-atorvastatin-valsartan-40-40-160\n",
      "Drug_DailyDosage_DurationDose_valsartan-160-90\n",
      "WindowCombinationDrugs_atorvastatin-valsartan-40-160\n",
      "WindowCombinationDrugs_atorvastatin-atorvastatin-valsartan-valsartan-40-40-160-160\n",
      "WindowCombinationDrugs_atorvastatin-atorvastatin-valsartan-valsartan-40-40-320-320\n",
      "Drug_DailyDosage_DurationDose_valsartan-320-30\n",
      "drug_metoprolol\n",
      "WindowCombinationDrugs_atorvastatin-atorvastatin-metoprolol-metoprolol-metoprolol-valsartan-40-40-50-50-50-320\n",
      "Drug_DailyDosage_DurationDose_metoprolol-50-90\n",
      "Drug_DailyDosage_DurationDose_valsartan-320-90\n",
      "WindowCombinationDrugs_atorvastatin-atorvastatin-metoprolol-metoprolol-metoprolol-metoprolol-valsartan-40-40-50-50-50-50-320\n",
      "Drug_DailyDosage_DurationDose_metoprolol-50-30\n",
      "WindowCombinationDrugs_atorvastatin-atorvastatin-atorvastatin-metoprolol-metoprolol-valsartan-valsartan-40-40-80-50-50-320-320\n",
      "Drug_DailyDosage_DurationDose_atorvastatin-80-90\n",
      "WindowCombinationDrugs_atorvastatin-atorvastatin-metoprolol-valsartan-valsartan-40-80-50-320-320\n",
      "WindowCombinationDrugs_metoprolol-metoprolol-valsartan-50-50-320\n",
      "WindowCombinationDrugs_metoprolol-50\n",
      "WindowCombinationDrugs_atorvastatin-20\n",
      "WindowCombinationDrugs_metoprolol-100\n",
      "Drug_DailyDosage_DurationDose_metoprolol-100-30\n",
      "WindowCombinationDrugs_metoprolol-metoprolol-100-100\n",
      "Drug_DailyDosage_DurationDose_metoprolol-100-90\n",
      "drug_simvastatin\n",
      "WindowCombinationDrugs_simvastatin-40\n",
      "Drug_DailyDosage_DurationDose_simvastatin-40-270\n",
      "WindowCombinationDrugs_losartan-metformin-metoprolol-simvastatin-100-1000-25-40\n",
      "Drug_DailyDosage_DurationDose_losartan-100-30\n",
      "Drug_DailyDosage_DurationDose_metformin-1000-30\n",
      "Drug_DailyDosage_DurationDose_metoprolol-25-180\n",
      "WindowCombinationDrugs_losartan-metformin-metoprolol-simvastatin-simvastatin-100-1000-25-40-40\n",
      "Drug_DailyDosage_DurationDose_simvastatin-40-90\n",
      "Drug_DailyDosage_DurationDose_metformin-1000-120\n",
      "WindowCombinationDrugs_atorvastatin-losartan-metformin-metoprolol-simvastatin-simvastatin-40-100-1000-25-40-40\n",
      "Drug_DailyDosage_DurationDose_atorvastatin-40-30\n",
      "WindowCombinationDrugs_atorvastatin-metoprolol-simvastatin-40-25-40\n",
      "WindowCombinationDrugs_metformin-metformin-simvastatin-1000-1000-80\n",
      "Drug_DailyDosage_DurationDose_simvastatin-80-90\n",
      "WindowCombinationDrugs_metformin-simvastatin-1000-80\n",
      "WindowCombinationDrugs_metformin-2000\n",
      "Drug_DailyDosage_DurationDose_metformin-2000-90\n",
      "WindowCombinationDrugs_carvedilol-25\n",
      "Drug_DailyDosage_DurationDose_carvedilol-25-30\n",
      "WindowCombinationDrugs_losartan-100\n",
      "WindowCombinationDrugs_carvedilol-losartan-losartan-valsartan-50-100-100-640\n",
      "Drug_DailyDosage_DurationDose_carvedilol-50-30\n",
      "Drug_DailyDosage_DurationDose_valsartan-640-45\n",
      "drug_bisoprolol\n",
      "WindowCombinationDrugs_bisoprolol-simvastatin-simvastatin-5-40-40\n",
      "Drug_DailyDosage_DurationDose_bisoprolol-5-90\n",
      "WindowCombinationDrugs_bisoprolol-bisoprolol-metformin-simvastatin-simvastatin-5-5-1500-40-40\n",
      "Drug_DailyDosage_DurationDose_metformin-1500-90\n",
      "WindowCombinationDrugs_bisoprolol-metformin-metformin-simvastatin-simvastatin-5-1500-1500-40-40\n",
      "WindowCombinationDrugs_bisoprolol-bisoprolol-metformin-metformin-simvastatin-simvastatin-simvastatin-5-5-1500-1500-40-40-40\n",
      "WindowCombinationDrugs_bisoprolol-metformin-simvastatin-5-1500-40\n",
      "drug_atenolol\n",
      "WindowCombinationDrugs_atenolol-atenolol-atorvastatin-losartan-valsartan-valsartan-50-25-40-100-320-320\n",
      "Drug_DailyDosage_DurationDose_atenolol-25-90\n",
      "Drug_DailyDosage_DurationDose_atenolol-50-90\n",
      "WindowCombinationDrugs_atenolol-atenolol-atenolol-atorvastatin-losartan-valsartan-valsartan-50-25-50-40-100-320-320\n",
      "WindowCombinationDrugs_atenolol-atorvastatin-losartan-50-40-100\n",
      "WindowCombinationDrugs_atenolol-atorvastatin-atorvastatin-losartan-valsartan-50-40-40-100-160\n",
      "Drug_DailyDosage_DurationDose_valsartan-160-75\n",
      "WindowCombinationDrugs_atenolol-atenolol-atorvastatin-losartan-valsartan-50-50-40-100-160\n",
      "WindowCombinationDrugs_atenolol-50\n",
      "WindowCombinationDrugs_carvedilol-carvedilol-carvedilol-simvastatin-12.5-12.5-12.5-20\n",
      "Drug_DailyDosage_DurationDose_carvedilol-12.5-30\n",
      "Drug_DailyDosage_DurationDose_simvastatin-20-30\n",
      "WindowCombinationDrugs_atorvastatin-losartan-20-25\n",
      "Drug_DailyDosage_DurationDose_losartan-25-30\n",
      "WindowCombinationDrugs_atorvastatin-carvedilol-losartan-metformin-20-12.5-25-500\n",
      "Drug_DailyDosage_DurationDose_metformin-500-60\n",
      "WindowCombinationDrugs_atorvastatin-atorvastatin-carvedilol-losartan-20-20-12.5-25\n",
      "WindowCombinationDrugs_metformin-metformin-metoprolol-metoprolol-pravastatin-2000-2000-200-200-40\n",
      "Drug_DailyDosage_DurationDose_metformin-2000-30\n",
      "Drug_DailyDosage_DurationDose_metoprolol-200-90\n",
      "WindowCombinationDrugs_metformin-metoprolol-pravastatin-2000-200-40\n",
      "WindowCombinationDrugs_metformin-metformin-metoprolol-metoprolol-pravastatin-pravastatin-pravastatin-2000-2000-200-200-40-40-40\n",
      "WindowCombinationDrugs_metformin-metoprolol-pravastatin-pravastatin-2000-200-40-40\n",
      "WindowCombinationDrugs_atorvastatin-atorvastatin-metformin-metformin-20-20-2000-2000\n",
      "WindowCombinationDrugs_atorvastatin-metformin-20-2000\n",
      "WindowCombinationDrugs_metformin-simvastatin-500-10\n",
      "Drug_DailyDosage_DurationDose_metformin-500-90\n",
      "Drug_DailyDosage_DurationDose_simvastatin-10-90\n",
      "WindowCombinationDrugs_losartan-simvastatin-25-10\n",
      "WindowCombinationDrugs_losartan-metformin-simvastatin-25-500-10\n",
      "Drug_DailyDosage_DurationDose_losartan-25-90\n",
      "WindowCombinationDrugs_metformin-500\n",
      "Drug_DailyDosage_DurationDose_metformin-500-30\n",
      "WindowCombinationDrugs_metformin-metformin-metformin-metformin-500-500-500-500\n",
      "WindowCombinationDrugs_metformin-metformin-metformin-500-500-500\n",
      "WindowCombinationDrugs_atorvastatin-losartan-metformin-40-100-1000\n",
      "Drug_DailyDosage_DurationDose_atorvastatin-40-270\n",
      "WindowCombinationDrugs_atorvastatin-losartan-40-100\n",
      "WindowCombinationDrugs_metformin-1000\n",
      "drug_lovastatin\n",
      "WindowCombinationDrugs_lovastatin-metformin-valsartan-40-500-640\n",
      "Drug_DailyDosage_DurationDose_lovastatin-40-270\n",
      "Drug_DailyDosage_DurationDose_metformin-500-270\n",
      "WindowCombinationDrugs_lovastatin-metformin-valsartan-valsartan-40-500-640-640\n",
      "WindowCombinationDrugs_lovastatin-metformin-metformin-40-500-500\n",
      "WindowCombinationDrugs_metformin-metformin-metformin-valsartan-500-500-500-640\n",
      "WindowCombinationDrugs_metformin-valsartan-500-640\n",
      "WindowCombinationDrugs_valsartan-640\n",
      "WindowCombinationDrugs_atorvastatin-atorvastatin-metformin-10-10-500\n",
      "Drug_DailyDosage_DurationDose_metformin-500-180\n",
      "WindowCombinationDrugs_atorvastatin-atorvastatin-metformin-metformin-metformin-10-10-500-500-500\n",
      "WindowCombinationDrugs_atorvastatin-metformin-metformin-10-500-500\n",
      "drug_olmesartan\n",
      "WindowCombinationDrugs_atenolol-olmesartan-50-40\n",
      "Drug_DailyDosage_DurationDose_atenolol-50-30\n",
      "Drug_DailyDosage_DurationDose_olmesartan-40-30\n",
      "WindowCombinationDrugs_olmesartan-40\n",
      "Drug_DailyDosage_DurationDose_metoprolol-50-180\n",
      "WindowCombinationDrugs_lovastatin-metformin-metoprolol-metoprolol-metoprolol-40-1000-50-25-50\n",
      "Drug_DailyDosage_DurationDose_lovastatin-40-30\n",
      "Drug_DailyDosage_DurationDose_metoprolol-25-30\n",
      "WindowCombinationDrugs_lovastatin-metformin-metoprolol-metoprolol-metoprolol-40-1000-25-50-25\n",
      "Drug_DailyDosage_DurationDose_metoprolol-25-300\n",
      "WindowCombinationDrugs_lovastatin-metoprolol-metoprolol-metoprolol-40-50-25-25\n",
      "WindowCombinationDrugs_lovastatin-metformin-metoprolol-metoprolol-metoprolol-40-1000-25-25-25\n",
      "WindowCombinationDrugs_metoprolol-metoprolol-metoprolol-25-25-25\n",
      "WindowCombinationDrugs_losartan-losartan-100-100\n",
      "WindowCombinationDrugs_carvedilol-pravastatin-6.25-20\n",
      "Drug_DailyDosage_DurationDose_carvedilol-6.25-90\n",
      "Drug_DailyDosage_DurationDose_pravastatin-20-30\n",
      "Drug_DailyDosage_DurationDose_pravastatin-20-90\n",
      "WindowCombinationDrugs_atenolol-atenolol-pravastatin-pravastatin-25-25-20-20\n",
      "Drug_DailyDosage_DurationDose_atenolol-25-540\n",
      "WindowCombinationDrugs_atenolol-atenolol-atenolol-pravastatin-pravastatin-25-25-25-20-20\n",
      "WindowCombinationDrugs_atenolol-atenolol-atenolol-pravastatin-25-25-25-20\n",
      "WindowCombinationDrugs_atenolol-atenolol-atenolol-25-25-25\n",
      "WindowCombinationDrugs_carvedilol-losartan-25-100\n",
      "Drug_DailyDosage_DurationDose_carvedilol-25-90\n",
      "WindowCombinationDrugs_carvedilol-carvedilol-losartan-losartan-25-25-100-100\n",
      "WindowCombinationDrugs_carvedilol-losartan-25-200\n",
      "Drug_DailyDosage_DurationDose_losartan-200-90\n",
      "WindowCombinationDrugs_carvedilol-pravastatin-simvastatin-valsartan-25-10-10-640\n",
      "Drug_DailyDosage_DurationDose_pravastatin-10-90\n",
      "Drug_DailyDosage_DurationDose_simvastatin-10-30\n",
      "Drug_DailyDosage_DurationDose_valsartan-640-135\n",
      "WindowCombinationDrugs_carvedilol-carvedilol-carvedilol-pravastatin-pravastatin-valsartan-12.5-25-12.5-10-10-640\n",
      "WindowCombinationDrugs_pravastatin-pravastatin-10-10\n",
      "WindowCombinationDrugs_pravastatin-10\n",
      "drug_irbesartan\n",
      "WindowCombinationDrugs_irbesartan-300\n",
      "Drug_DailyDosage_DurationDose_irbesartan-300-90\n",
      "WindowCombinationDrugs_atorvastatin-lovastatin-metformin-80-40-500\n",
      "Drug_DailyDosage_DurationDose_atorvastatin-80-270\n",
      "Drug_DailyDosage_DurationDose_lovastatin-40-90\n",
      "WindowCombinationDrugs_atorvastatin-80\n",
      "WindowCombinationDrugs_atenolol-atorvastatin-metformin-25-80-500\n",
      "WindowCombinationDrugs_atenolol-atenolol-atorvastatin-atorvastatin-metformin-metformin-25-25-80-80-500-500\n",
      "WindowCombinationDrugs_atorvastatin-metformin-metformin-metformin-metformin-metformin-metoprolol-40-500-500-500-500-500-50\n",
      "WindowCombinationDrugs_metformin-metformin-metformin-metformin-metformin-500-500-500-500-500\n",
      "WindowCombinationDrugs_atorvastatin-metformin-metformin-metformin-metoprolol-40-500-500-500-50\n",
      "WindowCombinationDrugs_metformin-rosuvastatin-500-40\n",
      "Drug_DailyDosage_DurationDose_rosuvastatin-40-30\n",
      "WindowCombinationDrugs_metformin-metformin-rosuvastatin-rosuvastatin-rosuvastatin-500-500-40-40-40\n",
      "Drug_DailyDosage_DurationDose_rosuvastatin-40-90\n",
      "WindowCombinationDrugs_pravastatin-80\n",
      "Drug_DailyDosage_DurationDose_pravastatin-80-90\n",
      "WindowCombinationDrugs_atorvastatin-pravastatin-40-80\n",
      "WindowCombinationDrugs_atorvastatin-atorvastatin-atorvastatin-40-40-40\n",
      "WindowCombinationDrugs_atenolol-simvastatin-100-10\n",
      "Drug_DailyDosage_DurationDose_atenolol-100-90\n",
      "WindowCombinationDrugs_atenolol-atenolol-simvastatin-simvastatin-simvastatin-100-100-10-10-10\n",
      "WindowCombinationDrugs_atenolol-simvastatin-simvastatin-simvastatin-100-10-10-10\n",
      "WindowCombinationDrugs_atenolol-100\n",
      "WindowCombinationDrugs_bisoprolol-10\n",
      "Drug_DailyDosage_DurationDose_bisoprolol-10-90\n",
      "WindowCombinationDrugs_bisoprolol-losartan-metformin-pravastatin-10-100-500-40\n",
      "WindowCombinationDrugs_bisoprolol-bisoprolol-losartan-losartan-metformin-metformin-pravastatin-pravastatin-10-10-100-100-500-500-40-40\n",
      "WindowCombinationDrugs_bisoprolol-losartan-pravastatin-10-100-40\n",
      "WindowCombinationDrugs_losartan-metformin-simvastatin-50-500-40\n",
      "Drug_DailyDosage_DurationDose_losartan-50-90\n",
      "WindowCombinationDrugs_losartan-losartan-simvastatin-50-50-40\n",
      "WindowCombinationDrugs_metformin-simvastatin-500-40\n",
      "WindowCombinationDrugs_losartan-metformin-50-2000\n",
      "WindowCombinationDrugs_carvedilol-50\n",
      "WindowCombinationDrugs_carvedilol-carvedilol-carvedilol-50-50-6.25\n",
      "Drug_DailyDosage_DurationDose_carvedilol-6.25-30\n",
      "WindowCombinationDrugs_pravastatin-20\n",
      "WindowCombinationDrugs_pravastatin-pravastatin-20-20\n",
      "Drug_DailyDosage_DurationDose_pravastatin-20-60\n",
      "WindowCombinationDrugs_atenolol-atenolol-atenolol-50-50-50\n",
      "WindowCombinationDrugs_atenolol-atenolol-atenolol-atenolol-atorvastatin-metformin-50-50-50-50-20-2000\n",
      "WindowCombinationDrugs_atenolol-atenolol-atenolol-atorvastatin-atorvastatin-atorvastatin-metformin-metformin-metformin-metformin-50-50-50-20-20-20-2000-2000-1700-2000\n",
      "Drug_DailyDosage_DurationDose_metformin-1700-90\n",
      "WindowCombinationDrugs_atenolol-atenolol-atenolol-atorvastatin-atorvastatin-atorvastatin-metformin-metformin-metformin-metformin-50-50-50-20-20-20-2000-1700-2000-1700\n",
      "WindowCombinationDrugs_atenolol-atorvastatin-metformin-50-20-1700\n",
      "WindowCombinationDrugs_atorvastatin-carvedilol-simvastatin-80-12.5-40\n",
      "Drug_DailyDosage_DurationDose_atorvastatin-80-150\n",
      "Drug_DailyDosage_DurationDose_simvastatin-40-30\n",
      "WindowCombinationDrugs_atorvastatin-carvedilol-simvastatin-20-12.5-40\n",
      "Drug_DailyDosage_DurationDose_atorvastatin-20-180\n",
      "WindowCombinationDrugs_atorvastatin-atorvastatin-atorvastatin-20-40-20\n",
      "WindowCombinationDrugs_atorvastatin-carvedilol-40-12.5\n",
      "WindowCombinationDrugs_atorvastatin-olmesartan-20-40\n",
      "Drug_DailyDosage_DurationDose_olmesartan-40-90\n",
      "WindowCombinationDrugs_atorvastatin-atorvastatin-olmesartan-olmesartan-olmesartan-olmesartan-olmesartan-20-20-40-40-40-40-40\n",
      "WindowCombinationDrugs_atorvastatin-olmesartan-olmesartan-olmesartan-20-40-40-40\n",
      "WindowCombinationDrugs_atorvastatin-olmesartan-olmesartan-20-40-40\n",
      "WindowCombinationDrugs_metformin-simvastatin-1000-40\n",
      "WindowCombinationDrugs_metformin-simvastatin-simvastatin-1000-40-20\n",
      "Drug_DailyDosage_DurationDose_simvastatin-20-90\n",
      "WindowCombinationDrugs_simvastatin-simvastatin-40-20\n",
      "WindowCombinationDrugs_rosuvastatin-40\n",
      "WindowCombinationDrugs_metformin-metformin-metformin-1000-500-500\n",
      "WindowCombinationDrugs_rosuvastatin-rosuvastatin-40-20\n",
      "Drug_DailyDosage_DurationDose_rosuvastatin-20-90\n",
      "drug_canagliflozin\n",
      "drug_dapagliflozin\n",
      "WindowCombinationDrugs_canagliflozin-dapagliflozin-metformin-rosuvastatin-rosuvastatin-300-10-500-40-20\n",
      "Drug_DailyDosage_DurationDose_canagliflozin-300-30\n",
      "Drug_DailyDosage_DurationDose_dapagliflozin-10-30\n",
      "WindowCombinationDrugs_canagliflozin-canagliflozin-dapagliflozin-metformin-300-300-10-500\n",
      "Drug_DailyDosage_DurationDose_canagliflozin-300-90\n",
      "WindowCombinationDrugs_atenolol-atenolol-losartan-losartan-simvastatin-simvastatin-100-100-100-100-40-40\n",
      "WindowCombinationDrugs_atenolol-atenolol-atenolol-atenolol-losartan-losartan-simvastatin-simvastatin-simvastatin-simvastatin-100-100-100-100-100-100-40-40-40-40\n",
      "WindowCombinationDrugs_atenolol-atenolol-atenolol-atenolol-atenolol-atenolol-losartan-losartan-losartan-losartan-losartan-losartan-simvastatin-simvastatin-simvastatin-simvastatin-simvastatin-simvastatin-100-100-100-100-100-100-100-100-100-100-100-100-40-40-40-40-40-40\n",
      "Drug_DailyDosage_DurationDose_atenolol-100-30\n",
      "WindowCombinationDrugs_atenolol-atenolol-atenolol-losartan-losartan-losartan-simvastatin-simvastatin-simvastatin-100-100-100-100-100-100-40-40-40\n",
      "WindowCombinationDrugs_atenolol-losartan-simvastatin-100-100-40\n",
      "WindowCombinationDrugs_metformin-simvastatin-2000-40\n",
      "WindowCombinationDrugs_metformin-metformin-metformin-metformin-metoprolol-metoprolol-rosuvastatin-500-1000-1000-1000-25-25-10\n",
      "Drug_DailyDosage_DurationDose_rosuvastatin-10-84\n",
      "WindowCombinationDrugs_metformin-metformin-metformin-rosuvastatin-1000-1000-1000-10\n",
      "WindowCombinationDrugs_metoprolol-25\n",
      "WindowCombinationDrugs_rosuvastatin-rosuvastatin-10-10\n",
      "Drug_DailyDosage_DurationDose_rosuvastatin-10-108\n",
      "Drug_DailyDosage_DurationDose_rosuvastatin-10-120\n",
      "WindowCombinationDrugs_metformin-metformin-metoprolol-500-500-25\n",
      "WindowCombinationDrugs_simvastatin-5\n",
      "Drug_DailyDosage_DurationDose_simvastatin-5-30\n",
      "WindowCombinationDrugs_simvastatin-20\n",
      "WindowCombinationDrugs_simvastatin-simvastatin-20-20\n",
      "WindowCombinationDrugs_irbesartan-irbesartan-metformin-pravastatin-150-150-2000-40\n",
      "Drug_DailyDosage_DurationDose_irbesartan-150-90\n",
      "Drug_DailyDosage_DurationDose_pravastatin-40-270\n",
      "WindowCombinationDrugs_irbesartan-metformin-pravastatin-150-2000-40\n",
      "WindowCombinationDrugs_pravastatin-40\n",
      "WindowCombinationDrugs_metformin-pravastatin-valsartan-2000-40-160\n",
      "WindowCombinationDrugs_lovastatin-metformin-40-500\n",
      "WindowCombinationDrugs_losartan-losartan-lovastatin-metformin-50-50-40-500\n",
      "Drug_DailyDosage_DurationDose_losartan-50-30\n",
      "WindowCombinationDrugs_losartan-lovastatin-metformin-metformin-simvastatin-50-40-500-500-40\n",
      "WindowCombinationDrugs_losartan-metformin-metformin-simvastatin-100-500-500-40\n",
      "WindowCombinationDrugs_losartan-simvastatin-100-40\n",
      "WindowCombinationDrugs_simvastatin-simvastatin-40-40\n",
      "WindowCombinationDrugs_simvastatin-10\n",
      "WindowCombinationDrugs_simvastatin-simvastatin-10-10\n",
      "drug_telmisartan\n",
      "WindowCombinationDrugs_losartan-telmisartan-100-80\n",
      "Drug_DailyDosage_DurationDose_telmisartan-80-90\n",
      "WindowCombinationDrugs_losartan-simvastatin-telmisartan-100-10-80\n",
      "WindowCombinationDrugs_metformin-metformin-500-500\n",
      "WindowCombinationDrugs_rosuvastatin-20\n",
      "WindowCombinationDrugs_rosuvastatin-rosuvastatin-20-20\n",
      "WindowCombinationDrugs_metformin-metformin-metformin-metformin-metformin-500-500-500-500-1000\n",
      "WindowCombinationDrugs_metformin-metformin-metformin-metformin-metformin-1000-1000-1000-500-500\n",
      "Drug_DailyDosage_DurationDose_metformin-1000-60\n",
      "WindowCombinationDrugs_metformin-metformin-metformin-metformin-1000-500-1000-500\n",
      "Drug_DailyDosage_DurationDose_metformin-1000-180\n",
      "WindowCombinationDrugs_atorvastatin-atorvastatin-atorvastatin-metformin-metformin-metformin-metformin-metformin-40-40-40-500-500-500-500-500\n",
      "Drug_DailyDosage_DurationDose_atorvastatin-40-150\n",
      "Drug_DailyDosage_DurationDose_metformin-500-120\n",
      "WindowCombinationDrugs_bisoprolol-metformin-5-500\n",
      "WindowCombinationDrugs_atorvastatin-atorvastatin-metformin-40-40-500\n",
      "WindowCombinationDrugs_atorvastatin-metformin-simvastatin-40-1000-20\n",
      "WindowCombinationDrugs_atorvastatin-metformin-metformin-simvastatin-40-1000-1000-20\n",
      "WindowCombinationDrugs_atorvastatin-metformin-40-1000\n",
      "WindowCombinationDrugs_metformin-metformin-rosuvastatin-2000-2000-10\n",
      "Drug_DailyDosage_DurationDose_rosuvastatin-10-30\n",
      "WindowCombinationDrugs_metformin-rosuvastatin-2000-10\n",
      "WindowCombinationDrugs_atenolol-atenolol-atorvastatin-atorvastatin-atorvastatin-atorvastatin-50-50-20-20-10-20\n",
      "Drug_DailyDosage_DurationDose_atorvastatin-20-1\n",
      "WindowCombinationDrugs_atenolol-atenolol-atorvastatin-50-50-10\n",
      "WindowCombinationDrugs_atenolol-atenolol-atenolol-atenolol-atorvastatin-50-50-50-50-10\n",
      "WindowCombinationDrugs_losartan-metoprolol-metoprolol-simvastatin-25-100-100-40\n",
      "Drug_DailyDosage_DurationDose_metoprolol-100-45\n",
      "WindowCombinationDrugs_losartan-metoprolol-simvastatin-simvastatin-100-100-40-40\n",
      "WindowCombinationDrugs_metoprolol-simvastatin-simvastatin-100-40-40\n",
      "WindowCombinationDrugs_metoprolol-simvastatin-100-40\n",
      "WindowCombinationDrugs_metoprolol-metoprolol-simvastatin-simvastatin-100-100-40-40\n",
      "WindowCombinationDrugs_pravastatin-pravastatin-pravastatin-40-40-40\n",
      "WindowCombinationDrugs_atorvastatin-metformin-metoprolol-40-500-50\n",
      "WindowCombinationDrugs_atorvastatin-atorvastatin-atorvastatin-20-20-20\n",
      "WindowCombinationDrugs_pravastatin-pravastatin-pravastatin-20-20-20\n",
      "WindowCombinationDrugs_metformin-metformin-metformin-simvastatin-simvastatin-500-500-500-40-40\n",
      "WindowCombinationDrugs_losartan-losartan-metformin-metformin-metformin-metformin-simvastatin-simvastatin-100-100-500-500-500-500-40-40\n",
      "WindowCombinationDrugs_losartan-metformin-metformin-metformin-metformin-metformin-simvastatin-100-500-500-500-500-500-40\n",
      "WindowCombinationDrugs_losartan-losartan-metformin-simvastatin-100-100-500-40\n",
      "WindowCombinationDrugs_losartan-metformin-simvastatin-100-500-40\n",
      "WindowCombinationDrugs_losartan-losartan-losartan-metformin-metformin-simvastatin-simvastatin-100-100-100-500-500-40-40\n",
      "WindowCombinationDrugs_losartan-losartan-losartan-losartan-metformin-metformin-simvastatin-simvastatin-simvastatin-100-100-100-100-500-500-40-40-40\n",
      "WindowCombinationDrugs_metoprolol-rosuvastatin-50-10\n",
      "WindowCombinationDrugs_metoprolol-metoprolol-rosuvastatin-50-50-10\n",
      "WindowCombinationDrugs_atorvastatin-atorvastatin-metformin-metformin-metoprolol-metoprolol-20-20-500-500-50-50\n",
      "WindowCombinationDrugs_atorvastatin-metformin-metoprolol-20-500-50\n",
      "Drug_DailyDosage_DurationDose_metformin-500-10\n",
      "WindowCombinationDrugs_atorvastatin-atorvastatin-metformin-metoprolol-metoprolol-20-20-500-50-50\n",
      "Drug_DailyDosage_DurationDose_atenolol-50-270\n",
      "WindowCombinationDrugs_atenolol-simvastatin-50-40\n",
      "WindowCombinationDrugs_atenolol-atenolol-atenolol-simvastatin-simvastatin-50-50-50-40-40\n",
      "Drug_DailyDosage_DurationDose_atenolol-50-60\n",
      "WindowCombinationDrugs_atorvastatin-atorvastatin-metformin-40-20-2000\n",
      "WindowCombinationDrugs_atorvastatin-metformin-rosuvastatin-20-2000-40\n",
      "WindowCombinationDrugs_metformin-rosuvastatin-2000-40\n",
      "WindowCombinationDrugs_canagliflozin-canagliflozin-canagliflozin-metformin-rosuvastatin-rosuvastatin-100-300-100-2000-40-40\n",
      "Drug_DailyDosage_DurationDose_canagliflozin-100-90\n",
      "WindowCombinationDrugs_canagliflozin-canagliflozin-canagliflozin-metformin-rosuvastatin-rosuvastatin-rosuvastatin-rosuvastatin-100-300-100-2000-40-40-40-40\n",
      "Drug_DailyDosage_DurationDose_rosuvastatin-40-60\n",
      "drug_labetalol\n",
      "WindowCombinationDrugs_labetalol-600\n",
      "Drug_DailyDosage_DurationDose_labetalol-600-30\n",
      "WindowCombinationDrugs_labetalol-labetalol-600-600\n",
      "Drug_DailyDosage_DurationDose_labetalol-600-90\n",
      "WindowCombinationDrugs_metformin-metformin-metformin-valsartan-1000-1000-1000-320\n",
      "Drug_DailyDosage_DurationDose_valsartan-320-135\n",
      "WindowCombinationDrugs_metformin-metformin-metformin-metformin-metformin-valsartan-valsartan-valsartan-1000-1000-1000-1000-1000-320-320-320\n",
      "WindowCombinationDrugs_metformin-metformin-metformin-valsartan-valsartan-1000-1000-1000-320-320\n",
      "WindowCombinationDrugs_metformin-metformin-metformin-metformin-1000-1000-1000-1000\n",
      "WindowCombinationDrugs_canagliflozin-metformin-metformin-metformin-metformin-metformin-metformin-valsartan-300-1000-1000-1000-1000-1000-1000-320\n",
      "Drug_DailyDosage_DurationDose_valsartan-320-45\n",
      "WindowCombinationDrugs_metformin-simvastatin-simvastatin-2000-20-20\n",
      "WindowCombinationDrugs_atenolol-telmisartan-50-80\n",
      "WindowCombinationDrugs_atenolol-metformin-simvastatin-telmisartan-50-2000-20-80\n",
      "WindowCombinationDrugs_atorvastatin-losartan-metformin-40-100-500\n",
      "Drug_DailyDosage_DurationDose_metformin-500-540\n",
      "WindowCombinationDrugs_atorvastatin-metformin-40-500\n",
      "WindowCombinationDrugs_atorvastatin-losartan-10-50\n",
      "WindowCombinationDrugs_atorvastatin-atorvastatin-losartan-metformin-10-10-50-850\n",
      "WindowCombinationDrugs_atorvastatin-losartan-losartan-metformin-10-50-50-850\n",
      "WindowCombinationDrugs_atorvastatin-atorvastatin-atorvastatin-losartan-losartan-losartan-losartan-metformin-metformin-metformin-10-10-10-50-50-50-50-850-850-850\n",
      "Drug_DailyDosage_DurationDose_atorvastatin-10-30\n",
      "Drug_DailyDosage_DurationDose_metformin-850-30\n",
      "WindowCombinationDrugs_metformin-850\n",
      "WindowCombinationDrugs_atorvastatin-metformin-metformin-metformin-metformin-40-750-750-750-750\n",
      "Drug_DailyDosage_DurationDose_metformin-750-30\n",
      "Drug_DailyDosage_DurationDose_metformin-750-90\n",
      "WindowCombinationDrugs_atorvastatin-metformin-metformin-metformin-40-750-750-750\n",
      "WindowCombinationDrugs_atorvastatin-atorvastatin-metformin-40-40-750\n",
      "WindowCombinationDrugs_atorvastatin-atorvastatin-atorvastatin-metformin-metformin-40-40-40-750-750\n",
      "WindowCombinationDrugs_atorvastatin-metformin-40-750\n",
      "WindowCombinationDrugs_metformin-metformin-metformin-metformin-simvastatin-500-500-500-500-80\n",
      "Drug_DailyDosage_DurationDose_simvastatin-80-30\n",
      "WindowCombinationDrugs_metformin-simvastatin-500-80\n",
      "WindowCombinationDrugs_simvastatin-80\n",
      "WindowCombinationDrugs_pravastatin-pravastatin-40-40\n",
      "WindowCombinationDrugs_pravastatin-pravastatin-pravastatin-pravastatin-40-40-40-40\n",
      "WindowCombinationDrugs_atorvastatin-simvastatin-40-40\n",
      "WindowCombinationDrugs_atorvastatin-atorvastatin-losartan-olmesartan-simvastatin-10-40-100-40-40\n",
      "Drug_DailyDosage_DurationDose_losartan-100-150\n",
      "WindowCombinationDrugs_atorvastatin-atorvastatin-losartan-losartan-losartan-losartan-metformin-metformin-10-10-100-100-100-100-500-500\n",
      "Drug_DailyDosage_DurationDose_metformin-500-330\n",
      "WindowCombinationDrugs_atorvastatin-metformin-10-500\n",
      "WindowCombinationDrugs_losartan-metformin-100-500\n",
      "WindowCombinationDrugs_atenolol-atorvastatin-atorvastatin-25-10-10\n",
      "Drug_DailyDosage_DurationDose_atenolol-25-270\n",
      "Drug_DailyDosage_DurationDose_atorvastatin-10-270\n",
      "WindowCombinationDrugs_atenolol-atenolol-atorvastatin-atorvastatin-25-25-10-10\n",
      "WindowCombinationDrugs_atenolol-atenolol-atorvastatin-25-25-20\n",
      "drug_nebivolol\n",
      "WindowCombinationDrugs_losartan-nebivolol-100-5\n",
      "Drug_DailyDosage_DurationDose_nebivolol-5-150\n",
      "WindowCombinationDrugs_losartan-nebivolol-nebivolol-simvastatin-simvastatin-100-5-10-40-40\n",
      "Drug_DailyDosage_DurationDose_nebivolol-10-180\n",
      "WindowCombinationDrugs_losartan-losartan-metoprolol-nebivolol-nebivolol-nebivolol-simvastatin-simvastatin-simvastatin-100-100-100-10-10-10-40-40-40\n",
      "Drug_DailyDosage_DurationDose_nebivolol-10-30\n",
      "WindowCombinationDrugs_losartan-losartan-metoprolol-nebivolol-simvastatin-simvastatin-100-100-100-10-40-40\n",
      "WindowCombinationDrugs_losartan-simvastatin-simvastatin-100-40-40\n",
      "WindowCombinationDrugs_atenolol-losartan-metformin-50-100-500\n",
      "WindowCombinationDrugs_atenolol-metformin-50-500\n",
      "WindowCombinationDrugs_losartan-losartan-simvastatin-simvastatin-simvastatin-100-100-80-80-80\n",
      "WindowCombinationDrugs_losartan-losartan-simvastatin-simvastatin-100-100-80-80\n",
      "WindowCombinationDrugs_losartan-50\n",
      "WindowCombinationDrugs_losartan-losartan-losartan-50-50-50\n",
      "WindowCombinationDrugs_atorvastatin-metoprolol-40-100\n",
      "WindowCombinationDrugs_atenolol-atorvastatin-atorvastatin-100-40-40\n",
      "WindowCombinationDrugs_atenolol-atorvastatin-100-40\n",
      "WindowCombinationDrugs_lovastatin-lovastatin-40-40\n",
      "WindowCombinationDrugs_lovastatin-40\n",
      "WindowCombinationDrugs_nebivolol-valsartan-20-320\n",
      "Drug_DailyDosage_DurationDose_nebivolol-20-30\n",
      "WindowCombinationDrugs_carvedilol-nebivolol-nebivolol-pravastatin-valsartan-25-20-20-80-320\n",
      "WindowCombinationDrugs_valsartan-320\n",
      "WindowCombinationDrugs_pravastatin-valsartan-80-320\n",
      "WindowCombinationDrugs_atorvastatin-olmesartan-olmesartan-40-40-40\n",
      "Drug_DailyDosage_DurationDose_atorvastatin-40-7\n",
      "WindowCombinationDrugs_losartan-metformin-metformin-olmesartan-olmesartan-100-500-500-40-40\n",
      "WindowCombinationDrugs_metformin-simvastatin-simvastatin-simvastatin-simvastatin-500-10-10-20-10\n",
      "WindowCombinationDrugs_metformin-simvastatin-simvastatin-500-10-20\n",
      "WindowCombinationDrugs_metformin-simvastatin-500-20\n",
      "WindowCombinationDrugs_atorvastatin-atorvastatin-telmisartan-telmisartan-20-20-80-80\n",
      "Drug_DailyDosage_DurationDose_telmisartan-80-30\n",
      "WindowCombinationDrugs_metformin-1700\n",
      "Drug_DailyDosage_DurationDose_metformin-1700-30\n",
      "WindowCombinationDrugs_atorvastatin-metformin-metformin-metformin-telmisartan-20-1700-1700-1700-80\n",
      "WindowCombinationDrugs_atorvastatin-metformin-metformin-telmisartan-valsartan-valsartan-valsartan-20-1700-1700-80-160-160-160\n",
      "Drug_DailyDosage_DurationDose_valsartan-160-45\n",
      "Drug_DailyDosage_DurationDose_valsartan-160-60\n",
      "WindowCombinationDrugs_metformin-metformin-metformin-metformin-valsartan-valsartan-valsartan-1700-1700-1700-1700-160-160-160\n",
      "Drug_DailyDosage_DurationDose_metformin-1700-6\n",
      "Drug_DailyDosage_DurationDose_valsartan-160-18\n",
      "WindowCombinationDrugs_atorvastatin-metformin-metformin-metformin-valsartan-valsartan-valsartan-20-1700-1700-1700-160-160-160\n",
      "Drug_DailyDosage_DurationDose_valsartan-160-30\n",
      "Drug_DailyDosage_DurationDose_metoprolol-25-90\n",
      "WindowCombinationDrugs_atorvastatin-atorvastatin-metoprolol-metoprolol-80-80-100-100\n",
      "Drug_DailyDosage_DurationDose_metoprolol-100-3\n",
      "WindowCombinationDrugs_atorvastatin-atorvastatin-80-80\n",
      "WindowCombinationDrugs_atorvastatin-metoprolol-80-100\n",
      "WindowCombinationDrugs_atorvastatin-carvedilol-metformin-40-50-1000\n",
      "Drug_DailyDosage_DurationDose_carvedilol-50-90\n",
      "WindowCombinationDrugs_atorvastatin-atorvastatin-carvedilol-carvedilol-metformin-40-40-50-50-1000\n",
      "WindowCombinationDrugs_atorvastatin-atorvastatin-carvedilol-metformin-40-40-50-1000\n",
      "WindowCombinationDrugs_atorvastatin-atorvastatin-metformin-metformin-40-40-1000-1000\n",
      "WindowCombinationDrugs_atorvastatin-metformin-metoprolol-80-1000-50\n",
      "Drug_DailyDosage_DurationDose_metoprolol-50-270\n",
      "WindowCombinationDrugs_atorvastatin-atorvastatin-metformin-20-40-500\n",
      "WindowCombinationDrugs_atorvastatin-atorvastatin-atorvastatin-metformin-rosuvastatin-20-40-40-500-40\n",
      "WindowCombinationDrugs_atorvastatin-metformin-rosuvastatin-rosuvastatin-rosuvastatin-40-500-40-40-20\n",
      "Drug_DailyDosage_DurationDose_rosuvastatin-40-135\n",
      "Drug_DailyDosage_DurationDose_simvastatin-20-270\n",
      "WindowCombinationDrugs_atorvastatin-losartan-losartan-losartan-20-100-100-100\n",
      "WindowCombinationDrugs_atorvastatin-atorvastatin-atorvastatin-losartan-losartan-20-20-20-100-100\n",
      "WindowCombinationDrugs_metformin-metformin-1000-1000\n",
      "WindowCombinationDrugs_losartan-25\n",
      "WindowCombinationDrugs_losartan-losartan-metformin-25-25-1000\n",
      "WindowCombinationDrugs_losartan-metformin-25-1000\n",
      "WindowCombinationDrugs_metformin-metformin-metoprolol-1000-1000-200\n",
      "Drug_DailyDosage_DurationDose_metoprolol-200-30\n",
      "WindowCombinationDrugs_lovastatin-lovastatin-metoprolol-20-20-200\n",
      "Drug_DailyDosage_DurationDose_lovastatin-20-120\n",
      "WindowCombinationDrugs_lovastatin-lovastatin-lovastatin-lovastatin-lovastatin-metformin-metformin-metformin-metoprolol-metoprolol-20-20-20-20-20-1000-1000-1000-200-200\n",
      "Drug_DailyDosage_DurationDose_lovastatin-20-30\n",
      "Drug_DailyDosage_DurationDose_lovastatin-20-270\n",
      "Drug_DailyDosage_DurationDose_metformin-1000-270\n",
      "Drug_DailyDosage_DurationDose_metoprolol-200-270\n",
      "WindowCombinationDrugs_lovastatin-metformin-metoprolol-20-1000-200\n",
      "WindowCombinationDrugs_lovastatin-20\n",
      "Drug_DailyDosage_DurationDose_lovastatin-20-90\n",
      "Drug_DailyDosage_DurationDose_atorvastatin-40-330\n",
      "WindowCombinationDrugs_metformin-rosuvastatin-rosuvastatin-2000-5-5\n",
      "Drug_DailyDosage_DurationDose_rosuvastatin-5-90\n",
      "WindowCombinationDrugs_rosuvastatin-rosuvastatin-valsartan-5-5-160\n",
      "WindowCombinationDrugs_metformin-rosuvastatin-valsartan-2000-5-160\n",
      "WindowCombinationDrugs_rosuvastatin-valsartan-5-160\n",
      "WindowCombinationDrugs_losartan-losartan-losartan-losartan-50-50-50-100\n",
      "WindowCombinationDrugs_losartan-losartan-losartan-losartan-50-50-100-50\n",
      "WindowCombinationDrugs_atorvastatin-losartan-metformin-metformin-80-100-2000-500\n",
      "WindowCombinationDrugs_atorvastatin-losartan-80-100\n",
      "WindowCombinationDrugs_atorvastatin-losartan-losartan-losartan-metformin-80-100-100-100-2000\n",
      "WindowCombinationDrugs_atorvastatin-losartan-losartan-metformin-metformin-metformin-80-100-100-2000-2000-2000\n",
      "WindowCombinationDrugs_atorvastatin-canagliflozin-losartan-losartan-losartan-losartan-metformin-80-100-100-100-100-100-2000\n",
      "Drug_DailyDosage_DurationDose_canagliflozin-100-30\n",
      "WindowCombinationDrugs_atorvastatin-canagliflozin-losartan-metformin-80-100-100-2000\n",
      "WindowCombinationDrugs_atenolol-lovastatin-25-10\n",
      "Drug_DailyDosage_DurationDose_atenolol-25-150\n",
      "Drug_DailyDosage_DurationDose_lovastatin-10-150\n",
      "WindowCombinationDrugs_atenolol-lovastatin-valsartan-25-10-320\n",
      "Drug_DailyDosage_DurationDose_valsartan-320-75\n",
      "WindowCombinationDrugs_atenolol-atenolol-lovastatin-lovastatin-25-25-10-10\n",
      "Drug_DailyDosage_DurationDose_atenolol-25-30\n",
      "Drug_DailyDosage_DurationDose_lovastatin-10-1\n",
      "WindowCombinationDrugs_atenolol-atenolol-lovastatin-valsartan-25-25-10-320\n",
      "Drug_DailyDosage_DurationDose_lovastatin-10-2\n",
      "WindowCombinationDrugs_atenolol-atenolol-lovastatin-lovastatin-valsartan-25-25-10-10-320\n",
      "Drug_DailyDosage_DurationDose_lovastatin-10-30\n",
      "WindowCombinationDrugs_atorvastatin-metformin-metformin-valsartan-valsartan-valsartan-20-2000-2000-160-160-160\n",
      "WindowCombinationDrugs_atorvastatin-metformin-metformin-valsartan-20-2000-2000-160\n",
      "WindowCombinationDrugs_atorvastatin-metformin-valsartan-valsartan-valsartan-20-2000-160-160-160\n",
      "WindowCombinationDrugs_valsartan-160\n",
      "WindowCombinationDrugs_losartan-metoprolol-100-100\n",
      "WindowCombinationDrugs_atorvastatin-atorvastatin-losartan-losartan-metoprolol-metoprolol-40-40-100-100-100-100\n",
      "WindowCombinationDrugs_atorvastatin-atorvastatin-losartan-losartan-metoprolol-40-40-100-100-100\n",
      "WindowCombinationDrugs_atorvastatin-losartan-losartan-metoprolol-40-100-100-100\n",
      "WindowCombinationDrugs_atorvastatin-losartan-metoprolol-40-100-100\n",
      "Drug_DailyDosage_DurationDose_rosuvastatin-20-270\n",
      "WindowCombinationDrugs_metformin-simvastatin-750-40\n",
      "Drug_DailyDosage_DurationDose_metformin-750-540\n",
      "Drug_DailyDosage_DurationDose_simvastatin-40-180\n",
      "WindowCombinationDrugs_metformin-metformin-simvastatin-750-750-40\n",
      "WindowCombinationDrugs_metformin-750\n",
      "WindowCombinationDrugs_atorvastatin-pravastatin-rosuvastatin-rosuvastatin-40-40-5-5\n",
      "Drug_DailyDosage_DurationDose_pravastatin-40-30\n",
      "Drug_DailyDosage_DurationDose_rosuvastatin-5-30\n",
      "WindowCombinationDrugs_losartan-pravastatin-pravastatin-rosuvastatin-simvastatin-25-40-40-5-10\n",
      "WindowCombinationDrugs_losartan-pravastatin-simvastatin-25-40-10\n",
      "WindowCombinationDrugs_atenolol-atenolol-rosuvastatin-rosuvastatin-50-50-20-20\n",
      "Drug_DailyDosage_DurationDose_rosuvastatin-20-30\n",
      "WindowCombinationDrugs_atenolol-rosuvastatin-50-20\n",
      "WindowCombinationDrugs_losartan-metoprolol-rosuvastatin-rosuvastatin-50-50-10-10\n",
      "WindowCombinationDrugs_losartan-losartan-metoprolol-metoprolol-rosuvastatin-rosuvastatin-50-50-50-50-10-10\n",
      "WindowCombinationDrugs_losartan-losartan-metoprolol-metoprolol-metoprolol-metoprolol-rosuvastatin-rosuvastatin-50-50-50-50-50-50-10-10\n",
      "WindowCombinationDrugs_metoprolol-metoprolol-metoprolol-rosuvastatin-50-50-50-10\n",
      "WindowCombinationDrugs_valsartan-valsartan-valsartan-160-160-320\n",
      "WindowCombinationDrugs_atorvastatin-metformin-metformin-40-1000-1000\n",
      "WindowCombinationDrugs_atorvastatin-losartan-metformin-40-50-1000\n",
      "WindowCombinationDrugs_atorvastatin-losartan-40-50\n",
      "WindowCombinationDrugs_atorvastatin-losartan-losartan-metformin-40-100-50-1000\n",
      "WindowCombinationDrugs_atorvastatin-atorvastatin-losartan-losartan-losartan-metformin-metformin-metformin-40-40-100-50-100-1000-1000-1000\n",
      "WindowCombinationDrugs_atorvastatin-losartan-metformin-metformin-40-100-1000-1000\n",
      "WindowCombinationDrugs_metformin-simvastatin-2000-20\n",
      "WindowCombinationDrugs_losartan-simvastatin-50-20\n",
      "WindowCombinationDrugs_losartan-simvastatin-simvastatin-50-20-20\n",
      "WindowCombinationDrugs_metoprolol-rosuvastatin-50-20\n",
      "Drug_DailyDosage_DurationDose_metoprolol-100-60\n",
      "WindowCombinationDrugs_lovastatin-metformin-metoprolol-metoprolol-40-500-100-100\n",
      "WindowCombinationDrugs_metformin-metoprolol-500-100\n",
      "WindowCombinationDrugs_lovastatin-metformin-metformin-metoprolol-40-500-500-100\n",
      "Drug_DailyDosage_DurationDose_metformin-1000-100\n",
      "WindowCombinationDrugs_irbesartan-metformin-metoprolol-metoprolol-300-2000-25-100\n",
      "Drug_DailyDosage_DurationDose_irbesartan-300-45\n",
      "Drug_DailyDosage_DurationDose_metoprolol-25-330\n",
      "WindowCombinationDrugs_irbesartan-metoprolol-metoprolol-300-25-100\n",
      "WindowCombinationDrugs_metformin-metoprolol-metoprolol-2000-25-100\n",
      "WindowCombinationDrugs_atorvastatin-metoprolol-10-100\n",
      "WindowCombinationDrugs_atorvastatin-rosuvastatin-10-5\n",
      "WindowCombinationDrugs_atorvastatin-atorvastatin-atorvastatin-metformin-metformin-rosuvastatin-rosuvastatin-10-10-10-1000-1000-5-5\n",
      "WindowCombinationDrugs_atorvastatin-metformin-10-1000\n",
      "WindowCombinationDrugs_atenolol-atenolol-50-50\n",
      "WindowCombinationDrugs_atorvastatin-atorvastatin-atorvastatin-metformin-10-10-10-500\n",
      "WindowCombinationDrugs_rosuvastatin-valsartan-valsartan-valsartan-20-320-320-80\n",
      "Drug_DailyDosage_DurationDose_valsartan-80-90\n",
      "WindowCombinationDrugs_rosuvastatin-valsartan-valsartan-valsartan-20-320-80-320\n",
      "WindowCombinationDrugs_rosuvastatin-valsartan-valsartan-20-320-320\n",
      "WindowCombinationDrugs_rosuvastatin-rosuvastatin-valsartan-valsartan-20-20-320-320\n",
      "WindowCombinationDrugs_carvedilol-metformin-12.5-500\n",
      "WindowCombinationDrugs_atorvastatin-atorvastatin-atorvastatin-metformin-metoprolol-metoprolol-80-80-80-1000-50-50\n",
      "Drug_DailyDosage_DurationDose_metformin-1000-540\n",
      "Drug_DailyDosage_DurationDose_metoprolol-50-360\n",
      "Drug_DailyDosage_DurationDose_metoprolol-50-540\n",
      "WindowCombinationDrugs_atorvastatin-atorvastatin-atorvastatin-metformin-metoprolol-metoprolol-metoprolol-80-80-80-1000-50-50-50\n",
      "WindowCombinationDrugs_atorvastatin-atorvastatin-metformin-metformin-metoprolol-metoprolol-metoprolol-metoprolol-80-80-1000-1000-50-50-50-50\n",
      "Drug_DailyDosage_DurationDose_metformin-1000-360\n",
      "WindowCombinationDrugs_atorvastatin-metformin-metformin-metoprolol-metoprolol-metoprolol-80-1000-1000-50-50-50\n",
      "WindowCombinationDrugs_metformin-metformin-metformin-metoprolol-1000-1000-1000-50\n",
      "WindowCombinationDrugs_atorvastatin-losartan-losartan-metformin-20-100-100-2000\n",
      "WindowCombinationDrugs_atorvastatin-atorvastatin-losartan-losartan-metformin-metformin-20-40-100-100-2000-2000\n",
      "WindowCombinationDrugs_atorvastatin-atorvastatin-atorvastatin-40-20-20\n",
      "WindowCombinationDrugs_atorvastatin-atorvastatin-atorvastatin-losartan-metformin-20-80-20-100-2000\n",
      "Drug_DailyDosage_DurationDose_atorvastatin-80-30\n",
      "WindowCombinationDrugs_atorvastatin-atorvastatin-losartan-metformin-80-20-100-2000\n",
      "Drug_DailyDosage_DurationDose_losartan-50-270\n",
      "WindowCombinationDrugs_atorvastatin-losartan-losartan-metoprolol-40-50-50-50\n",
      "Drug_DailyDosage_DurationDose_losartan-50-34\n",
      "WindowCombinationDrugs_atorvastatin-losartan-metoprolol-40-50-50\n",
      "WindowCombinationDrugs_losartan-losartan-metoprolol-50-50-50\n",
      "Drug_DailyDosage_DurationDose_metoprolol-50-45\n",
      "WindowCombinationDrugs_losartan-metformin-metformin-metformin-100-1000-1000-500\n",
      "WindowCombinationDrugs_metformin-metformin-1000-500\n",
      "WindowCombinationDrugs_losartan-losartan-metoprolol-metoprolol-simvastatin-simvastatin-50-50-50-50-20-20\n",
      "Drug_DailyDosage_DurationDose_losartan-50-10\n",
      "Drug_DailyDosage_DurationDose_metoprolol-50-10\n",
      "Drug_DailyDosage_DurationDose_simvastatin-20-10\n",
      "WindowCombinationDrugs_losartan-losartan-losartan-metoprolol-metoprolol-metoprolol-simvastatin-simvastatin-simvastatin-50-50-50-50-50-50-20-20-20\n",
      "WindowCombinationDrugs_losartan-metoprolol-simvastatin-50-50-20\n",
      "WindowCombinationDrugs_metformin-metformin-2000-1000\n",
      "WindowCombinationDrugs_metoprolol-metoprolol-simvastatin-simvastatin-50-50-40-40\n",
      "WindowCombinationDrugs_metoprolol-simvastatin-50-40\n",
      "WindowCombinationDrugs_metoprolol-simvastatin-simvastatin-50-40-40\n",
      "WindowCombinationDrugs_atorvastatin-metformin-10-2000\n",
      "WindowCombinationDrugs_atorvastatin-atorvastatin-losartan-20-20-100\n",
      "WindowCombinationDrugs_atorvastatin-atorvastatin-losartan-losartan-20-20-100-100\n",
      "WindowCombinationDrugs_atorvastatin-losartan-20-100\n",
      "WindowCombinationDrugs_atorvastatin-atorvastatin-atorvastatin-atorvastatin-valsartan-valsartan-10-10-10-10-160-160\n",
      "WindowCombinationDrugs_atorvastatin-atorvastatin-atorvastatin-atorvastatin-valsartan-10-10-10-10-160\n",
      "Drug_DailyDosage_DurationDose_valsartan-160-150\n",
      "WindowCombinationDrugs_atorvastatin-atorvastatin-valsartan-10-10-160\n",
      "WindowCombinationDrugs_losartan-losartan-losartan-metformin-100-100-100-1000\n",
      "WindowCombinationDrugs_metoprolol-valsartan-200-320\n",
      "WindowCombinationDrugs_metoprolol-metoprolol-valsartan-valsartan-valsartan-valsartan-valsartan-200-200-320-320-320-160-160\n",
      "WindowCombinationDrugs_metoprolol-metoprolol-metoprolol-valsartan-valsartan-200-200-200-160-160\n",
      "WindowCombinationDrugs_metoprolol-metoprolol-valsartan-valsartan-200-200-160-160\n",
      "WindowCombinationDrugs_metoprolol-valsartan-200-160\n",
      "WindowCombinationDrugs_carvedilol-carvedilol-metformin-metformin-50-50-2000-2000\n",
      "Drug_DailyDosage_DurationDose_carvedilol-50-45\n",
      "Drug_DailyDosage_DurationDose_metformin-2000-270\n",
      "WindowCombinationDrugs_carvedilol-carvedilol-carvedilol-metformin-metformin-50-50-50-2000-2000\n",
      "WindowCombinationDrugs_metformin-metformin-2000-2000\n",
      "WindowCombinationDrugs_losartan-losartan-50-50\n",
      "WindowCombinationDrugs_atorvastatin-atorvastatin-metoprolol-80-40-50\n",
      "WindowCombinationDrugs_atorvastatin-metoprolol-40-50\n",
      "WindowCombinationDrugs_atorvastatin-atorvastatin-metoprolol-metoprolol-40-80-25-50\n",
      "WindowCombinationDrugs_atorvastatin-metoprolol-80-50\n",
      "WindowCombinationDrugs_metformin-metoprolol-500-25\n",
      "WindowCombinationDrugs_lovastatin-metoprolol-20-25\n",
      "WindowCombinationDrugs_metformin-metformin-simvastatin-500-500-40\n",
      "WindowCombinationDrugs_metoprolol-metoprolol-metoprolol-metoprolol-valsartan-valsartan-50-50-50-50-320-320\n",
      "WindowCombinationDrugs_metoprolol-metoprolol-metoprolol-metoprolol-valsartan-valsartan-valsartan-valsartan-valsartan-valsartan-50-50-50-50-320-320-320-320-320-320\n",
      "WindowCombinationDrugs_metoprolol-metoprolol-metoprolol-simvastatin-valsartan-valsartan-valsartan-valsartan-valsartan-valsartan-50-50-50-20-320-320-320-320-320-320\n",
      "WindowCombinationDrugs_metoprolol-metoprolol-simvastatin-simvastatin-valsartan-valsartan-valsartan-50-50-20-20-320-320-320\n",
      "WindowCombinationDrugs_metoprolol-simvastatin-valsartan-50-20-320\n",
      "WindowCombinationDrugs_atenolol-atenolol-metformin-metformin-simvastatin-simvastatin-100-100-1000-1000-40-40\n",
      "Drug_DailyDosage_DurationDose_atenolol-100-120\n",
      "Drug_DailyDosage_DurationDose_metformin-1000-45\n",
      "WindowCombinationDrugs_atenolol-atenolol-atenolol-atenolol-metformin-simvastatin-simvastatin-100-100-100-100-1000-40-40\n",
      "WindowCombinationDrugs_atenolol-atenolol-atenolol-metformin-simvastatin-100-100-100-1000-40\n",
      "WindowCombinationDrugs_atenolol-metformin-metformin-simvastatin-100-1000-1000-40\n",
      "WindowCombinationDrugs_atenolol-atenolol-metformin-metformin-simvastatin-100-100-1000-1000-40\n",
      "WindowCombinationDrugs_metformin-simvastatin-2550-20\n",
      "Drug_DailyDosage_DurationDose_metformin-2550-90\n",
      "WindowCombinationDrugs_metformin-metformin-simvastatin-simvastatin-2550-2550-20-20\n",
      "WindowCombinationDrugs_metformin-metformin-simvastatin-2550-2550-20\n",
      "WindowCombinationDrugs_atorvastatin-metoprolol-10-50\n",
      "WindowCombinationDrugs_atorvastatin-atorvastatin-metoprolol-metoprolol-10-10-50-50\n",
      "WindowCombinationDrugs_metformin-metformin-simvastatin-simvastatin-simvastatin-500-500-20-20-20\n",
      "WindowCombinationDrugs_metformin-metformin-simvastatin-simvastatin-500-500-20-20\n",
      "WindowCombinationDrugs_metformin-metformin-metoprolol-metoprolol-simvastatin-500-500-50-50-20\n",
      "WindowCombinationDrugs_metformin-metoprolol-simvastatin-500-50-20\n",
      "WindowCombinationDrugs_metformin-rosuvastatin-rosuvastatin-1000-20-20\n",
      "WindowCombinationDrugs_metformin-rosuvastatin-1000-20\n",
      "WindowCombinationDrugs_losartan-losartan-metformin-rosuvastatin-25-25-1000-20\n",
      "WindowCombinationDrugs_rosuvastatin-rosuvastatin-rosuvastatin-10-10-10\n",
      "WindowCombinationDrugs_rosuvastatin-rosuvastatin-rosuvastatin-rosuvastatin-10-10-10-10\n",
      "WindowCombinationDrugs_atenolol-simvastatin-100-20\n",
      "WindowCombinationDrugs_atenolol-atenolol-simvastatin-simvastatin-100-100-20-20\n",
      "WindowCombinationDrugs_carvedilol-carvedilol-simvastatin-simvastatin-50-50-40-40\n",
      "WindowCombinationDrugs_atorvastatin-carvedilol-metformin-simvastatin-20-50-750-40\n",
      "Drug_DailyDosage_DurationDose_metformin-750-60\n",
      "WindowCombinationDrugs_atorvastatin-metformin-20-750\n",
      "WindowCombinationDrugs_atorvastatin-simvastatin-20-40\n",
      "WindowCombinationDrugs_bisoprolol-losartan-pravastatin-10-100-20\n",
      "WindowCombinationDrugs_bisoprolol-bisoprolol-losartan-losartan-pravastatin-10-10-100-100-20\n",
      "WindowCombinationDrugs_bisoprolol-losartan-losartan-10-100-100\n",
      "WindowCombinationDrugs_losartan-pravastatin-100-20\n",
      "WindowCombinationDrugs_lovastatin-lovastatin-20-20\n",
      "WindowCombinationDrugs_lovastatin-lovastatin-lovastatin-20-20-20\n",
      "WindowCombinationDrugs_pravastatin-pravastatin-valsartan-20-20-320\n",
      "WindowCombinationDrugs_pravastatin-valsartan-20-320\n",
      "Drug_DailyDosage_DurationDose_pravastatin-20-7\n",
      "drug_pitavastatin\n",
      "WindowCombinationDrugs_metoprolol-metoprolol-pitavastatin-50-50-2\n",
      "Drug_DailyDosage_DurationDose_pitavastatin-2-330\n",
      "WindowCombinationDrugs_metoprolol-pitavastatin-50-2\n",
      "WindowCombinationDrugs_metoprolol-pitavastatin-pitavastatin-50-2-2\n",
      "Drug_DailyDosage_DurationDose_pitavastatin-2-28\n",
      "WindowCombinationDrugs_atorvastatin-pravastatin-pravastatin-10-10-10\n",
      "WindowCombinationDrugs_atorvastatin-losartan-pravastatin-pravastatin-10-50-10-10\n",
      "WindowCombinationDrugs_carvedilol-carvedilol-metformin-metformin-metformin-simvastatin-12.5-12.5-1000-1000-1000-40\n",
      "WindowCombinationDrugs_carvedilol-metformin-simvastatin-12.5-1000-40\n",
      "WindowCombinationDrugs_carvedilol-simvastatin-12.5-40\n",
      "WindowCombinationDrugs_atenolol-olmesartan-olmesartan-pravastatin-100-20-20-40\n",
      "Drug_DailyDosage_DurationDose_olmesartan-20-30\n",
      "WindowCombinationDrugs_atenolol-olmesartan-olmesartan-olmesartan-olmesartan-pravastatin-100-20-20-20-20-40\n",
      "WindowCombinationDrugs_olmesartan-olmesartan-olmesartan-pravastatin-20-20-20-40\n",
      "WindowCombinationDrugs_olmesartan-olmesartan-olmesartan-olmesartan-pravastatin-20-20-20-20-40\n",
      "WindowCombinationDrugs_olmesartan-olmesartan-olmesartan-olmesartan-olmesartan-olmesartan-olmesartan-20-20-20-20-20-20-20\n",
      "WindowCombinationDrugs_atenolol-atenolol-atenolol-100-100-100\n",
      "WindowCombinationDrugs_atenolol-atenolol-100-100\n",
      "WindowCombinationDrugs_losartan-olmesartan-50-20\n",
      "Drug_DailyDosage_DurationDose_olmesartan-20-90\n",
      "WindowCombinationDrugs_olmesartan-20\n",
      "WindowCombinationDrugs_metformin-metformin-metoprolol-simvastatin-1000-1000-25-40\n",
      "WindowCombinationDrugs_losartan-metformin-metformin-metformin-metoprolol-simvastatin-simvastatin-25-1000-1000-1000-25-40-40\n",
      "WindowCombinationDrugs_losartan-metformin-metformin-metoprolol-simvastatin-25-1000-1000-25-40\n",
      "WindowCombinationDrugs_losartan-metformin-metformin-25-1000-1000\n",
      "WindowCombinationDrugs_losartan-pravastatin-25-40\n",
      "WindowCombinationDrugs_losartan-losartan-pravastatin-pravastatin-25-25-40-40\n",
      "WindowCombinationDrugs_metformin-metformin-metformin-metformin-simvastatin-valsartan-valsartan-valsartan-1000-1000-1000-1000-20-320-320-320\n",
      "WindowCombinationDrugs_metformin-metformin-simvastatin-valsartan-valsartan-valsartan-1000-1000-20-320-320-320\n",
      "WindowCombinationDrugs_metformin-simvastatin-simvastatin-valsartan-valsartan-1000-20-20-320-320\n",
      "WindowCombinationDrugs_metformin-simvastatin-valsartan-1000-20-320\n",
      "WindowCombinationDrugs_atorvastatin-atorvastatin-metformin-metformin-simvastatin-simvastatin-40-40-1000-1000-40-40\n",
      "WindowCombinationDrugs_atorvastatin-atorvastatin-metformin-metformin-metformin-40-40-1000-1000-1000\n",
      "WindowCombinationDrugs_atorvastatin-pravastatin-20-40\n",
      "WindowCombinationDrugs_metformin-metformin-metformin-pravastatin-pravastatin-pravastatin-pravastatin-1000-1000-1000-40-40-40-40\n",
      "WindowCombinationDrugs_metformin-metformin-metformin-pravastatin-pravastatin-pravastatin-1000-1000-1000-40-40-40\n",
      "WindowCombinationDrugs_metformin-metformin-metformin-metformin-metformin-pravastatin-1000-1000-1000-1000-1000-40\n",
      "WindowCombinationDrugs_metformin-metformin-metformin-pravastatin-1000-1000-1000-40\n",
      "Drug_DailyDosage_DurationDose_pravastatin-40-150\n",
      "WindowCombinationDrugs_atorvastatin-metformin-metformin-pravastatin-40-1000-1000-40\n",
      "WindowCombinationDrugs_simvastatin-simvastatin-valsartan-valsartan-20-20-160-160\n",
      "WindowCombinationDrugs_simvastatin-valsartan-20-160\n",
      "WindowCombinationDrugs_losartan-simvastatin-valsartan-100-20-160\n",
      "WindowCombinationDrugs_losartan-simvastatin-simvastatin-valsartan-100-20-20-160\n",
      "WindowCombinationDrugs_losartan-simvastatin-100-20\n",
      "Drug_DailyDosage_DurationDose_rosuvastatin-20-7\n",
      "WindowCombinationDrugs_atorvastatin-atorvastatin-metoprolol-rosuvastatin-simvastatin-40-40-50-20-80\n",
      "Drug_DailyDosage_DurationDose_simvastatin-80-15\n",
      "WindowCombinationDrugs_rosuvastatin-rosuvastatin-10-20\n",
      "WindowCombinationDrugs_metoprolol-rosuvastatin-rosuvastatin-rosuvastatin-50-10-20-10\n",
      "WindowCombinationDrugs_metoprolol-metoprolol-rosuvastatin-rosuvastatin-rosuvastatin-rosuvastatin-rosuvastatin-50-50-10-20-10-10-10\n",
      "WindowCombinationDrugs_metoprolol-metoprolol-rosuvastatin-rosuvastatin-50-50-10-10\n",
      "WindowCombinationDrugs_pravastatin-pravastatin-80-80\n",
      "Drug_DailyDosage_DurationDose_pravastatin-80-60\n",
      "WindowCombinationDrugs_pravastatin-pravastatin-40-20\n",
      "WindowCombinationDrugs_atorvastatin-carvedilol-carvedilol-40-12.5-12.5\n",
      "WindowCombinationDrugs_losartan-metformin-simvastatin-100-1000-20\n",
      "WindowCombinationDrugs_losartan-losartan-metformin-metformin-simvastatin-simvastatin-100-100-1000-1000-20-20\n",
      "WindowCombinationDrugs_rosuvastatin-5\n",
      "WindowCombinationDrugs_rosuvastatin-rosuvastatin-5-5\n",
      "WindowCombinationDrugs_atorvastatin-atorvastatin-metformin-metformin-10-10-500-500\n",
      "WindowCombinationDrugs_atenolol-metformin-metformin-metformin-metformin-metformin-rosuvastatin-100-1000-1000-1000-1000-1000-20\n",
      "WindowCombinationDrugs_metoprolol-metoprolol-metoprolol-metoprolol-25-50-25-50\n",
      "WindowCombinationDrugs_lovastatin-metoprolol-pravastatin-20-50-20\n",
      "WindowCombinationDrugs_lovastatin-lovastatin-metoprolol-metoprolol-pravastatin-20-20-50-50-20\n",
      "WindowCombinationDrugs_lovastatin-metoprolol-20-50\n",
      "WindowCombinationDrugs_metoprolol-simvastatin-valsartan-valsartan-valsartan-100-20-640-640-640\n",
      "Drug_DailyDosage_DurationDose_valsartan-640-30\n",
      "Drug_DailyDosage_DurationDose_valsartan-640-90\n",
      "WindowCombinationDrugs_metformin-metformin-metformin-metformin-metformin-metformin-metformin-metformin-metformin-metoprolol-simvastatin-valsartan-valsartan-valsartan-1500-1500-1500-1500-1500-1500-1500-1500-1500-100-20-640-640-640\n",
      "Drug_DailyDosage_DurationDose_metformin-1500-30\n",
      "Drug_DailyDosage_DurationDose_metformin-1500-40\n",
      "Drug_DailyDosage_DurationDose_metformin-1500-60\n",
      "WindowCombinationDrugs_metformin-metformin-metformin-metformin-metformin-metformin-metoprolol-valsartan-1500-1500-1500-1500-1500-1500-100-640\n",
      "WindowCombinationDrugs_metformin-simvastatin-1500-20\n",
      "WindowCombinationDrugs_metformin-metoprolol-simvastatin-valsartan-1500-100-20-640\n",
      "WindowCombinationDrugs_metformin-metformin-metoprolol-valsartan-1500-1500-100-640\n",
      "WindowCombinationDrugs_lovastatin-lovastatin-lovastatin-40-40-40\n",
      "WindowCombinationDrugs_lovastatin-lovastatin-lovastatin-lovastatin-lovastatin-40-40-40-40-40\n",
      "WindowCombinationDrugs_losartan-losartan-simvastatin-100-100-20\n",
      "Drug_DailyDosage_DurationDose_simvastatin-20-150\n",
      "WindowCombinationDrugs_losartan-metoprolol-simvastatin-100-25-20\n",
      "Drug_DailyDosage_DurationDose_metoprolol-25-15\n",
      "WindowCombinationDrugs_atorvastatin-atorvastatin-losartan-10-10-50\n",
      "WindowCombinationDrugs_atorvastatin-atorvastatin-atorvastatin-losartan-10-10-10-50\n",
      "WindowCombinationDrugs_bisoprolol-5\n",
      "Drug_DailyDosage_DurationDose_bisoprolol-5-60\n",
      "WindowCombinationDrugs_atorvastatin-metformin-40-2000\n",
      "WindowCombinationDrugs_atorvastatin-metformin-metformin-metformin-40-2000-2000-2000\n",
      "WindowCombinationDrugs_atorvastatin-atorvastatin-metformin-metformin-metformin-metformin-40-40-2000-2000-2000-2000\n",
      "WindowCombinationDrugs_atorvastatin-atorvastatin-metformin-metformin-40-40-2000-2000\n",
      "WindowCombinationDrugs_simvastatin-simvastatin-simvastatin-20-20-20\n",
      "WindowCombinationDrugs_atorvastatin-losartan-losartan-metformin-pravastatin-pravastatin-10-100-100-500-40-40\n",
      "WindowCombinationDrugs_atorvastatin-losartan-metformin-pravastatin-10-100-1000-40\n",
      "WindowCombinationDrugs_atorvastatin-atorvastatin-dapagliflozin-dapagliflozin-losartan-losartan-metformin-10-10-10-10-100-100-1000\n",
      "Drug_DailyDosage_DurationDose_dapagliflozin-10-90\n",
      "WindowCombinationDrugs_atorvastatin-dapagliflozin-dapagliflozin-losartan-losartan-metformin-10-10-10-100-100-1000\n",
      "WindowCombinationDrugs_metformin-pravastatin-pravastatin-500-40-40\n",
      "WindowCombinationDrugs_metformin-metformin-metformin-pravastatin-pravastatin-pravastatin-500-500-500-40-40-40\n",
      "WindowCombinationDrugs_metformin-pravastatin-500-40\n",
      "WindowCombinationDrugs_atorvastatin-valsartan-valsartan-20-320-640\n",
      "Drug_DailyDosage_DurationDose_atorvastatin-20-270\n",
      "WindowCombinationDrugs_atorvastatin-simvastatin-10-10\n",
      "Drug_DailyDosage_DurationDose_atorvastatin-10-180\n",
      "WindowCombinationDrugs_metoprolol-pravastatin-25-80\n",
      "Drug_DailyDosage_DurationDose_pravastatin-80-30\n",
      "WindowCombinationDrugs_atorvastatin-metoprolol-pravastatin-80-25-80\n",
      "WindowCombinationDrugs_atorvastatin-metoprolol-metoprolol-metoprolol-pravastatin-80-25-25-25-80\n",
      "WindowCombinationDrugs_metoprolol-metoprolol-metoprolol-pravastatin-25-25-25-80\n",
      "WindowCombinationDrugs_atorvastatin-pravastatin-80-80\n",
      "WindowCombinationDrugs_atorvastatin-metoprolol-metoprolol-80-25-25\n",
      "WindowCombinationDrugs_losartan-losartan-losartan-simvastatin-simvastatin-50-50-50-20-20\n",
      "WindowCombinationDrugs_losartan-losartan-losartan-losartan-simvastatin-simvastatin-50-50-50-50-20-20\n",
      "WindowCombinationDrugs_losartan-losartan-simvastatin-simvastatin-50-50-20-20\n",
      "WindowCombinationDrugs_atorvastatin-carvedilol-metformin-metformin-metformin-10-25-1000-1000-1700\n",
      "WindowCombinationDrugs_atorvastatin-carvedilol-metformin-metformin-metformin-10-25-1000-1700-1700\n",
      "WindowCombinationDrugs_atorvastatin-atorvastatin-carvedilol-metformin-metformin-metformin-10-10-25-1700-1700-1700\n",
      "WindowCombinationDrugs_carvedilol-carvedilol-metformin-metformin-25-25-1700-1700\n",
      "WindowCombinationDrugs_atorvastatin-carvedilol-carvedilol-metformin-metformin-10-25-25-1700-1700\n",
      "WindowCombinationDrugs_metformin-metformin-simvastatin-500-500-10\n",
      "WindowCombinationDrugs_atorvastatin-metformin-metformin-10-1000-1000\n",
      "WindowCombinationDrugs_atorvastatin-metoprolol-10-25\n",
      "WindowCombinationDrugs_atorvastatin-atorvastatin-metoprolol-metoprolol-10-10-25-25\n",
      "WindowCombinationDrugs_atenolol-simvastatin-50-20\n",
      "WindowCombinationDrugs_rosuvastatin-valsartan-20-320\n",
      "WindowCombinationDrugs_metformin-valsartan-valsartan-500-320-320\n",
      "WindowCombinationDrugs_metformin-rosuvastatin-valsartan-500-20-320\n",
      "WindowCombinationDrugs_losartan-metformin-metformin-simvastatin-50-1000-2000-40\n",
      "WindowCombinationDrugs_losartan-simvastatin-50-40\n",
      "WindowCombinationDrugs_losartan-metformin-simvastatin-50-2000-40\n",
      "WindowCombinationDrugs_losartan-rosuvastatin-telmisartan-50-20-40\n",
      "Drug_DailyDosage_DurationDose_telmisartan-40-90\n",
      "WindowCombinationDrugs_losartan-rosuvastatin-50-20\n",
      "WindowCombinationDrugs_atorvastatin-metoprolol-rosuvastatin-40-50-10\n",
      "WindowCombinationDrugs_metformin-metformin-metoprolol-rosuvastatin-500-500-50-10\n",
      "WindowCombinationDrugs_irbesartan-irbesartan-simvastatin-150-150-40\n",
      "Drug_DailyDosage_DurationDose_irbesartan-150-30\n",
      "WindowCombinationDrugs_atorvastatin-metoprolol-20-25\n",
      "Drug_DailyDosage_DurationDose_atorvastatin-20-330\n",
      "WindowCombinationDrugs_atorvastatin-atorvastatin-carvedilol-40-20-25\n",
      "Drug_DailyDosage_DurationDose_carvedilol-25-330\n",
      "WindowCombinationDrugs_atorvastatin-carvedilol-carvedilol-20-25-50\n",
      "Drug_DailyDosage_DurationDose_carvedilol-50-60\n",
      "WindowCombinationDrugs_atorvastatin-carvedilol-20-25\n",
      "WindowCombinationDrugs_atorvastatin-carvedilol-20-50\n",
      "Drug_DailyDosage_DurationDose_carvedilol-50-330\n",
      "WindowCombinationDrugs_losartan-metformin-metoprolol-metoprolol-simvastatin-simvastatin-50-500-50-50-20-20\n",
      "WindowCombinationDrugs_losartan-losartan-metformin-metoprolol-metoprolol-metoprolol-simvastatin-simvastatin-simvastatin-50-50-500-50-50-50-20-20-20\n",
      "WindowCombinationDrugs_atorvastatin-losartan-losartan-metformin-metoprolol-metoprolol-simvastatin-simvastatin-40-50-50-500-50-50-20-20\n",
      "WindowCombinationDrugs_atorvastatin-losartan-metformin-metoprolol-simvastatin-40-50-500-50-20\n",
      "WindowCombinationDrugs_lovastatin-metoprolol-40-25\n",
      "Drug_DailyDosage_DurationDose_metoprolol-25-540\n",
      "WindowCombinationDrugs_lovastatin-metoprolol-metoprolol-40-25-25\n",
      "Drug_DailyDosage_DurationDose_lovastatin-40-180\n",
      "WindowCombinationDrugs_metoprolol-metoprolol-25-25\n",
      "WindowCombinationDrugs_metformin-metoprolol-rosuvastatin-1000-50-40\n",
      "WindowCombinationDrugs_metformin-metformin-metformin-1000-1000-1000\n",
      "WindowCombinationDrugs_atorvastatin-metformin-metformin-metformin-metformin-20-1000-2000-2000-2000\n",
      "WindowCombinationDrugs_atorvastatin-metformin-metformin-metformin-20-2000-2000-2000\n",
      "WindowCombinationDrugs_atorvastatin-metformin-metformin-20-2000-2000\n",
      "WindowCombinationDrugs_losartan-losartan-metoprolol-metoprolol-simvastatin-simvastatin-100-100-50-50-20-20\n",
      "WindowCombinationDrugs_losartan-metoprolol-metoprolol-simvastatin-simvastatin-100-50-50-20-20\n",
      "WindowCombinationDrugs_losartan-losartan-metoprolol-metoprolol-simvastatin-simvastatin-simvastatin-100-100-50-50-20-20-40\n",
      "WindowCombinationDrugs_losartan-losartan-losartan-metoprolol-simvastatin-simvastatin-100-100-100-50-40-40\n",
      "WindowCombinationDrugs_losartan-metoprolol-simvastatin-simvastatin-100-50-40-40\n",
      "WindowCombinationDrugs_atenolol-atorvastatin-100-80\n",
      "WindowCombinationDrugs_atenolol-atenolol-atenolol-atorvastatin-atorvastatin-100-100-100-80-80\n",
      "WindowCombinationDrugs_atenolol-atenolol-atenolol-atorvastatin-atorvastatin-atorvastatin-100-100-100-80-80-80\n",
      "WindowCombinationDrugs_atenolol-atorvastatin-atorvastatin-100-80-80\n",
      "WindowCombinationDrugs_atorvastatin-rosuvastatin-rosuvastatin-rosuvastatin-10-10-10-10\n",
      "WindowCombinationDrugs_atorvastatin-rosuvastatin-10-10\n",
      "WindowCombinationDrugs_atenolol-atenolol-losartan-100-100-100\n",
      "WindowCombinationDrugs_atenolol-atenolol-losartan-losartan-100-100-100-100\n",
      "WindowCombinationDrugs_atenolol-losartan-100-100\n",
      "WindowCombinationDrugs_atenolol-losartan-losartan-losartan-100-100-100-50\n",
      "WindowCombinationDrugs_losartan-losartan-100-50\n",
      "WindowCombinationDrugs_atorvastatin-atorvastatin-atorvastatin-metoprolol-metoprolol-metoprolol-simvastatin-20-20-20-100-100-100-20\n",
      "WindowCombinationDrugs_atorvastatin-atorvastatin-atorvastatin-metoprolol-metoprolol-simvastatin-20-20-20-100-100-20\n",
      "WindowCombinationDrugs_atorvastatin-atorvastatin-metoprolol-metoprolol-20-20-100-100\n",
      "WindowCombinationDrugs_atorvastatin-atorvastatin-metoprolol-20-20-100\n",
      "WindowCombinationDrugs_metformin-valsartan-1000-320\n",
      "WindowCombinationDrugs_metformin-metoprolol-2000-50\n",
      "WindowCombinationDrugs_irbesartan-lovastatin-metoprolol-metoprolol-300-40-50-50\n",
      "WindowCombinationDrugs_irbesartan-losartan-losartan-lovastatin-metoprolol-metoprolol-metoprolol-300-100-100-40-50-50-50\n",
      "WindowCombinationDrugs_irbesartan-irbesartan-metoprolol-metoprolol-metoprolol-metoprolol-metoprolol-300-300-50-50-50-50-50\n",
      "Drug_DailyDosage_DurationDose_irbesartan-300-30\n",
      "WindowCombinationDrugs_irbesartan-metoprolol-300-50\n",
      "WindowCombinationDrugs_atorvastatin-atorvastatin-40-80\n",
      "drug_propranolol\n",
      "WindowCombinationDrugs_propranolol-40\n",
      "Drug_DailyDosage_DurationDose_propranolol-40-30\n",
      "WindowCombinationDrugs_propranolol-propranolol-40-40\n",
      "WindowCombinationDrugs_lovastatin-metoprolol-metoprolol-40-50-50\n",
      "WindowCombinationDrugs_metoprolol-metoprolol-50-50\n",
      "WindowCombinationDrugs_losartan-metoprolol-50-25\n",
      "WindowCombinationDrugs_atenolol-losartan-metformin-simvastatin-50-100-1000-40\n",
      "Drug_DailyDosage_DurationDose_simvastatin-40-300\n",
      "WindowCombinationDrugs_atenolol-losartan-losartan-metformin-metformin-simvastatin-50-100-100-1000-1000-40\n",
      "WindowCombinationDrugs_metformin-pravastatin-500-80\n",
      "WindowCombinationDrugs_metformin-metformin-pravastatin-500-500-80\n",
      "WindowCombinationDrugs_atorvastatin-atorvastatin-olmesartan-propranolol-10-10-80-40\n",
      "Drug_DailyDosage_DurationDose_olmesartan-80-30\n",
      "WindowCombinationDrugs_atorvastatin-olmesartan-propranolol-propranolol-10-80-20-40\n",
      "Drug_DailyDosage_DurationDose_propranolol-20-30\n",
      "WindowCombinationDrugs_olmesartan-80\n",
      "WindowCombinationDrugs_atenolol-atorvastatin-atorvastatin-losartan-25-40-40-100\n",
      "WindowCombinationDrugs_atenolol-losartan-25-100\n",
      "WindowCombinationDrugs_atenolol-atorvastatin-losartan-25-40-100\n",
      "WindowCombinationDrugs_irbesartan-metformin-valsartan-valsartan-valsartan-valsartan-valsartan-300-1000-640-640-640-640-640\n",
      "Drug_DailyDosage_DurationDose_valsartan-640-14\n",
      "WindowCombinationDrugs_metoprolol-valsartan-100-640\n",
      "WindowCombinationDrugs_metoprolol-metoprolol-metoprolol-100-50-100\n",
      "WindowCombinationDrugs_metoprolol-metoprolol-valsartan-50-100-640\n",
      "WindowCombinationDrugs_pitavastatin-2\n",
      "Drug_DailyDosage_DurationDose_pitavastatin-2-3\n",
      "WindowCombinationDrugs_atorvastatin-atorvastatin-metformin-20-20-1000\n",
      "WindowCombinationDrugs_atorvastatin-losartan-losartan-losartan-10-100-100-100\n",
      "WindowCombinationDrugs_atorvastatin-atorvastatin-atorvastatin-losartan-losartan-losartan-losartan-10-10-10-100-100-100-100\n",
      "WindowCombinationDrugs_atorvastatin-losartan-10-100\n"
     ]
    }
   ],
   "source": [
    "for i in datos.columns:\n",
    "    print(i)"
   ]
  },
  {
   "cell_type": "code",
   "execution_count": 8,
   "id": "7273d803",
   "metadata": {},
   "outputs": [],
   "source": [
    "X_train_full, X_test, y_train_full, y_test = train_test_split(datos, datosResponse)\n",
    "X_train, X_valid, y_train, y_valid = train_test_split(X_train_full, y_train_full)\n",
    "scaler = StandardScaler()\n",
    "\n",
    "\n",
    "X_train = pd.DataFrame(scaler.fit_transform(X_train.values), columns=X_train.columns, index=X_train.index)\n",
    "\n",
    "\n",
    "#X_train[X_train.columns] = scaler.fit_transform(X_train)\n",
    "####AQUI DEBE DE IR SMOTE, EN X_train, ACTUALIZAR TAMBIEN EL NPS TARGET CON DUMMIES DE TODOS\n",
    "##Hacemos oversampling SMOTE\n",
    "#sm = BorderlineSMOTE(random_state = 99, n_jobs= -1, kind='borderline-1')\n",
    "#sm = SMOTE(random_state = 99, n_jobs= -1)\n",
    "#X_train, y_train = sm.fit_resample(X_train, y_train)\n",
    "\n",
    "X_valid = pd.DataFrame(scaler.transform(X_valid.values), columns=X_valid.columns, index=X_valid.index)\n",
    "\n",
    "\n",
    "#X_valid[X_valid.columns] = scaler.transform(X_valid)\n",
    "#X_test[X_test.columns] = scaler.transform(X_test)\n",
    "\n",
    "\n",
    "X_test = pd.DataFrame(scaler.transform(X_test.values), columns=X_test.columns, index=X_test.index)\n",
    "\n"
   ]
  },
  {
   "cell_type": "code",
   "execution_count": 82,
   "id": "f49e0ace",
   "metadata": {},
   "outputs": [],
   "source": [
    "#xgb_model = xgb.XGBClassifier(objective=\"binary:logistic\", random_state=42, eval_metric=\"auc\", n_estimators=100,\n",
    "#                             max_depth=18, booster = \"gbtree\", reg_lambda = 3, gamma = 0, eta = 0.3, tree_method = \"exact\",min_child_weight=1,\n",
    "#                                     grow_policy = \"lossguide\", scale_pos_weight = 5)\n",
    "xgb_model = xgb.XGBClassifier(objective=\"binary:logistic\", random_state=42, eval_metric=\"logloss\", n_estimators=100,\n",
    "                             max_depth=12, booster = \"gbtree\", reg_lambda = 3, gamma = 1, eta = 0.3, tree_method = \"exact\",min_child_weight=1,\n",
    "                                     grow_policy = \"lossguide\", scale_pos_weight = 2)"
   ]
  },
  {
   "cell_type": "code",
   "execution_count": 83,
   "id": "309d6225",
   "metadata": {},
   "outputs": [
    {
     "name": "stdout",
     "output_type": "stream",
     "text": [
      "[0]\tvalidation_0-logloss:0.55469\tvalidation_1-logloss:0.59209\n"
     ]
    },
    {
     "name": "stderr",
     "output_type": "stream",
     "text": [
      "/usr/local/lib/python3.8/site-packages/xgboost/sklearn.py:1146: UserWarning: The use of label encoder in XGBClassifier is deprecated and will be removed in a future release. To remove this warning, do the following: 1) Pass option use_label_encoder=False when constructing XGBClassifier object; and 2) Encode your labels (y) as integers starting with 0, i.e. 0, 1, 2, ..., [num_class - 1].\n",
      "  warnings.warn(label_encoder_deprecation_msg, UserWarning)\n"
     ]
    },
    {
     "name": "stdout",
     "output_type": "stream",
     "text": [
      "[1]\tvalidation_0-logloss:0.44902\tvalidation_1-logloss:0.51895\n",
      "[2]\tvalidation_0-logloss:0.37133\tvalidation_1-logloss:0.46044\n",
      "[3]\tvalidation_0-logloss:0.30883\tvalidation_1-logloss:0.41772\n",
      "[4]\tvalidation_0-logloss:0.26204\tvalidation_1-logloss:0.38532\n",
      "[5]\tvalidation_0-logloss:0.22622\tvalidation_1-logloss:0.35550\n",
      "[6]\tvalidation_0-logloss:0.19769\tvalidation_1-logloss:0.33089\n",
      "[7]\tvalidation_0-logloss:0.17894\tvalidation_1-logloss:0.31259\n",
      "[8]\tvalidation_0-logloss:0.15918\tvalidation_1-logloss:0.29200\n",
      "[9]\tvalidation_0-logloss:0.14536\tvalidation_1-logloss:0.28262\n",
      "[10]\tvalidation_0-logloss:0.13489\tvalidation_1-logloss:0.27329\n",
      "[11]\tvalidation_0-logloss:0.12785\tvalidation_1-logloss:0.26765\n",
      "[12]\tvalidation_0-logloss:0.11631\tvalidation_1-logloss:0.25474\n",
      "[13]\tvalidation_0-logloss:0.10777\tvalidation_1-logloss:0.24836\n",
      "[14]\tvalidation_0-logloss:0.10257\tvalidation_1-logloss:0.24114\n",
      "[15]\tvalidation_0-logloss:0.09607\tvalidation_1-logloss:0.23346\n",
      "[16]\tvalidation_0-logloss:0.09119\tvalidation_1-logloss:0.22958\n",
      "[17]\tvalidation_0-logloss:0.08645\tvalidation_1-logloss:0.22643\n",
      "[18]\tvalidation_0-logloss:0.08401\tvalidation_1-logloss:0.22428\n",
      "[19]\tvalidation_0-logloss:0.08127\tvalidation_1-logloss:0.22105\n",
      "[20]\tvalidation_0-logloss:0.07668\tvalidation_1-logloss:0.21624\n",
      "[21]\tvalidation_0-logloss:0.07212\tvalidation_1-logloss:0.20947\n",
      "[22]\tvalidation_0-logloss:0.07059\tvalidation_1-logloss:0.20897\n",
      "[23]\tvalidation_0-logloss:0.06950\tvalidation_1-logloss:0.20867\n",
      "[24]\tvalidation_0-logloss:0.06721\tvalidation_1-logloss:0.20795\n",
      "[25]\tvalidation_0-logloss:0.06554\tvalidation_1-logloss:0.20598\n",
      "[26]\tvalidation_0-logloss:0.06273\tvalidation_1-logloss:0.20247\n",
      "[27]\tvalidation_0-logloss:0.06092\tvalidation_1-logloss:0.20083\n",
      "[28]\tvalidation_0-logloss:0.05985\tvalidation_1-logloss:0.19802\n",
      "[29]\tvalidation_0-logloss:0.05856\tvalidation_1-logloss:0.19600\n",
      "[30]\tvalidation_0-logloss:0.05701\tvalidation_1-logloss:0.19402\n",
      "[31]\tvalidation_0-logloss:0.05602\tvalidation_1-logloss:0.19307\n",
      "[32]\tvalidation_0-logloss:0.05597\tvalidation_1-logloss:0.19312\n",
      "[33]\tvalidation_0-logloss:0.05593\tvalidation_1-logloss:0.19316\n",
      "[34]\tvalidation_0-logloss:0.05590\tvalidation_1-logloss:0.19319\n",
      "[35]\tvalidation_0-logloss:0.05588\tvalidation_1-logloss:0.19321\n",
      "[36]\tvalidation_0-logloss:0.05587\tvalidation_1-logloss:0.19323\n",
      "[37]\tvalidation_0-logloss:0.05586\tvalidation_1-logloss:0.19324\n",
      "[38]\tvalidation_0-logloss:0.05586\tvalidation_1-logloss:0.19325\n",
      "[39]\tvalidation_0-logloss:0.05521\tvalidation_1-logloss:0.19286\n",
      "[40]\tvalidation_0-logloss:0.05471\tvalidation_1-logloss:0.19251\n",
      "[41]\tvalidation_0-logloss:0.05470\tvalidation_1-logloss:0.19252\n",
      "[42]\tvalidation_0-logloss:0.05470\tvalidation_1-logloss:0.19253\n",
      "[43]\tvalidation_0-logloss:0.05469\tvalidation_1-logloss:0.19253\n",
      "[44]\tvalidation_0-logloss:0.05469\tvalidation_1-logloss:0.19253\n",
      "[45]\tvalidation_0-logloss:0.05469\tvalidation_1-logloss:0.19254\n",
      "[46]\tvalidation_0-logloss:0.05469\tvalidation_1-logloss:0.19254\n",
      "[47]\tvalidation_0-logloss:0.05469\tvalidation_1-logloss:0.19254\n",
      "[48]\tvalidation_0-logloss:0.05468\tvalidation_1-logloss:0.19254\n",
      "[49]\tvalidation_0-logloss:0.05468\tvalidation_1-logloss:0.19254\n",
      "[50]\tvalidation_0-logloss:0.05468\tvalidation_1-logloss:0.19254\n"
     ]
    },
    {
     "data": {
      "text/plain": [
       "XGBClassifier(base_score=0.5, booster='gbtree', colsample_bylevel=1,\n",
       "              colsample_bynode=1, colsample_bytree=1, eta=0.3,\n",
       "              eval_metric='logloss', gamma=1, gpu_id=-1,\n",
       "              grow_policy='lossguide', importance_type='gain',\n",
       "              interaction_constraints='', learning_rate=0.300000012,\n",
       "              max_delta_step=0, max_depth=12, min_child_weight=1, missing=nan,\n",
       "              monotone_constraints='()', n_estimators=100, n_jobs=8,\n",
       "              num_parallel_tree=1, random_state=42, reg_alpha=0, reg_lambda=3,\n",
       "              scale_pos_weight=2, subsample=1, tree_method='exact',\n",
       "              validate_parameters=1, verbosity=None)"
      ]
     },
     "execution_count": 83,
     "metadata": {},
     "output_type": "execute_result"
    }
   ],
   "source": [
    "#binary:logistic multi:softmax\n",
    "xgb_model.fit(X_train, y_train, early_stopping_rounds=10, eval_set=[(X_train, y_train), (X_test,y_test)], verbose=True)"
   ]
  },
  {
   "cell_type": "code",
   "execution_count": 85,
   "id": "2227b64c",
   "metadata": {},
   "outputs": [
    {
     "name": "stdout",
     "output_type": "stream",
     "text": [
      "              precision    recall  f1-score   support\n",
      "\n",
      "           0       0.92      0.99      0.95       475\n",
      "           1       0.98      0.85      0.91       271\n",
      "\n",
      "    accuracy                           0.94       746\n",
      "   macro avg       0.95      0.92      0.93       746\n",
      "weighted avg       0.94      0.94      0.94       746\n",
      "\n"
     ]
    }
   ],
   "source": [
    "from sklearn.metrics import classification_report\n",
    "\n",
    "y_predOrig = xgb_model.predict(X_test)\n",
    "#y_pred_bool = np.argmax(y_pred, axis=1)\n",
    "#y_pred_bool = pd.get_dummies(y_pred_bool)\n",
    "\n",
    "print(classification_report(y_test, y_predOrig))"
   ]
  },
  {
   "cell_type": "code",
   "execution_count": 86,
   "id": "44c075c0",
   "metadata": {},
   "outputs": [
    {
     "name": "stdout",
     "output_type": "stream",
     "text": [
      "              precision    recall  f1-score   support\n",
      "\n",
      "           0       0.91      0.97      0.94       374\n",
      "           1       0.92      0.82      0.87       186\n",
      "\n",
      "    accuracy                           0.92       560\n",
      "   macro avg       0.92      0.89      0.90       560\n",
      "weighted avg       0.92      0.92      0.91       560\n",
      "\n"
     ]
    }
   ],
   "source": [
    "from sklearn.metrics import classification_report\n",
    "\n",
    "y_predOrig = xgb_model.predict(X_valid)\n",
    "#y_pred_bool = np.argmax(y_pred, axis=1)\n",
    "#y_pred_bool = pd.get_dummies(y_pred_bool)\n",
    "\n",
    "print(classification_report(y_valid, y_predOrig))"
   ]
  },
  {
   "cell_type": "code",
   "execution_count": 77,
   "id": "c5eff717",
   "metadata": {},
   "outputs": [
    {
     "name": "stderr",
     "output_type": "stream",
     "text": [
      "/usr/local/lib/python3.8/site-packages/xgboost/sklearn.py:1146: UserWarning: The use of label encoder in XGBClassifier is deprecated and will be removed in a future release. To remove this warning, do the following: 1) Pass option use_label_encoder=False when constructing XGBClassifier object; and 2) Encode your labels (y) as integers starting with 0, i.e. 0, 1, 2, ..., [num_class - 1].\n",
      "  warnings.warn(label_encoder_deprecation_msg, UserWarning)\n",
      "/usr/local/lib/python3.8/site-packages/xgboost/sklearn.py:1146: UserWarning: The use of label encoder in XGBClassifier is deprecated and will be removed in a future release. To remove this warning, do the following: 1) Pass option use_label_encoder=False when constructing XGBClassifier object; and 2) Encode your labels (y) as integers starting with 0, i.e. 0, 1, 2, ..., [num_class - 1].\n",
      "  warnings.warn(label_encoder_deprecation_msg, UserWarning)\n",
      "/usr/local/lib/python3.8/site-packages/xgboost/sklearn.py:1146: UserWarning: The use of label encoder in XGBClassifier is deprecated and will be removed in a future release. To remove this warning, do the following: 1) Pass option use_label_encoder=False when constructing XGBClassifier object; and 2) Encode your labels (y) as integers starting with 0, i.e. 0, 1, 2, ..., [num_class - 1].\n",
      "  warnings.warn(label_encoder_deprecation_msg, UserWarning)\n",
      "/usr/local/lib/python3.8/site-packages/xgboost/sklearn.py:1146: UserWarning: The use of label encoder in XGBClassifier is deprecated and will be removed in a future release. To remove this warning, do the following: 1) Pass option use_label_encoder=False when constructing XGBClassifier object; and 2) Encode your labels (y) as integers starting with 0, i.e. 0, 1, 2, ..., [num_class - 1].\n",
      "  warnings.warn(label_encoder_deprecation_msg, UserWarning)\n",
      "/usr/local/lib/python3.8/site-packages/xgboost/sklearn.py:1146: UserWarning: The use of label encoder in XGBClassifier is deprecated and will be removed in a future release. To remove this warning, do the following: 1) Pass option use_label_encoder=False when constructing XGBClassifier object; and 2) Encode your labels (y) as integers starting with 0, i.e. 0, 1, 2, ..., [num_class - 1].\n",
      "  warnings.warn(label_encoder_deprecation_msg, UserWarning)\n",
      "/usr/local/lib/python3.8/site-packages/xgboost/sklearn.py:1146: UserWarning: The use of label encoder in XGBClassifier is deprecated and will be removed in a future release. To remove this warning, do the following: 1) Pass option use_label_encoder=False when constructing XGBClassifier object; and 2) Encode your labels (y) as integers starting with 0, i.e. 0, 1, 2, ..., [num_class - 1].\n",
      "  warnings.warn(label_encoder_deprecation_msg, UserWarning)\n",
      "/usr/local/lib/python3.8/site-packages/xgboost/sklearn.py:1146: UserWarning: The use of label encoder in XGBClassifier is deprecated and will be removed in a future release. To remove this warning, do the following: 1) Pass option use_label_encoder=False when constructing XGBClassifier object; and 2) Encode your labels (y) as integers starting with 0, i.e. 0, 1, 2, ..., [num_class - 1].\n",
      "  warnings.warn(label_encoder_deprecation_msg, UserWarning)\n",
      "/usr/local/lib/python3.8/site-packages/xgboost/sklearn.py:1146: UserWarning: The use of label encoder in XGBClassifier is deprecated and will be removed in a future release. To remove this warning, do the following: 1) Pass option use_label_encoder=False when constructing XGBClassifier object; and 2) Encode your labels (y) as integers starting with 0, i.e. 0, 1, 2, ..., [num_class - 1].\n",
      "  warnings.warn(label_encoder_deprecation_msg, UserWarning)\n",
      "/usr/local/lib/python3.8/site-packages/xgboost/sklearn.py:1146: UserWarning: The use of label encoder in XGBClassifier is deprecated and will be removed in a future release. To remove this warning, do the following: 1) Pass option use_label_encoder=False when constructing XGBClassifier object; and 2) Encode your labels (y) as integers starting with 0, i.e. 0, 1, 2, ..., [num_class - 1].\n",
      "  warnings.warn(label_encoder_deprecation_msg, UserWarning)\n",
      "/usr/local/lib/python3.8/site-packages/xgboost/sklearn.py:1146: UserWarning: The use of label encoder in XGBClassifier is deprecated and will be removed in a future release. To remove this warning, do the following: 1) Pass option use_label_encoder=False when constructing XGBClassifier object; and 2) Encode your labels (y) as integers starting with 0, i.e. 0, 1, 2, ..., [num_class - 1].\n",
      "  warnings.warn(label_encoder_deprecation_msg, UserWarning)\n"
     ]
    },
    {
     "name": "stdout",
     "output_type": "stream",
     "text": [
      "The Accuracy is: 81.09% (3.43%)\n"
     ]
    }
   ],
   "source": [
    "##Cross Validation\n",
    "kFold = KFold(n_splits = 10)\n",
    "res = cross_val_score(xgb_model, X_test, y_test, cv=kFold)\n",
    "print(\"The Accuracy is: %.2f%% (%.2f%%)\" % (res.mean()*100, res.std()*100))"
   ]
  },
  {
   "cell_type": "code",
   "execution_count": 52,
   "id": "f1b4080f",
   "metadata": {},
   "outputs": [
    {
     "name": "stderr",
     "output_type": "stream",
     "text": [
      "/usr/local/lib/python3.8/site-packages/xgboost/sklearn.py:1146: UserWarning: The use of label encoder in XGBClassifier is deprecated and will be removed in a future release. To remove this warning, do the following: 1) Pass option use_label_encoder=False when constructing XGBClassifier object; and 2) Encode your labels (y) as integers starting with 0, i.e. 0, 1, 2, ..., [num_class - 1].\n",
      "  warnings.warn(label_encoder_deprecation_msg, UserWarning)\n",
      "/usr/local/lib/python3.8/site-packages/xgboost/sklearn.py:1146: UserWarning: The use of label encoder in XGBClassifier is deprecated and will be removed in a future release. To remove this warning, do the following: 1) Pass option use_label_encoder=False when constructing XGBClassifier object; and 2) Encode your labels (y) as integers starting with 0, i.e. 0, 1, 2, ..., [num_class - 1].\n",
      "  warnings.warn(label_encoder_deprecation_msg, UserWarning)\n",
      "/usr/local/lib/python3.8/site-packages/xgboost/sklearn.py:1146: UserWarning: The use of label encoder in XGBClassifier is deprecated and will be removed in a future release. To remove this warning, do the following: 1) Pass option use_label_encoder=False when constructing XGBClassifier object; and 2) Encode your labels (y) as integers starting with 0, i.e. 0, 1, 2, ..., [num_class - 1].\n",
      "  warnings.warn(label_encoder_deprecation_msg, UserWarning)\n",
      "/usr/local/lib/python3.8/site-packages/xgboost/sklearn.py:1146: UserWarning: The use of label encoder in XGBClassifier is deprecated and will be removed in a future release. To remove this warning, do the following: 1) Pass option use_label_encoder=False when constructing XGBClassifier object; and 2) Encode your labels (y) as integers starting with 0, i.e. 0, 1, 2, ..., [num_class - 1].\n",
      "  warnings.warn(label_encoder_deprecation_msg, UserWarning)\n",
      "/usr/local/lib/python3.8/site-packages/xgboost/sklearn.py:1146: UserWarning: The use of label encoder in XGBClassifier is deprecated and will be removed in a future release. To remove this warning, do the following: 1) Pass option use_label_encoder=False when constructing XGBClassifier object; and 2) Encode your labels (y) as integers starting with 0, i.e. 0, 1, 2, ..., [num_class - 1].\n",
      "  warnings.warn(label_encoder_deprecation_msg, UserWarning)\n",
      "/usr/local/lib/python3.8/site-packages/xgboost/sklearn.py:1146: UserWarning: The use of label encoder in XGBClassifier is deprecated and will be removed in a future release. To remove this warning, do the following: 1) Pass option use_label_encoder=False when constructing XGBClassifier object; and 2) Encode your labels (y) as integers starting with 0, i.e. 0, 1, 2, ..., [num_class - 1].\n",
      "  warnings.warn(label_encoder_deprecation_msg, UserWarning)\n",
      "/usr/local/lib/python3.8/site-packages/xgboost/sklearn.py:1146: UserWarning: The use of label encoder in XGBClassifier is deprecated and will be removed in a future release. To remove this warning, do the following: 1) Pass option use_label_encoder=False when constructing XGBClassifier object; and 2) Encode your labels (y) as integers starting with 0, i.e. 0, 1, 2, ..., [num_class - 1].\n",
      "  warnings.warn(label_encoder_deprecation_msg, UserWarning)\n",
      "/usr/local/lib/python3.8/site-packages/xgboost/sklearn.py:1146: UserWarning: The use of label encoder in XGBClassifier is deprecated and will be removed in a future release. To remove this warning, do the following: 1) Pass option use_label_encoder=False when constructing XGBClassifier object; and 2) Encode your labels (y) as integers starting with 0, i.e. 0, 1, 2, ..., [num_class - 1].\n",
      "  warnings.warn(label_encoder_deprecation_msg, UserWarning)\n",
      "/usr/local/lib/python3.8/site-packages/xgboost/sklearn.py:1146: UserWarning: The use of label encoder in XGBClassifier is deprecated and will be removed in a future release. To remove this warning, do the following: 1) Pass option use_label_encoder=False when constructing XGBClassifier object; and 2) Encode your labels (y) as integers starting with 0, i.e. 0, 1, 2, ..., [num_class - 1].\n",
      "  warnings.warn(label_encoder_deprecation_msg, UserWarning)\n",
      "/usr/local/lib/python3.8/site-packages/xgboost/sklearn.py:1146: UserWarning: The use of label encoder in XGBClassifier is deprecated and will be removed in a future release. To remove this warning, do the following: 1) Pass option use_label_encoder=False when constructing XGBClassifier object; and 2) Encode your labels (y) as integers starting with 0, i.e. 0, 1, 2, ..., [num_class - 1].\n",
      "  warnings.warn(label_encoder_deprecation_msg, UserWarning)\n"
     ]
    },
    {
     "name": "stdout",
     "output_type": "stream",
     "text": [
      "The Accuracy is: 94.81% (1.54%)\n"
     ]
    }
   ],
   "source": [
    "kFold = KFold(n_splits = 10)\n",
    "res = cross_val_score(xgb_model, X_train_full, y_train_full, cv=kFold)\n",
    "print(\"The Accuracy is: %.2f%% (%.2f%%)\" % (res.mean()*100, res.std()*100))"
   ]
  },
  {
   "cell_type": "code",
   "execution_count": 71,
   "id": "7552a792",
   "metadata": {},
   "outputs": [],
   "source": [
    "results = xgb_model.evals_result()"
   ]
  },
  {
   "cell_type": "code",
   "execution_count": null,
   "id": "3f8a6f29",
   "metadata": {},
   "outputs": [],
   "source": []
  },
  {
   "cell_type": "code",
   "execution_count": 87,
   "id": "efef0048",
   "metadata": {},
   "outputs": [
    {
     "data": {
      "image/png": "[encoded data removed]",
      "text/plain": [
       "<Figure size 432x288 with 1 Axes>"
      ]
     },
     "metadata": {
      "needs_background": "light"
     },
     "output_type": "display_data"
    }
   ],
   "source": [
    "pyplot.plot(results['validation_0']['logloss'], label='train')\n",
    "pyplot.plot(results['validation_1']['logloss'], label='test')\n",
    "\n",
    "pyplot.legend()\n",
    "\n",
    "pyplot.show()"
   ]
  },
  {
   "cell_type": "code",
   "execution_count": 23,
   "id": "f322cd18",
   "metadata": {},
   "outputs": [],
   "source": [
    "#####HyperOpt for searching the best hyperparameters\n",
    "space={'max_depth': hp.quniform(\"max_depth\", 8, 25, 1),'gamma': hp.uniform ('gamma', 0,9),\n",
    "       'reg_alpha' : hp.quniform('reg_alpha', 0,5,1),'reg_lambda' : hp.uniform('reg_lambda', 0,5),\n",
    "       'colsample_bytree' : hp.uniform('colsample_bytree', 0.9,1),'min_child_weight' : hp.quniform('min_child_weight', 0, 25, 1),\n",
    "       'n_estimators': 150,'seed': 0}"
   ]
  },
  {
   "cell_type": "code",
   "execution_count": 16,
   "id": "c660c1c2",
   "metadata": {},
   "outputs": [],
   "source": [
    "kF = KFold(n_splits = 3)"
   ]
  },
  {
   "cell_type": "code",
   "execution_count": null,
   "id": "4a7a4cf8",
   "metadata": {},
   "outputs": [],
   "source": []
  },
  {
   "cell_type": "code",
   "execution_count": 27,
   "id": "a800aa91",
   "metadata": {},
   "outputs": [],
   "source": [
    "def objective(space):\n",
    "    clf=xgb.XGBClassifier(objective=\"binary:logistic\",n_estimators =space['n_estimators'], max_depth = int(space['max_depth']), gamma = space['gamma'],reg_alpha = int(space['reg_alpha']),\n",
    "                         scale_pos_weight = 6, seed = space['seed'], reg_lambda = int(space['reg_lambda']), colsample_bytree = (space['colsample_bytree']), min_child_weight = space['min_child_weight'])\n",
    "    \n",
    "    evaluation = [( X_train, y_train), ( X_test, y_test)]\n",
    "    clf.fit(X_train, y_train,eval_set=evaluation, eval_metric=\"auc\",early_stopping_rounds=10,verbose=False)\n",
    "    pred = clf.predict(X_test)\n",
    "    accuracy = accuracy_score(y_test, pred)\n",
    "    print (\"SCORE:\", accuracy)\n",
    "    return {'loss': -accuracy, 'status': STATUS_OK }\n",
    "            \n",
    "    "
   ]
  },
  {
   "cell_type": "code",
   "execution_count": 304,
   "id": "c576170a",
   "metadata": {},
   "outputs": [],
   "source": [
    "def objective(space, cv = kF):\n",
    "    clf=xgb.XGBClassifier(objective=\"binary:logistic\",n_estimators =space['n_estimators'], max_depth = int(space['max_depth']), gamma = space['gamma'],reg_alpha = int(space['reg_alpha']),\n",
    "                         scale_pos_weight = 6, grow_policy = \"depthwise\", seed = space['seed'])\n",
    "    \n",
    "    evaluation = [( X_train, y_train), ( X_test, y_test)]\n",
    "    clf.fit(X_train, y_train,eval_set=evaluation, eval_metric=\"auc\",early_stopping_rounds=10,verbose=False)\n",
    "    #pred = clf.predict(X_test)\n",
    "    #accuracy = accuracy_score(y_test, pred)\n",
    "    score = -cross_val_score(clf, X_test, y_test, cv=cv, scoring=\"accuracy\", n_jobs=-1).mean()\n",
    "    print (\"SCORE:\", score)\n",
    "    return {'loss': score, 'status': STATUS_OK }\n",
    "            \n",
    "    "
   ]
  },
  {
   "cell_type": "code",
   "execution_count": 28,
   "id": "ca23f4ca",
   "metadata": {},
   "outputs": [
    {
     "name": "stdout",
     "output_type": "stream",
     "text": [
      "  0%|          | 0/100 [00:00<?, ?trial/s, best loss=?]"
     ]
    },
    {
     "name": "stderr",
     "output_type": "stream",
     "text": [
      "/usr/local/lib/python3.8/site-packages/xgboost/sklearn.py:1146: UserWarning: The use of label encoder in XGBClassifier is deprecated and will be removed in a future release. To remove this warning, do the following: 1) Pass option use_label_encoder=False when constructing XGBClassifier object; and 2) Encode your labels (y) as integers starting with 0, i.e. 0, 1, 2, ..., [num_class - 1].\n",
      "  warnings.warn(label_encoder_deprecation_msg, UserWarning)\n",
      "\n"
     ]
    },
    {
     "name": "stdout",
     "output_type": "stream",
     "text": [
      "SCORE:                                                 \n",
      "0.8914209115281502                                     \n",
      "  1%|          | 1/100 [00:02<03:23,  2.05s/trial, best loss: -0.8914209115281502]"
     ]
    },
    {
     "name": "stderr",
     "output_type": "stream",
     "text": [
      "/usr/local/lib/python3.8/site-packages/xgboost/sklearn.py:1146: UserWarning: The use of label encoder in XGBClassifier is deprecated and will be removed in a future release. To remove this warning, do the following: 1) Pass option use_label_encoder=False when constructing XGBClassifier object; and 2) Encode your labels (y) as integers starting with 0, i.e. 0, 1, 2, ..., [num_class - 1].\n",
      "  warnings.warn(label_encoder_deprecation_msg, UserWarning)\n",
      "\n"
     ]
    },
    {
     "name": "stdout",
     "output_type": "stream",
     "text": [
      "SCORE:                                                                            \n",
      "0.8981233243967829                                                                \n",
      "  2%|▏         | 2/100 [00:04<03:46,  2.32s/trial, best loss: -0.8981233243967829]"
     ]
    },
    {
     "name": "stderr",
     "output_type": "stream",
     "text": [
      "/usr/local/lib/python3.8/site-packages/xgboost/sklearn.py:1146: UserWarning: The use of label encoder in XGBClassifier is deprecated and will be removed in a future release. To remove this warning, do the following: 1) Pass option use_label_encoder=False when constructing XGBClassifier object; and 2) Encode your labels (y) as integers starting with 0, i.e. 0, 1, 2, ..., [num_class - 1].\n",
      "  warnings.warn(label_encoder_deprecation_msg, UserWarning)\n",
      "\n"
     ]
    },
    {
     "name": "stdout",
     "output_type": "stream",
     "text": [
      "SCORE:                                                                            \n",
      "0.8270777479892761                                                                \n",
      "  3%|▎         | 3/100 [00:06<03:09,  1.96s/trial, best loss: -0.8981233243967829]"
     ]
    },
    {
     "name": "stderr",
     "output_type": "stream",
     "text": [
      "/usr/local/lib/python3.8/site-packages/xgboost/sklearn.py:1146: UserWarning: The use of label encoder in XGBClassifier is deprecated and will be removed in a future release. To remove this warning, do the following: 1) Pass option use_label_encoder=False when constructing XGBClassifier object; and 2) Encode your labels (y) as integers starting with 0, i.e. 0, 1, 2, ..., [num_class - 1].\n",
      "  warnings.warn(label_encoder_deprecation_msg, UserWarning)\n",
      "\n"
     ]
    },
    {
     "name": "stdout",
     "output_type": "stream",
     "text": [
      "SCORE:                                                                            \n",
      "0.8552278820375335                                                                \n",
      "  4%|▍         | 4/100 [00:07<02:58,  1.86s/trial, best loss: -0.8981233243967829]"
     ]
    },
    {
     "name": "stderr",
     "output_type": "stream",
     "text": [
      "/usr/local/lib/python3.8/site-packages/xgboost/sklearn.py:1146: UserWarning: The use of label encoder in XGBClassifier is deprecated and will be removed in a future release. To remove this warning, do the following: 1) Pass option use_label_encoder=False when constructing XGBClassifier object; and 2) Encode your labels (y) as integers starting with 0, i.e. 0, 1, 2, ..., [num_class - 1].\n",
      "  warnings.warn(label_encoder_deprecation_msg, UserWarning)\n",
      "\n"
     ]
    },
    {
     "name": "stdout",
     "output_type": "stream",
     "text": [
      "SCORE:                                                                            \n",
      "0.9075067024128687                                                                \n",
      "  5%|▌         | 5/100 [00:09<02:50,  1.80s/trial, best loss: -0.9075067024128687]"
     ]
    },
    {
     "name": "stderr",
     "output_type": "stream",
     "text": [
      "/usr/local/lib/python3.8/site-packages/xgboost/sklearn.py:1146: UserWarning: The use of label encoder in XGBClassifier is deprecated and will be removed in a future release. To remove this warning, do the following: 1) Pass option use_label_encoder=False when constructing XGBClassifier object; and 2) Encode your labels (y) as integers starting with 0, i.e. 0, 1, 2, ..., [num_class - 1].\n",
      "  warnings.warn(label_encoder_deprecation_msg, UserWarning)\n",
      "\n"
     ]
    },
    {
     "name": "stdout",
     "output_type": "stream",
     "text": [
      "SCORE:                                                                            \n",
      "0.8297587131367292                                                                \n",
      "  6%|▌         | 6/100 [00:10<02:36,  1.67s/trial, best loss: -0.9075067024128687]"
     ]
    },
    {
     "name": "stderr",
     "output_type": "stream",
     "text": [
      "/usr/local/lib/python3.8/site-packages/xgboost/sklearn.py:1146: UserWarning: The use of label encoder in XGBClassifier is deprecated and will be removed in a future release. To remove this warning, do the following: 1) Pass option use_label_encoder=False when constructing XGBClassifier object; and 2) Encode your labels (y) as integers starting with 0, i.e. 0, 1, 2, ..., [num_class - 1].\n",
      "  warnings.warn(label_encoder_deprecation_msg, UserWarning)\n",
      "\n"
     ]
    },
    {
     "name": "stdout",
     "output_type": "stream",
     "text": [
      "SCORE:                                                                            \n",
      "0.9048257372654156                                                                \n",
      "  7%|▋         | 7/100 [00:12<02:34,  1.66s/trial, best loss: -0.9075067024128687]"
     ]
    },
    {
     "name": "stderr",
     "output_type": "stream",
     "text": [
      "/usr/local/lib/python3.8/site-packages/xgboost/sklearn.py:1146: UserWarning: The use of label encoder in XGBClassifier is deprecated and will be removed in a future release. To remove this warning, do the following: 1) Pass option use_label_encoder=False when constructing XGBClassifier object; and 2) Encode your labels (y) as integers starting with 0, i.e. 0, 1, 2, ..., [num_class - 1].\n",
      "  warnings.warn(label_encoder_deprecation_msg, UserWarning)\n",
      "\n"
     ]
    },
    {
     "name": "stdout",
     "output_type": "stream",
     "text": [
      "SCORE:                                                                            \n",
      "0.8994638069705094                                                                \n",
      "  8%|▊         | 8/100 [00:14<02:37,  1.71s/trial, best loss: -0.9075067024128687]"
     ]
    },
    {
     "name": "stderr",
     "output_type": "stream",
     "text": [
      "/usr/local/lib/python3.8/site-packages/xgboost/sklearn.py:1146: UserWarning: The use of label encoder in XGBClassifier is deprecated and will be removed in a future release. To remove this warning, do the following: 1) Pass option use_label_encoder=False when constructing XGBClassifier object; and 2) Encode your labels (y) as integers starting with 0, i.e. 0, 1, 2, ..., [num_class - 1].\n",
      "  warnings.warn(label_encoder_deprecation_msg, UserWarning)\n",
      "\n"
     ]
    },
    {
     "name": "stdout",
     "output_type": "stream",
     "text": [
      "SCORE:                                                                            \n",
      "0.8914209115281502                                                                \n",
      "  9%|▉         | 9/100 [00:16<02:36,  1.71s/trial, best loss: -0.9075067024128687]"
     ]
    },
    {
     "name": "stderr",
     "output_type": "stream",
     "text": [
      "/usr/local/lib/python3.8/site-packages/xgboost/sklearn.py:1146: UserWarning: The use of label encoder in XGBClassifier is deprecated and will be removed in a future release. To remove this warning, do the following: 1) Pass option use_label_encoder=False when constructing XGBClassifier object; and 2) Encode your labels (y) as integers starting with 0, i.e. 0, 1, 2, ..., [num_class - 1].\n",
      "  warnings.warn(label_encoder_deprecation_msg, UserWarning)\n",
      "\n"
     ]
    },
    {
     "name": "stdout",
     "output_type": "stream",
     "text": [
      "SCORE:                                                                            \n",
      "0.8431635388739946                                                                \n",
      " 10%|█         | 10/100 [00:17<02:23,  1.60s/trial, best loss: -0.9075067024128687]"
     ]
    },
    {
     "name": "stderr",
     "output_type": "stream",
     "text": [
      "/usr/local/lib/python3.8/site-packages/xgboost/sklearn.py:1146: UserWarning: The use of label encoder in XGBClassifier is deprecated and will be removed in a future release. To remove this warning, do the following: 1) Pass option use_label_encoder=False when constructing XGBClassifier object; and 2) Encode your labels (y) as integers starting with 0, i.e. 0, 1, 2, ..., [num_class - 1].\n",
      "  warnings.warn(label_encoder_deprecation_msg, UserWarning)\n",
      "\n"
     ]
    },
    {
     "name": "stdout",
     "output_type": "stream",
     "text": [
      "SCORE:                                                                             \n",
      "0.886058981233244                                                                  \n",
      " 11%|█         | 11/100 [00:18<02:14,  1.52s/trial, best loss: -0.9075067024128687]"
     ]
    },
    {
     "name": "stderr",
     "output_type": "stream",
     "text": [
      "/usr/local/lib/python3.8/site-packages/xgboost/sklearn.py:1146: UserWarning: The use of label encoder in XGBClassifier is deprecated and will be removed in a future release. To remove this warning, do the following: 1) Pass option use_label_encoder=False when constructing XGBClassifier object; and 2) Encode your labels (y) as integers starting with 0, i.e. 0, 1, 2, ..., [num_class - 1].\n",
      "  warnings.warn(label_encoder_deprecation_msg, UserWarning)\n",
      "\n"
     ]
    },
    {
     "name": "stdout",
     "output_type": "stream",
     "text": [
      "SCORE:                                                                             \n",
      "0.9262734584450402                                                                 \n",
      " 12%|█▏        | 12/100 [00:21<02:58,  2.03s/trial, best loss: -0.9262734584450402]"
     ]
    },
    {
     "name": "stderr",
     "output_type": "stream",
     "text": [
      "/usr/local/lib/python3.8/site-packages/xgboost/sklearn.py:1146: UserWarning: The use of label encoder in XGBClassifier is deprecated and will be removed in a future release. To remove this warning, do the following: 1) Pass option use_label_encoder=False when constructing XGBClassifier object; and 2) Encode your labels (y) as integers starting with 0, i.e. 0, 1, 2, ..., [num_class - 1].\n",
      "  warnings.warn(label_encoder_deprecation_msg, UserWarning)\n",
      "\n"
     ]
    },
    {
     "name": "stdout",
     "output_type": "stream",
     "text": [
      "SCORE:                                                                             \n",
      "0.8364611260053619                                                                 \n",
      " 13%|█▎        | 13/100 [00:23<02:37,  1.81s/trial, best loss: -0.9262734584450402]"
     ]
    },
    {
     "name": "stderr",
     "output_type": "stream",
     "text": [
      "/usr/local/lib/python3.8/site-packages/xgboost/sklearn.py:1146: UserWarning: The use of label encoder in XGBClassifier is deprecated and will be removed in a future release. To remove this warning, do the following: 1) Pass option use_label_encoder=False when constructing XGBClassifier object; and 2) Encode your labels (y) as integers starting with 0, i.e. 0, 1, 2, ..., [num_class - 1].\n",
      "  warnings.warn(label_encoder_deprecation_msg, UserWarning)\n",
      "\n"
     ]
    },
    {
     "name": "stdout",
     "output_type": "stream",
     "text": [
      "SCORE:                                                                             \n",
      "0.8981233243967829                                                                 \n",
      " 14%|█▍        | 14/100 [00:26<03:00,  2.10s/trial, best loss: -0.9262734584450402]"
     ]
    },
    {
     "name": "stderr",
     "output_type": "stream",
     "text": [
      "/usr/local/lib/python3.8/site-packages/xgboost/sklearn.py:1146: UserWarning: The use of label encoder in XGBClassifier is deprecated and will be removed in a future release. To remove this warning, do the following: 1) Pass option use_label_encoder=False when constructing XGBClassifier object; and 2) Encode your labels (y) as integers starting with 0, i.e. 0, 1, 2, ..., [num_class - 1].\n",
      "  warnings.warn(label_encoder_deprecation_msg, UserWarning)\n",
      "\n"
     ]
    },
    {
     "name": "stdout",
     "output_type": "stream",
     "text": [
      "SCORE:                                                                             \n",
      "0.8203753351206434                                                                 \n",
      " 15%|█▌        | 15/100 [00:28<02:58,  2.10s/trial, best loss: -0.9262734584450402]"
     ]
    },
    {
     "name": "stderr",
     "output_type": "stream",
     "text": [
      "/usr/local/lib/python3.8/site-packages/xgboost/sklearn.py:1146: UserWarning: The use of label encoder in XGBClassifier is deprecated and will be removed in a future release. To remove this warning, do the following: 1) Pass option use_label_encoder=False when constructing XGBClassifier object; and 2) Encode your labels (y) as integers starting with 0, i.e. 0, 1, 2, ..., [num_class - 1].\n",
      "  warnings.warn(label_encoder_deprecation_msg, UserWarning)\n",
      "\n"
     ]
    },
    {
     "name": "stdout",
     "output_type": "stream",
     "text": [
      "SCORE:                                                                             \n",
      "0.8364611260053619                                                                 \n",
      " 16%|█▌        | 16/100 [00:29<02:44,  1.95s/trial, best loss: -0.9262734584450402]"
     ]
    },
    {
     "name": "stderr",
     "output_type": "stream",
     "text": [
      "/usr/local/lib/python3.8/site-packages/xgboost/sklearn.py:1146: UserWarning: The use of label encoder in XGBClassifier is deprecated and will be removed in a future release. To remove this warning, do the following: 1) Pass option use_label_encoder=False when constructing XGBClassifier object; and 2) Encode your labels (y) as integers starting with 0, i.e. 0, 1, 2, ..., [num_class - 1].\n",
      "  warnings.warn(label_encoder_deprecation_msg, UserWarning)\n",
      "\n"
     ]
    },
    {
     "name": "stdout",
     "output_type": "stream",
     "text": [
      "SCORE:                                                                             \n",
      "0.8605898123324397                                                                 \n",
      " 17%|█▋        | 17/100 [00:31<02:37,  1.90s/trial, best loss: -0.9262734584450402]"
     ]
    },
    {
     "name": "stderr",
     "output_type": "stream",
     "text": [
      "/usr/local/lib/python3.8/site-packages/xgboost/sklearn.py:1146: UserWarning: The use of label encoder in XGBClassifier is deprecated and will be removed in a future release. To remove this warning, do the following: 1) Pass option use_label_encoder=False when constructing XGBClassifier object; and 2) Encode your labels (y) as integers starting with 0, i.e. 0, 1, 2, ..., [num_class - 1].\n",
      "  warnings.warn(label_encoder_deprecation_msg, UserWarning)\n",
      "\n"
     ]
    },
    {
     "name": "stdout",
     "output_type": "stream",
     "text": [
      "SCORE:                                                                             \n",
      "0.9021447721179625                                                                 \n",
      " 18%|█▊        | 18/100 [00:33<02:46,  2.03s/trial, best loss: -0.9262734584450402]"
     ]
    },
    {
     "name": "stderr",
     "output_type": "stream",
     "text": [
      "/usr/local/lib/python3.8/site-packages/xgboost/sklearn.py:1146: UserWarning: The use of label encoder in XGBClassifier is deprecated and will be removed in a future release. To remove this warning, do the following: 1) Pass option use_label_encoder=False when constructing XGBClassifier object; and 2) Encode your labels (y) as integers starting with 0, i.e. 0, 1, 2, ..., [num_class - 1].\n",
      "  warnings.warn(label_encoder_deprecation_msg, UserWarning)\n",
      "\n"
     ]
    },
    {
     "name": "stdout",
     "output_type": "stream",
     "text": [
      "SCORE:                                                                             \n",
      "0.903485254691689                                                                  \n",
      " 19%|█▉        | 19/100 [00:36<02:53,  2.14s/trial, best loss: -0.9262734584450402]"
     ]
    },
    {
     "name": "stderr",
     "output_type": "stream",
     "text": [
      "/usr/local/lib/python3.8/site-packages/xgboost/sklearn.py:1146: UserWarning: The use of label encoder in XGBClassifier is deprecated and will be removed in a future release. To remove this warning, do the following: 1) Pass option use_label_encoder=False when constructing XGBClassifier object; and 2) Encode your labels (y) as integers starting with 0, i.e. 0, 1, 2, ..., [num_class - 1].\n",
      "  warnings.warn(label_encoder_deprecation_msg, UserWarning)\n",
      "\n"
     ]
    },
    {
     "name": "stdout",
     "output_type": "stream",
     "text": [
      "SCORE:                                                                             \n",
      "0.8900804289544236                                                                 \n",
      " 20%|██        | 20/100 [00:37<02:40,  2.01s/trial, best loss: -0.9262734584450402]"
     ]
    },
    {
     "name": "stderr",
     "output_type": "stream",
     "text": [
      "/usr/local/lib/python3.8/site-packages/xgboost/sklearn.py:1146: UserWarning: The use of label encoder in XGBClassifier is deprecated and will be removed in a future release. To remove this warning, do the following: 1) Pass option use_label_encoder=False when constructing XGBClassifier object; and 2) Encode your labels (y) as integers starting with 0, i.e. 0, 1, 2, ..., [num_class - 1].\n",
      "  warnings.warn(label_encoder_deprecation_msg, UserWarning)\n",
      "\n"
     ]
    },
    {
     "name": "stdout",
     "output_type": "stream",
     "text": [
      "SCORE:                                                                             \n",
      "0.9115281501340483                                                                 \n",
      " 21%|██        | 21/100 [00:42<03:41,  2.80s/trial, best loss: -0.9262734584450402]"
     ]
    },
    {
     "name": "stderr",
     "output_type": "stream",
     "text": [
      "/usr/local/lib/python3.8/site-packages/xgboost/sklearn.py:1146: UserWarning: The use of label encoder in XGBClassifier is deprecated and will be removed in a future release. To remove this warning, do the following: 1) Pass option use_label_encoder=False when constructing XGBClassifier object; and 2) Encode your labels (y) as integers starting with 0, i.e. 0, 1, 2, ..., [num_class - 1].\n",
      "  warnings.warn(label_encoder_deprecation_msg, UserWarning)\n",
      "\n"
     ]
    },
    {
     "name": "stdout",
     "output_type": "stream",
     "text": [
      "SCORE:                                                                             \n",
      "0.9101876675603218                                                                 \n",
      " 22%|██▏       | 22/100 [00:46<04:08,  3.18s/trial, best loss: -0.9262734584450402]"
     ]
    },
    {
     "name": "stderr",
     "output_type": "stream",
     "text": [
      "/usr/local/lib/python3.8/site-packages/xgboost/sklearn.py:1146: UserWarning: The use of label encoder in XGBClassifier is deprecated and will be removed in a future release. To remove this warning, do the following: 1) Pass option use_label_encoder=False when constructing XGBClassifier object; and 2) Encode your labels (y) as integers starting with 0, i.e. 0, 1, 2, ..., [num_class - 1].\n",
      "  warnings.warn(label_encoder_deprecation_msg, UserWarning)\n",
      "\n"
     ]
    },
    {
     "name": "stdout",
     "output_type": "stream",
     "text": [
      "SCORE:                                                                             \n",
      "0.903485254691689                                                                  \n",
      " 23%|██▎       | 23/100 [00:50<04:21,  3.39s/trial, best loss: -0.9262734584450402]"
     ]
    },
    {
     "name": "stderr",
     "output_type": "stream",
     "text": [
      "/usr/local/lib/python3.8/site-packages/xgboost/sklearn.py:1146: UserWarning: The use of label encoder in XGBClassifier is deprecated and will be removed in a future release. To remove this warning, do the following: 1) Pass option use_label_encoder=False when constructing XGBClassifier object; and 2) Encode your labels (y) as integers starting with 0, i.e. 0, 1, 2, ..., [num_class - 1].\n",
      "  warnings.warn(label_encoder_deprecation_msg, UserWarning)\n",
      "\n"
     ]
    },
    {
     "name": "stdout",
     "output_type": "stream",
     "text": [
      "SCORE:                                                                             \n",
      "0.8887399463806971                                                                 \n",
      " 24%|██▍       | 24/100 [00:52<03:49,  3.02s/trial, best loss: -0.9262734584450402]"
     ]
    },
    {
     "name": "stderr",
     "output_type": "stream",
     "text": [
      "/usr/local/lib/python3.8/site-packages/xgboost/sklearn.py:1146: UserWarning: The use of label encoder in XGBClassifier is deprecated and will be removed in a future release. To remove this warning, do the following: 1) Pass option use_label_encoder=False when constructing XGBClassifier object; and 2) Encode your labels (y) as integers starting with 0, i.e. 0, 1, 2, ..., [num_class - 1].\n",
      "  warnings.warn(label_encoder_deprecation_msg, UserWarning)\n",
      "\n"
     ]
    },
    {
     "name": "stdout",
     "output_type": "stream",
     "text": [
      "SCORE:                                                                             \n",
      "0.9048257372654156                                                                 \n",
      " 25%|██▌       | 25/100 [00:56<03:55,  3.14s/trial, best loss: -0.9262734584450402]"
     ]
    },
    {
     "name": "stderr",
     "output_type": "stream",
     "text": [
      "/usr/local/lib/python3.8/site-packages/xgboost/sklearn.py:1146: UserWarning: The use of label encoder in XGBClassifier is deprecated and will be removed in a future release. To remove this warning, do the following: 1) Pass option use_label_encoder=False when constructing XGBClassifier object; and 2) Encode your labels (y) as integers starting with 0, i.e. 0, 1, 2, ..., [num_class - 1].\n",
      "  warnings.warn(label_encoder_deprecation_msg, UserWarning)\n",
      "\n"
     ]
    },
    {
     "name": "stdout",
     "output_type": "stream",
     "text": [
      "SCORE:                                                                             \n",
      "0.9142091152815014                                                                 \n",
      " 26%|██▌       | 26/100 [01:00<04:20,  3.51s/trial, best loss: -0.9262734584450402]"
     ]
    },
    {
     "name": "stderr",
     "output_type": "stream",
     "text": [
      "/usr/local/lib/python3.8/site-packages/xgboost/sklearn.py:1146: UserWarning: The use of label encoder in XGBClassifier is deprecated and will be removed in a future release. To remove this warning, do the following: 1) Pass option use_label_encoder=False when constructing XGBClassifier object; and 2) Encode your labels (y) as integers starting with 0, i.e. 0, 1, 2, ..., [num_class - 1].\n",
      "  warnings.warn(label_encoder_deprecation_msg, UserWarning)\n",
      "\n"
     ]
    },
    {
     "name": "stdout",
     "output_type": "stream",
     "text": [
      "SCORE:                                                                             \n",
      "0.8954423592493298                                                                 \n",
      " 27%|██▋       | 27/100 [01:04<04:16,  3.52s/trial, best loss: -0.9262734584450402]"
     ]
    },
    {
     "name": "stderr",
     "output_type": "stream",
     "text": [
      "/usr/local/lib/python3.8/site-packages/xgboost/sklearn.py:1146: UserWarning: The use of label encoder in XGBClassifier is deprecated and will be removed in a future release. To remove this warning, do the following: 1) Pass option use_label_encoder=False when constructing XGBClassifier object; and 2) Encode your labels (y) as integers starting with 0, i.e. 0, 1, 2, ..., [num_class - 1].\n",
      "  warnings.warn(label_encoder_deprecation_msg, UserWarning)\n",
      "\n"
     ]
    },
    {
     "name": "stdout",
     "output_type": "stream",
     "text": [
      "SCORE:                                                                             \n",
      "0.8592493297587132                                                                 \n",
      " 28%|██▊       | 28/100 [01:06<03:43,  3.10s/trial, best loss: -0.9262734584450402]"
     ]
    },
    {
     "name": "stderr",
     "output_type": "stream",
     "text": [
      "/usr/local/lib/python3.8/site-packages/xgboost/sklearn.py:1146: UserWarning: The use of label encoder in XGBClassifier is deprecated and will be removed in a future release. To remove this warning, do the following: 1) Pass option use_label_encoder=False when constructing XGBClassifier object; and 2) Encode your labels (y) as integers starting with 0, i.e. 0, 1, 2, ..., [num_class - 1].\n",
      "  warnings.warn(label_encoder_deprecation_msg, UserWarning)\n",
      "\n"
     ]
    },
    {
     "name": "stdout",
     "output_type": "stream",
     "text": [
      "SCORE:                                                                             \n",
      "0.9155495978552279                                                                 \n",
      " 29%|██▉       | 29/100 [01:08<03:21,  2.84s/trial, best loss: -0.9262734584450402]"
     ]
    },
    {
     "name": "stderr",
     "output_type": "stream",
     "text": [
      "/usr/local/lib/python3.8/site-packages/xgboost/sklearn.py:1146: UserWarning: The use of label encoder in XGBClassifier is deprecated and will be removed in a future release. To remove this warning, do the following: 1) Pass option use_label_encoder=False when constructing XGBClassifier object; and 2) Encode your labels (y) as integers starting with 0, i.e. 0, 1, 2, ..., [num_class - 1].\n",
      "  warnings.warn(label_encoder_deprecation_msg, UserWarning)\n",
      "\n"
     ]
    },
    {
     "name": "stdout",
     "output_type": "stream",
     "text": [
      "SCORE:                                                                             \n",
      "0.903485254691689                                                                  \n",
      " 30%|███       | 30/100 [01:10<03:09,  2.70s/trial, best loss: -0.9262734584450402]"
     ]
    },
    {
     "name": "stderr",
     "output_type": "stream",
     "text": [
      "/usr/local/lib/python3.8/site-packages/xgboost/sklearn.py:1146: UserWarning: The use of label encoder in XGBClassifier is deprecated and will be removed in a future release. To remove this warning, do the following: 1) Pass option use_label_encoder=False when constructing XGBClassifier object; and 2) Encode your labels (y) as integers starting with 0, i.e. 0, 1, 2, ..., [num_class - 1].\n",
      "  warnings.warn(label_encoder_deprecation_msg, UserWarning)\n",
      "\n"
     ]
    },
    {
     "name": "stdout",
     "output_type": "stream",
     "text": [
      "SCORE:                                                                             \n",
      "0.9195710455764075                                                                 \n",
      " 31%|███       | 31/100 [01:12<02:54,  2.53s/trial, best loss: -0.9262734584450402]"
     ]
    },
    {
     "name": "stderr",
     "output_type": "stream",
     "text": [
      "/usr/local/lib/python3.8/site-packages/xgboost/sklearn.py:1146: UserWarning: The use of label encoder in XGBClassifier is deprecated and will be removed in a future release. To remove this warning, do the following: 1) Pass option use_label_encoder=False when constructing XGBClassifier object; and 2) Encode your labels (y) as integers starting with 0, i.e. 0, 1, 2, ..., [num_class - 1].\n",
      "  warnings.warn(label_encoder_deprecation_msg, UserWarning)\n",
      "\n"
     ]
    },
    {
     "name": "stdout",
     "output_type": "stream",
     "text": [
      "SCORE:                                                                             \n",
      "0.9075067024128687                                                                 \n",
      " 32%|███▏      | 32/100 [01:14<02:36,  2.30s/trial, best loss: -0.9262734584450402]"
     ]
    },
    {
     "name": "stderr",
     "output_type": "stream",
     "text": [
      "/usr/local/lib/python3.8/site-packages/xgboost/sklearn.py:1146: UserWarning: The use of label encoder in XGBClassifier is deprecated and will be removed in a future release. To remove this warning, do the following: 1) Pass option use_label_encoder=False when constructing XGBClassifier object; and 2) Encode your labels (y) as integers starting with 0, i.e. 0, 1, 2, ..., [num_class - 1].\n",
      "  warnings.warn(label_encoder_deprecation_msg, UserWarning)\n",
      "\n"
     ]
    },
    {
     "name": "stdout",
     "output_type": "stream",
     "text": [
      "SCORE:                                                                             \n",
      "0.9235924932975871                                                                 \n",
      " 33%|███▎      | 33/100 [01:17<02:50,  2.55s/trial, best loss: -0.9262734584450402]"
     ]
    },
    {
     "name": "stderr",
     "output_type": "stream",
     "text": [
      "/usr/local/lib/python3.8/site-packages/xgboost/sklearn.py:1146: UserWarning: The use of label encoder in XGBClassifier is deprecated and will be removed in a future release. To remove this warning, do the following: 1) Pass option use_label_encoder=False when constructing XGBClassifier object; and 2) Encode your labels (y) as integers starting with 0, i.e. 0, 1, 2, ..., [num_class - 1].\n",
      "  warnings.warn(label_encoder_deprecation_msg, UserWarning)\n",
      "\n"
     ]
    },
    {
     "name": "stdout",
     "output_type": "stream",
     "text": [
      "SCORE:                                                                             \n",
      "0.8632707774798928                                                                 \n",
      " 34%|███▍      | 34/100 [01:19<02:31,  2.30s/trial, best loss: -0.9262734584450402]"
     ]
    },
    {
     "name": "stderr",
     "output_type": "stream",
     "text": [
      "/usr/local/lib/python3.8/site-packages/xgboost/sklearn.py:1146: UserWarning: The use of label encoder in XGBClassifier is deprecated and will be removed in a future release. To remove this warning, do the following: 1) Pass option use_label_encoder=False when constructing XGBClassifier object; and 2) Encode your labels (y) as integers starting with 0, i.e. 0, 1, 2, ..., [num_class - 1].\n",
      "  warnings.warn(label_encoder_deprecation_msg, UserWarning)\n",
      "\n"
     ]
    },
    {
     "name": "stdout",
     "output_type": "stream",
     "text": [
      "SCORE:                                                                             \n",
      "0.9155495978552279                                                                 \n",
      " 35%|███▌      | 35/100 [01:23<02:53,  2.68s/trial, best loss: -0.9262734584450402]"
     ]
    },
    {
     "name": "stderr",
     "output_type": "stream",
     "text": [
      "/usr/local/lib/python3.8/site-packages/xgboost/sklearn.py:1146: UserWarning: The use of label encoder in XGBClassifier is deprecated and will be removed in a future release. To remove this warning, do the following: 1) Pass option use_label_encoder=False when constructing XGBClassifier object; and 2) Encode your labels (y) as integers starting with 0, i.e. 0, 1, 2, ..., [num_class - 1].\n",
      "  warnings.warn(label_encoder_deprecation_msg, UserWarning)\n",
      "\n"
     ]
    },
    {
     "name": "stdout",
     "output_type": "stream",
     "text": [
      "SCORE:                                                                             \n",
      "0.9115281501340483                                                                 \n",
      " 36%|███▌      | 36/100 [01:25<02:53,  2.72s/trial, best loss: -0.9262734584450402]"
     ]
    },
    {
     "name": "stderr",
     "output_type": "stream",
     "text": [
      "/usr/local/lib/python3.8/site-packages/xgboost/sklearn.py:1146: UserWarning: The use of label encoder in XGBClassifier is deprecated and will be removed in a future release. To remove this warning, do the following: 1) Pass option use_label_encoder=False when constructing XGBClassifier object; and 2) Encode your labels (y) as integers starting with 0, i.e. 0, 1, 2, ..., [num_class - 1].\n",
      "  warnings.warn(label_encoder_deprecation_msg, UserWarning)\n",
      "\n"
     ]
    },
    {
     "name": "stdout",
     "output_type": "stream",
     "text": [
      "SCORE:                                                                             \n",
      "0.8646112600536193                                                                 \n",
      " 37%|███▋      | 37/100 [01:28<02:41,  2.56s/trial, best loss: -0.9262734584450402]"
     ]
    },
    {
     "name": "stderr",
     "output_type": "stream",
     "text": [
      "/usr/local/lib/python3.8/site-packages/xgboost/sklearn.py:1146: UserWarning: The use of label encoder in XGBClassifier is deprecated and will be removed in a future release. To remove this warning, do the following: 1) Pass option use_label_encoder=False when constructing XGBClassifier object; and 2) Encode your labels (y) as integers starting with 0, i.e. 0, 1, 2, ..., [num_class - 1].\n",
      "  warnings.warn(label_encoder_deprecation_msg, UserWarning)\n",
      "\n"
     ]
    },
    {
     "name": "stdout",
     "output_type": "stream",
     "text": [
      "SCORE:                                                                             \n",
      "0.8954423592493298                                                                 \n",
      " 38%|███▊      | 38/100 [01:31<02:45,  2.67s/trial, best loss: -0.9262734584450402]"
     ]
    },
    {
     "name": "stderr",
     "output_type": "stream",
     "text": [
      "/usr/local/lib/python3.8/site-packages/xgboost/sklearn.py:1146: UserWarning: The use of label encoder in XGBClassifier is deprecated and will be removed in a future release. To remove this warning, do the following: 1) Pass option use_label_encoder=False when constructing XGBClassifier object; and 2) Encode your labels (y) as integers starting with 0, i.e. 0, 1, 2, ..., [num_class - 1].\n",
      "  warnings.warn(label_encoder_deprecation_msg, UserWarning)\n",
      "\n"
     ]
    },
    {
     "name": "stdout",
     "output_type": "stream",
     "text": [
      "SCORE:                                                                             \n",
      "0.8914209115281502                                                                 \n",
      " 39%|███▉      | 39/100 [01:33<02:39,  2.61s/trial, best loss: -0.9262734584450402]"
     ]
    },
    {
     "name": "stderr",
     "output_type": "stream",
     "text": [
      "/usr/local/lib/python3.8/site-packages/xgboost/sklearn.py:1146: UserWarning: The use of label encoder in XGBClassifier is deprecated and will be removed in a future release. To remove this warning, do the following: 1) Pass option use_label_encoder=False when constructing XGBClassifier object; and 2) Encode your labels (y) as integers starting with 0, i.e. 0, 1, 2, ..., [num_class - 1].\n",
      "  warnings.warn(label_encoder_deprecation_msg, UserWarning)\n",
      "\n"
     ]
    },
    {
     "name": "stdout",
     "output_type": "stream",
     "text": [
      "SCORE:                                                                             \n",
      "0.8780160857908847                                                                 \n",
      " 40%|████      | 40/100 [01:35<02:26,  2.45s/trial, best loss: -0.9262734584450402]"
     ]
    },
    {
     "name": "stderr",
     "output_type": "stream",
     "text": [
      "/usr/local/lib/python3.8/site-packages/xgboost/sklearn.py:1146: UserWarning: The use of label encoder in XGBClassifier is deprecated and will be removed in a future release. To remove this warning, do the following: 1) Pass option use_label_encoder=False when constructing XGBClassifier object; and 2) Encode your labels (y) as integers starting with 0, i.e. 0, 1, 2, ..., [num_class - 1].\n",
      "  warnings.warn(label_encoder_deprecation_msg, UserWarning)\n",
      "\n"
     ]
    },
    {
     "name": "stdout",
     "output_type": "stream",
     "text": [
      "SCORE:                                                                             \n",
      "0.8471849865951743                                                                 \n",
      " 41%|████      | 41/100 [01:37<02:09,  2.19s/trial, best loss: -0.9262734584450402]"
     ]
    },
    {
     "name": "stderr",
     "output_type": "stream",
     "text": [
      "/usr/local/lib/python3.8/site-packages/xgboost/sklearn.py:1146: UserWarning: The use of label encoder in XGBClassifier is deprecated and will be removed in a future release. To remove this warning, do the following: 1) Pass option use_label_encoder=False when constructing XGBClassifier object; and 2) Encode your labels (y) as integers starting with 0, i.e. 0, 1, 2, ..., [num_class - 1].\n",
      "  warnings.warn(label_encoder_deprecation_msg, UserWarning)\n",
      "\n"
     ]
    },
    {
     "name": "stdout",
     "output_type": "stream",
     "text": [
      "SCORE:                                                                             \n",
      "0.9021447721179625                                                                 \n",
      " 42%|████▏     | 42/100 [01:39<02:14,  2.31s/trial, best loss: -0.9262734584450402]"
     ]
    },
    {
     "name": "stderr",
     "output_type": "stream",
     "text": [
      "/usr/local/lib/python3.8/site-packages/xgboost/sklearn.py:1146: UserWarning: The use of label encoder in XGBClassifier is deprecated and will be removed in a future release. To remove this warning, do the following: 1) Pass option use_label_encoder=False when constructing XGBClassifier object; and 2) Encode your labels (y) as integers starting with 0, i.e. 0, 1, 2, ..., [num_class - 1].\n",
      "  warnings.warn(label_encoder_deprecation_msg, UserWarning)\n",
      "\n"
     ]
    },
    {
     "name": "stdout",
     "output_type": "stream",
     "text": [
      "SCORE:                                                                             \n",
      "0.9182305630026809                                                                 \n",
      " 43%|████▎     | 43/100 [01:43<02:40,  2.82s/trial, best loss: -0.9262734584450402]"
     ]
    },
    {
     "name": "stderr",
     "output_type": "stream",
     "text": [
      "/usr/local/lib/python3.8/site-packages/xgboost/sklearn.py:1146: UserWarning: The use of label encoder in XGBClassifier is deprecated and will be removed in a future release. To remove this warning, do the following: 1) Pass option use_label_encoder=False when constructing XGBClassifier object; and 2) Encode your labels (y) as integers starting with 0, i.e. 0, 1, 2, ..., [num_class - 1].\n",
      "  warnings.warn(label_encoder_deprecation_msg, UserWarning)\n",
      "\n"
     ]
    },
    {
     "name": "stdout",
     "output_type": "stream",
     "text": [
      "SCORE:                                                                             \n",
      "0.903485254691689                                                                  \n",
      " 44%|████▍     | 44/100 [01:45<02:25,  2.59s/trial, best loss: -0.9262734584450402]"
     ]
    },
    {
     "name": "stderr",
     "output_type": "stream",
     "text": [
      "/usr/local/lib/python3.8/site-packages/xgboost/sklearn.py:1146: UserWarning: The use of label encoder in XGBClassifier is deprecated and will be removed in a future release. To remove this warning, do the following: 1) Pass option use_label_encoder=False when constructing XGBClassifier object; and 2) Encode your labels (y) as integers starting with 0, i.e. 0, 1, 2, ..., [num_class - 1].\n",
      "  warnings.warn(label_encoder_deprecation_msg, UserWarning)\n",
      "\n"
     ]
    },
    {
     "name": "stdout",
     "output_type": "stream",
     "text": [
      "SCORE:                                                                             \n",
      "0.9142091152815014                                                                 \n",
      " 45%|████▌     | 45/100 [01:48<02:18,  2.51s/trial, best loss: -0.9262734584450402]"
     ]
    },
    {
     "name": "stderr",
     "output_type": "stream",
     "text": [
      "/usr/local/lib/python3.8/site-packages/xgboost/sklearn.py:1146: UserWarning: The use of label encoder in XGBClassifier is deprecated and will be removed in a future release. To remove this warning, do the following: 1) Pass option use_label_encoder=False when constructing XGBClassifier object; and 2) Encode your labels (y) as integers starting with 0, i.e. 0, 1, 2, ..., [num_class - 1].\n",
      "  warnings.warn(label_encoder_deprecation_msg, UserWarning)\n",
      "\n"
     ]
    },
    {
     "name": "stdout",
     "output_type": "stream",
     "text": [
      "SCORE:                                                                             \n",
      "0.9115281501340483                                                                 \n",
      " 46%|████▌     | 46/100 [01:51<02:33,  2.84s/trial, best loss: -0.9262734584450402]"
     ]
    },
    {
     "name": "stderr",
     "output_type": "stream",
     "text": [
      "/usr/local/lib/python3.8/site-packages/xgboost/sklearn.py:1146: UserWarning: The use of label encoder in XGBClassifier is deprecated and will be removed in a future release. To remove this warning, do the following: 1) Pass option use_label_encoder=False when constructing XGBClassifier object; and 2) Encode your labels (y) as integers starting with 0, i.e. 0, 1, 2, ..., [num_class - 1].\n",
      "  warnings.warn(label_encoder_deprecation_msg, UserWarning)\n",
      "\n"
     ]
    },
    {
     "name": "stdout",
     "output_type": "stream",
     "text": [
      "SCORE:                                                                             \n",
      "0.82171581769437                                                                   \n",
      " 47%|████▋     | 47/100 [01:53<02:10,  2.46s/trial, best loss: -0.9262734584450402]"
     ]
    },
    {
     "name": "stderr",
     "output_type": "stream",
     "text": [
      "/usr/local/lib/python3.8/site-packages/xgboost/sklearn.py:1146: UserWarning: The use of label encoder in XGBClassifier is deprecated and will be removed in a future release. To remove this warning, do the following: 1) Pass option use_label_encoder=False when constructing XGBClassifier object; and 2) Encode your labels (y) as integers starting with 0, i.e. 0, 1, 2, ..., [num_class - 1].\n",
      "  warnings.warn(label_encoder_deprecation_msg, UserWarning)\n",
      "\n"
     ]
    },
    {
     "name": "stdout",
     "output_type": "stream",
     "text": [
      "SCORE:                                                                             \n",
      "0.824396782841823                                                                  \n",
      " 48%|████▊     | 48/100 [01:54<01:50,  2.13s/trial, best loss: -0.9262734584450402]"
     ]
    },
    {
     "name": "stderr",
     "output_type": "stream",
     "text": [
      "/usr/local/lib/python3.8/site-packages/xgboost/sklearn.py:1146: UserWarning: The use of label encoder in XGBClassifier is deprecated and will be removed in a future release. To remove this warning, do the following: 1) Pass option use_label_encoder=False when constructing XGBClassifier object; and 2) Encode your labels (y) as integers starting with 0, i.e. 0, 1, 2, ..., [num_class - 1].\n",
      "  warnings.warn(label_encoder_deprecation_msg, UserWarning)\n",
      "\n"
     ]
    },
    {
     "name": "stdout",
     "output_type": "stream",
     "text": [
      "SCORE:                                                                             \n",
      "0.8753351206434317                                                                 \n",
      " 49%|████▉     | 49/100 [01:56<01:41,  1.99s/trial, best loss: -0.9262734584450402]"
     ]
    },
    {
     "name": "stderr",
     "output_type": "stream",
     "text": [
      "/usr/local/lib/python3.8/site-packages/xgboost/sklearn.py:1146: UserWarning: The use of label encoder in XGBClassifier is deprecated and will be removed in a future release. To remove this warning, do the following: 1) Pass option use_label_encoder=False when constructing XGBClassifier object; and 2) Encode your labels (y) as integers starting with 0, i.e. 0, 1, 2, ..., [num_class - 1].\n",
      "  warnings.warn(label_encoder_deprecation_msg, UserWarning)\n",
      "\n"
     ]
    },
    {
     "name": "stdout",
     "output_type": "stream",
     "text": [
      "SCORE:                                                                             \n",
      "0.9101876675603218                                                                 \n",
      " 50%|█████     | 50/100 [01:58<01:42,  2.04s/trial, best loss: -0.9262734584450402]"
     ]
    },
    {
     "name": "stderr",
     "output_type": "stream",
     "text": [
      "/usr/local/lib/python3.8/site-packages/xgboost/sklearn.py:1146: UserWarning: The use of label encoder in XGBClassifier is deprecated and will be removed in a future release. To remove this warning, do the following: 1) Pass option use_label_encoder=False when constructing XGBClassifier object; and 2) Encode your labels (y) as integers starting with 0, i.e. 0, 1, 2, ..., [num_class - 1].\n",
      "  warnings.warn(label_encoder_deprecation_msg, UserWarning)\n",
      "\n"
     ]
    },
    {
     "name": "stdout",
     "output_type": "stream",
     "text": [
      "SCORE:                                                                             \n",
      "0.9155495978552279                                                                 \n",
      " 51%|█████     | 51/100 [02:00<01:38,  2.00s/trial, best loss: -0.9262734584450402]"
     ]
    },
    {
     "name": "stderr",
     "output_type": "stream",
     "text": [
      "/usr/local/lib/python3.8/site-packages/xgboost/sklearn.py:1146: UserWarning: The use of label encoder in XGBClassifier is deprecated and will be removed in a future release. To remove this warning, do the following: 1) Pass option use_label_encoder=False when constructing XGBClassifier object; and 2) Encode your labels (y) as integers starting with 0, i.e. 0, 1, 2, ..., [num_class - 1].\n",
      "  warnings.warn(label_encoder_deprecation_msg, UserWarning)\n",
      "\n"
     ]
    },
    {
     "name": "stdout",
     "output_type": "stream",
     "text": [
      "SCORE:                                                                             \n",
      "0.8820375335120644                                                                 \n",
      " 52%|█████▏    | 52/100 [02:02<01:36,  2.01s/trial, best loss: -0.9262734584450402]"
     ]
    },
    {
     "name": "stderr",
     "output_type": "stream",
     "text": [
      "/usr/local/lib/python3.8/site-packages/xgboost/sklearn.py:1146: UserWarning: The use of label encoder in XGBClassifier is deprecated and will be removed in a future release. To remove this warning, do the following: 1) Pass option use_label_encoder=False when constructing XGBClassifier object; and 2) Encode your labels (y) as integers starting with 0, i.e. 0, 1, 2, ..., [num_class - 1].\n",
      "  warnings.warn(label_encoder_deprecation_msg, UserWarning)\n",
      "\n"
     ]
    },
    {
     "name": "stdout",
     "output_type": "stream",
     "text": [
      "SCORE:                                                                             \n",
      "0.8806970509383378                                                                 \n",
      " 53%|█████▎    | 53/100 [02:04<01:35,  2.04s/trial, best loss: -0.9262734584450402]"
     ]
    },
    {
     "name": "stderr",
     "output_type": "stream",
     "text": [
      "/usr/local/lib/python3.8/site-packages/xgboost/sklearn.py:1146: UserWarning: The use of label encoder in XGBClassifier is deprecated and will be removed in a future release. To remove this warning, do the following: 1) Pass option use_label_encoder=False when constructing XGBClassifier object; and 2) Encode your labels (y) as integers starting with 0, i.e. 0, 1, 2, ..., [num_class - 1].\n",
      "  warnings.warn(label_encoder_deprecation_msg, UserWarning)\n",
      "\n"
     ]
    },
    {
     "name": "stdout",
     "output_type": "stream",
     "text": [
      "SCORE:                                                                             \n",
      "0.8753351206434317                                                                 \n",
      " 54%|█████▍    | 54/100 [02:06<01:38,  2.15s/trial, best loss: -0.9262734584450402]"
     ]
    },
    {
     "name": "stderr",
     "output_type": "stream",
     "text": [
      "/usr/local/lib/python3.8/site-packages/xgboost/sklearn.py:1146: UserWarning: The use of label encoder in XGBClassifier is deprecated and will be removed in a future release. To remove this warning, do the following: 1) Pass option use_label_encoder=False when constructing XGBClassifier object; and 2) Encode your labels (y) as integers starting with 0, i.e. 0, 1, 2, ..., [num_class - 1].\n",
      "  warnings.warn(label_encoder_deprecation_msg, UserWarning)\n",
      "\n"
     ]
    },
    {
     "name": "stdout",
     "output_type": "stream",
     "text": [
      "SCORE:                                                                             \n",
      "0.8914209115281502                                                                 \n",
      " 55%|█████▌    | 55/100 [02:09<01:35,  2.12s/trial, best loss: -0.9262734584450402]"
     ]
    },
    {
     "name": "stderr",
     "output_type": "stream",
     "text": [
      "/usr/local/lib/python3.8/site-packages/xgboost/sklearn.py:1146: UserWarning: The use of label encoder in XGBClassifier is deprecated and will be removed in a future release. To remove this warning, do the following: 1) Pass option use_label_encoder=False when constructing XGBClassifier object; and 2) Encode your labels (y) as integers starting with 0, i.e. 0, 1, 2, ..., [num_class - 1].\n",
      "  warnings.warn(label_encoder_deprecation_msg, UserWarning)\n",
      "\n"
     ]
    },
    {
     "name": "stdout",
     "output_type": "stream",
     "text": [
      "SCORE:                                                                             \n",
      "0.8337801608579088                                                                 \n",
      " 56%|█████▌    | 56/100 [02:10<01:27,  2.00s/trial, best loss: -0.9262734584450402]"
     ]
    },
    {
     "name": "stderr",
     "output_type": "stream",
     "text": [
      "/usr/local/lib/python3.8/site-packages/xgboost/sklearn.py:1146: UserWarning: The use of label encoder in XGBClassifier is deprecated and will be removed in a future release. To remove this warning, do the following: 1) Pass option use_label_encoder=False when constructing XGBClassifier object; and 2) Encode your labels (y) as integers starting with 0, i.e. 0, 1, 2, ..., [num_class - 1].\n",
      "  warnings.warn(label_encoder_deprecation_msg, UserWarning)\n",
      "\n"
     ]
    },
    {
     "name": "stdout",
     "output_type": "stream",
     "text": [
      "SCORE:                                                                             \n",
      "0.8378016085790885                                                                 \n",
      " 57%|█████▋    | 57/100 [02:12<01:21,  1.89s/trial, best loss: -0.9262734584450402]"
     ]
    },
    {
     "name": "stderr",
     "output_type": "stream",
     "text": [
      "/usr/local/lib/python3.8/site-packages/xgboost/sklearn.py:1146: UserWarning: The use of label encoder in XGBClassifier is deprecated and will be removed in a future release. To remove this warning, do the following: 1) Pass option use_label_encoder=False when constructing XGBClassifier object; and 2) Encode your labels (y) as integers starting with 0, i.e. 0, 1, 2, ..., [num_class - 1].\n",
      "  warnings.warn(label_encoder_deprecation_msg, UserWarning)\n",
      "\n"
     ]
    },
    {
     "name": "stdout",
     "output_type": "stream",
     "text": [
      "SCORE:                                                                             \n",
      "0.9048257372654156                                                                 \n",
      " 58%|█████▊    | 58/100 [02:15<01:37,  2.32s/trial, best loss: -0.9262734584450402]"
     ]
    },
    {
     "name": "stderr",
     "output_type": "stream",
     "text": [
      "/usr/local/lib/python3.8/site-packages/xgboost/sklearn.py:1146: UserWarning: The use of label encoder in XGBClassifier is deprecated and will be removed in a future release. To remove this warning, do the following: 1) Pass option use_label_encoder=False when constructing XGBClassifier object; and 2) Encode your labels (y) as integers starting with 0, i.e. 0, 1, 2, ..., [num_class - 1].\n",
      "  warnings.warn(label_encoder_deprecation_msg, UserWarning)\n",
      "\n"
     ]
    },
    {
     "name": "stdout",
     "output_type": "stream",
     "text": [
      "SCORE:                                                                             \n",
      "0.8887399463806971                                                                 \n",
      " 59%|█████▉    | 59/100 [02:18<01:35,  2.33s/trial, best loss: -0.9262734584450402]"
     ]
    },
    {
     "name": "stderr",
     "output_type": "stream",
     "text": [
      "/usr/local/lib/python3.8/site-packages/xgboost/sklearn.py:1146: UserWarning: The use of label encoder in XGBClassifier is deprecated and will be removed in a future release. To remove this warning, do the following: 1) Pass option use_label_encoder=False when constructing XGBClassifier object; and 2) Encode your labels (y) as integers starting with 0, i.e. 0, 1, 2, ..., [num_class - 1].\n",
      "  warnings.warn(label_encoder_deprecation_msg, UserWarning)\n",
      "\n"
     ]
    },
    {
     "name": "stdout",
     "output_type": "stream",
     "text": [
      "SCORE:                                                                             \n",
      "0.9075067024128687                                                                 \n",
      " 60%|██████    | 60/100 [02:21<01:42,  2.56s/trial, best loss: -0.9262734584450402]"
     ]
    },
    {
     "name": "stderr",
     "output_type": "stream",
     "text": [
      "/usr/local/lib/python3.8/site-packages/xgboost/sklearn.py:1146: UserWarning: The use of label encoder in XGBClassifier is deprecated and will be removed in a future release. To remove this warning, do the following: 1) Pass option use_label_encoder=False when constructing XGBClassifier object; and 2) Encode your labels (y) as integers starting with 0, i.e. 0, 1, 2, ..., [num_class - 1].\n",
      "  warnings.warn(label_encoder_deprecation_msg, UserWarning)\n",
      "\n"
     ]
    },
    {
     "name": "stdout",
     "output_type": "stream",
     "text": [
      "SCORE:                                                                             \n",
      "0.9061662198391421                                                                 \n",
      " 61%|██████    | 61/100 [02:22<01:31,  2.35s/trial, best loss: -0.9262734584450402]"
     ]
    },
    {
     "name": "stderr",
     "output_type": "stream",
     "text": [
      "/usr/local/lib/python3.8/site-packages/xgboost/sklearn.py:1146: UserWarning: The use of label encoder in XGBClassifier is deprecated and will be removed in a future release. To remove this warning, do the following: 1) Pass option use_label_encoder=False when constructing XGBClassifier object; and 2) Encode your labels (y) as integers starting with 0, i.e. 0, 1, 2, ..., [num_class - 1].\n",
      "  warnings.warn(label_encoder_deprecation_msg, UserWarning)\n",
      "\n"
     ]
    },
    {
     "name": "stdout",
     "output_type": "stream",
     "text": [
      "SCORE:                                                                             \n",
      "0.8994638069705094                                                                 \n",
      " 62%|██████▏   | 62/100 [02:24<01:24,  2.23s/trial, best loss: -0.9262734584450402]"
     ]
    },
    {
     "name": "stderr",
     "output_type": "stream",
     "text": [
      "/usr/local/lib/python3.8/site-packages/xgboost/sklearn.py:1146: UserWarning: The use of label encoder in XGBClassifier is deprecated and will be removed in a future release. To remove this warning, do the following: 1) Pass option use_label_encoder=False when constructing XGBClassifier object; and 2) Encode your labels (y) as integers starting with 0, i.e. 0, 1, 2, ..., [num_class - 1].\n",
      "  warnings.warn(label_encoder_deprecation_msg, UserWarning)\n",
      "\n"
     ]
    },
    {
     "name": "stdout",
     "output_type": "stream",
     "text": [
      "SCORE:                                                                             \n",
      "0.8445040214477212                                                                 \n",
      " 63%|██████▎   | 63/100 [02:26<01:16,  2.05s/trial, best loss: -0.9262734584450402]"
     ]
    },
    {
     "name": "stderr",
     "output_type": "stream",
     "text": [
      "/usr/local/lib/python3.8/site-packages/xgboost/sklearn.py:1146: UserWarning: The use of label encoder in XGBClassifier is deprecated and will be removed in a future release. To remove this warning, do the following: 1) Pass option use_label_encoder=False when constructing XGBClassifier object; and 2) Encode your labels (y) as integers starting with 0, i.e. 0, 1, 2, ..., [num_class - 1].\n",
      "  warnings.warn(label_encoder_deprecation_msg, UserWarning)\n",
      "\n"
     ]
    },
    {
     "name": "stdout",
     "output_type": "stream",
     "text": [
      "SCORE:                                                                             \n",
      "0.9195710455764075                                                                 \n",
      " 64%|██████▍   | 64/100 [02:30<01:28,  2.46s/trial, best loss: -0.9262734584450402]"
     ]
    },
    {
     "name": "stderr",
     "output_type": "stream",
     "text": [
      "/usr/local/lib/python3.8/site-packages/xgboost/sklearn.py:1146: UserWarning: The use of label encoder in XGBClassifier is deprecated and will be removed in a future release. To remove this warning, do the following: 1) Pass option use_label_encoder=False when constructing XGBClassifier object; and 2) Encode your labels (y) as integers starting with 0, i.e. 0, 1, 2, ..., [num_class - 1].\n",
      "  warnings.warn(label_encoder_deprecation_msg, UserWarning)\n",
      "\n"
     ]
    },
    {
     "name": "stdout",
     "output_type": "stream",
     "text": [
      "SCORE:                                                                             \n",
      "0.9155495978552279                                                                 \n",
      " 65%|██████▌   | 65/100 [02:34<01:46,  3.05s/trial, best loss: -0.9262734584450402]"
     ]
    },
    {
     "name": "stderr",
     "output_type": "stream",
     "text": [
      "/usr/local/lib/python3.8/site-packages/xgboost/sklearn.py:1146: UserWarning: The use of label encoder in XGBClassifier is deprecated and will be removed in a future release. To remove this warning, do the following: 1) Pass option use_label_encoder=False when constructing XGBClassifier object; and 2) Encode your labels (y) as integers starting with 0, i.e. 0, 1, 2, ..., [num_class - 1].\n",
      "  warnings.warn(label_encoder_deprecation_msg, UserWarning)\n",
      "\n"
     ]
    },
    {
     "name": "stdout",
     "output_type": "stream",
     "text": [
      "SCORE:                                                                             \n",
      "0.9316353887399463                                                                 \n",
      " 66%|██████▌   | 66/100 [02:38<01:51,  3.28s/trial, best loss: -0.9316353887399463]"
     ]
    },
    {
     "name": "stderr",
     "output_type": "stream",
     "text": [
      "/usr/local/lib/python3.8/site-packages/xgboost/sklearn.py:1146: UserWarning: The use of label encoder in XGBClassifier is deprecated and will be removed in a future release. To remove this warning, do the following: 1) Pass option use_label_encoder=False when constructing XGBClassifier object; and 2) Encode your labels (y) as integers starting with 0, i.e. 0, 1, 2, ..., [num_class - 1].\n",
      "  warnings.warn(label_encoder_deprecation_msg, UserWarning)\n",
      "\n"
     ]
    },
    {
     "name": "stdout",
     "output_type": "stream",
     "text": [
      "SCORE:                                                                             \n",
      "0.9115281501340483                                                                 \n",
      " 67%|██████▋   | 67/100 [02:41<01:49,  3.33s/trial, best loss: -0.9316353887399463]"
     ]
    },
    {
     "name": "stderr",
     "output_type": "stream",
     "text": [
      "/usr/local/lib/python3.8/site-packages/xgboost/sklearn.py:1146: UserWarning: The use of label encoder in XGBClassifier is deprecated and will be removed in a future release. To remove this warning, do the following: 1) Pass option use_label_encoder=False when constructing XGBClassifier object; and 2) Encode your labels (y) as integers starting with 0, i.e. 0, 1, 2, ..., [num_class - 1].\n",
      "  warnings.warn(label_encoder_deprecation_msg, UserWarning)\n",
      "\n"
     ]
    },
    {
     "name": "stdout",
     "output_type": "stream",
     "text": [
      "SCORE:                                                                             \n",
      "0.9115281501340483                                                                 \n",
      " 68%|██████▊   | 68/100 [02:44<01:41,  3.17s/trial, best loss: -0.9316353887399463]"
     ]
    },
    {
     "name": "stderr",
     "output_type": "stream",
     "text": [
      "/usr/local/lib/python3.8/site-packages/xgboost/sklearn.py:1146: UserWarning: The use of label encoder in XGBClassifier is deprecated and will be removed in a future release. To remove this warning, do the following: 1) Pass option use_label_encoder=False when constructing XGBClassifier object; and 2) Encode your labels (y) as integers starting with 0, i.e. 0, 1, 2, ..., [num_class - 1].\n",
      "  warnings.warn(label_encoder_deprecation_msg, UserWarning)\n",
      "\n"
     ]
    },
    {
     "name": "stdout",
     "output_type": "stream",
     "text": [
      "SCORE:                                                                             \n",
      "0.9182305630026809                                                                 \n",
      " 69%|██████▉   | 69/100 [02:47<01:35,  3.07s/trial, best loss: -0.9316353887399463]"
     ]
    },
    {
     "name": "stderr",
     "output_type": "stream",
     "text": [
      "/usr/local/lib/python3.8/site-packages/xgboost/sklearn.py:1146: UserWarning: The use of label encoder in XGBClassifier is deprecated and will be removed in a future release. To remove this warning, do the following: 1) Pass option use_label_encoder=False when constructing XGBClassifier object; and 2) Encode your labels (y) as integers starting with 0, i.e. 0, 1, 2, ..., [num_class - 1].\n",
      "  warnings.warn(label_encoder_deprecation_msg, UserWarning)\n",
      "\n"
     ]
    },
    {
     "name": "stdout",
     "output_type": "stream",
     "text": [
      "SCORE:                                                                             \n",
      "0.868632707774799                                                                  \n",
      " 70%|███████   | 70/100 [02:49<01:22,  2.74s/trial, best loss: -0.9316353887399463]"
     ]
    },
    {
     "name": "stderr",
     "output_type": "stream",
     "text": [
      "/usr/local/lib/python3.8/site-packages/xgboost/sklearn.py:1146: UserWarning: The use of label encoder in XGBClassifier is deprecated and will be removed in a future release. To remove this warning, do the following: 1) Pass option use_label_encoder=False when constructing XGBClassifier object; and 2) Encode your labels (y) as integers starting with 0, i.e. 0, 1, 2, ..., [num_class - 1].\n",
      "  warnings.warn(label_encoder_deprecation_msg, UserWarning)\n",
      "\n"
     ]
    },
    {
     "name": "stdout",
     "output_type": "stream",
     "text": [
      "SCORE:                                                                             \n",
      "0.9329758713136729                                                                 \n",
      " 71%|███████   | 71/100 [02:51<01:16,  2.63s/trial, best loss: -0.9329758713136729]"
     ]
    },
    {
     "name": "stderr",
     "output_type": "stream",
     "text": [
      "/usr/local/lib/python3.8/site-packages/xgboost/sklearn.py:1146: UserWarning: The use of label encoder in XGBClassifier is deprecated and will be removed in a future release. To remove this warning, do the following: 1) Pass option use_label_encoder=False when constructing XGBClassifier object; and 2) Encode your labels (y) as integers starting with 0, i.e. 0, 1, 2, ..., [num_class - 1].\n",
      "  warnings.warn(label_encoder_deprecation_msg, UserWarning)\n",
      "\n"
     ]
    },
    {
     "name": "stdout",
     "output_type": "stream",
     "text": [
      "SCORE:                                                                             \n",
      "0.9235924932975871                                                                 \n",
      " 72%|███████▏  | 72/100 [02:54<01:17,  2.78s/trial, best loss: -0.9329758713136729]"
     ]
    },
    {
     "name": "stderr",
     "output_type": "stream",
     "text": [
      "/usr/local/lib/python3.8/site-packages/xgboost/sklearn.py:1146: UserWarning: The use of label encoder in XGBClassifier is deprecated and will be removed in a future release. To remove this warning, do the following: 1) Pass option use_label_encoder=False when constructing XGBClassifier object; and 2) Encode your labels (y) as integers starting with 0, i.e. 0, 1, 2, ..., [num_class - 1].\n",
      "  warnings.warn(label_encoder_deprecation_msg, UserWarning)\n",
      "\n"
     ]
    },
    {
     "name": "stdout",
     "output_type": "stream",
     "text": [
      "SCORE:                                                                             \n",
      "0.920911528150134                                                                  \n",
      " 73%|███████▎  | 73/100 [02:56<01:05,  2.43s/trial, best loss: -0.9329758713136729]"
     ]
    },
    {
     "name": "stderr",
     "output_type": "stream",
     "text": [
      "/usr/local/lib/python3.8/site-packages/xgboost/sklearn.py:1146: UserWarning: The use of label encoder in XGBClassifier is deprecated and will be removed in a future release. To remove this warning, do the following: 1) Pass option use_label_encoder=False when constructing XGBClassifier object; and 2) Encode your labels (y) as integers starting with 0, i.e. 0, 1, 2, ..., [num_class - 1].\n",
      "  warnings.warn(label_encoder_deprecation_msg, UserWarning)\n",
      "\n"
     ]
    },
    {
     "name": "stdout",
     "output_type": "stream",
     "text": [
      "SCORE:                                                                             \n",
      "0.9249329758713136                                                                 \n",
      " 74%|███████▍  | 74/100 [02:59<01:05,  2.51s/trial, best loss: -0.9329758713136729]"
     ]
    },
    {
     "name": "stderr",
     "output_type": "stream",
     "text": [
      "/usr/local/lib/python3.8/site-packages/xgboost/sklearn.py:1146: UserWarning: The use of label encoder in XGBClassifier is deprecated and will be removed in a future release. To remove this warning, do the following: 1) Pass option use_label_encoder=False when constructing XGBClassifier object; and 2) Encode your labels (y) as integers starting with 0, i.e. 0, 1, 2, ..., [num_class - 1].\n",
      "  warnings.warn(label_encoder_deprecation_msg, UserWarning)\n",
      "\n"
     ]
    },
    {
     "name": "stdout",
     "output_type": "stream",
     "text": [
      "SCORE:                                                                             \n",
      "0.8914209115281502                                                                 \n",
      " 75%|███████▌  | 75/100 [03:02<01:06,  2.64s/trial, best loss: -0.9329758713136729]"
     ]
    },
    {
     "name": "stderr",
     "output_type": "stream",
     "text": [
      "/usr/local/lib/python3.8/site-packages/xgboost/sklearn.py:1146: UserWarning: The use of label encoder in XGBClassifier is deprecated and will be removed in a future release. To remove this warning, do the following: 1) Pass option use_label_encoder=False when constructing XGBClassifier object; and 2) Encode your labels (y) as integers starting with 0, i.e. 0, 1, 2, ..., [num_class - 1].\n",
      "  warnings.warn(label_encoder_deprecation_msg, UserWarning)\n",
      "\n"
     ]
    },
    {
     "name": "stdout",
     "output_type": "stream",
     "text": [
      "SCORE:                                                                             \n",
      "0.9075067024128687                                                                 \n",
      " 76%|███████▌  | 76/100 [03:04<01:03,  2.64s/trial, best loss: -0.9329758713136729]"
     ]
    },
    {
     "name": "stderr",
     "output_type": "stream",
     "text": [
      "/usr/local/lib/python3.8/site-packages/xgboost/sklearn.py:1146: UserWarning: The use of label encoder in XGBClassifier is deprecated and will be removed in a future release. To remove this warning, do the following: 1) Pass option use_label_encoder=False when constructing XGBClassifier object; and 2) Encode your labels (y) as integers starting with 0, i.e. 0, 1, 2, ..., [num_class - 1].\n",
      "  warnings.warn(label_encoder_deprecation_msg, UserWarning)\n",
      "\n"
     ]
    },
    {
     "name": "stdout",
     "output_type": "stream",
     "text": [
      "SCORE:                                                                             \n",
      "0.9128686327077749                                                                 \n",
      " 77%|███████▋  | 77/100 [03:07<00:58,  2.56s/trial, best loss: -0.9329758713136729]"
     ]
    },
    {
     "name": "stderr",
     "output_type": "stream",
     "text": [
      "/usr/local/lib/python3.8/site-packages/xgboost/sklearn.py:1146: UserWarning: The use of label encoder in XGBClassifier is deprecated and will be removed in a future release. To remove this warning, do the following: 1) Pass option use_label_encoder=False when constructing XGBClassifier object; and 2) Encode your labels (y) as integers starting with 0, i.e. 0, 1, 2, ..., [num_class - 1].\n",
      "  warnings.warn(label_encoder_deprecation_msg, UserWarning)\n",
      "\n"
     ]
    },
    {
     "name": "stdout",
     "output_type": "stream",
     "text": [
      "SCORE:                                                                             \n",
      "0.9276139410187667                                                                 \n",
      " 78%|███████▊  | 78/100 [03:09<00:57,  2.60s/trial, best loss: -0.9329758713136729]"
     ]
    },
    {
     "name": "stderr",
     "output_type": "stream",
     "text": [
      "/usr/local/lib/python3.8/site-packages/xgboost/sklearn.py:1146: UserWarning: The use of label encoder in XGBClassifier is deprecated and will be removed in a future release. To remove this warning, do the following: 1) Pass option use_label_encoder=False when constructing XGBClassifier object; and 2) Encode your labels (y) as integers starting with 0, i.e. 0, 1, 2, ..., [num_class - 1].\n",
      "  warnings.warn(label_encoder_deprecation_msg, UserWarning)\n",
      "\n"
     ]
    },
    {
     "name": "stdout",
     "output_type": "stream",
     "text": [
      "SCORE:                                                                             \n",
      "0.9235924932975871                                                                 \n",
      " 79%|███████▉  | 79/100 [03:12<00:57,  2.72s/trial, best loss: -0.9329758713136729]"
     ]
    },
    {
     "name": "stderr",
     "output_type": "stream",
     "text": [
      "/usr/local/lib/python3.8/site-packages/xgboost/sklearn.py:1146: UserWarning: The use of label encoder in XGBClassifier is deprecated and will be removed in a future release. To remove this warning, do the following: 1) Pass option use_label_encoder=False when constructing XGBClassifier object; and 2) Encode your labels (y) as integers starting with 0, i.e. 0, 1, 2, ..., [num_class - 1].\n",
      "  warnings.warn(label_encoder_deprecation_msg, UserWarning)\n",
      "\n"
     ]
    },
    {
     "name": "stdout",
     "output_type": "stream",
     "text": [
      "SCORE:                                                                             \n",
      "0.9168900804289544                                                                 \n",
      " 80%|████████  | 80/100 [03:15<00:54,  2.70s/trial, best loss: -0.9329758713136729]"
     ]
    },
    {
     "name": "stderr",
     "output_type": "stream",
     "text": [
      "/usr/local/lib/python3.8/site-packages/xgboost/sklearn.py:1146: UserWarning: The use of label encoder in XGBClassifier is deprecated and will be removed in a future release. To remove this warning, do the following: 1) Pass option use_label_encoder=False when constructing XGBClassifier object; and 2) Encode your labels (y) as integers starting with 0, i.e. 0, 1, 2, ..., [num_class - 1].\n",
      "  warnings.warn(label_encoder_deprecation_msg, UserWarning)\n",
      "\n"
     ]
    },
    {
     "name": "stdout",
     "output_type": "stream",
     "text": [
      "SCORE:                                                                             \n",
      "0.9249329758713136                                                                 \n",
      " 81%|████████  | 81/100 [03:18<00:51,  2.71s/trial, best loss: -0.9329758713136729]"
     ]
    },
    {
     "name": "stderr",
     "output_type": "stream",
     "text": [
      "/usr/local/lib/python3.8/site-packages/xgboost/sklearn.py:1146: UserWarning: The use of label encoder in XGBClassifier is deprecated and will be removed in a future release. To remove this warning, do the following: 1) Pass option use_label_encoder=False when constructing XGBClassifier object; and 2) Encode your labels (y) as integers starting with 0, i.e. 0, 1, 2, ..., [num_class - 1].\n",
      "  warnings.warn(label_encoder_deprecation_msg, UserWarning)\n",
      "\n"
     ]
    },
    {
     "name": "stdout",
     "output_type": "stream",
     "text": [
      "SCORE:                                                                             \n",
      "0.9276139410187667                                                                 \n",
      " 82%|████████▏ | 82/100 [03:20<00:44,  2.48s/trial, best loss: -0.9329758713136729]"
     ]
    },
    {
     "name": "stderr",
     "output_type": "stream",
     "text": [
      "/usr/local/lib/python3.8/site-packages/xgboost/sklearn.py:1146: UserWarning: The use of label encoder in XGBClassifier is deprecated and will be removed in a future release. To remove this warning, do the following: 1) Pass option use_label_encoder=False when constructing XGBClassifier object; and 2) Encode your labels (y) as integers starting with 0, i.e. 0, 1, 2, ..., [num_class - 1].\n",
      "  warnings.warn(label_encoder_deprecation_msg, UserWarning)\n",
      "\n"
     ]
    },
    {
     "name": "stdout",
     "output_type": "stream",
     "text": [
      "SCORE:                                                                             \n",
      "0.9115281501340483                                                                 \n",
      " 83%|████████▎ | 83/100 [03:22<00:41,  2.44s/trial, best loss: -0.9329758713136729]"
     ]
    },
    {
     "name": "stderr",
     "output_type": "stream",
     "text": [
      "/usr/local/lib/python3.8/site-packages/xgboost/sklearn.py:1146: UserWarning: The use of label encoder in XGBClassifier is deprecated and will be removed in a future release. To remove this warning, do the following: 1) Pass option use_label_encoder=False when constructing XGBClassifier object; and 2) Encode your labels (y) as integers starting with 0, i.e. 0, 1, 2, ..., [num_class - 1].\n",
      "  warnings.warn(label_encoder_deprecation_msg, UserWarning)\n",
      "\n"
     ]
    },
    {
     "name": "stdout",
     "output_type": "stream",
     "text": [
      "SCORE:                                                                             \n",
      "0.9061662198391421                                                                 \n",
      " 84%|████████▍ | 84/100 [03:23<00:34,  2.17s/trial, best loss: -0.9329758713136729]"
     ]
    },
    {
     "name": "stderr",
     "output_type": "stream",
     "text": [
      "/usr/local/lib/python3.8/site-packages/xgboost/sklearn.py:1146: UserWarning: The use of label encoder in XGBClassifier is deprecated and will be removed in a future release. To remove this warning, do the following: 1) Pass option use_label_encoder=False when constructing XGBClassifier object; and 2) Encode your labels (y) as integers starting with 0, i.e. 0, 1, 2, ..., [num_class - 1].\n",
      "  warnings.warn(label_encoder_deprecation_msg, UserWarning)\n",
      "\n"
     ]
    },
    {
     "name": "stdout",
     "output_type": "stream",
     "text": [
      "SCORE:                                                                             \n",
      "0.9182305630026809                                                                 \n",
      " 85%|████████▌ | 85/100 [03:26<00:34,  2.29s/trial, best loss: -0.9329758713136729]"
     ]
    },
    {
     "name": "stderr",
     "output_type": "stream",
     "text": [
      "/usr/local/lib/python3.8/site-packages/xgboost/sklearn.py:1146: UserWarning: The use of label encoder in XGBClassifier is deprecated and will be removed in a future release. To remove this warning, do the following: 1) Pass option use_label_encoder=False when constructing XGBClassifier object; and 2) Encode your labels (y) as integers starting with 0, i.e. 0, 1, 2, ..., [num_class - 1].\n",
      "  warnings.warn(label_encoder_deprecation_msg, UserWarning)\n",
      "\n"
     ]
    },
    {
     "name": "stdout",
     "output_type": "stream",
     "text": [
      "SCORE:                                                                             \n",
      "0.9182305630026809                                                                 \n",
      " 86%|████████▌ | 86/100 [03:28<00:30,  2.17s/trial, best loss: -0.9329758713136729]"
     ]
    },
    {
     "name": "stderr",
     "output_type": "stream",
     "text": [
      "/usr/local/lib/python3.8/site-packages/xgboost/sklearn.py:1146: UserWarning: The use of label encoder in XGBClassifier is deprecated and will be removed in a future release. To remove this warning, do the following: 1) Pass option use_label_encoder=False when constructing XGBClassifier object; and 2) Encode your labels (y) as integers starting with 0, i.e. 0, 1, 2, ..., [num_class - 1].\n",
      "  warnings.warn(label_encoder_deprecation_msg, UserWarning)\n",
      "\n"
     ]
    },
    {
     "name": "stdout",
     "output_type": "stream",
     "text": [
      "SCORE:                                                                             \n",
      "0.9075067024128687                                                                 \n",
      " 87%|████████▋ | 87/100 [03:30<00:26,  2.01s/trial, best loss: -0.9329758713136729]"
     ]
    },
    {
     "name": "stderr",
     "output_type": "stream",
     "text": [
      "/usr/local/lib/python3.8/site-packages/xgboost/sklearn.py:1146: UserWarning: The use of label encoder in XGBClassifier is deprecated and will be removed in a future release. To remove this warning, do the following: 1) Pass option use_label_encoder=False when constructing XGBClassifier object; and 2) Encode your labels (y) as integers starting with 0, i.e. 0, 1, 2, ..., [num_class - 1].\n",
      "  warnings.warn(label_encoder_deprecation_msg, UserWarning)\n",
      "\n"
     ]
    },
    {
     "name": "stdout",
     "output_type": "stream",
     "text": [
      "SCORE:                                                                             \n",
      "0.8753351206434317                                                                 \n",
      " 88%|████████▊ | 88/100 [03:31<00:23,  1.92s/trial, best loss: -0.9329758713136729]"
     ]
    },
    {
     "name": "stderr",
     "output_type": "stream",
     "text": [
      "/usr/local/lib/python3.8/site-packages/xgboost/sklearn.py:1146: UserWarning: The use of label encoder in XGBClassifier is deprecated and will be removed in a future release. To remove this warning, do the following: 1) Pass option use_label_encoder=False when constructing XGBClassifier object; and 2) Encode your labels (y) as integers starting with 0, i.e. 0, 1, 2, ..., [num_class - 1].\n",
      "  warnings.warn(label_encoder_deprecation_msg, UserWarning)\n",
      "\n"
     ]
    },
    {
     "name": "stdout",
     "output_type": "stream",
     "text": [
      "SCORE:                                                                             \n",
      "0.9075067024128687                                                                 \n",
      " 89%|████████▉ | 89/100 [03:34<00:23,  2.13s/trial, best loss: -0.9329758713136729]"
     ]
    },
    {
     "name": "stderr",
     "output_type": "stream",
     "text": [
      "/usr/local/lib/python3.8/site-packages/xgboost/sklearn.py:1146: UserWarning: The use of label encoder in XGBClassifier is deprecated and will be removed in a future release. To remove this warning, do the following: 1) Pass option use_label_encoder=False when constructing XGBClassifier object; and 2) Encode your labels (y) as integers starting with 0, i.e. 0, 1, 2, ..., [num_class - 1].\n",
      "  warnings.warn(label_encoder_deprecation_msg, UserWarning)\n",
      "\n"
     ]
    },
    {
     "name": "stdout",
     "output_type": "stream",
     "text": [
      "SCORE:                                                                             \n",
      "0.9061662198391421                                                                 \n",
      " 90%|█████████ | 90/100 [03:36<00:20,  2.02s/trial, best loss: -0.9329758713136729]"
     ]
    },
    {
     "name": "stderr",
     "output_type": "stream",
     "text": [
      "/usr/local/lib/python3.8/site-packages/xgboost/sklearn.py:1146: UserWarning: The use of label encoder in XGBClassifier is deprecated and will be removed in a future release. To remove this warning, do the following: 1) Pass option use_label_encoder=False when constructing XGBClassifier object; and 2) Encode your labels (y) as integers starting with 0, i.e. 0, 1, 2, ..., [num_class - 1].\n",
      "  warnings.warn(label_encoder_deprecation_msg, UserWarning)\n",
      "\n"
     ]
    },
    {
     "name": "stdout",
     "output_type": "stream",
     "text": [
      "SCORE:                                                                             \n",
      "0.9235924932975871                                                                 \n",
      " 91%|█████████ | 91/100 [03:39<00:20,  2.29s/trial, best loss: -0.9329758713136729]"
     ]
    },
    {
     "name": "stderr",
     "output_type": "stream",
     "text": [
      "/usr/local/lib/python3.8/site-packages/xgboost/sklearn.py:1146: UserWarning: The use of label encoder in XGBClassifier is deprecated and will be removed in a future release. To remove this warning, do the following: 1) Pass option use_label_encoder=False when constructing XGBClassifier object; and 2) Encode your labels (y) as integers starting with 0, i.e. 0, 1, 2, ..., [num_class - 1].\n",
      "  warnings.warn(label_encoder_deprecation_msg, UserWarning)\n",
      "\n"
     ]
    },
    {
     "name": "stdout",
     "output_type": "stream",
     "text": [
      "SCORE:                                                                             \n",
      "0.8887399463806971                                                                 \n",
      " 92%|█████████▏| 92/100 [03:40<00:16,  2.09s/trial, best loss: -0.9329758713136729]"
     ]
    },
    {
     "name": "stderr",
     "output_type": "stream",
     "text": [
      "/usr/local/lib/python3.8/site-packages/xgboost/sklearn.py:1146: UserWarning: The use of label encoder in XGBClassifier is deprecated and will be removed in a future release. To remove this warning, do the following: 1) Pass option use_label_encoder=False when constructing XGBClassifier object; and 2) Encode your labels (y) as integers starting with 0, i.e. 0, 1, 2, ..., [num_class - 1].\n",
      "  warnings.warn(label_encoder_deprecation_msg, UserWarning)\n",
      "\n"
     ]
    },
    {
     "name": "stdout",
     "output_type": "stream",
     "text": [
      "SCORE:                                                                             \n",
      "0.9155495978552279                                                                 \n",
      " 93%|█████████▎| 93/100 [03:43<00:16,  2.40s/trial, best loss: -0.9329758713136729]"
     ]
    },
    {
     "name": "stderr",
     "output_type": "stream",
     "text": [
      "/usr/local/lib/python3.8/site-packages/xgboost/sklearn.py:1146: UserWarning: The use of label encoder in XGBClassifier is deprecated and will be removed in a future release. To remove this warning, do the following: 1) Pass option use_label_encoder=False when constructing XGBClassifier object; and 2) Encode your labels (y) as integers starting with 0, i.e. 0, 1, 2, ..., [num_class - 1].\n",
      "  warnings.warn(label_encoder_deprecation_msg, UserWarning)\n",
      "\n"
     ]
    },
    {
     "name": "stdout",
     "output_type": "stream",
     "text": [
      "SCORE:                                                                             \n",
      "0.9182305630026809                                                                 \n",
      " 94%|█████████▍| 94/100 [03:47<00:17,  2.85s/trial, best loss: -0.9329758713136729]"
     ]
    },
    {
     "name": "stderr",
     "output_type": "stream",
     "text": [
      "/usr/local/lib/python3.8/site-packages/xgboost/sklearn.py:1146: UserWarning: The use of label encoder in XGBClassifier is deprecated and will be removed in a future release. To remove this warning, do the following: 1) Pass option use_label_encoder=False when constructing XGBClassifier object; and 2) Encode your labels (y) as integers starting with 0, i.e. 0, 1, 2, ..., [num_class - 1].\n",
      "  warnings.warn(label_encoder_deprecation_msg, UserWarning)\n",
      "\n"
     ]
    },
    {
     "name": "stdout",
     "output_type": "stream",
     "text": [
      "SCORE:                                                                             \n",
      "0.9289544235924933                                                                 \n",
      " 95%|█████████▌| 95/100 [03:51<00:16,  3.22s/trial, best loss: -0.9329758713136729]"
     ]
    },
    {
     "name": "stderr",
     "output_type": "stream",
     "text": [
      "/usr/local/lib/python3.8/site-packages/xgboost/sklearn.py:1146: UserWarning: The use of label encoder in XGBClassifier is deprecated and will be removed in a future release. To remove this warning, do the following: 1) Pass option use_label_encoder=False when constructing XGBClassifier object; and 2) Encode your labels (y) as integers starting with 0, i.e. 0, 1, 2, ..., [num_class - 1].\n",
      "  warnings.warn(label_encoder_deprecation_msg, UserWarning)\n",
      "\n"
     ]
    },
    {
     "name": "stdout",
     "output_type": "stream",
     "text": [
      "SCORE:                                                                             \n",
      "0.9249329758713136                                                                 \n",
      " 96%|█████████▌| 96/100 [03:54<00:12,  3.19s/trial, best loss: -0.9329758713136729]"
     ]
    },
    {
     "name": "stderr",
     "output_type": "stream",
     "text": [
      "/usr/local/lib/python3.8/site-packages/xgboost/sklearn.py:1146: UserWarning: The use of label encoder in XGBClassifier is deprecated and will be removed in a future release. To remove this warning, do the following: 1) Pass option use_label_encoder=False when constructing XGBClassifier object; and 2) Encode your labels (y) as integers starting with 0, i.e. 0, 1, 2, ..., [num_class - 1].\n",
      "  warnings.warn(label_encoder_deprecation_msg, UserWarning)\n",
      "\n"
     ]
    },
    {
     "name": "stdout",
     "output_type": "stream",
     "text": [
      "SCORE:                                                                             \n",
      "0.8404825737265416                                                                 \n",
      " 97%|█████████▋| 97/100 [03:56<00:08,  2.74s/trial, best loss: -0.9329758713136729]"
     ]
    },
    {
     "name": "stderr",
     "output_type": "stream",
     "text": [
      "/usr/local/lib/python3.8/site-packages/xgboost/sklearn.py:1146: UserWarning: The use of label encoder in XGBClassifier is deprecated and will be removed in a future release. To remove this warning, do the following: 1) Pass option use_label_encoder=False when constructing XGBClassifier object; and 2) Encode your labels (y) as integers starting with 0, i.e. 0, 1, 2, ..., [num_class - 1].\n",
      "  warnings.warn(label_encoder_deprecation_msg, UserWarning)\n",
      "\n"
     ]
    },
    {
     "name": "stdout",
     "output_type": "stream",
     "text": [
      "SCORE:                                                                             \n",
      "0.9222520107238605                                                                 \n",
      " 98%|█████████▊| 98/100 [03:58<00:05,  2.61s/trial, best loss: -0.9329758713136729]"
     ]
    },
    {
     "name": "stderr",
     "output_type": "stream",
     "text": [
      "/usr/local/lib/python3.8/site-packages/xgboost/sklearn.py:1146: UserWarning: The use of label encoder in XGBClassifier is deprecated and will be removed in a future release. To remove this warning, do the following: 1) Pass option use_label_encoder=False when constructing XGBClassifier object; and 2) Encode your labels (y) as integers starting with 0, i.e. 0, 1, 2, ..., [num_class - 1].\n",
      "  warnings.warn(label_encoder_deprecation_msg, UserWarning)\n",
      "\n"
     ]
    },
    {
     "name": "stdout",
     "output_type": "stream",
     "text": [
      "SCORE:                                                                             \n",
      "0.871313672922252                                                                  \n",
      " 99%|█████████▉| 99/100 [04:00<00:02,  2.30s/trial, best loss: -0.9329758713136729]"
     ]
    },
    {
     "name": "stderr",
     "output_type": "stream",
     "text": [
      "/usr/local/lib/python3.8/site-packages/xgboost/sklearn.py:1146: UserWarning: The use of label encoder in XGBClassifier is deprecated and will be removed in a future release. To remove this warning, do the following: 1) Pass option use_label_encoder=False when constructing XGBClassifier object; and 2) Encode your labels (y) as integers starting with 0, i.e. 0, 1, 2, ..., [num_class - 1].\n",
      "  warnings.warn(label_encoder_deprecation_msg, UserWarning)\n",
      "\n"
     ]
    },
    {
     "name": "stdout",
     "output_type": "stream",
     "text": [
      "SCORE:                                                                             \n",
      "0.8941018766756033                                                                 \n",
      "100%|██████████| 100/100 [04:02<00:00,  2.42s/trial, best loss: -0.9329758713136729]\n"
     ]
    }
   ],
   "source": [
    "trials = Trials()\n",
    "\n",
    "best_hyperparams = fmin(fn = objective,space = space,algo = tpe.suggest,max_evals = 100,trials = trials)"
   ]
  },
  {
   "cell_type": "code",
   "execution_count": 29,
   "id": "7ada2d13",
   "metadata": {},
   "outputs": [
    {
     "name": "stdout",
     "output_type": "stream",
     "text": [
      "The best hyperparameters are :  \n",
      "\n",
      "{'colsample_bytree': 0.9266120491013558, 'gamma': 0.23406968249409194, 'max_depth': 14.0, 'min_child_weight': 6.0, 'reg_alpha': 2.0, 'reg_lambda': 2.651513151984106}\n"
     ]
    }
   ],
   "source": [
    "print(\"The best hyperparameters are : \",\"\\n\")\n",
    "print(best_hyperparams)"
   ]
  },
  {
   "cell_type": "code",
   "execution_count": 148,
   "id": "10302a76",
   "metadata": {},
   "outputs": [
    {
     "name": "stdout",
     "output_type": "stream",
     "text": [
      "[0]\tvalidation_0-auc:0.79234\n",
      "[1]\tvalidation_0-auc:0.81656\n"
     ]
    },
    {
     "name": "stderr",
     "output_type": "stream",
     "text": [
      "/usr/local/lib/python3.8/site-packages/xgboost/sklearn.py:1146: UserWarning: The use of label encoder in XGBClassifier is deprecated and will be removed in a future release. To remove this warning, do the following: 1) Pass option use_label_encoder=False when constructing XGBClassifier object; and 2) Encode your labels (y) as integers starting with 0, i.e. 0, 1, 2, ..., [num_class - 1].\n",
      "  warnings.warn(label_encoder_deprecation_msg, UserWarning)\n"
     ]
    },
    {
     "name": "stdout",
     "output_type": "stream",
     "text": [
      "[2]\tvalidation_0-auc:0.84508\n",
      "[3]\tvalidation_0-auc:0.86711\n",
      "[4]\tvalidation_0-auc:0.89973\n",
      "[5]\tvalidation_0-auc:0.91397\n",
      "[6]\tvalidation_0-auc:0.91884\n",
      "[7]\tvalidation_0-auc:0.92519\n",
      "[8]\tvalidation_0-auc:0.93219\n",
      "[9]\tvalidation_0-auc:0.93301\n",
      "[10]\tvalidation_0-auc:0.93900\n",
      "[11]\tvalidation_0-auc:0.94000\n",
      "[12]\tvalidation_0-auc:0.94163\n",
      "[13]\tvalidation_0-auc:0.94300\n",
      "[14]\tvalidation_0-auc:0.94452\n",
      "[15]\tvalidation_0-auc:0.94754\n",
      "[16]\tvalidation_0-auc:0.95090\n",
      "[17]\tvalidation_0-auc:0.95137\n",
      "[18]\tvalidation_0-auc:0.95169\n",
      "[19]\tvalidation_0-auc:0.95345\n",
      "[20]\tvalidation_0-auc:0.95577\n",
      "[21]\tvalidation_0-auc:0.95758\n",
      "[22]\tvalidation_0-auc:0.95974\n",
      "[23]\tvalidation_0-auc:0.95852\n",
      "[24]\tvalidation_0-auc:0.95758\n",
      "[25]\tvalidation_0-auc:0.95850\n",
      "[26]\tvalidation_0-auc:0.95803\n",
      "[27]\tvalidation_0-auc:0.95812\n",
      "[28]\tvalidation_0-auc:0.95893\n",
      "[29]\tvalidation_0-auc:0.95877\n",
      "[30]\tvalidation_0-auc:0.96077\n",
      "[31]\tvalidation_0-auc:0.96147\n",
      "[32]\tvalidation_0-auc:0.96296\n",
      "[33]\tvalidation_0-auc:0.96238\n",
      "[34]\tvalidation_0-auc:0.96167\n",
      "[35]\tvalidation_0-auc:0.96277\n",
      "[36]\tvalidation_0-auc:0.96298\n",
      "[37]\tvalidation_0-auc:0.96263\n",
      "[38]\tvalidation_0-auc:0.96245\n",
      "[39]\tvalidation_0-auc:0.96295\n",
      "[40]\tvalidation_0-auc:0.96375\n",
      "[41]\tvalidation_0-auc:0.96305\n",
      "[42]\tvalidation_0-auc:0.96463\n",
      "[43]\tvalidation_0-auc:0.96409\n",
      "[44]\tvalidation_0-auc:0.96420\n",
      "[45]\tvalidation_0-auc:0.96466\n",
      "[46]\tvalidation_0-auc:0.96466\n",
      "[47]\tvalidation_0-auc:0.96476\n",
      "[48]\tvalidation_0-auc:0.96520\n",
      "[49]\tvalidation_0-auc:0.96623\n",
      "[50]\tvalidation_0-auc:0.96545\n",
      "[51]\tvalidation_0-auc:0.96663\n",
      "[52]\tvalidation_0-auc:0.96668\n",
      "[53]\tvalidation_0-auc:0.96677\n",
      "[54]\tvalidation_0-auc:0.96683\n",
      "[55]\tvalidation_0-auc:0.96783\n",
      "[56]\tvalidation_0-auc:0.96847\n",
      "[57]\tvalidation_0-auc:0.96867\n",
      "[58]\tvalidation_0-auc:0.96847\n",
      "[59]\tvalidation_0-auc:0.96827\n",
      "[60]\tvalidation_0-auc:0.96932\n",
      "[61]\tvalidation_0-auc:0.96937\n",
      "[62]\tvalidation_0-auc:0.96854\n",
      "[63]\tvalidation_0-auc:0.96897\n",
      "[64]\tvalidation_0-auc:0.97039\n",
      "[65]\tvalidation_0-auc:0.97004\n",
      "[66]\tvalidation_0-auc:0.97089\n",
      "[67]\tvalidation_0-auc:0.97092\n",
      "[68]\tvalidation_0-auc:0.97125\n",
      "[69]\tvalidation_0-auc:0.97252\n",
      "[70]\tvalidation_0-auc:0.97388\n",
      "[71]\tvalidation_0-auc:0.97353\n",
      "[72]\tvalidation_0-auc:0.97335\n",
      "[73]\tvalidation_0-auc:0.97302\n",
      "[74]\tvalidation_0-auc:0.97340\n",
      "[75]\tvalidation_0-auc:0.97352\n",
      "[76]\tvalidation_0-auc:0.97322\n",
      "[77]\tvalidation_0-auc:0.97316\n",
      "[78]\tvalidation_0-auc:0.97300\n",
      "[79]\tvalidation_0-auc:0.97266\n"
     ]
    },
    {
     "data": {
      "text/plain": [
       "XGBClassifier(base_score=0.5, booster='gbtree', colsample_bylevel=1,\n",
       "              colsample_bynode=1,\n",
       "              colsample_bytree=<hyperopt.pyll.base.Apply object at 0x13ef5aaf0>,\n",
       "              eta=0.3, eval_metric='auc',\n",
       "              gamma=<hyperopt.pyll.base.Apply object at 0x13ef42700>, gpu_id=-1,\n",
       "              grow_policy='depthwise', importance_type='gain',\n",
       "              interaction_constraints='', learning_rate=0.300000012,\n",
       "              max_delta_step...\n",
       "              min_child_weight=<hyperopt.pyll.base.Apply object at 0x13ef5a4c0>,\n",
       "              missing=nan, monotone_constraints='()', n_estimators=100,\n",
       "              n_jobs=8, num_parallel_tree=1, random_state=42,\n",
       "              reg_alpha=<hyperopt.pyll.base.Apply object at 0x13ef42640>,\n",
       "              reg_lambda=<hyperopt.pyll.base.Apply object at 0x13ef42e50>,\n",
       "              scale_pos_weight=2, subsample=1, tree_method='exact',\n",
       "              validate_parameters=1, verbosity=None)"
      ]
     },
     "execution_count": 148,
     "metadata": {},
     "output_type": "execute_result"
    }
   ],
   "source": [
    "xgb_model = xgb.XGBClassifier(objective=\"binary:logistic\", random_state=42, eval_metric=\"auc\", n_estimators=100,max_depth=space['max_depth'],\n",
    "                              booster = \"gbtree\", reg_lambda = space['reg_lambda'], gamma = space['gamma'], eta = 0.3, \n",
    "                              tree_method = \"exact\",grow_policy = \"depthwise\", reg_alpha = space['reg_alpha'], min_child_weight = space['min_child_weight'],colsample_bytree = space['colsample_bytree'],\n",
    "                             scale_pos_weight = 6)\n",
    "\n",
    "xgb_model.fit(X_train, y_train, early_stopping_rounds=10, eval_set=[(X_test, y_test)], verbose=True)"
   ]
  },
  {
   "cell_type": "code",
   "execution_count": 149,
   "id": "efc8db2a",
   "metadata": {},
   "outputs": [
    {
     "name": "stdout",
     "output_type": "stream",
     "text": [
      "              precision    recall  f1-score   support\n",
      "\n",
      "           0       0.92      0.96      0.94       374\n",
      "           1       0.92      0.84      0.88       186\n",
      "\n",
      "    accuracy                           0.92       560\n",
      "   macro avg       0.92      0.90      0.91       560\n",
      "weighted avg       0.92      0.92      0.92       560\n",
      "\n"
     ]
    }
   ],
   "source": [
    "from sklearn.metrics import classification_report\n",
    "\n",
    "y_predOrig = xgb_model.predict(X_valid)\n",
    "#y_pred_bool = np.argmax(y_pred, axis=1)\n",
    "#y_pred_bool = pd.get_dummies(y_pred_bool)\n",
    "\n",
    "print(classification_report(y_valid, y_predOrig))"
   ]
  },
  {
   "cell_type": "code",
   "execution_count": 150,
   "id": "326c6dd8",
   "metadata": {},
   "outputs": [
    {
     "name": "stdout",
     "output_type": "stream",
     "text": [
      "              precision    recall  f1-score   support\n",
      "\n",
      "           0       0.93      0.97      0.95       475\n",
      "           1       0.95      0.87      0.91       271\n",
      "\n",
      "    accuracy                           0.94       746\n",
      "   macro avg       0.94      0.92      0.93       746\n",
      "weighted avg       0.94      0.94      0.93       746\n",
      "\n"
     ]
    }
   ],
   "source": [
    "from sklearn.metrics import classification_report\n",
    "\n",
    "y_predOrig = xgb_model.predict(X_test)\n",
    "#y_pred_bool = np.argmax(y_pred, axis=1)\n",
    "#y_pred_bool = pd.get_dummies(y_pred_bool)\n",
    "\n",
    "print(classification_report(y_test, y_predOrig))"
   ]
  },
  {
   "cell_type": "code",
   "execution_count": 158,
   "id": "a90f700b",
   "metadata": {},
   "outputs": [
    {
     "name": "stderr",
     "output_type": "stream",
     "text": [
      "/usr/local/lib/python3.8/site-packages/xgboost/sklearn.py:1146: UserWarning: The use of label encoder in XGBClassifier is deprecated and will be removed in a future release. To remove this warning, do the following: 1) Pass option use_label_encoder=False when constructing XGBClassifier object; and 2) Encode your labels (y) as integers starting with 0, i.e. 0, 1, 2, ..., [num_class - 1].\n",
      "  warnings.warn(label_encoder_deprecation_msg, UserWarning)\n",
      "/usr/local/lib/python3.8/site-packages/xgboost/sklearn.py:1146: UserWarning: The use of label encoder in XGBClassifier is deprecated and will be removed in a future release. To remove this warning, do the following: 1) Pass option use_label_encoder=False when constructing XGBClassifier object; and 2) Encode your labels (y) as integers starting with 0, i.e. 0, 1, 2, ..., [num_class - 1].\n",
      "  warnings.warn(label_encoder_deprecation_msg, UserWarning)\n",
      "/usr/local/lib/python3.8/site-packages/xgboost/sklearn.py:1146: UserWarning: The use of label encoder in XGBClassifier is deprecated and will be removed in a future release. To remove this warning, do the following: 1) Pass option use_label_encoder=False when constructing XGBClassifier object; and 2) Encode your labels (y) as integers starting with 0, i.e. 0, 1, 2, ..., [num_class - 1].\n",
      "  warnings.warn(label_encoder_deprecation_msg, UserWarning)\n",
      "/usr/local/lib/python3.8/site-packages/xgboost/sklearn.py:1146: UserWarning: The use of label encoder in XGBClassifier is deprecated and will be removed in a future release. To remove this warning, do the following: 1) Pass option use_label_encoder=False when constructing XGBClassifier object; and 2) Encode your labels (y) as integers starting with 0, i.e. 0, 1, 2, ..., [num_class - 1].\n",
      "  warnings.warn(label_encoder_deprecation_msg, UserWarning)\n",
      "/usr/local/lib/python3.8/site-packages/xgboost/sklearn.py:1146: UserWarning: The use of label encoder in XGBClassifier is deprecated and will be removed in a future release. To remove this warning, do the following: 1) Pass option use_label_encoder=False when constructing XGBClassifier object; and 2) Encode your labels (y) as integers starting with 0, i.e. 0, 1, 2, ..., [num_class - 1].\n",
      "  warnings.warn(label_encoder_deprecation_msg, UserWarning)\n"
     ]
    },
    {
     "name": "stdout",
     "output_type": "stream",
     "text": [
      "The Accuracy is: 84.05% (1.89%)\n"
     ]
    }
   ],
   "source": [
    "##Cross Validation\n",
    "kFold = KFold(n_splits = 5)\n",
    "res = cross_val_score(xgb_model, X_test, y_test, cv=kFold)\n",
    "print(\"The Accuracy is: %.2f%% (%.2f%%)\" % (res.mean()*100, res.std()*100))"
   ]
  },
  {
   "cell_type": "code",
   "execution_count": 161,
   "id": "b752922f",
   "metadata": {},
   "outputs": [
    {
     "name": "stderr",
     "output_type": "stream",
     "text": [
      "/usr/local/lib/python3.8/site-packages/xgboost/sklearn.py:1146: UserWarning: The use of label encoder in XGBClassifier is deprecated and will be removed in a future release. To remove this warning, do the following: 1) Pass option use_label_encoder=False when constructing XGBClassifier object; and 2) Encode your labels (y) as integers starting with 0, i.e. 0, 1, 2, ..., [num_class - 1].\n",
      "  warnings.warn(label_encoder_deprecation_msg, UserWarning)\n",
      "/usr/local/lib/python3.8/site-packages/xgboost/sklearn.py:1146: UserWarning: The use of label encoder in XGBClassifier is deprecated and will be removed in a future release. To remove this warning, do the following: 1) Pass option use_label_encoder=False when constructing XGBClassifier object; and 2) Encode your labels (y) as integers starting with 0, i.e. 0, 1, 2, ..., [num_class - 1].\n",
      "  warnings.warn(label_encoder_deprecation_msg, UserWarning)\n",
      "/usr/local/lib/python3.8/site-packages/xgboost/sklearn.py:1146: UserWarning: The use of label encoder in XGBClassifier is deprecated and will be removed in a future release. To remove this warning, do the following: 1) Pass option use_label_encoder=False when constructing XGBClassifier object; and 2) Encode your labels (y) as integers starting with 0, i.e. 0, 1, 2, ..., [num_class - 1].\n",
      "  warnings.warn(label_encoder_deprecation_msg, UserWarning)\n",
      "/usr/local/lib/python3.8/site-packages/xgboost/sklearn.py:1146: UserWarning: The use of label encoder in XGBClassifier is deprecated and will be removed in a future release. To remove this warning, do the following: 1) Pass option use_label_encoder=False when constructing XGBClassifier object; and 2) Encode your labels (y) as integers starting with 0, i.e. 0, 1, 2, ..., [num_class - 1].\n",
      "  warnings.warn(label_encoder_deprecation_msg, UserWarning)\n",
      "/usr/local/lib/python3.8/site-packages/xgboost/sklearn.py:1146: UserWarning: The use of label encoder in XGBClassifier is deprecated and will be removed in a future release. To remove this warning, do the following: 1) Pass option use_label_encoder=False when constructing XGBClassifier object; and 2) Encode your labels (y) as integers starting with 0, i.e. 0, 1, 2, ..., [num_class - 1].\n",
      "  warnings.warn(label_encoder_deprecation_msg, UserWarning)\n"
     ]
    },
    {
     "name": "stdout",
     "output_type": "stream",
     "text": [
      "The Accuracy is: 91.95% (1.01%)\n"
     ]
    }
   ],
   "source": [
    "##Cross Validation\n",
    "kFold = KFold(n_splits = 5)\n",
    "res = cross_val_score(xgb_model, X_train , y_train, cv=kFold)\n",
    "print(\"The Accuracy is: %.2f%% (%.2f%%)\" % (res.mean()*100, res.std()*100))"
   ]
  },
  {
   "cell_type": "code",
   "execution_count": null,
   "id": "860f9dad",
   "metadata": {},
   "outputs": [],
   "source": []
  },
  {
   "cell_type": "code",
   "execution_count": null,
   "id": "ec759e6c",
   "metadata": {},
   "outputs": [],
   "source": []
  },
  {
   "cell_type": "code",
   "execution_count": null,
   "id": "47eae319",
   "metadata": {},
   "outputs": [],
   "source": []
  },
  {
   "cell_type": "code",
   "execution_count": null,
   "id": "7f9cc883",
   "metadata": {},
   "outputs": [],
   "source": []
  },
  {
   "cell_type": "code",
   "execution_count": null,
   "id": "f18071c3",
   "metadata": {},
   "outputs": [],
   "source": [
    "from imblearn.ensemble import BalancedBaggingClassifier"
   ]
  },
  {
   "cell_type": "code",
   "execution_count": 218,
   "id": "3c2e8b42",
   "metadata": {},
   "outputs": [
    {
     "data": {
      "text/plain": [
       "BalancedBaggingClassifier(n_estimators=1200, n_jobs=-1, oob_score=True)"
      ]
     },
     "execution_count": 218,
     "metadata": {},
     "output_type": "execute_result"
    }
   ],
   "source": [
    "brf = BalancedBaggingClassifier(n_estimators = 1200, n_jobs=-1, oob_score = True)\n",
    "brf.fit(X_train, y_train)"
   ]
  },
  {
   "cell_type": "code",
   "execution_count": 219,
   "id": "e0bb2fb0",
   "metadata": {},
   "outputs": [
    {
     "data": {
      "text/plain": [
       "0.999128160418483"
      ]
     },
     "execution_count": 219,
     "metadata": {},
     "output_type": "execute_result"
    }
   ],
   "source": [
    "brf.score(X_train,y_train)"
   ]
  },
  {
   "cell_type": "code",
   "execution_count": 220,
   "id": "2b5853c9",
   "metadata": {},
   "outputs": [
    {
     "data": {
      "text/plain": [
       "0.8470588235294118"
      ]
     },
     "execution_count": 220,
     "metadata": {},
     "output_type": "execute_result"
    }
   ],
   "source": [
    "brf.score(X_test,y_test)"
   ]
  },
  {
   "cell_type": "code",
   "execution_count": 221,
   "id": "573807e7",
   "metadata": {},
   "outputs": [
    {
     "data": {
      "text/plain": [
       "0.8668407310704961"
      ]
     },
     "execution_count": 221,
     "metadata": {},
     "output_type": "execute_result"
    }
   ],
   "source": [
    "brf.score(X_valid,y_valid)"
   ]
  },
  {
   "cell_type": "code",
   "execution_count": null,
   "id": "ad193d7c",
   "metadata": {},
   "outputs": [],
   "source": []
  },
  {
   "cell_type": "code",
   "execution_count": null,
   "id": "d0270e64",
   "metadata": {},
   "outputs": [],
   "source": []
  },
  {
   "cell_type": "code",
   "execution_count": null,
   "id": "8576e5e7",
   "metadata": {},
   "outputs": [],
   "source": []
  },
  {
   "cell_type": "code",
   "execution_count": null,
   "id": "fe600076",
   "metadata": {},
   "outputs": [],
   "source": []
  },
  {
   "cell_type": "code",
   "execution_count": null,
   "id": "4895e3cd",
   "metadata": {},
   "outputs": [],
   "source": [
    "##We will select the most important features"
   ]
  },
  {
   "cell_type": "code",
   "execution_count": 89,
   "id": "c1bb5625",
   "metadata": {},
   "outputs": [],
   "source": [
    "perm_importance = permutation_importance(xgb_model, X_train_full, y_train_full)"
   ]
  },
  {
   "cell_type": "code",
   "execution_count": 90,
   "id": "48c2f273",
   "metadata": {},
   "outputs": [],
   "source": [
    "sorted_idx = perm_importance.importances_mean.argsort()"
   ]
  },
  {
   "cell_type": "code",
   "execution_count": 151,
   "id": "b8e8214a",
   "metadata": {},
   "outputs": [
    {
     "name": "stdout",
     "output_type": "stream",
     "text": [
      "[596 597 598 599 600 601 602 603 604 605 606 607 608 609 610 611 612 613\n",
      " 614 616 645 646 647 678 679 680 681 682 683 684 685 686 687 688 689 690\n",
      " 691 692 693 694 695 696 697 698 699 700 701 702 677 676 675 674 648 649\n",
      " 650 651 652 653 654 655 656 657 658 659 589 660 662 663 664 665 666 667\n",
      " 668 669 670 671 672 673 661 588 587 586 502 503 504 505 506 507 508 509\n",
      " 510 511 512 513 514 515 516 517 518 519 520 521 522 523 524 525 526 501\n",
      " 500 499 498 472 473 474 475 476 477 478 479 480 481 482 483 527 484 486\n",
      " 487 488 489 490 491 492 493 494 495 496 497 485 703 528 530 561 562 563\n",
      " 564 565 566 567 568 569 570 571 572 573 574 575 576 577 578 579 580 581\n",
      " 582 583 584 585 560 559 558 557 531 532 533 534 535 536 537 538 539 540\n",
      " 541 542 529 543 545 546 547 548 549 550 551 552 553 554 555 556 544 704\n",
      " 705 706 855 856 857 858 859 860 861 862 863 864 865 866 867 868 869 870\n",
      " 871 872 873 874 875 876 877 878 879 854 853 852 851 825 826 827 828 829\n",
      " 830 831 832 833 834 835 836 880 837 839 840 841 842 843 844 845 846 847\n",
      " 848 849 850 838 824 881 883 914 915 916 917 918 919 920 921 922 923 924\n",
      " 925 926 927 928 929 930 931 932 933 934 935 936 937 938 913 912 911 910\n",
      " 884 885 886 887 888 889 890 891 892 893 894 895 882 896 898 899 900 901\n",
      " 902 903 904 905 906 907 908 909 897 471 823 821 737 738 739 740 741 742\n",
      " 743 744 745 746 747 748 749 750 751 752 753 754 755 756 757 758 759 760\n",
      " 761 736 735 734 733 707 708 709 710 711 712 713 714 715 716 717 718 762\n",
      " 719 721 722 723 724 725 726 727 728 729 730 731 732 720 822 763 765 796\n",
      " 797 798 799 800 801 802 803 804 805 806 807 808 809 810 811 812 813 814\n",
      " 815 816 817 818 819 820 795 794 793 792 766 767 768 769 770 771 772 773\n",
      " 774 775 776 777 764 778 780 781 782 783 784 785 786 787 788 789 790 791\n",
      " 779 939 470 468 148 149 150 151 152 153 154 155 156 157 158 159 160 161\n",
      " 162 163 164 165 166 167 168 169 170 171 172 147 173 146 144 119 120 121\n",
      " 122 123 124 125 126 127 128 129 130 131 132 133 134 135 136 137 138 139\n",
      " 140 141 142 143 145 174 175 176 207 208 209 210 211 212 213 214 215 216\n",
      " 217 218 219 220 221 222 223 224 225 226 227 228 229 230 231 206 205 204\n",
      " 203 177 178 179 180 181 182 183 184 185 186 187 188 118 189 191 192 193\n",
      " 194 195 196 197 198 199 200 201 202 190 117 116 115  31  32  33  34  35\n",
      "  36  37  38  39  40  41  42  43  44  45  46  47  48  49  50  51  52  53\n",
      "  54  55  30  29  28  27   1   2   3   4   5   6   7   8   9  10  11  12\n",
      "  56  13  15  16  17  18  19  20  21  22  23  24  25  26  14 232  57  59\n",
      "  90  91  92  93  94  95  96  97  98  99 100 101 102 103 104 105 106 107\n",
      " 108 109 110 111 112 113 114  89  88  87  86  60  61  62  63  64  65  66\n",
      "  67  68  69  70  71  58  72  74  75  76  77  78  79  80  81  82  83  84\n",
      "  85  73 233 234 235 384 385 386 387 388 389 390 391 392 393 394 395 396\n",
      " 397 398 399 400 401 402 403 404 405 406 407 408 383 382 381 380 354 355\n",
      " 356 357 358 359 360 361 362 363 364 365 409 366 368 369 370 371 372 373\n",
      " 374 375 376 377 378 379 367 353 410 412 443 444 445 446 447 448 449 450\n",
      " 451 452 453 454 455 456 457 458 459 460 461 462 463 464 465 466 467 442\n",
      " 441 440 439 413 414 415 416 417 418 419 420 421 422 423 424 411 425 427\n",
      " 428 429 430 431 432 433 434 435 436 437 438 426 469 352 350 266 267 268\n",
      " 269 270 271 272 273 274 275 276 277 278 279 280 281 282 283 284 285 286\n",
      " 287 288 289 290 265 264 263 262 236 237 238 239 240 241 242 243 244 245\n",
      " 246 247 291 248 250 251 252 253 254 255 256 257 258 259 260 261 249 351\n",
      " 292 294 325 326 327 328 329 330 331 332 333 334 335 336 337 338 339 340\n",
      " 341 342 343 344 345 346 347 348 349 324 323 322 321 295 296 297 298 299\n",
      " 300 301 302 303 304 305 306 293 307 309 310 311 312 313 314 315 316 317\n",
      " 318 319 320 308 940]\n"
     ]
    }
   ],
   "source": [
    "###We obtain the top  features\n",
    "indexImportancia = sorted_idx[-905:]\n",
    "print(indexImportancia)"
   ]
  },
  {
   "cell_type": "code",
   "execution_count": 142,
   "id": "c33fbc52",
   "metadata": {},
   "outputs": [
    {
     "name": "stdout",
     "output_type": "stream",
     "text": [
      "Index(['Drug_DailyDosage_DurationDose_metoprolol-100-60',\n",
      "       'WindowCombinationDrugs_lovastatin-metformin-metoprolol-metoprolol-40-500-100-100',\n",
      "       'WindowCombinationDrugs_metformin-metoprolol-500-100',\n",
      "       'WindowCombinationDrugs_lovastatin-metformin-metformin-metoprolol-40-500-500-100',\n",
      "       'Drug_DailyDosage_DurationDose_metformin-1000-100',\n",
      "       'WindowCombinationDrugs_irbesartan-metformin-metoprolol-metoprolol-300-2000-25-100',\n",
      "       'Drug_DailyDosage_DurationDose_irbesartan-300-45',\n",
      "       'Drug_DailyDosage_DurationDose_metoprolol-25-330',\n",
      "       'WindowCombinationDrugs_irbesartan-metoprolol-metoprolol-300-25-100',\n",
      "       'WindowCombinationDrugs_metformin-metoprolol-metoprolol-2000-25-100',\n",
      "       ...\n",
      "       'WindowCombinationDrugs_metformin-simvastatin-2000-40',\n",
      "       'WindowCombinationDrugs_metformin-metformin-metformin-metformin-metoprolol-metoprolol-rosuvastatin-500-1000-1000-1000-25-25-10',\n",
      "       'Drug_DailyDosage_DurationDose_rosuvastatin-10-84',\n",
      "       'WindowCombinationDrugs_metformin-metformin-metformin-rosuvastatin-1000-1000-1000-10',\n",
      "       'WindowCombinationDrugs_metoprolol-25',\n",
      "       'WindowCombinationDrugs_rosuvastatin-rosuvastatin-10-10',\n",
      "       'Drug_DailyDosage_DurationDose_rosuvastatin-10-108',\n",
      "       'Drug_DailyDosage_DurationDose_rosuvastatin-10-120',\n",
      "       'WindowCombinationDrugs_atenolol-atenolol-atenolol-atenolol-losartan-losartan-simvastatin-simvastatin-simvastatin-simvastatin-100-100-100-100-100-100-40-40-40-40',\n",
      "       'WindowCombinationDrugs_atorvastatin-losartan-10-100'],\n",
      "      dtype='object', length=905)\n"
     ]
    }
   ],
   "source": [
    "print(datos.columns[indexImportancia])"
   ]
  },
  {
   "cell_type": "code",
   "execution_count": 152,
   "id": "de91f5ca",
   "metadata": {},
   "outputs": [],
   "source": [
    "X_train_full_filtered, X_test_filtered, y_train_full_filtered, y_test_filtered = train_test_split(datos.iloc[:,indexImportancia], datosResponse)\n",
    "X_train_filtered, X_valid_filtered, y_train_filtered, y_valid_filtered = train_test_split(X_train_full_filtered, y_train_full_filtered)\n",
    "scaler = StandardScaler()\n",
    "\n",
    "\n",
    "X_train_filtered = pd.DataFrame(scaler.fit_transform(X_train_filtered.values), columns=X_train_filtered.columns, index=X_train_filtered.index)\n",
    "\n",
    "\n",
    "#X_train[X_train.columns] = scaler.fit_transform(X_train)\n",
    "####AQUI DEBE DE IR SMOTE, EN X_train, ACTUALIZAR TAMBIEN EL NPS TARGET CON DUMMIES DE TODOS\n",
    "##Hacemos oversampling SMOTE\n",
    "#sm = BorderlineSMOTE(random_state = 99, n_jobs= -1, kind='borderline-1')\n",
    "#sm = SMOTE(random_state = 99, n_jobs= -1)\n",
    "#X_train, y_train = sm.fit_resample(X_train, y_train)\n",
    "\n",
    "X_valid_filtered = pd.DataFrame(scaler.transform(X_valid_filtered.values), columns=X_valid_filtered.columns, index=X_valid_filtered.index)\n",
    "\n",
    "\n",
    "#X_valid[X_valid.columns] = scaler.transform(X_valid)\n",
    "#X_test[X_test.columns] = scaler.transform(X_test)\n",
    "\n",
    "\n",
    "X_test_filtered = pd.DataFrame(scaler.transform(X_test_filtered.values), columns=X_test_filtered.columns, index=X_test_filtered.index)"
   ]
  },
  {
   "cell_type": "code",
   "execution_count": 153,
   "id": "0f2b1fed",
   "metadata": {},
   "outputs": [
    {
     "name": "stdout",
     "output_type": "stream",
     "text": [
      "[0]\tvalidation_0-auc:0.84401\n",
      "[1]\tvalidation_0-auc:0.88438\n",
      "[2]\tvalidation_0-auc:0.91645\n"
     ]
    },
    {
     "name": "stderr",
     "output_type": "stream",
     "text": [
      "/usr/local/lib/python3.8/site-packages/xgboost/sklearn.py:1146: UserWarning: The use of label encoder in XGBClassifier is deprecated and will be removed in a future release. To remove this warning, do the following: 1) Pass option use_label_encoder=False when constructing XGBClassifier object; and 2) Encode your labels (y) as integers starting with 0, i.e. 0, 1, 2, ..., [num_class - 1].\n",
      "  warnings.warn(label_encoder_deprecation_msg, UserWarning)\n"
     ]
    },
    {
     "name": "stdout",
     "output_type": "stream",
     "text": [
      "[3]\tvalidation_0-auc:0.92814\n",
      "[4]\tvalidation_0-auc:0.92817\n",
      "[5]\tvalidation_0-auc:0.92980\n",
      "[6]\tvalidation_0-auc:0.94217\n",
      "[7]\tvalidation_0-auc:0.94584\n",
      "[8]\tvalidation_0-auc:0.94621\n",
      "[9]\tvalidation_0-auc:0.95237\n",
      "[10]\tvalidation_0-auc:0.95122\n",
      "[11]\tvalidation_0-auc:0.95244\n",
      "[12]\tvalidation_0-auc:0.95424\n",
      "[13]\tvalidation_0-auc:0.96239\n",
      "[14]\tvalidation_0-auc:0.96476\n",
      "[15]\tvalidation_0-auc:0.96713\n",
      "[16]\tvalidation_0-auc:0.97082\n",
      "[17]\tvalidation_0-auc:0.97087\n",
      "[18]\tvalidation_0-auc:0.97320\n",
      "[19]\tvalidation_0-auc:0.97401\n",
      "[20]\tvalidation_0-auc:0.97536\n",
      "[21]\tvalidation_0-auc:0.97626\n",
      "[22]\tvalidation_0-auc:0.97650\n",
      "[23]\tvalidation_0-auc:0.97621\n",
      "[24]\tvalidation_0-auc:0.97634\n",
      "[25]\tvalidation_0-auc:0.97638\n",
      "[26]\tvalidation_0-auc:0.97653\n",
      "[27]\tvalidation_0-auc:0.97711\n",
      "[28]\tvalidation_0-auc:0.97691\n",
      "[29]\tvalidation_0-auc:0.97744\n",
      "[30]\tvalidation_0-auc:0.97836\n",
      "[31]\tvalidation_0-auc:0.97926\n",
      "[32]\tvalidation_0-auc:0.97963\n",
      "[33]\tvalidation_0-auc:0.98004\n",
      "[34]\tvalidation_0-auc:0.98019\n",
      "[35]\tvalidation_0-auc:0.98081\n",
      "[36]\tvalidation_0-auc:0.98178\n",
      "[37]\tvalidation_0-auc:0.98235\n",
      "[38]\tvalidation_0-auc:0.98246\n",
      "[39]\tvalidation_0-auc:0.98247\n",
      "[40]\tvalidation_0-auc:0.98212\n",
      "[41]\tvalidation_0-auc:0.98328\n",
      "[42]\tvalidation_0-auc:0.98344\n",
      "[43]\tvalidation_0-auc:0.98312\n",
      "[44]\tvalidation_0-auc:0.98297\n",
      "[45]\tvalidation_0-auc:0.98403\n",
      "[46]\tvalidation_0-auc:0.98402\n",
      "[47]\tvalidation_0-auc:0.98533\n",
      "[48]\tvalidation_0-auc:0.98510\n",
      "[49]\tvalidation_0-auc:0.98535\n",
      "[50]\tvalidation_0-auc:0.98503\n",
      "[51]\tvalidation_0-auc:0.98525\n",
      "[52]\tvalidation_0-auc:0.98586\n",
      "[53]\tvalidation_0-auc:0.98551\n",
      "[54]\tvalidation_0-auc:0.98599\n",
      "[55]\tvalidation_0-auc:0.98594\n",
      "[56]\tvalidation_0-auc:0.98601\n",
      "[57]\tvalidation_0-auc:0.98599\n",
      "[58]\tvalidation_0-auc:0.98634\n",
      "[59]\tvalidation_0-auc:0.98660\n",
      "[60]\tvalidation_0-auc:0.98667\n",
      "[61]\tvalidation_0-auc:0.98667\n",
      "[62]\tvalidation_0-auc:0.98667\n",
      "[63]\tvalidation_0-auc:0.98686\n",
      "[64]\tvalidation_0-auc:0.98686\n",
      "[65]\tvalidation_0-auc:0.98695\n",
      "[66]\tvalidation_0-auc:0.98703\n",
      "[67]\tvalidation_0-auc:0.98688\n",
      "[68]\tvalidation_0-auc:0.98759\n",
      "[69]\tvalidation_0-auc:0.98755\n",
      "[70]\tvalidation_0-auc:0.98770\n",
      "[71]\tvalidation_0-auc:0.98758\n",
      "[72]\tvalidation_0-auc:0.98805\n",
      "[73]\tvalidation_0-auc:0.98806\n",
      "[74]\tvalidation_0-auc:0.98758\n",
      "[75]\tvalidation_0-auc:0.98778\n",
      "[76]\tvalidation_0-auc:0.98824\n",
      "[77]\tvalidation_0-auc:0.98825\n",
      "[78]\tvalidation_0-auc:0.98819\n",
      "[79]\tvalidation_0-auc:0.98804\n",
      "[80]\tvalidation_0-auc:0.98795\n",
      "[81]\tvalidation_0-auc:0.98835\n",
      "[82]\tvalidation_0-auc:0.98845\n",
      "[83]\tvalidation_0-auc:0.98821\n",
      "[84]\tvalidation_0-auc:0.98872\n",
      "[85]\tvalidation_0-auc:0.98886\n",
      "[86]\tvalidation_0-auc:0.98851\n",
      "[87]\tvalidation_0-auc:0.98826\n",
      "[88]\tvalidation_0-auc:0.98866\n",
      "[89]\tvalidation_0-auc:0.98872\n",
      "[90]\tvalidation_0-auc:0.98872\n",
      "[91]\tvalidation_0-auc:0.98884\n",
      "[92]\tvalidation_0-auc:0.98894\n",
      "[93]\tvalidation_0-auc:0.98901\n",
      "[94]\tvalidation_0-auc:0.98900\n",
      "[95]\tvalidation_0-auc:0.98868\n",
      "[96]\tvalidation_0-auc:0.98867\n",
      "[97]\tvalidation_0-auc:0.98897\n",
      "[98]\tvalidation_0-auc:0.98848\n",
      "[99]\tvalidation_0-auc:0.98845\n",
      "[100]\tvalidation_0-auc:0.98847\n",
      "[101]\tvalidation_0-auc:0.98851\n",
      "[102]\tvalidation_0-auc:0.98848\n"
     ]
    },
    {
     "data": {
      "text/plain": [
       "XGBClassifier(base_score=0.5, booster='gbtree', colsample_bylevel=1,\n",
       "              colsample_bynode=1,\n",
       "              colsample_bytree=<hyperopt.pyll.base.Apply object at 0x13ef5aaf0>,\n",
       "              eta=0.3, eval_metric='auc',\n",
       "              gamma=<hyperopt.pyll.base.Apply object at 0x13ef42700>, gpu_id=-1,\n",
       "              grow_policy='lossguide', importance_type='gain',\n",
       "              interaction_constraints='', learning_rate=0.300000012,\n",
       "              max_delta_step...\n",
       "              min_child_weight=<hyperopt.pyll.base.Apply object at 0x13ef5a4c0>,\n",
       "              missing=nan, monotone_constraints='()', n_estimators=200,\n",
       "              n_jobs=8, num_parallel_tree=1, random_state=42,\n",
       "              reg_alpha=<hyperopt.pyll.base.Apply object at 0x13ef42640>,\n",
       "              reg_lambda=<hyperopt.pyll.base.Apply object at 0x13ef42e50>,\n",
       "              scale_pos_weight=2, subsample=1, tree_method='exact',\n",
       "              validate_parameters=1, verbosity=None)"
      ]
     },
     "execution_count": 153,
     "metadata": {},
     "output_type": "execute_result"
    }
   ],
   "source": [
    "xgb_modelFILTERED = xgb.XGBClassifier(objective=\"binary:logistic\", random_state=42, eval_metric=\"auc\", n_estimators=200,max_depth=space['max_depth'],\n",
    "                              booster = \"gbtree\", reg_lambda = space['reg_lambda'], gamma = space['gamma'], eta = 0.3, \n",
    "                              tree_method = \"exact\",grow_policy = \"lossguide\", reg_alpha = space['reg_alpha'], min_child_weight = space['min_child_weight'],colsample_bytree = space['colsample_bytree'],\n",
    "                             scale_pos_weight = 2)\n",
    "\n",
    "xgb_modelFILTERED.fit(X_train_filtered, y_train_filtered, early_stopping_rounds=10, eval_set=[(X_test_filtered , y_test_filtered )], verbose=True)"
   ]
  },
  {
   "cell_type": "code",
   "execution_count": 154,
   "id": "a177ecb6",
   "metadata": {},
   "outputs": [
    {
     "name": "stdout",
     "output_type": "stream",
     "text": [
      "              precision    recall  f1-score   support\n",
      "\n",
      "           0       0.97      0.96      0.97       512\n",
      "           1       0.92      0.94      0.93       234\n",
      "\n",
      "    accuracy                           0.95       746\n",
      "   macro avg       0.95      0.95      0.95       746\n",
      "weighted avg       0.95      0.95      0.95       746\n",
      "\n"
     ]
    }
   ],
   "source": [
    "\n",
    "y_predOrig = xgb_modelFILTERED.predict(X_test_filtered)\n",
    "#y_pred_bool = np.argmax(y_pred, axis=1)\n",
    "#y_pred_bool = pd.get_dummies(y_pred_bool)\n",
    "\n",
    "print(classification_report(y_test_filtered, y_predOrig))"
   ]
  },
  {
   "cell_type": "code",
   "execution_count": 155,
   "id": "4595ebea",
   "metadata": {},
   "outputs": [
    {
     "name": "stdout",
     "output_type": "stream",
     "text": [
      "              precision    recall  f1-score   support\n",
      "\n",
      "           0       0.95      0.96      0.95       370\n",
      "           1       0.91      0.90      0.91       190\n",
      "\n",
      "    accuracy                           0.94       560\n",
      "   macro avg       0.93      0.93      0.93       560\n",
      "weighted avg       0.94      0.94      0.94       560\n",
      "\n"
     ]
    }
   ],
   "source": [
    "y_predOrig = xgb_modelFILTERED.predict(X_valid_filtered)\n",
    "#y_pred_bool = np.argmax(y_pred, axis=1)\n",
    "#y_pred_bool = pd.get_dummies(y_pred_bool)\n",
    "\n",
    "print(classification_report(y_valid_filtered, y_predOrig))"
   ]
  },
  {
   "cell_type": "code",
   "execution_count": 156,
   "id": "cb995461",
   "metadata": {},
   "outputs": [
    {
     "name": "stderr",
     "output_type": "stream",
     "text": [
      "/usr/local/lib/python3.8/site-packages/xgboost/sklearn.py:1146: UserWarning: The use of label encoder in XGBClassifier is deprecated and will be removed in a future release. To remove this warning, do the following: 1) Pass option use_label_encoder=False when constructing XGBClassifier object; and 2) Encode your labels (y) as integers starting with 0, i.e. 0, 1, 2, ..., [num_class - 1].\n",
      "  warnings.warn(label_encoder_deprecation_msg, UserWarning)\n",
      "/usr/local/lib/python3.8/site-packages/xgboost/sklearn.py:1146: UserWarning: The use of label encoder in XGBClassifier is deprecated and will be removed in a future release. To remove this warning, do the following: 1) Pass option use_label_encoder=False when constructing XGBClassifier object; and 2) Encode your labels (y) as integers starting with 0, i.e. 0, 1, 2, ..., [num_class - 1].\n",
      "  warnings.warn(label_encoder_deprecation_msg, UserWarning)\n",
      "/usr/local/lib/python3.8/site-packages/xgboost/sklearn.py:1146: UserWarning: The use of label encoder in XGBClassifier is deprecated and will be removed in a future release. To remove this warning, do the following: 1) Pass option use_label_encoder=False when constructing XGBClassifier object; and 2) Encode your labels (y) as integers starting with 0, i.e. 0, 1, 2, ..., [num_class - 1].\n",
      "  warnings.warn(label_encoder_deprecation_msg, UserWarning)\n",
      "/usr/local/lib/python3.8/site-packages/xgboost/sklearn.py:1146: UserWarning: The use of label encoder in XGBClassifier is deprecated and will be removed in a future release. To remove this warning, do the following: 1) Pass option use_label_encoder=False when constructing XGBClassifier object; and 2) Encode your labels (y) as integers starting with 0, i.e. 0, 1, 2, ..., [num_class - 1].\n",
      "  warnings.warn(label_encoder_deprecation_msg, UserWarning)\n",
      "/usr/local/lib/python3.8/site-packages/xgboost/sklearn.py:1146: UserWarning: The use of label encoder in XGBClassifier is deprecated and will be removed in a future release. To remove this warning, do the following: 1) Pass option use_label_encoder=False when constructing XGBClassifier object; and 2) Encode your labels (y) as integers starting with 0, i.e. 0, 1, 2, ..., [num_class - 1].\n",
      "  warnings.warn(label_encoder_deprecation_msg, UserWarning)\n"
     ]
    },
    {
     "name": "stdout",
     "output_type": "stream",
     "text": [
      "The Accuracy is: 85.65% (2.20%)\n"
     ]
    }
   ],
   "source": [
    "##Cross Validation\n",
    "kFold = KFold(n_splits = 5)\n",
    "res = cross_val_score(xgb_modelFILTERED, X_test_filtered, y_test_filtered, cv=kFold)\n",
    "print(\"The Accuracy is: %.2f%% (%.2f%%)\" % (res.mean()*100, res.std()*100))"
   ]
  },
  {
   "cell_type": "code",
   "execution_count": 162,
   "id": "ec0ec646",
   "metadata": {},
   "outputs": [
    {
     "name": "stderr",
     "output_type": "stream",
     "text": [
      "/usr/local/lib/python3.8/site-packages/xgboost/sklearn.py:1146: UserWarning: The use of label encoder in XGBClassifier is deprecated and will be removed in a future release. To remove this warning, do the following: 1) Pass option use_label_encoder=False when constructing XGBClassifier object; and 2) Encode your labels (y) as integers starting with 0, i.e. 0, 1, 2, ..., [num_class - 1].\n",
      "  warnings.warn(label_encoder_deprecation_msg, UserWarning)\n",
      "/usr/local/lib/python3.8/site-packages/xgboost/sklearn.py:1146: UserWarning: The use of label encoder in XGBClassifier is deprecated and will be removed in a future release. To remove this warning, do the following: 1) Pass option use_label_encoder=False when constructing XGBClassifier object; and 2) Encode your labels (y) as integers starting with 0, i.e. 0, 1, 2, ..., [num_class - 1].\n",
      "  warnings.warn(label_encoder_deprecation_msg, UserWarning)\n",
      "/usr/local/lib/python3.8/site-packages/xgboost/sklearn.py:1146: UserWarning: The use of label encoder in XGBClassifier is deprecated and will be removed in a future release. To remove this warning, do the following: 1) Pass option use_label_encoder=False when constructing XGBClassifier object; and 2) Encode your labels (y) as integers starting with 0, i.e. 0, 1, 2, ..., [num_class - 1].\n",
      "  warnings.warn(label_encoder_deprecation_msg, UserWarning)\n",
      "/usr/local/lib/python3.8/site-packages/xgboost/sklearn.py:1146: UserWarning: The use of label encoder in XGBClassifier is deprecated and will be removed in a future release. To remove this warning, do the following: 1) Pass option use_label_encoder=False when constructing XGBClassifier object; and 2) Encode your labels (y) as integers starting with 0, i.e. 0, 1, 2, ..., [num_class - 1].\n",
      "  warnings.warn(label_encoder_deprecation_msg, UserWarning)\n",
      "/usr/local/lib/python3.8/site-packages/xgboost/sklearn.py:1146: UserWarning: The use of label encoder in XGBClassifier is deprecated and will be removed in a future release. To remove this warning, do the following: 1) Pass option use_label_encoder=False when constructing XGBClassifier object; and 2) Encode your labels (y) as integers starting with 0, i.e. 0, 1, 2, ..., [num_class - 1].\n",
      "  warnings.warn(label_encoder_deprecation_msg, UserWarning)\n"
     ]
    },
    {
     "name": "stdout",
     "output_type": "stream",
     "text": [
      "The Accuracy is: 91.06% (1.62%)\n"
     ]
    }
   ],
   "source": [
    "##Cross Validation\n",
    "kFold = KFold(n_splits = 5)\n",
    "res = cross_val_score(xgb_modelFILTERED, X_train_filtered, y_train_filtered, cv=kFold)\n",
    "print(\"The Accuracy is: %.2f%% (%.2f%%)\" % (res.mean()*100, res.std()*100))"
   ]
  },
  {
   "cell_type": "code",
   "execution_count": 112,
   "id": "55461943",
   "metadata": {},
   "outputs": [],
   "source": []
  },
  {
   "cell_type": "code",
   "execution_count": 163,
   "id": "b9a60cfc",
   "metadata": {},
   "outputs": [],
   "source": [
    "perm_importance_filtered = permutation_importance(xgb_modelFILTERED, X_train_filtered, y_train_filtered)"
   ]
  },
  {
   "cell_type": "code",
   "execution_count": 164,
   "id": "02724262",
   "metadata": {},
   "outputs": [],
   "source": [
    "sorted_idxFiltered = perm_importance_filtered.importances_mean.argsort()"
   ]
  },
  {
   "cell_type": "code",
   "execution_count": 165,
   "id": "b18b58ed",
   "metadata": {},
   "outputs": [
    {
     "name": "stdout",
     "output_type": "stream",
     "text": [
      "[304 305 306 307 241 240 308 309 310 239 303 246 563 560 618 568 459 655\n",
      " 610 591 580 561 564 581 562 590 601 586 582 558]\n"
     ]
    }
   ],
   "source": [
    "###We obtain the top  features\n",
    "indexImportanciaFiltered = sorted_idxFiltered [-30:]\n",
    "print(indexImportanciaFiltered)"
   ]
  },
  {
   "cell_type": "code",
   "execution_count": 166,
   "id": "9b2a9a89",
   "metadata": {},
   "outputs": [
    {
     "name": "stdout",
     "output_type": "stream",
     "text": [
      "Index(['WindowCombinationDrugs_atorvastatin-atorvastatin-metoprolol-metoprolol-20-20-100-100',\n",
      "       'WindowCombinationDrugs_atorvastatin-atorvastatin-metoprolol-20-20-100',\n",
      "       'WindowCombinationDrugs_metformin-valsartan-1000-320',\n",
      "       'WindowCombinationDrugs_metformin-metoprolol-2000-50',\n",
      "       'WindowCombinationDrugs_atorvastatin-metformin-metformin-metformin-20-2000-2000-2000',\n",
      "       'WindowCombinationDrugs_atorvastatin-carvedilol-metformin-metformin-metformin-10-25-1000-1000-1700',\n",
      "       'WindowCombinationDrugs_irbesartan-lovastatin-metoprolol-metoprolol-300-40-50-50',\n",
      "       'WindowCombinationDrugs_irbesartan-losartan-losartan-lovastatin-metoprolol-metoprolol-metoprolol-300-100-100-40-50-50-50',\n",
      "       'WindowCombinationDrugs_irbesartan-irbesartan-metoprolol-metoprolol-metoprolol-metoprolol-metoprolol-300-300-50-50-50-50-50',\n",
      "       'WindowCombinationDrugs_losartan-losartan-simvastatin-simvastatin-50-50-20-20',\n",
      "       'WindowCombinationDrugs_atorvastatin-atorvastatin-atorvastatin-metoprolol-metoprolol-simvastatin-20-20-20-100-100-20',\n",
      "       'WindowCombinationDrugs_atorvastatin-metformin-metformin-10-1000-1000',\n",
      "       'race_White', 'race_Black', 'drug_metoprolol', 'TotalDailyDosage',\n",
      "       'Drug_DailyDosage_DurationDose_metformin-500-90', 'drug_pravastatin',\n",
      "       'Drug_DailyDosage_DurationDose_losartan-100-90', 'dbp_value', 'GFR',\n",
      "       'race_Hispanic', 'gender_Female', 'creatinine_value', 'race_Unknown',\n",
      "       'sbp_value', 'ldl_value', 'hgb_value', 'difference_glucose_normal',\n",
      "       'age'],\n",
      "      dtype='object')\n"
     ]
    }
   ],
   "source": [
    "print(X_train_filtered.columns[indexImportanciaFiltered])"
   ]
  },
  {
   "cell_type": "code",
   "execution_count": 169,
   "id": "4f157620",
   "metadata": {},
   "outputs": [
    {
     "data": {
      "image/png": "[encoded data removed]",
      "text/plain": [
       "<Figure size 576x684 with 1 Axes>"
      ]
     },
     "metadata": {
      "needs_background": "light"
     },
     "output_type": "display_data"
    }
   ],
   "source": [
    "explainer = shap.TreeExplainer(xgb_modelFILTERED)\n",
    "shap_values = explainer.shap_values(X_train_filtered)\n",
    "shap.summary_plot(shap_values, X_train_filtered, plot_type = \"bar\")"
   ]
  },
  {
   "cell_type": "code",
   "execution_count": 172,
   "id": "1612dbd7",
   "metadata": {},
   "outputs": [],
   "source": [
    "import shap"
   ]
  },
  {
   "cell_type": "code",
   "execution_count": 170,
   "id": "ad2205d0",
   "metadata": {},
   "outputs": [
    {
     "ename": "TypeError",
     "evalue": "'TreeExplainer' object is not callable",
     "output_type": "error",
     "traceback": [
      "\u001b[0;31m---------------------------------------------------------------------------\u001b[0m",
      "\u001b[0;31mTypeError\u001b[0m                                 Traceback (most recent call last)",
      "\u001b[0;32m<ipython-input-170-f4661685dcd9>\u001b[0m in \u001b[0;36m<module>\u001b[0;34m\u001b[0m\n\u001b[0;32m----> 1\u001b[0;31m \u001b[0mshap_obj\u001b[0m \u001b[0;34m=\u001b[0m \u001b[0mexplainer\u001b[0m\u001b[0;34m(\u001b[0m\u001b[0mX_train_filtered\u001b[0m\u001b[0;34m)\u001b[0m\u001b[0;34m\u001b[0m\u001b[0;34m\u001b[0m\u001b[0m\n\u001b[0m",
      "\u001b[0;31mTypeError\u001b[0m: 'TreeExplainer' object is not callable"
     ]
    }
   ],
   "source": [
    "shap_obj = explainer(X_train_filtered)"
   ]
  },
  {
   "cell_type": "code",
   "execution_count": 173,
   "id": "fe71cc54",
   "metadata": {},
   "outputs": [
    {
     "ename": "AttributeError",
     "evalue": "module 'shap.plots' has no attribute 'beeswarm'",
     "output_type": "error",
     "traceback": [
      "\u001b[0;31m---------------------------------------------------------------------------\u001b[0m",
      "\u001b[0;31mAttributeError\u001b[0m                            Traceback (most recent call last)",
      "\u001b[0;32m<ipython-input-173-e7898daed39d>\u001b[0m in \u001b[0;36m<module>\u001b[0;34m\u001b[0m\n\u001b[0;32m----> 1\u001b[0;31m \u001b[0mshap\u001b[0m\u001b[0;34m.\u001b[0m\u001b[0mplots\u001b[0m\u001b[0;34m.\u001b[0m\u001b[0mbeeswarm\u001b[0m\u001b[0;34m(\u001b[0m\u001b[0mexplainer\u001b[0m\u001b[0;34m,\u001b[0m \u001b[0mmax_display\u001b[0m \u001b[0;34m=\u001b[0m \u001b[0;36m30\u001b[0m\u001b[0;34m,\u001b[0m \u001b[0morder\u001b[0m \u001b[0;34m=\u001b[0m \u001b[0mexplainer\u001b[0m\u001b[0;34m.\u001b[0m\u001b[0mabs\u001b[0m\u001b[0;34m.\u001b[0m\u001b[0mmax\u001b[0m\u001b[0;34m(\u001b[0m\u001b[0;36m0\u001b[0m\u001b[0;34m)\u001b[0m\u001b[0;34m)\u001b[0m\u001b[0;34m\u001b[0m\u001b[0;34m\u001b[0m\u001b[0m\n\u001b[0m",
      "\u001b[0;31mAttributeError\u001b[0m: module 'shap.plots' has no attribute 'beeswarm'"
     ]
    }
   ],
   "source": [
    "shap.plots.beeswarm(shap_obj, max_display = 30, order = shap_obj.abs.max(0))"
   ]
  },
  {
   "cell_type": "code",
   "execution_count": null,
   "id": "58344f85",
   "metadata": {},
   "outputs": [],
   "source": []
  },
  {
   "cell_type": "code",
   "execution_count": null,
   "id": "306d072c",
   "metadata": {},
   "outputs": [],
   "source": []
  },
  {
   "cell_type": "code",
   "execution_count": null,
   "id": "b1db1f81",
   "metadata": {},
   "outputs": [],
   "source": []
  },
  {
   "cell_type": "code",
   "execution_count": null,
   "id": "6a87f7ba",
   "metadata": {},
   "outputs": [],
   "source": [
    "####We also train other models to compare"
   ]
  },
  {
   "cell_type": "code",
   "execution_count": null,
   "id": "0efed5d9",
   "metadata": {},
   "outputs": [],
   "source": [
    "from imblearn.ensemble import BalancedBaggingClassifier"
   ]
  },
  {
   "cell_type": "code",
   "execution_count": 114,
   "id": "9986b6da",
   "metadata": {},
   "outputs": [
    {
     "data": {
      "text/plain": [
       "BalancedBaggingClassifier(n_estimators=500, n_jobs=-1, oob_score=True)"
      ]
     },
     "execution_count": 114,
     "metadata": {},
     "output_type": "execute_result"
    }
   ],
   "source": [
    "brf = BalancedBaggingClassifier(n_estimators = 500, n_jobs=-1, oob_score = True)\n",
    "brf.fit(X_train, y_train)"
   ]
  },
  {
   "cell_type": "code",
   "execution_count": 115,
   "id": "0040217e",
   "metadata": {},
   "outputs": [
    {
     "data": {
      "text/plain": [
       "0.999128160418483"
      ]
     },
     "execution_count": 115,
     "metadata": {},
     "output_type": "execute_result"
    }
   ],
   "source": [
    "brf.score(X_train,y_train)"
   ]
  },
  {
   "cell_type": "code",
   "execution_count": 116,
   "id": "01a1b39a",
   "metadata": {},
   "outputs": [
    {
     "data": {
      "text/plain": [
       "0.8509803921568627"
      ]
     },
     "execution_count": 116,
     "metadata": {},
     "output_type": "execute_result"
    }
   ],
   "source": [
    "brf.score(X_test, y_test)"
   ]
  },
  {
   "cell_type": "code",
   "execution_count": 117,
   "id": "9a5eb828",
   "metadata": {},
   "outputs": [
    {
     "data": {
      "text/plain": [
       "0.8642297650130548"
      ]
     },
     "execution_count": 117,
     "metadata": {},
     "output_type": "execute_result"
    }
   ],
   "source": [
    "brf.score(X_valid, y_valid)"
   ]
  }
 ],
 "metadata": {
  "kernelspec": {
   "display_name": "Python 3",
   "language": "python",
   "name": "python3"
  },
  "language_info": {
   "codemirror_mode": {
    "name": "ipython",
    "version": 3
   },
   "file_extension": ".py",
   "mimetype": "text/x-python",
   "name": "python",
   "nbconvert_exporter": "python",
   "pygments_lexer": "ipython3",
   "version": "3.8.8"
  }
 },
 "nbformat": 4,
 "nbformat_minor": 5
}
